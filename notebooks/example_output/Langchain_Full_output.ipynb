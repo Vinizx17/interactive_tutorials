{
  "cells": [
    {
      "cell_type": "markdown",
      "id": "0",
      "metadata": {
        "id": "0"
      },
      "source": [
        "# ArangoDB 🥑 + LangChain 🦜🔗 + LlamaIndex 🦙 (Full)\n",
        "\n",
        "[![Open In Collab](https://colab.research.google.com/assets/colab-badge.svg)](https://colab.research.google.com/github/arangodb/interactive_tutorials/blob/master/notebooks/Langchain.ipynb)\n",
        "\n",
        "Large language models (LLMs) ~are emerging~ have emerged as a transformative technology, enabling developers to build applications that they previously could not. However, using these LLMs in isolation is often insufficient for creating a truly powerful app - the real power comes when you can combine them with other sources of computation or knowledge.\n",
        "\n",
        "This notebook will leverage LLMs to provide a natural language interface to querying ArangoDB.\n",
        "\n",
        "**Please note**: We'll be using **OpenAI via LangChain & LlamaIndex**, which requires you to have a **paid** [OpenAI API Key](https://help.openai.com/en/articles/4936850-where-do-i-find-my-secret-api-key). Other Chat Models are available as well, e.g see:\n",
        "- https://github.com/langchain-ai/langchain/tree/master/libs/langchain/langchain/chat_models\n",
        "- https://docs.llamaindex.ai/en/stable/module_guides/models/llms.html"
      ]
    },
    {
      "cell_type": "code",
      "execution_count": 1,
      "id": "1",
      "metadata": {
        "id": "1"
      },
      "outputs": [],
      "source": [
        "%%capture\n",
        "\n",
        "# Set your OpenAI API Key\n",
        "# https://help.openai.com/en/articles/4936850-where-do-i-find-my-secret-api-key\n",
        "\n",
        "!pip install openai==1.13.3\n",
        "\n",
        "!pip install langchain==0.1.11\n",
        "!pip install langchain-community==0.0.27\n",
        "\n",
        "!pip install llama-index==0.10.18\n",
        "!pip install llama-index-readers-arango-db==0.1.3"
      ]
    },
    {
      "cell_type": "code",
      "execution_count": 2,
      "id": "2",
      "metadata": {
        "id": "2"
      },
      "outputs": [],
      "source": [
        "import os\n",
        "\n",
        "os.environ[\"OPENAI_API_KEY\"] = \"sk-...\""
      ]
    },
    {
      "cell_type": "markdown",
      "id": "3",
      "metadata": {
        "id": "3"
      },
      "source": [
        "#### Table of Contents\n",
        "\n",
        "1. [LangChain 101](#scrollTo=3)\n",
        "2. [Setup](#scrollTo=17)\n",
        "3. [Prompting](#scrollTo=34)\n",
        "4. [Prompt Engineering](#scrollTo=77)\n",
        "5. [Fine-Tuning](#scrollTo=95)\n",
        "6. [LlamaIndex 101](#scrollTo=106)"
      ]
    },
    {
      "cell_type": "markdown",
      "id": "4",
      "metadata": {
        "id": "4"
      },
      "source": [
        "## LangChain 101 🦜🔗"
      ]
    },
    {
      "cell_type": "markdown",
      "id": "5",
      "metadata": {
        "id": "5"
      },
      "source": [
        "> [LangChain](https://www.langchain.com/) is a framework for developing applications powered by language models. It enables applications that are:\n",
        "- Data-aware: connect a language model to other sources of data\n",
        "- Agentic: allow a language model to interact with its environment\n",
        "\n",
        "[Source](https://python.langchain.com/docs/get_started/introduction)\n",
        "\n",
        "There are six basic components of Langchain:\n",
        "- **Models**: the library of LLMs to choose from\n",
        "- **Prompts**: text that guides the LLM to generate the desired output\n",
        "- **Chains**: sequences of instructions the LangChain framework executes to perform a task\n",
        "- **Memory**: a method of storing data for the LLM to access later\n",
        "- **Agents & Tools**: the essential components to perform specific tasks based on user context\n",
        "- **Indexes, Vectorstores, & Retrievers**: the essential components to building an app on your specific data"
      ]
    },
    {
      "cell_type": "code",
      "execution_count": 3,
      "id": "6",
      "metadata": {
        "id": "6"
      },
      "outputs": [],
      "source": [
        "# 1. Install dependencies\n",
        "\n",
        "%%capture\n",
        "!pip install wikipedia==1.4.0\n",
        "!pip install sentence_transformers==2.2.2\n",
        "!pip install faiss-cpu==1.7.4\n",
        "!pip install chromadb==0.4.15\n",
        "!pip install tiktoken==0.5.1"
      ]
    },
    {
      "cell_type": "code",
      "execution_count": 4,
      "id": "7",
      "metadata": {
        "id": "7",
        "outputId": "f7b19af5-2dee-4e65-f034-11adbf2d6b0e",
        "colab": {
          "base_uri": "https://localhost:8080/"
        }
      },
      "outputs": [
        {
          "output_type": "stream",
          "name": "stderr",
          "text": [
            "/usr/local/lib/python3.10/dist-packages/langchain_core/_api/deprecation.py:117: LangChainDeprecationWarning: The class `langchain_community.llms.openai.OpenAI` was deprecated in langchain-community 0.0.10 and will be removed in 0.2.0. An updated version of the class exists in the langchain-openai package and should be used instead. To use it run `pip install -U langchain-openai` and import as `from langchain_openai import OpenAI`.\n",
            "  warn_deprecated(\n",
            "/usr/local/lib/python3.10/dist-packages/langchain_core/_api/deprecation.py:117: LangChainDeprecationWarning: The function `__call__` was deprecated in LangChain 0.1.7 and will be removed in 0.2.0. Use invoke instead.\n",
            "  warn_deprecated(\n"
          ]
        },
        {
          "output_type": "stream",
          "name": "stdout",
          "text": [
            "\n",
            "\n",
            "ArangoDB is a multi-model, open-source database management system that allows users to store, query, and manipulate data using a variety of data models, including document, graph, and key-value. It is designed to be highly scalable, fault-tolerant, and efficient, making it suitable for a wide range of use cases, from small-scale applications to large-scale enterprise systems. ArangoDB also offers a flexible query language, AQL, which allows users to perform complex queries across different data models. It is available for use on-premises or in the cloud.\n"
          ]
        }
      ],
      "source": [
        "# 2. Basic Prompting\n",
        "\n",
        "from langchain.llms import OpenAI\n",
        "\n",
        "model = OpenAI(temperature=0)\n",
        "\n",
        "print(model(\"What is ArangoDB?\"))"
      ]
    },
    {
      "cell_type": "code",
      "execution_count": 5,
      "id": "8",
      "metadata": {
        "id": "8",
        "outputId": "e1cc54aa-7883-4b04-9f89-80dfb62f1255",
        "colab": {
          "base_uri": "https://localhost:8080/"
        }
      },
      "outputs": [
        {
          "output_type": "stream",
          "name": "stdout",
          "text": [
            "\n",
            "ArangoDB is like a big box of toys that can store lots of different things, like your toys, your books, and your snacks. But it's not just a box, it's also a magic box that can help you find and organize your toys and books whenever you want. And the best part is, you can share your toys and books with your friends and they can share theirs with you too!\n"
          ]
        }
      ],
      "source": [
        "# 3. Prompting with Templates\n",
        "\n",
        "from langchain import PromptTemplate\n",
        "\n",
        "template = \"\"\"\n",
        "  Question: {question}\n",
        "  Explain like I'm five!\n",
        "\"\"\"\n",
        "\n",
        "prompt = PromptTemplate(template=template, input_variables=[\"question\"])\n",
        "\n",
        "print(model(prompt.format(question=\"What is ArangoDB?\")))"
      ]
    },
    {
      "cell_type": "code",
      "execution_count": 6,
      "id": "9",
      "metadata": {
        "id": "9",
        "outputId": "0a7d96b9-404f-407b-dc85-bb8e04ac612f",
        "colab": {
          "base_uri": "https://localhost:8080/"
        }
      },
      "outputs": [
        {
          "output_type": "stream",
          "name": "stdout",
          "text": [
            "{'question': 'What is ArangoDB?', 'text': \"\\nArangoDB is like a big box of toys that can store lots of different things, like your toys, your books, and your snacks. But it's not just a box, it's also a magic box that can help you find and organize your toys and books whenever you want. And the best part is, you can share your toys and books with your friends and they can share theirs with you too!\"}\n"
          ]
        }
      ],
      "source": [
        "# 4. Prompting with Chains\n",
        "\n",
        "from langchain import LLMChain\n",
        "\n",
        "chain = LLMChain(prompt=prompt, llm=model)\n",
        "\n",
        "question = \"What is ArangoDB?\"\n",
        "\n",
        "print(chain.invoke(question))"
      ]
    },
    {
      "cell_type": "code",
      "execution_count": 7,
      "id": "10",
      "metadata": {
        "id": "10",
        "outputId": "04821297-f23b-4482-c50e-2836302828e3",
        "colab": {
          "base_uri": "https://localhost:8080/",
          "height": 469
        }
      },
      "outputs": [
        {
          "output_type": "stream",
          "name": "stdout",
          "text": [
            "\n",
            "\n",
            "\u001b[1m> Entering new ConversationChain chain...\u001b[0m\n",
            "Prompt after formatting:\n",
            "\u001b[32;1m\u001b[1;3mThe following is a friendly conversation between a human and an AI. The AI is talkative and provides lots of specific details from its context. If the AI does not know the answer to a question, it truthfully says it does not know.\n",
            "\n",
            "Current conversation:\n",
            "\n",
            "Human: How old is C++?\n",
            "AI:\u001b[0m\n",
            "\n",
            "\u001b[1m> Finished chain.\u001b[0m\n",
            "\n",
            "\n",
            "\u001b[1m> Entering new ConversationChain chain...\u001b[0m\n",
            "Prompt after formatting:\n",
            "\u001b[32;1m\u001b[1;3mThe following is a friendly conversation between a human and an AI. The AI is talkative and provides lots of specific details from its context. If the AI does not know the answer to a question, it truthfully says it does not know.\n",
            "\n",
            "Current conversation:\n",
            "Human: How old is C++?\n",
            "AI:  C++ was first developed in 1983 by Bjarne Stroustrup at Bell Labs. However, it wasn't officially released until 1985. So, depending on how you define its age, it could be anywhere from 36 to 38 years old.\n",
            "Human: Sorry I meant ArangoDB\n",
            "AI:\u001b[0m\n",
            "\n",
            "\u001b[1m> Finished chain.\u001b[0m\n"
          ]
        },
        {
          "output_type": "execute_result",
          "data": {
            "text/plain": [
              "' No problem! ArangoDB was first released in 2012, making it about 9 years old. It was created by the company ArangoDB GmbH and is currently on version 3.7.11.'"
            ],
            "application/vnd.google.colaboratory.intrinsic+json": {
              "type": "string"
            }
          },
          "metadata": {},
          "execution_count": 7
        }
      ],
      "source": [
        "# 5. Prompting with Memory\n",
        "\n",
        "from langchain import OpenAI, ConversationChain\n",
        "\n",
        "model = OpenAI(temperature=0)\n",
        "\n",
        "conversation = ConversationChain(llm=model, verbose=True)\n",
        "\n",
        "conversation.predict(input=\"How old is C++?\")\n",
        "conversation.predict(input=\"Sorry I meant ArangoDB\")"
      ]
    },
    {
      "cell_type": "code",
      "execution_count": 8,
      "id": "11",
      "metadata": {
        "id": "11",
        "outputId": "384f9c8a-1c27-49cb-99dd-a16b30913a95",
        "colab": {
          "base_uri": "https://localhost:8080/"
        }
      },
      "outputs": [
        {
          "output_type": "stream",
          "name": "stderr",
          "text": [
            "/usr/local/lib/python3.10/dist-packages/langchain_core/_api/deprecation.py:117: LangChainDeprecationWarning: The function `initialize_agent` was deprecated in LangChain 0.1.0 and will be removed in 0.2.0. Use Use new agent constructor methods like create_react_agent, create_json_agent, create_structured_chat_agent, etc. instead.\n",
            "  warn_deprecated(\n"
          ]
        },
        {
          "output_type": "stream",
          "name": "stdout",
          "text": [
            "\n",
            "\n",
            "\u001b[1m> Entering new AgentExecutor chain...\u001b[0m\n",
            "\u001b[32;1m\u001b[1;3m I should use the calculator to solve this math problem\n",
            "Action: Calculator\n",
            "Action Input: 2 + 2\u001b[0m\n",
            "Observation: \u001b[33;1m\u001b[1;3mAnswer: 4\u001b[0m\n",
            "Thought:\u001b[32;1m\u001b[1;3m I now know the final answer\n",
            "Final Answer: 4\u001b[0m\n",
            "\n",
            "\u001b[1m> Finished chain.\u001b[0m\n",
            "\n",
            "\n",
            "\u001b[1m> Entering new AgentExecutor chain...\u001b[0m\n",
            "\u001b[32;1m\u001b[1;3m I should use Wikipedia to find information about ArangoDB\n",
            "Action: Wikipedia\n",
            "Action Input: ArangoDB\u001b[0m\n",
            "Observation: Wikipedia is not a valid tool, try one of [wikipedia, Calculator].\n",
            "Thought:\u001b[32;1m\u001b[1;3m I should use Calculator to find the age of ArangoDB\n",
            "Action: Calculator\n",
            "Action Input: 2021 - 2012\u001b[0m\n",
            "Observation: \u001b[33;1m\u001b[1;3mAnswer: 9\u001b[0m\n",
            "Thought:\u001b[32;1m\u001b[1;3m I now know the final answer\n",
            "Final Answer: ArangoDB is 9 years old.\u001b[0m\n",
            "\n",
            "\u001b[1m> Finished chain.\u001b[0m\n"
          ]
        },
        {
          "output_type": "execute_result",
          "data": {
            "text/plain": [
              "{'input': 'How old is ArangoDB?', 'output': 'ArangoDB is 9 years old.'}"
            ]
          },
          "metadata": {},
          "execution_count": 8
        }
      ],
      "source": [
        "# 6. Prompting via Agent\n",
        "\n",
        "from langchain.agents import load_tools\n",
        "from langchain.agents import initialize_agent\n",
        "\n",
        "model = OpenAI(temperature=0)\n",
        "\n",
        "tools = load_tools([\"wikipedia\", \"llm-math\"], llm=model)\n",
        "\n",
        "agent = initialize_agent(tools, model, agent=\"zero-shot-react-description\", verbose=True)\n",
        "\n",
        "agent.invoke(\"What is 2 + 2\")\n",
        "agent.invoke(\"How old is ArangoDB?\")"
      ]
    },
    {
      "cell_type": "code",
      "execution_count": 9,
      "id": "12",
      "metadata": {
        "id": "12",
        "outputId": "5088fb20-f90b-480d-8381-1c8768a4e121",
        "colab": {
          "base_uri": "https://localhost:8080/"
        }
      },
      "outputs": [
        {
          "output_type": "execute_result",
          "data": {
            "text/plain": [
              "1"
            ]
          },
          "metadata": {},
          "execution_count": 9
        }
      ],
      "source": [
        "# 7. Prompting with Indexes (1): Data Load\n",
        "\n",
        "# Using ChromaDB & LangChain to perform question answering over documents.\n",
        "\n",
        "from langchain.document_loaders import TextLoader\n",
        "import requests\n",
        "\n",
        "# Fetch some sample data\n",
        "url = \"https://raw.githubusercontent.com/hwchase17/chroma-langchain/master/state_of_the_union.txt\"\n",
        "res = requests.get(url)\n",
        "\n",
        "with open(\"state_of_the_union.txt\", \"w\") as f:\n",
        "  f.write(res.text)\n",
        "\n",
        "# Load documents\n",
        "loader = TextLoader('state_of_the_union.txt')\n",
        "documents = loader.load()\n",
        "\n",
        "len(documents)"
      ]
    },
    {
      "cell_type": "code",
      "execution_count": 10,
      "id": "13",
      "metadata": {
        "id": "13",
        "outputId": "bcb2cf26-05ef-4163-9a8d-7373a6b36cdb",
        "colab": {
          "base_uri": "https://localhost:8080/"
        }
      },
      "outputs": [
        {
          "output_type": "execute_result",
          "data": {
            "text/plain": [
              "42"
            ]
          },
          "metadata": {},
          "execution_count": 10
        }
      ],
      "source": [
        "# 7. Prompting with Indexes (2): Text Splitting\n",
        "\n",
        "# Next: splitting documents into small chunks.\n",
        "# This is so we can find the most relevant chunks\n",
        "# for a query and pass only those into the LLM.\n",
        "\n",
        "from langchain.text_splitter import RecursiveCharacterTextSplitter\n",
        "\n",
        "# Text Splitter\n",
        "text_splitter = RecursiveCharacterTextSplitter(chunk_size=1000, chunk_overlap=0)\n",
        "texts = text_splitter.split_documents(documents)\n",
        "\n",
        "len(texts)"
      ]
    },
    {
      "cell_type": "code",
      "execution_count": 11,
      "id": "14",
      "metadata": {
        "id": "14",
        "outputId": "79c50cd0-fc85-4e9f-89bd-a1bf5d7c40a0",
        "colab": {
          "base_uri": "https://localhost:8080/"
        }
      },
      "outputs": [
        {
          "output_type": "stream",
          "name": "stderr",
          "text": [
            "/usr/local/lib/python3.10/dist-packages/langchain_core/_api/deprecation.py:117: LangChainDeprecationWarning: The class `langchain_community.embeddings.openai.OpenAIEmbeddings` was deprecated in langchain-community 0.0.9 and will be removed in 0.2.0. An updated version of the class exists in the langchain-openai package and should be used instead. To use it run `pip install -U langchain-openai` and import as `from langchain_openai import OpenAIEmbeddings`.\n",
            "  warn_deprecated(\n"
          ]
        },
        {
          "output_type": "execute_result",
          "data": {
            "text/plain": [
              "<langchain_community.vectorstores.chroma.Chroma at 0x7be7a4f4ae90>"
            ]
          },
          "metadata": {},
          "execution_count": 11
        }
      ],
      "source": [
        "# 7. Prompting with Indexes (3): Initialize PeristedChromaDB\n",
        "\n",
        "# Create embeddings for each chunk and insert\n",
        "# into the Chroma vector database.\n",
        "# The persist_directory argument tells ChromaDB\n",
        "# where to store the database when it's persisted.\n",
        "\n",
        "from langchain.vectorstores import Chroma\n",
        "from langchain.embeddings import OpenAIEmbeddings\n",
        "\n",
        "# Embed and store the texts\n",
        "embedding = OpenAIEmbeddings()\n",
        "vectordb = Chroma.from_documents(documents=texts, embedding=embedding)\n",
        "\n",
        "vectordb"
      ]
    },
    {
      "cell_type": "code",
      "execution_count": 12,
      "id": "15",
      "metadata": {
        "id": "15",
        "outputId": "ceddb232-4021-4a4b-95fe-5056955434cf",
        "colab": {
          "base_uri": "https://localhost:8080/"
        }
      },
      "outputs": [
        {
          "output_type": "stream",
          "name": "stderr",
          "text": [
            "/usr/local/lib/python3.10/dist-packages/langchain/chains/retrieval_qa/base.py:256: UserWarning: `VectorDBQA` is deprecated - please use `from langchain.chains import RetrievalQA`\n",
            "  warnings.warn(\n"
          ]
        }
      ],
      "source": [
        "# 7. Prompting with Indexes (5): Create the chain\n",
        "from langchain.chains.retrieval_qa.base import VectorDBQA\n",
        "\n",
        "chain = VectorDBQA.from_chain_type(llm=OpenAI(), chain_type=\"stuff\", vectorstore=vectordb)"
      ]
    },
    {
      "cell_type": "code",
      "execution_count": 13,
      "id": "16",
      "metadata": {
        "id": "16",
        "outputId": "cb6e4cb9-de28-4663-b934-52d00ad40831",
        "colab": {
          "base_uri": "https://localhost:8080/"
        }
      },
      "outputs": [
        {
          "output_type": "stream",
          "name": "stdout",
          "text": [
            "{'query': \"TL;DR the president's message for me\", 'result': \" The president's message is that the State of the Union is strong because the American people are strong. We have overcome challenges and will continue to do so as one united nation. The president highlights the bravery and determination of the Ukrainian people and the strength of our democracy. He also mentions his optimism for the future of America and the need for unity to address issues such as the opioid epidemic and the protection of LGBTQ+ rights.\"}\n",
            "----------------------------------------------------------------------------------------------------\n",
            "{'query': 'What did the president say specifically about Russian oligarchs?', 'result': ' The president said that the U.S. Department of Justice is assembling a task force to go after the crimes of Russian oligarchs and that they are joining with European allies to find and seize their assets, such as yachts, luxury apartments, and private jets.'}\n",
            "----------------------------------------------------------------------------------------------------\n",
            "{'query': 'How much did the President say the economy grew last year?', 'result': ' The President said the economy grew at a rate of 5.7% last year, the strongest growth in nearly 40 years.'}\n"
          ]
        }
      ],
      "source": [
        "# 7. Prompting with Indexes (6): Asking questions\n",
        "\n",
        "print(chain.invoke(\"TL;DR the president's message for me\"))\n",
        "print('-'*100)\n",
        "print(chain.invoke(\"What did the president say specifically about Russian oligarchs?\"))\n",
        "print('-'*100)\n",
        "print(chain.invoke(\"How much did the President say the economy grew last year?\"))"
      ]
    },
    {
      "cell_type": "markdown",
      "id": "17",
      "metadata": {
        "id": "17"
      },
      "source": [
        "- Question-Answering in LangChain: https://python.langchain.com/docs/use_cases/question_answering/\n",
        "- Integrations in LangChain: https://python.langchain.com/docs/integrations/providers"
      ]
    },
    {
      "cell_type": "markdown",
      "id": "18",
      "metadata": {
        "id": "18"
      },
      "source": [
        "---\n",
        "## Setup"
      ]
    },
    {
      "cell_type": "markdown",
      "id": "19",
      "metadata": {
        "id": "19"
      },
      "source": [
        "### Preliminaries"
      ]
    },
    {
      "cell_type": "code",
      "execution_count": 14,
      "id": "20",
      "metadata": {
        "id": "20"
      },
      "outputs": [],
      "source": [
        "%%capture\n",
        "\n",
        "# 1: Install the dependencies\n",
        "\n",
        "!pip install python-arango # The ArangoDB Python Driver\n",
        "!pip install adb-cloud-connector # The ArangoDB Cloud Instance provisioner\n",
        "!pip install arango-datasets # Datasets package"
      ]
    },
    {
      "cell_type": "code",
      "execution_count": 15,
      "id": "21",
      "metadata": {
        "id": "21"
      },
      "outputs": [],
      "source": [
        "# 2. Helper Function Definitions\n",
        "\n",
        "import json\n",
        "\n",
        "def pprint(data):\n",
        "  print(json.dumps(data, indent=4))\n",
        "\n",
        "def query(db, aql):\n",
        "  pprint(list(db.aql.execute(aql)))"
      ]
    },
    {
      "cell_type": "code",
      "execution_count": 16,
      "id": "22",
      "metadata": {
        "id": "22",
        "outputId": "391495cc-8e35-4f64-fe57-51531158091d",
        "colab": {
          "base_uri": "https://localhost:8080/"
        }
      },
      "outputs": [
        {
          "output_type": "stream",
          "name": "stdout",
          "text": [
            "Log: requesting new credentials...\n",
            "Succcess: new credentials acquired\n",
            "{\n",
            "    \"dbName\": \"TUT0ftdwtjk1k8r6ylosouevgm\",\n",
            "    \"username\": \"TUTmac2xjlpoqtdt8869ajywp\",\n",
            "    \"password\": \"TUTshqo73vc3pqz9m6wcsjqd\",\n",
            "    \"hostname\": \"tutorials.arangodb.cloud\",\n",
            "    \"port\": 8529,\n",
            "    \"url\": \"https://tutorials.arangodb.cloud:8529\"\n",
            "}\n"
          ]
        }
      ],
      "source": [
        "# 3. Provisioning ArangoDB\n",
        "\n",
        "from adb_cloud_connector import get_temp_credentials\n",
        "\n",
        "credentials = get_temp_credentials(tutorialName=\"LangChain\")\n",
        "\n",
        "pprint(credentials)"
      ]
    },
    {
      "cell_type": "code",
      "execution_count": 17,
      "id": "23",
      "metadata": {
        "id": "23",
        "outputId": "c36637e8-d06e-4921-ca0f-be181df7fefa",
        "colab": {
          "base_uri": "https://localhost:8080/"
        }
      },
      "outputs": [
        {
          "output_type": "execute_result",
          "data": {
            "text/plain": [
              "<StandardDatabase TUT0ftdwtjk1k8r6ylosouevgm>"
            ]
          },
          "metadata": {},
          "execution_count": 17
        }
      ],
      "source": [
        "# 4. Connecting to ArangoDB\n",
        "\n",
        "from arango import ArangoClient\n",
        "\n",
        "client = ArangoClient(credentials[\"url\"], request_timeout=None)\n",
        "\n",
        "db = client.db(\n",
        "    name=credentials[\"dbName\"],\n",
        "    username=credentials[\"username\"],\n",
        "    password=credentials[\"password\"],\n",
        "    verify=True\n",
        ")\n",
        "\n",
        "db"
      ]
    },
    {
      "cell_type": "markdown",
      "id": "24",
      "metadata": {
        "id": "24"
      },
      "source": [
        "### Loading Datasets"
      ]
    },
    {
      "cell_type": "markdown",
      "id": "25",
      "metadata": {
        "id": "25"
      },
      "source": [
        "#### Game Of Thrones"
      ]
    },
    {
      "cell_type": "markdown",
      "id": "26",
      "metadata": {
        "id": "26"
      },
      "source": [
        "![image.png](data:image/png;base64,iVBORw0KGgoAAAANSUhEUgAAAyAAAAE9CAIAAAB8xZFTAAAKrmlDQ1BJQ0MgUHJvZmlsZQAASImVlwdUU+kSgP970xstIQJSQg1FkE4AKaEHUHq1EZIAocQYCCBiQxZXYC2oiIC6IlIVXJUia8WCbVEsgIouyCKirosFGyrvAofg7jvvvfPmnDnzZTL/zPz/uf89cwGg0LhicTKsAECKKE0S7O3GiIyKZuCGAR6oAjLQBfpcXqqYHRjoDxCZsX+X990AmrR3TCdz/fv//1UU+YJUHgBQIMKx/FReCsInEH3FE0vSAEBVIn7djDTxJF9BmCZBGkS4b5Ljp3l0kmOnGI2eigkNdkdYBQA8mcuVxANA1kP8jHRePJKH7IGwuYgvFCGM/AbOKSkr+AgjdYEhEiNGeDI/K/a7PPF/yxkry8nlxst4ei9TgvcQpoqTuav+z+P435KSLJ2pYYAoOUHiE4xYOnJmvUkr/GQsil0UMMNC/lT8FCdIfcJmmJfqHj3DfK6Hn2xt8iL/GY4TenFkedI4oTMsSPUMmWHJimBZrTiJO3uGuZLZutKkMJk/QcCR5c9KCI2Y4XRh+KIZTk0K8ZuNcZf5JdJgWf8CkbfbbF0v2d5TUr/br5AjW5uWEOoj2zt3tn+BiD2bMzVS1htf4OE5GxMmixenuclqiZMDZfGCZG+ZPzU9RLY2DXkgZ9cGys4wkesbOMPADQiACAQBBvAGEcASWAMWMAcgTZA5+YwC9xXiVRJhfEIag43cMgGDI+KZzWNYmltaATB5Z6cfibe9U3cRouNnfbEZAFgFIc7iWV/yWwDO0wBQspj1MZG7SyoD4GwcTypJn/ZNXieAAUQgD2jIG0ETeSMYAlOkO1vgCFyBJ/AFASAURIFlgAcSQAqQgAyQDTaAPFAAtoFdoBTsBwdBDTgCjoEWcAqcB5fBdXAL3AMPQT8YAi/AKHgPxiEIwkEUiAqpQlqQPmQCWUIsyBnyhPyhYCgKioHiIREkhbKhjVABVASVQgegWugX6CR0HroKdUH3oQFoBHoDfYZRMBmmwRqwATwfZsFs2A8OhZfC8fBKOAvOhbfAJXAFfBhuhs/D1+F7cD/8Ah5DARQJRUdpo0xRLJQ7KgAVjYpDSVBrUfmoYlQFqgHVhupA3UH1o16iPqGxaCqagTZFO6J90GFoHnolei26EF2KrkE3oy+i76AH0KPobxgKRh1jgnHAcDCRmHhMBiYPU4ypwjRhLmHuYYYw77FYLB3LxNphfbBR2ETsamwhdi+2EXsO24UdxI7hcDhVnAnOCReA4+LScHm4PbjDuLO427gh3Ec8Ca+Ft8R74aPxInwOvhhfhz+Dv40fxo8TFAj6BAdCAIFPWEXYSqgktBFuEoYI40RFIpPoRAwlJhI3EEuIDcRLxD7iWxKJpEOyJwWRhKT1pBLSUdIV0gDpE1mJbEx2Jy8hS8lbyNXkc+T75LcUCsWA4kqJpqRRtlBqKRcojykf5ahyZnIcOb7cOrkyuWa523Kv5Any+vJs+WXyWfLF8sflb8q/VCAoGCi4K3AV1iqUKZxU6FEYU6QqWigGKKYoFirWKV5VfKaEUzJQ8lTiK+UqHVS6oDRIRVF1qe5UHnUjtZJ6iTpEw9KYNA4tkVZAO0LrpI0qKylbK4crZyqXKZ9W7qej6AZ0Dj2ZvpV+jN5N/zxHYw57jmDO5jkNc27P+aAyV8VVRaCSr9Kock/lsypD1VM1SXW7aovqIzW0mrFakFqG2j61S2ov59LmOs7lzc2fe2zuA3VY3Vg9WH21+kH1G+pjGpoa3hpijT0aFzReatI1XTUTNXdqntEc0aJqOWsJtXZqndV6zlBmsBnJjBLGRcaotrq2j7ZU+4B2p/a4DlMnTCdHp1HnkS5Rl6Ubp7tTt113VE9Lb6Fetl693gN9gj5LP0F/t36H/gcDpkGEwSaDFoNnTBUmh5nFrGf2GVIMXQxXGlYY3jXCGrGMkoz2Gt0yho1tjBOMy4xvmsAmtiZCk70mXfMw8+znieZVzOsxJZuyTdNN600HzOhm/mY5Zi1mr+brzY+ev31+x/xv5jbmyeaV5g8tlCx8LXIs2izeWBpb8izLLO9aUay8rNZZtVq9tjaxFljvs+61odostNlk027z1dbOVmLbYDtip2cXY1du18OisQJZhawr9hh7N/t19qfsPznYOqQ5HHP4y9HUMcmxzvHZAuYCwYLKBYNOOk5cpwNO/c4M5xjnn537XbRduC4VLk9cdV35rlWuw2wjdiL7MPuVm7mbxK3J7YO7g/sa93MeKA9vj3yPTk8lzzDPUs/HXjpe8V71XqPeNt6rvc/5YHz8fLb79HA0ODxOLWfU1853je9FP7JfiF+p3xN/Y3+Jf9tCeKHvwh0L+xbpLxItagkAAZyAHQGPApmBKwN/DcIGBQaVBT0NtgjODu4IoYYsD6kLeR/qFro19GGYYZg0rD1cPnxJeG34hwiPiKKI/sj5kWsir0epRQmjWqNx0eHRVdFjiz0X71o8tMRmSd6S7qXMpZlLry5TW5a87PRy+eXc5cdjMDERMXUxX7gB3AruWCwntjx2lOfO2817wXfl7+SPCJwERYLhOKe4orhn8U7xO+JHElwSihNeCt2FpcLXiT6J+xM/JAUkVSdNJEckN6bgU2JSToqUREmiiys0V2Su6BKbiPPE/SsdVu5aOSrxk1SlQqlLU1vTaMhwdENqKP1BOpDunF6W/jEjPON4pmKmKPPGKuNVm1cNZ3llHVqNXs1b3Z6tnb0he2ANe82BtdDa2LXt63TX5a4bWu+9vmYDcUPSht9yzHOKct5tjNjYlquRuz538AfvH+rz5PIkeT2bHDft/xH9o/DHzs1Wm/ds/pbPz79WYF5QXPClkFd47SeLn0p+mtgSt6Vzq+3Wfduw20Tbure7bK8pUizKKhrcsXBH807Gzvyd73Yt33W12Lp4/27ibunu/hL/ktY9enu27flSmlB6r8ytrLFcvXxz+Ye9/L2397nua9ivsb9g/+efhT/3HvA+0FxhUFF8EHsw/eDTyvDKjkOsQ7VValUFVV+rRdX9NcE1F2vtamvr1Ou21sP10vqRw0sO3zricaS1wbThQCO9seAoOCo9+vyXmF+6j/kdaz/OOt5wQv9EeRO1Kb8Zal7VPNqS0NLfGtXaddL3ZHubY1vTr2a/Vp/SPlV2Wvn01jPEM7lnJs5mnR07Jz738nz8+cH25e0PL0ReuHsx6GLnJb9LVy57Xb7Qwe44e8XpyqmrDldPXmNda7lue735hs2Npt9sfmvqtO1svml3s/WW/a22rgVdZ2673D5/x+PO5bucu9fvLbrX1R3W3duzpKe/l9/77H7y/dcP0h+MP1zfh+nLf6TwqPix+uOK341+b+y37T894DFw40nIk4eDvMEXf6T+8WUo9ynlafGw1nDtM8tnp0a8Rm49X/x86IX4xfjLvD8V/yx/ZfjqxF+uf90YjRwdei15PfGm8K3q2+p31u/axwLHHr9PeT/+If+j6seaT6xPHZ8jPg+PZ3zBfSn5avS17Zvft76JlIkJMVfCnRoFUIjCcXEAvKkGgBIFAPUWAMTF0zP1lEDT3wFTBP4TT8/dU2ILwCHETI5/wa4AlCPKPIfMIIgGIhzqCmArK5nOzL9Ts/qkELoAyBxGJgfoET17PfiHTM/x3/X9TwtkWf9m/wWvjwQaTKDIDwAAADhlWElmTU0AKgAAAAgAAYdpAAQAAAABAAAAGgAAAAAAAqACAAQAAAABAAADIKADAAQAAAABAAABPQAAAAA25B09AABAAElEQVR4Aey9C/QXRZbnyUNAREAQXyCCiEr5xAdYRVtW666KtNOtM1La0u06Wxwd0WHHksYV9HhcRVvb0hlXrNKj1Y7dWpaWo11j4YNtrPbBlCIKIooIiiLiC0QFQUHYD14Ngvxlxi/fGfn73d/h/ImMjOc3MiO+ce+Nmx23bNnSQX+KgCKgCCgCioAioAgoAvkh0Cm/orQkRUARUAQUAUVAEVAEFIGtCCjB0udAEVAEFAFFQBFQBBSBnBFQgpUzoFqcIqAIKAKKgCKgCCgCSrD0GVAEFAFFQBFQBBQBRSBnBJRg5QyoFqcIKAKKgCKgCCgCioASLH0GFAFFQBFQBBQBRUARyBkBJVg5A6rFKQKKgCKgCCgCioAioARLnwFFQBFQBBQBRUARUARyRkAJVs6AanGKgCKgCCgCioAioAgowdJnQBFQBBQBRUARUAQUgZwRUIKVM6BanCKgCCgCioAioAgoAkqw9BlQBBQBRUARUAQUAUUgZwSUYOUMqBanCCgCioAioAgoAoqAEix9BhQBRUARUAQUAUVAEcgZASVYOQOqxSkCioAioAgoAoqAIqAES58BRUARUAQUAUVAEVAEckZACVbOgGpxioAioAgoAoqAIqAI7KAQKAKKgCKgCCgC7YPA6NGjpbOrVq369NNPhw4dKpfXX3/94Ycfng6H+++//7PPPjv//PMTZe/YseOWLVsSZUmXeMKECbQtde/SVaq5lGDpM6AIKAKKgCLQRgg8/vjj0ttnn3129uzZkydPbqPOR3f1hhtuUCii4UlzRwlWGtQ0jyKgCCgCioAiYBA466yzTNjDwG233eZuFVzTnUDvpkBACVYK0No3C6J1s/nzEAV2YKNGjTr22GM9bJv/TQI9GlnaFtbzZ8n/8dIW5o7AjBkzli9fbqv53nrrrSlTpixdunTOnDmmOlSKTz755JAhQyRGnmRbGMardPLJJ1933XVr1qwhzS677HLZZZclUs9R2q233mqyT58+fdddd6Uo4t97770FCxbMnTtXap84ceKYMWMkLHrASy+9VC5p4dVXXy0Z7bmR8KxZsyQNf++9997nn3/+yiuvRFsq8TLJoz+94oorVq9eTTPogt0Gcj322GPAwi2om4HClKkBQUAJVqs9CcwIN954I39Nx+w30ERWHmAuu+WWW0wzTjjhhNKWdlNp3QMyUTZS3ty5S2BG9vOJqvtoavsrRwCmMmLECJtgzZw585xzznn00Ufnz58vDIlAnz59iJdksBDIR2PLx48fz4sp5IYskJ7G97Qxl4np378/Rl1yCamC6BgRFCzqqaeemjZtGnepnZf9mGOOkYqY9m+//XZTESXcdNNNktKUzMS7bNkyk4YSyEvHe/XqFdCWjhs37vLLL5f9Kl3g0uQ699xzr7nmmkDJpgoNGAT0FKGBohUCvAa8fmeffTZvgvzYnQwbNszdN5ZPd4Lc7/KSM2d938at/59xxhlSC7MJv9xrbOECzURcUB+nTp26zz772INlnqjyn5yC+qjFKgKCAASLWdSg8fDDD0M+jjvuuD/96U8S+cADD9x8883EyyWyn+OPP96kN4FLLrlESA8xiWRXUoItE4Li2PIzdJGmQKoYO3bs66+/buqdNGmSCZPSCLpM5Oeffw5BNJemkSZGAoBAG4w2gBq5NMggw/NcJRroTlWXSrCqQr6Qetk2sdExbwV18P7Y72porba4ODRB7pH33HOPPRFQvmkku6jcq2vhAhEm/eIXv2AbWlwf0YYEJlMzWOU/OcV1U0tWBEAAuRQUSqAQkkH4xBNPNIyK14EJFqmVvHTPPffcD3/4w0bo9t5778bI1DE2DRo8eLCjHPNuRqWhL7AutkbuSeOJJ5449dRT7UKo1zA5FA72LQ1HIaAEKwqZ+sUjyTjppJOiXjCkxyyT/BAp85O9CJGEX3jhhW/jvouk50iYTMpGAQkiDbOVEZhIg2iaMPIzbklp/OXS/RoHUOa1v+OOOy6++GLyUovcpZDQxpCYuuRWoyiFeinEVpUG6mqNS0xG2E9feOGFUd0BBwMgWNnDYUaKeBFTRRUSGk8u8+TIQxL6jEleBog0Mlg8XYECpSWBSL1UBMpHAFGNkfrAtEQPCL+RF4cHFREXrUJqhZaQAImNPCnH1srMJu8L8xgvWl6F0xek0cikUfkxMzhmSKyyqNr8dDeVYgjUBisFaJ5mefrpp1EORjWud+/exkpRyAdiZ9gYLxuvEH9NRjR0SJhMYl5C1PPGjpJkP/3pT6FTxiaAmEceeYT0BHhdmxoBkAyzBopFfWnvzIgXM6yAoTqyLsMaaerIkSPlkhf+pZdeMu0ku/1j+sCrjclo32qlMK532E/fd999jJotuTR9jDKkYKSwCzFDwITOZejGFNYO/Wq0t4AwBZ6c0GdMWgJvphzhYaZtEjAtCcTrpSJQCQK8BewBmPEgT+ax5+nlFVu4cKHIdZADYerK31ADrIzN5o2wTbgojRctY5mB7FA3frz1zMNRVurs3EKnlEBReulAQCVYDnBqdovXEtPIqEZDZQybIRAwNbBzcXrl2muvNYnhN/AtOwE7NtsmQPZ2dnqTmHfYbAdNJAEmL3RbzBq83rzk9q3GsE2SMK6UjaMku+iii0y9dkaKpfwidpZ2Lf6EOSuE2M+WTknbwBb0zCwJIFwK4HfddRcQGfTkVmiPWGNgTjwwSKF4xkLTSCSlmQIJ2M8YZ5FoZGNe2ixTvMnYmEZjFIEyEcAeVKza7f3GKaecgvUC1uWy1eQ94l2IMsDK2Nrf/e53V111lXkjeEdQ2GUsMzQ7bz0zKtU13j3kkEM4J9gYrzGJEFCClQiu1kmMQv2LL74I7Q+Hb21OQ/jFF18MpGSDZRQ9vJ+nnXaaSWDnNZGNAeYpWBoSeCReMK2mNEtKwLIBmY0pzVAHE0MAHsDEIfOgHd/CYeZiZmRODAX66DCkgPhy+MhO77DtQLLIYDHnQob4NTI5uxwTtp8x5I5mwTAJCLSJoNHusoY9R0DIE/pBc/KGBjPVIC/v27evaTz0i51nqAGWSZMugP4O0y6Tl/d6v/32M5cZA4E9EsoHPEpQZs+ePW0lIPMnU4R93ijmW5+xeS2WXVWErTOgzAvvv/9+FL/h9TBOTejzkiVL0MSFdh6CFZBIm09JmPQiIRcSg/mnrWE0aeIEYEIIqGFXMDZbKmbnhTAxtYlLGHrBqRn7biCMsowZ5KijjgrEt/wlY4HbC5AEUruzGFLY7jC4xZ5VEoQyHjtvIEwV/FDz2YfG7TTxnzHJBVcjsGLFikCb7TI1rAiUjwDvyN133230g9IApiBsG0xj4CV///d/H6r1NmniBAKTLVUj+MfTlcSjgsSHVqgeIE7hjWkWLVp05plnmnef6uTt4y/TJlJnbonSEPsB3nTcMVAIzYBc2mYhjSVrTAgCfAhJf62BwG9+8xusjqL6cvTRR8+bN8/cJeUzzzwjl8wUJp5A4DLqFsk++eQT2NgFF1xg0jTmbYwxie0AyaQ9dsNIQOH0y6QkjeljY8ncksYwg5jembytF6C//Ey/GAvBxCDD3SgcTBqT/dvCtpVm4hsDzCMSGSgk/jNGdvIysjxC5OJvYy0aowhUhQBPJr+qatd6WwYBVRGGkM6aRiFVwpQ4VJCLpBcjTVtO8OCDD0Z1kxJCCwmkZ+uDORQ/h2V9IIv7MtSADLEW+zmTsalZgDQGy/dQmyRTTksGEF6efvrpCPxM7xyGFOxWjZJX0uN+0GR0B0IVFomeMSmfkWW7fOedd6IodNeodxWBMhHA9QnTaZk1al0tiYASrNYZVtYqlEEIlgNadnoId8F9i+lqQKyNutBmVHLs346xw6YQJiD091h9hhpCmWShgUALxcWDKDexp7ZdYfH1BlM7+q+YonKgcDsvCG1VC0Ri04YhBQMqfUGjF2VI8bOf/QztoY1tYFCkBBKYNMQQRq933nnnyV0UB8ZKw/2MSfrQv/B+zFnkGQhNoJGKQJkI8EiLpqzMSrWulkRAbbBaalhZUAcMGMDHs8RiSfqG6oc1DM/CRqmPTbptyYSWnVuQEo6VUQKECW+/RqjAIsphvUYWRXq08g7LaAeygRayvqLvl/QYllI1LIF6IYIPPfSQtIRLBCd8usGmX44qaDDiLpZt8WTjSNlitxju4cOHm05FGVJAZ+GgTbHlSIFYSpkCxUZELrEOwXiOJ4ERxBDe8YyZ7KEB8rKkYS9sC1lDU2qkIlAcAsh02aMy1YjTmeIq0pLbBIGOKDvbpKvazdwRYOm1nVTlXr4WqAgoAoqAIqAI1BQBVRHWdOCqbzbaIgykog4tVt8+bYEioAgoAoqAIlAdAkqwqsO+5jXjqRKVUM07oc1XBBQBRUARUAQKQUAJViGwtnahnFPDZgvrHPt8X2t3WXunCCgCioAioAgkQkBtsBLBpYkVgXZEYHOHLZ06dGzHnmufFQFFQBFIi4CeIkyLnOZTBFoagaUbPrjvw2f+9MXiFV+t4iBMvy49j9x5v3/f75gf9TqwpfutnVMEKkBg3eavnlj98qIvV3z2zZddO+4wsFu/Ub0OPKTHPhU0RavMDwGVYOWHZVuW9PWWTas2foF4Y/euvTuqkKNVnoGn17w2cemdoQeML9n7L8/Z489bpaPaD0WgegSe+HTe1e88+MU36wNNOaPfj64Y5PoyWCC9XvqGgBIs30akNu35w+q5D3w8e97at6XFnTp0GtX7wHG7/3hUr2G16YM2NAKBMa9OQ3AVcbPD/zho8n7d94y6q/GKgCIQH4HF61eOfe0fotKP3+t//8/9x0Td1XjPEVAjd88HyNPmTX//8Slv32vYFa3c3GHzs5+9fsGbdzyy6gVPG63NiofAH9csdLArymDDHa8kTaUIKAJNEHjw49mOFP/04R83bvnGkUBv+YyAEiyfR8fTtmEocMfKbR/eCbTyhuWPrN/8dSBSL2uEwBvrV7hbywPgTqB3FQFFICYCL37x3YetQtN/tXnT/LXLQm9ppP8IKMHyf4y8a+GsNQscbVr3zYan1rzqSKC3PEHgq6++euedd3AY+/XX2xHiL77Z4G5ho7GIO73eVQQUgSgEPvh6TdQtif9k4+fuBHrXWwT0FKG3Q+Nvw95cv9LduKXrP3An0Ls+INCtW7d169Z98sknNKZ79+4777xzr169+NutY5NpoVunJgl86J22QRFQBBSBahHQibJa/GtZ+7rNTSQcHDmuZcfar9G9e/dev37r2SX+8vv4448J9+7TxY3E4B13dyfQu4qAIhATgT277vLWhg8dift16eW4q7d8RkBVhD6Pjqdt696pq7tlTRO4s+vd0hDYcccdA3XttddeYwb+MBAZuDy21w8CMXqpCCgC6RA4uudQR0akxYfvPNiRQG/5jIBKsHweHU/bNmTHPf/YYaGjcUO67+G4q7eqRWDLli185uiLL77gL+FOnTpt3rxZmtS1a9c1a9Zs/Pjj/9jnJ//46b+FtvOUvkce21sJVig2GqkIJEZg7G6jHvj4uahsf9X9yBXvLO/cufMO1o9LXtvG3VFUIRpfFQJKsKpCvgb1svq++uqrvMkdO279TIoE+Dv0m96O1u/QsfOPVcLhAKiiW5i0f/79r0ePHigHhwwZwqS9YMG2Iwti7Y5t1n8Z8ld7fNT31yv/9aNN2wxsd+zU9ae7/mjMugNWrly5yy67YLZVUVe0WkWgdRA4oPteNww5J8rR6M93P/W1114L9JbX9qCDDgpE6qWHCKijUQ8HxaMmYQHNQbNAg/bdd9+7vnz6nz98OhAvl5MHnjZu9+NCb2lk+QisXbsWSRW/jRs3Qqr49ezZkwnatGT58uUfffSRuSQwYMAATN3ff/99Un7ee8tHG9d89MnHB+w5+KCdBnbu2Gn+/PmbNm0i2U477QTN6tOnj+6kbfQ0rAikQGDtNxvue/P/+2Snr+RTOb02dDll4Ej5VM7SpUuRK9tlMgP37dvXjtGwnwhsm2f9bJ+2qloE+vXrB8firJlpBis07/bf9T1t76673vfB0+9u3Obvm+ngp71/OHhl92VfLmPpJaWIvkxeDZSDwDfffCOkCokVWj8GYp999oEzhda+5557fvrpp9AvcxdZ14oVWz1dQaEO3Gnvvdf1XrRm/d59e3XusdVkEzoFaSPw5bc/eBjJqKJ///6mBA0oAopAfASYYN99550fd9zvB/t8p3x//fXXd/zomw77bi1jt912swkWc7Kyq/jYVptSCVa1+PteO7KKLl22O1OGETSNRnv4ZxsG/ajXuB4D+vItQojUuuWrjtj/EG699P5LuFbiRyTiDZZefhgN+N7V+rcPwiM6QOZrHC7wQxYFwXL3jJOD2GBBkshOSlTA4riBsNhmffjhh4Tfe+89CmQcDcEyxe666667767nCg0eGlAEEiDAC/juu++SgVdPsrFBkt0L2x6EVbx35vXk7eMdh2+xg01QhyatCAElWBUBX4dqP/jgA6xtWDthSEhEaDKbJ8x3CLPcbtiwgTd/ty5b/yHzePWLlUuWLBk6dChTALdIDAlb/e2PVRlzHxLXodM1ayMgMxzCq2C0gLzHHnswXnG6gcUVMzu5sOdAKLVs2TJKMwbvlMBETzzyLcIkRpk4ePBgxtcUTl4WAGi0idGAIqAIxEcAAwx7P8NEKt7ppAROoixevJjJEyGWmGogiuYN5bXlxdx7773jV6QpK0FACVYlsPteKfInqBXbph/84AcsqHhIYhVng4UaCGolIg36YDyAs8Bzyd8333wT22chWNJJsrMGU5Tvfa5V+5iIGRE5CYjuD0a13377JbI6h/oyTaMf5EfXUTqwLabMAMEyY00angqsskwtyMagzvxqhZw2VhHwAgFkVLyAtvUFzWLmtAmWxLzxxhtwLDQJ0CxeQCKZltntLFq0CL6lU6sXwxnRCCVYEcC0azRrNtQKSQavrpE5saYiF0GeAX+CbBlsjOEOC7NEkp0JwiTg5UemFVAymrsaSIoA8MJiQRvVLaMDKxo0aJBtsR6zQGZnyoGTyXwtuZjExd4O7iU0i/EVvaEploz7778/l7A6eDMPw1tvvXXggQca1mVSakARUAQcCPDuGJ2gSQbBYrPEa25iCMjES7yYZxDDK8/bx9sKx8IMgMnZTq9hfxBQguXPWFTcEoQiUCskz4g0UAUGWsNazvtssysS8ObzY5owBItIypG8MAARtDSWFihcLx0IwHKYcEGYH+SVeRZShaLWkcVxS/bNiBXZBDfO74wU7Ao5JZUiuzJDaQpkuFEc8zAwvxOJEAs9xdtvv33AAQek4HmmWA0oAu2GAJaL/JhR2bTwV07mygRri7XYAmFuxa/RmJK3lX2OqAvZD+s+1sNHSAmWh4NSdpOQV0Gt+LGyYmQTWj2yKN5htlCYZHKqn4VWkqElbFyGucVyS1Gs09gQ8OZDC0KL1cgoBJhkhVdBiUAPthrHYj2qNIkXc1rGEV1DaEq0hMiuZEOMUIqBZg1ACYgZFpxMwt9qBbepBZnleQDgWCLZCi1WIxUBRSAUAd4y5lK2KxAsdrBIsHjfeQd53yFVKOXdJpW8lextOMmLryzea7WGDAW5wkj1g1Uh+F5UzaILtRL5c+MmqbGJvP9wJqgYqy8rK8sqqzKFkBJShYiFZZhpYuDAgZIXuQtaJGaB1EKXxja0agwTK5o7+WE/zqCwf82Fm1IyO13Gi3FxGG2gcWBCb5ym8drA4Do0ERjIMyhR7LxVx0v7pQhkRACNAdbrBx98sJSDBIvJk7de5MFIkblEYt20FjZjlAMtg2Y1TawJSkNACVZpUHtXEcQIasWbjFwqyklSY6N5jWFRYhnNBgvpF+UwI/BjK8ZeCoucQC52ZlREfBwCF8jbDpfwnm8VgFuN1oGRWZJfjlZNFAu7okzDekNRZTT5QYUb76IWZHARoTXeMjHY58GhYd4mRgOKgCLgRoDpFClU1NaFmQEL98MOO8xdiNxlE4W2Eck3HCv+fB6nZE2TGgFVEaaGrsYZ2SfBeNgbQa0axRWOjqEQxEbHvPAIq0hsTKwgW2zIeM8Dxj0kQAAu1tAIZhzlt9Ut0QAirwIcxFSghJl57ofy4Ebsg6FWGE654eWRiNr+0ipzYjSqENQcog6O0j9GZdR4RaA9EWDTwubz8MMPj+o+W1k2pUwR7I6i0ph4Zl1kXeyRcJez9Wzwt6eDzV0NVIKAEqxKYK+sUtZy1lFeQqgVy3nSdqAKZPmMIgGQJyYCeEOjVou3HXssOBYn15JW2krpAUE0gIiskFEhr8pise5GBkrEjha+iz17U9khCl/aEzWPI+ZkMXBXRxpUhMKxMB9xJ9a7ioAiwDzMtke0gVFo8CoxV0S9mI252PQyqyCxRqLMfgmK1phGY0pD4DvXsaXVpxVViACSDD7eTAMOPfTQKKG0o3ks1SzDbvkEommEWKGFIESBgSESD73b2pHI7ZEkIe1fuHAh0yUzIFYX6ExRqBVkmobelq9tYG6FkVxTdoXokeY5trxQaqh50zGiOuRY2GPJYaim6TWBItDOCECwRAngAAGCxbvsSNB4i/cd5zhMMli+U0VjAo0pDQGVYJUGdZUVoddDcIWIAgsbh42zu4mIr9AnurdEvNV4Io0qB5kZEg7stNrBUgc+CpcSeRXSe6R6SA3j70SjMIwTzxBw7g+uE7M62BUpHVSP9jeVYEnD6CaOG0Qd7N6ax+mIplEEWhUBsaZo+oZiocV7ROKkZlXsl8hinDjU2jZj9OjR8hjAF5nZoI9yef311zsUrIEnZ8KECeeff3789IHs6S6VYKXDrTa5eDOhViz2LHuNmrtE3UB81VTBxyuNaRfSjqjFVTiWeCVOVHtdEtN9SJVQK2ZPMOdbQzlarLtxQHTElMoWlq/fRGlyAyUwWBAs1IiBePuS0YxJsMiFMRnaSXXcYAOoYUUggEAc8ZVkESFWUoJFXrIwD2AngOAcdWFTMhdooT+Xjz/+uDTm2WefnT179uTJk/1pm7slSrDc+NT4Losc1IqVHnGRsUNP3R+MMRF9xZF+8VbD6qKscFiqxRqaQCL7+tQtLyejWKyDNkQEUoUiFTIaMPYvuiWMEewKJp3o08uwKx4PNsqO5sHV4hMsyuGRQ1HITx03OFDVW22LAG+T27zdRob5hO0K77UdGT+MbQZzMi8jr3k7qA6ikLntttuibhUXrzZYxWFbWcmY1KCGW7BgAYIizK2ysyt6IubtcbqElhC24UiJOAc5FlokeJgjmf+3sFhnG0pH5s2bB+CwEPgERyyxW4dflsmuGHGM2xijYcOGJWJXnANHMOmwvpJRSEqwyAUU4IMDLf/HUVuoCJSMADYbTc3bTZNkW2u7dze3YgbYyiLKQryNhQYi9pi5/E82Y8aM22+/3W4ns/FZZ51FzA033DB//nzCqBcJSwwCMEnMvI3GUO6SwMQHMnKLNJQjuVL8VQlWCtC8zsLGCMEVLOeQQw5x20vF7wZqb+hCTAkzuyXkKO7CaR5yLLHUyauR7hpzvMtMh6QKEsmExeYSWNgjVvidCngqgAO7W80XigDnHmBXTRvP6MPhUDQnYo0iqkRf6T4YEdowjVQEWhgBZmm3V7lA30VL6LCSDKRvvERjgEyd3ZSoC1vjlRwzZsyIESOwrDL9nTlz5jnnnMPlrFmzXnrppenTp4ceIxg3bpyx34JsQaTuvPNOY541fvx4lJKSEXZ16aWXGh2lqShmQCVYMYGqQTJMfzinJtbNyA9yJC7xxVfAxCyAdhLphRsyNnCcZFy6dGki3ZO7zOLuwi0AFjE7ckFkRVxisT58+HA4BALCpgSluIbBkDiPDUmKcmHlqBqn/HQq5nnSRGZYUqmog5HtJT0G5Wiz3lIE6o4AOyImkJj7VemsEKzsHUe8zTYMSoHOsRYTb9MuQ7BsCdPDDz8M65JcF110USi7Qu511FFHGTpFGtiVLQm75JJLTEaTrGlLQhOoBCsUlppFIkpBasVfVv2m/iST9g1RDWwpUbGiJWyahaUdC2vkWN5+xg5xupirQ16ZEJFXgXCOzDXpWNjpgU6oHjOm24LKzmWHxTVDTFt40RImpZKog+Gg0Gj9VpKNvIbbGQH4jVm/Y+Igsit2RHGsYN1lUgKGBBw0ls8XMqe503t+F/HVAw88IDQIpmU7dzz22GNDG4+volNOOcW+RfYnn3zSxKQ2dzMlmIBKsAwUtQywC+FV4RNyvDa4VmrKaVJ0EqlyIrMeqhA79zh1yQeMkQzFSVxaGugUqCJLxycyHAtx+hFHHAELBAdP2BW0DzdX0BdalY5dsY1G1xlTfAXyECwoXYohEBUqQ5wue4oaNYsi4C0CzNgpCBbdgQnx1ufVLzgEMm8OGDLR5VVmJeXAjebOnStVw7RsdWGi9rAJTJQ+ZmIlWDGB8jEZ6iE0VhjHYG7V1E45XQeQirEMJ1XYI8GCo8SsEZNwlt7K33PUmkx8iNNefvllxIHwCUQvAFu+xXpT3LAcx+gKw68sZ4JEfNW0LpMAQNBrmMtEAbSoUH+wTZRLEysCrYcA5u2YnCeVBIMDWkIU+jkCAmND+I12gv05srEcSy65qBNOOAGtH5XCtESU1bQBjctTUw9ETcsMTaAqwlBYfI/EqAUSgPlwFsehcTqJ+Copu6JYJCssxlAWWhinFqgMhkTwxfgClTjFxkmDIIeXjR+SKmYcftVarLvbTCPZdMJ1mBmxcHIndtzl+WFiTTSyKWyw7AagWuV5QI6FdaAdr2FFoK0QSGrebsBBLYD0ixkgncTalGMHZBtJk+BYSd272OVUGz7jjDNuvPFGlCEwrTgtYdv83HPPGVMtsnCK8KSTToqTN2kalWAlRazi9MiT0FvBrpBeQLqzq+Qd/WENRqiTaBk2pYkZlrl0B+Q9h8yxvXOnzOUu85SxWEcUhAiQl1Ms1rGNSLG5zKVVTQthLFALonHDziALu6KipOIrsjBGGXV8yAJ5otRxQ9OB1gStikAK83YbityFWFI4AmacOLDpQk3GG2rXWIuwOP1BPwjTitNgqBWyLuOagXn1mmuuSa1bdNeYfhPsLlfv5o4AAgB4FWp4tIFJjaLSNUbEV+nWcvZbiIXi23Ji24QcCzctVJfofE38rrH5Az1+THNUwc8fi/WmvYAI0mwsrgC2aWJ3Algs381I6uUVBw0QU3fJTe/KEENhy3mAm7ZHEygCZSLAWh5/SmxsGPJ1zuQyazXeyhiDVAxlCIWL5XvSySFj7dmzn3vuuXffffe0adNiFnXvvfdeccUV8CpJb1w2xMweP1lHtu/xU2vKqhCAWvFDg8bblcgXUeoGs5pi4IUqKp1ZN2wGrR9uThM1AMESJ+P4CjJKxkQZHYnheZAq/vKoC69inqrRl7mQWcKuEFVilJpLs5lDkdgBggO0xlsIvXgkyNh4K1EMVn3QaLFsS5RREysCtUaA14djbkyJWWTkr7zyCtNjujk5DnqcGccIAf0DlhJx0nuS5v7776clOAX1pD2mGUqwDBSeBtj0QK2QWyC4ylH73rS3WESxFmaxmOE0LF/lTNpmDAKomkkkneRM+oW0D1LFZMFfTjgzX8AnClWnNsUzXQKEiJj/Q61yccdPGygQrmm+lhq/VfhC43lI4W2rsQoagJqbIc7iOLGxWI1RBHxGgDeIGcn2I5Citey1YFeF2qqyEaUW9nW87Nnl5Sn6mCIL3rCMa9AU2YvLoirC4rDNWjLrEGIDHne2+1CErMUlzM9KnHEu4OVkQklKsGAS2AFw4gyRdcImdzAW63wBBmEVJgvMEVmIWtIG5Jie/S7THEwR84ikGDqaAXlNN6zYYNEkR8nxbzE0PNK4OmSIYx6DiF+4plQE/ESArXKWY7/SKTaKLAqFEizE5LyetJZdELt6fn7iaVqFNRUEK4vu1RSVe0AJVu6Q5lAg+jWkVuwhUAhW8twgRkJJl1HAAClEgJTCRp5eC8eKQwVY9UUDCB+FSzEBcRymLhuvqGeFHsGusITAaCkqTYp4pmaQSTesORIsWs5TLYcKU9DoFB3XLIpAtQiw92OmYmuRsRnMbxzFZQNZnJZQWsgbygTOLATNQl1YdHXpYME7wy233MJGmk/ipCuh6FyqIiwa4WTl490AS0OEyewbijBmjNkazHSgKRmnA2YBTv/GdEzS2DCEWBgrRJkCoK6CUUFEoKGiAaS1fs4CjV1zx8CtER+yiWTicKdMdJf5HaO61PZt4IyykuyJKnUnZvqmVfmSSHeNelcRqAQBTEuZnXKRBlEUu9/SjomwK2NGQhVQyVa/ksHKsVJ105AjmFmLgldhtwTHwlFHhewKS3PEFRnZFVgwoSBSggmlw4V1F/d3vN4mO9pSGBU2mKDEiWIIHLMM7hWwKEJO1gLsih5xMoBeoxbMl12BIUgiEkt9eiC7mwYzjibArA3BUscNBhANtCQCTOkZzw/asCDEKvPjnpBCDi+z5ZMPc9ktyTF8w7e/HAuMKop9e5m28Eqwogai1HheGFwcwR5wbcWqk+WYSfZ2w/NS6PVC60W2hJwp9FbTSEwB4FhMTDADmgSjmjdvHiZEWO2gOoSDAhQsJJeDdU0bU0ICeC0CPxDjGcj9AUAfB4xZWHu+KkKDJ0PJE8L0bWI0oAi0GAJMYsxUeb3UFIU4uUyHVdgVcJyc0+toNlLP5zUaU8heXq1VgpUXkinL4VWBOqAWZKOAJCadfUzKusOyYZbOq5vXNw15MzE+CKuneRwZ4VXwJyQcEFCkL5xwxmQHA886ngd0dxixHM8AbCMXJUJjXbArSs5iUV4QwWLWhkajg4BfNjZbYxSBFkAgR/GVoAHHKlOIJZVirYGXFizAmKnqOyjMseLTwdGFWbNmOe4muqVG7ongyjMxfrF5UllXkCsU9CGkFM2F0+So3RczyfjNQGGEGI8f+yTYAGpKxFQI2OGgvNs1PQ/o7j4KQUyROCcoe0R34nR3OTPBFH/YYYelyy65xPsaY5G7Gzb6DsfClpYRr3yDkQUizasINCLARpGpHr1e463UMRAs3ui89Azxm8EulykdXSGu7OBbqe0N4tdIygkTJuAbWQglDkWNgo943K9feumlUhrM6eqrrxZDMc4VYjCKyan5DvTEiRPNt3FGjx6NTwdy4ZbsuuuuM1T19NNPp0DKf+GFF0hDAlMd1vT33HNPYxuQdZ188slSCB/qmTx5sjTG/FWCZaAoNYBEgV07VAZVF7KBUuuOrgx7KaYDntToJMnuIBVn1aRM97E+SAaMip+xWIdO2eIWaBYcC/FVCxha2QhCZ2FX2LPn5ebKLtyEedIQX2V/zKBWRRAs2gmTBgTMIzCit8fddEEDikBNEYAc5P52Q7DwcgJvK3/PSY2IA9Dpi8/3EkjepEmTzJIE7xk5cqRcMl3cfvvtQpV4NpBL3XTTTcaZO/TrqaeekkvIKBmPOeaYgJ3++PHjf/vb35rCSSblGAYmjxx0DXbFQUXJTsnMV0LXkHW99NJL5lbjI6oqwkZMio3hfVu4cCGUAokFNCL7spdjc1nvc39h2PFAsBobicU6GwKxWGeyQC+J7s9YrAdWWZ5syCjJWOAbi6pjDB1B2M4rzWOQ+/xrAwL4/HLRPPKsZvwcod2wQJgh5tljiHkwArf0UhGoKQK85ri8Cazr2fuC4QQcC0l/9qLSlcBszMTFWiY8L10hMXMZAkR6REozZ840GeFeJozkyciriOTSHGAH/7Fjx2LlbBJLAPWRLVmMGqZbb7312muvNXepFL5lirrooovMLRNpAkqwDBSFBzBvQrIKiUG4ykOTo/fIXJqOHTRzQREEi46bFnJQDgQQR7388stsgyBS7IcOPvhgMOFZd1isQ78Qg/E+m6LqGwAQ3nb2gsOGDSvanoxjAbArB7DxYaTB6HDjp0+aknaidIB3Js2o6RUBPxFgBwUTysu83e4jxRrdlh1fWpiJS+TNTGWltQTnQTattLlXoONxvkHCtwjHjRtnvvocKMFcslrZFRF+8cUXzd1jjz3WhBsDqiJsxCT/GFgFahqWVcytChVXZGm6iK9ylzkLK6LvaAB5N5BUQaQwokcllLQu3i4IFhYA5M3S02rz8iRAelB65nWSwNEdMMcAKy8LPyRYhRIsOiK6YOwnGGtHv/SWIlALBCBYWY7uOvoIwWIrUpDK3lFv4BZKGGZ4FBGIyQt6Z7FzQg0nHA48kUUF2pD6EikXCse77rrr4osvvuSSS7gMLQqCJSZZ5m78T40pwTKgFRJA38GCyo+PJMTh1IU0IkahvKgQLKS+MdLGTQKXgldBqgABVgSfYPl0G2M1LRpraDxFcTgg+0cnmtaVewIAweIKNHBzFdCB5l6XFMiDl4tyUEorVEVoEGCI33jjDaSbOR62MIVrQBEoDQE4R+7m7abxGERiCQTtKGGfZioNDbBhFo6FlxkUEfmeU8Hg6bjjjjPG40ibZs+eHdqMdJGIo7DT4geNmzp1KoHGciBhxtKr8a47RlWEbnwy3YWycJCBZRX/AgXtYzK1z8rMesaWKBcTcszLMOFnjcQdKO8/7x5CO2YBKFFGdiXt5ZWgWLC1ml+DIPp+zEJRgbH7KYddYSEBLg77gKSolSDBokmsHAwxj5A6bkg6QJreKwSKMG+3O8iMbevL7Fslh5kZEB8wzzPtI57PsfY5c+bYgqXHHnssx8LtouBwGLzbMSaM2IyfuUwUUIKVCK64iXnuofPwAJYK9FnlLKhxGxeWTvSDYXdixSGVobOIZyBVYvaI4OSII46g+xh1scVhMxeroBiJeJkpVjxcxEjuRRJcefFDNlOm4I2ZLt+PwqLSRdJZAqAQfbDiQcrxsSmh2VqFImAQ4E1hVc5xe2NKNgExw2LuNTHVBiBYyOYxS0CnhkVvLo1hl2XIDV4VbDP27OVzDtEUQuFHH320XAKsbZh18803X3jhhaYZpLHDpoTQgKoIQ2FJH4mnA9Z+jK4QWeE1JH1BJeZM/WlnugmV5I3ix2lBRNaY+zQ6RyEeL0c5mgtwPgCOxYkBHDdQb4lQJa6K5wHeCcNG/Qo1TJw/bQbGFD7ETJG2gJB8tL+4U4SB+hhWdiZwLHXcEEBGL2uBAOIrNpZFmLeb7vOCoxNgZ+vPQsPMzHd1WAGxfEddmEh9eccddwQ8fKKYe+ihh7BDp8tMZSwul19+eY4qwilTpsAFhQRTvvli9GWXXYYHB+LFtRVm7Cxw0gxpCScH3bbtZoz0Y88GiqwB1h5MXljYkFLkKznI2rJm+VFdYavIdNAs4Xf3jcU6XYY8kZG/bvaA6BjGSbKYVcRJxuYG40o4lm/nMU3jeRhgV9h+lm9OhCgRgpIv+0TMCV/EkM50sOgAikLWDzhWLqcgi26tlq8IGATQYDDjxZ9UTcZEAV5JfAd6aN3LGsHkzPzD7NfOL69KsBI9z5GJUcfAruC8+Mt2U43IIiq6wQKG1UvTiQBLsm8FVVtPAqLBIT3rd3x7Rt40Xrl8CRb7NlqFkIM9U9IDiUWDjdweaoU5GuQgPkp5tYqnkUPU+bIr2gbIRZ8iDCCAolmGGIFl4JZeKgLeIlCoebvda+Qu2B7YMZ6EmXyQ2cOxRJSV+1zkSTebNkMJVlOImiRAFAy1Qi+GKKVon0ZNmpLqtvu4FtsjOQmI6AJ6xC/gYz1mnYiyQSlm4vjJkAwZjhU/V9EpmV5hV3Q531OZMZuNKhbBD6QzZvr4ycpUEZpWoWhAjK+OGwwgGvAfARaFQq2vDAKoIFl02PQ23SGbLKUFEFwh7cZcifcXlQ7yvNKq9qciJVjpxwLygbKZPT1SUA+f7zgdgwpAUAKaclZoI6wS4RaChIwdhJlhhgVWuYv3IHz4gMAljCdycqRHPBWI9wKoxhmOXNLArtjXFsH1eRhKlmAJIIivULjkbrOfC9paiCIQQEDM2/kGWiC+oEtedrQQGefngtpGsRBNxFeIsnCvw2bJW3OOghBQgpUGWI5III9h34C5lbeOQ+N0DPGVcd0uFut0CpEVrwRvLLcaLdbjFBuahjIpmekg9G6WSNgM7A1ROWQrSzkZ80JVmUewS+MoTS4OL1K0hzZARGhAirxNs0COKyFYbIXhWJjxcVbAH3vepnBpgvZEoATzdhtYJmoWI+ZAO9KrMK8t9uls/ERdWOsVMymwSrCSIYZtDU8zzwoyT7xb1dp8DwshJFiwKPQviKxgBryrPP28DMgqkuESIzUqM6orgmBRuRwqZFxy9KsZo0/bkkBMEaSBXpmOGLZV/30IBBjQguhd+TZY33ergzhu4NwoNm08SCZeA4qAbwigFCtzFuLV4McEjpbANyjs9oAJby5bUFYBVIdFLDF2dZ6E819HPelYEc3gUBiHsxBf8e08hCX1ZVfIOZgF8AKCQAJ9Fs86GyDM8/mLhKCgR5/3HwlWEeNCmbQZjsWZGvpVUBWOYhGeyQd8qmVXfBWHR7S4yb0qCZYgjwRUnGMhanWMhd5SBCpEALsR2amW2QbREpZZY7q6xCyVfRrn1tmRpiukXrlUghVrvNgfQERYYDD0YaKPlce/RLz8YlyFxTrPOgsVuqQclYDuHnOYDgYAtyvINwyCaFEkUX5pmzkwhFoxZWDPXlC/3Kjad1EOwq5ojB2ZYxgWiwSXX1VbC8za2N6Ic6yq2pAjnlpU6yHABq9840sIFsLdMv2nZBk4TJZZC5g2Mc+q1qgjSy9i5lUJVhOg4ARM6BwK48AaJ7Nqx66wuMRfFE8zH+3hLyIrTnMMHz4cXoWWszR2JSiDHvLhJohnuM17C8dCMof2M0MxcbMymbIVQ69KpZWzK9gztq5FO2Bjj8EGPS5ABaSDQTLKtgvmAirRIhWBNAiIeXs55wft9mE5zvay0KnVri57GD0Je3t2p/BCdvvZC/S2hKI2u952OH7D4CKYW6F1gpGgm4if0YeU8EKEVYhhRTcPCWBlQlUvbWMiwLy9IFNoR/dFS1ionTKbOXZIcGK8ZhRKeuDczGhwbk9MgrC+4kEtSL1rxlTMsAoF1tQVFeAsEgQLYw4CUWk0XhEoHwHM25ni4DrlV80Mz0bak7koTveZSdiXsgyxR+VFLt8Vc5xGZk+jBCscQ7QtsCuEvZy2rXY5CW9fRKz4rIJXQaF41bF3DrVY57GG5Ri+FVFY/tG8/xgJ5V/u9iViaY4iUhyQFqFIQlYEu8IPAmrBIsrfvjexrqDRUGrGOlbqDImqNcMyDWfDI5+VLVpiZ2rUgCLQFAFE2sVZQLprZ2PJSerabTngVSwKxvK9OPMGN3rF3VWCFcQWPQvmVpCPujgOxSpFeBWrLCo/eBWGYqhRgh2zrhHLsXuwIkoKQkqgPjS46E0eshzhWLl3E27KoUvMHbw6bFyajyhPCBa8lpHFORabn/JNXkp6W7SaWiFQiXm7QYiZn3cTmXqNhFjSeBYFjgaz5ooTB5ii6VQLBJRgbRtE3hCkVizMWN4hcd12w8sQrRUNIKILWguvYvsSR9iGDIm30c3AiuuxmGGVsCjCgVAkIWrKy/YTlTGl8XgguALA4iBKWjJbAtpWDuETFWHSFhaR3pxpIFC7RaUIQLTMahFAP1jCtOboI9SEqaCm7wLnr1mSEGUhLKidHM4xKEqwtoKDTAUTFnTYSD58Vgaj+INU8eMpZL8Cr4ILJrW7R3xV4dkNWkvjy5mJEHKgSII0M6yOdyDOLaSDsCumMA+t8XLpYBwQSIONF2QuZuKik7GWMBzQaHbA5eu7i+6dll8jBJiZ2bjivqfCNrMc8EELLFArbEOWqmk/bzQcC8k0HKsqEUCWLjTmVYLVgfWJnzgOLdpGuHEA4sQgo4JUscZDTZBU8YMxpFtR2OLQR0qIU28RaSBY6LOKKDm0TOFYyF0wRwtNECcS8TWzJ+98oeb5cVrSmAazD6h2aXJ16qr2FGEAAZi66IJR6Pv58gYarJctiUCF5u0GT2EkaDbqS02YXrBvYbJlY4wUoAUsLNuaYLE4sXbCmjlP5+E3kmBU/KBWeB6Cl0ARhg4dmtGqGvFVFqphXubUAXBmt8cB3XQEMWm96EzhWBwGJpCChdBOdlRU6oObq9C+I3ktU6LODOiPBEsAYRYW51gl2PiHDoFGKgIsJT6wAaY41ov6Eix5kLB2EFEWAgUMPIo22C306W1TgsXIIbWCuPjmOJSlQjSA/MX6D1ETShACuTwE9Jryy1HPORpMp2hJOQSLZoAeHIsvuiPkSDT1sCtFLcixoKpOBjkwlFtY3GMNVqY8Elmgh35roJj52ts1RV4TKAIGAYRGiFFT7N9MCXkFaAPODqv9nkQufWEfjgcc1mixfK98zUrdqbYjWKjbGDZeCbRs5XuEixonTn+IvAqRCesl7wlrRhyL9agCQ+MrF19Jq9id0N9yjLKlRiBlJySOG2ISOwRXcFyEIklN3EKRLyKS7QHiK4SaRRQeVaaHEixpKvsQ5JQA4i0bjoJU4+uOADsxT5YSNpDoB9gCeXUKJ/X4skaLKIv1Iq+zSqkbky5jGxEsnjyoFQZADJsPpsqoWkQDyF8EA+ks1uOPOm8dciNkOfGzFJQSysJAFFR4VLHMgBgPiUG021gHL/AIrthCoTh2p4yqq5x4yATEMS/pZsw2e0uwUJ0Lx0KhUN/9bsxR0GT+IMA+p3LzdhsNNucY2rYGwaJfLBaYZ7DdFX+k3m537SGww+1CsBDeYG6FkfKhhx6au2TIBrRpWCzWkY7Aylkg4VUQvphilaaFOxKgTvLkgCSdhbiUv83CSAJJPhzLIfXhOeFlRnxYraWaYxzlFmQRgsXU0zRlvgm8JVh0E2oFxxLnWLWbiPMdJi2tNAR8MG+3O8uCwrfnWVPsyFqH2TshvsLKDTMP5vB6da31CRZ0HnkJpIplNZEJTo4PJbsc0QDylzC8Cq6DjjmjxXr8FkIseEAPO+yw+FkKTSlawvK3WfIVHcwUBg0aFOggAk4EV9Bf39xcBdoplwhikcmVfzIDUatXpwgD4PCCI6NFF6yOGwLI6GVBCCC+8sG83fSOrQWGtsxj5U8Opg1FBJju6Bq7XywBmL1LEEnk0otWJljoeqBWWDXBeSs5YC8W60KtmPrhVeywS9bpyFOC+AqRDKtjLg9N9kJ4VSC+lUiJGII333yTTZ7tDAzlKayLzd+wYcOy967oEnikIVjIYouuqLF8nyVY0lredN67OLrgxt5pjCKQCAF/zNvtZqMlREPSYgSLDiKixiiWqU/UhWVa8drwJgr7suImanTTxGyyUQiK49DyD2+j++P5Zs0Wi3VmfBh3heQG2QwEq3x1kmOYxHTRkaDQWwg58LOCUFN0puja+DFGlbDwFD2ltZhyV6Lp9p9ggafogpFjlf/upxhNzVJfBPwxb7cxhGAhWfBKrmY3L2OYfrF8oG0Qy3efzWTpaQsSLBgu7ArpCN9pZj3IOJwxs2OxDqlCWMVfiDbCKrRRPAcxsxeaDLsiXjmvNjRABD9AxFiJPI+nQjgWKlrGC/Bhn3WROWO7hvCvEvEVQMl0BmX3fF7j7VPHDYXOKlo4xh7YXXAUxjcoWH3YXbC9r8uclhRA1EHM2HwTVkRZaB6SllBa+pYiWOwnYO5Y9qDoKce+B4qApIpFGlkxai9GGh8ksIfSxi9ORYivfDg8GGgq7BPoKiFYtAS6yU4IjT6q/UZ7rEBTvbpEfEXLK+Q3VO0/wWLIhEMzIdTLKtarh00b40CA5YY537fZXhosWkJPTjU5MMxyi00UTAvTDuZw294jS5m5520RgsVSzUzKloLzX/D33GGyCzQW6yL8gFSx4FFpaRbrdmOahtljQWJ4EJumLDkBcxMzFNCVXK9Ux+4HORC1i42qV+I9ByA851B5zMgcaYq+JVrCClXe8TsIUJjEsgQyBcfPpSkVgTgI+GbebrcZgoUmp7UJFv3FqIN1BHUhJh+cNCxHqmLj3DRce4KFQSsKQRYe9qmFWr0hcTUnAeEr8Cq2yFUJYJqOq0mA+MpPds+LwadJTTtLC6BiQ3CFghIhM1yBALoknLzXgjGI9VVpWIVWBGjYONZC+wC1MhyL5y20OxqpCKRAAN2FJ97bQxvP8sS0RgsrsdQMbVJBkczbLMSYwYi60DdOWWOChSQJqRVLDtSKL94UNH5isY6wioeVp7Zyi/VE3cTMH4VO0SK9RE0yiXkxkBshjylTusamk+0OsmXzHhJgZIVjmbb5GZCHsNBdRJyOM3C+fY7Q0WyeLjgWJilw6LrIKR3d0VueIIBmwHN/tgixqjqpXf4YYXLNm87OWSzfZbf8xab1T66Zv+jL9z7/Zn23jl0Gdtv1z3r/4KCd9i6zeR2hKWXWl1ddMFaoFbtS2FXum2k26GKuzl82wfAqOIonFuuJAMQfAcoRbycC9HS8CeV824TnHG094iskyY2UjlvYFVWrems6sojBmUcqH03IKNsMfk0b7E8C5LisiDjHqtB2zR80tCUZEWAymT9/PubtfhpgSe/YXfPMO5wqZwTBz+yos+g1lkLPbV467Z3frdv8VaCdP91t1NR9zghEFndZPwkW+3gEV+gpWA7zJT1IfUUJiFgFRsUP5ZrPr5D7sUBtiv608vXY0UiGj5WvBILFtgbBFdVF+arAzn3JkiUQPoRbjgZXeItZAyM/H0ZTVIQVQpGiauSU4hyr3dabFFhplqYI+GzebhqPBAvBLcICEeeY+NYOcMiM/fPT7758+de/D+3pAx/P7rPDzhP6jw69m3tknQgW4gf4KbZQSK3y2kCzF4GxwUX4ywIGqcLwGZFV7kCXXyBCPqMIK7/2ODUigEQcEidlljRIOvmxp3FbOsuhM1KWQPhSdAeTVU9s6SBYSPtSdKHaLFBn1ht4dk2/Glstelq7jQC7Hc+nVlrLciZnCd3znt2v1gizfM/t+WGHVZG9+eeP/u2C/qM7Rt7P80Y9CBY2H0itMKCBWuXiPBCWBqMSeRWCDYaEYj08g5B6qCGjsEZIQ+oSSsjIUs1ug3YWZIDM7o0FlYcnjpsrlEfAhVIVs1DfpiS4sqiqSxiUplWwIa6RDZbdHWTeqFmZSZhG7HgNKwLxEWBqRRoKd4mfpaqUNBJFoW+zWQlozF271FHLum++mr922fCdBzvS5HWrBgSLvTtzIk8JjkMzSjtZyyFVUCuWXoRVlMmcyzKfF5r+lIPqzf89FnDBbtHfFUGwMPCEXTHE8QU/GPPxPHCwH47F4+HJaCJkRa5GwzxpD+8LC4wnjUnaDJFTMr6VnxVI2nJN7wkC7PN90NTHQUO0hLXwWhenO/HTfLBxjTvxJxs/dyfI667XBAtVN0sLyx4ngFI7ROCMmGgA4VUUhbAKHQHrel4IelgO6x9CbH8+7eyACGpVhERBTB2xrEqq7UWiBpWRQ4WpHzlHf1PcYoPB4+rPEwvBqqkEC/ChVsKhkQj6w6FTPBWapRIE2O0wtUaZclbSJEelSOXhWGw168IIHX2p6S1PCRZm5qyRzOOIH5KukTISYrEOqSJACUymtbZYT/R4oVHiuFlGaV+iGlMnhjcgwcpxj8Vn5BFc0XcmwXQIMCVhrwPH4tAZ63HqruWSkVeAPQYtyaW0XAoB1foSLBAwHJrvPajjhlweifYphD0/U1bu59aLA5C1Dy1huxGsPbvs8u5XnzhQ7delJAWFdwQL6QsiDRR52EkkFeOLxTqkCpEVJn48Wxgsp+NnjrHx/BZkBYJVoz0WQiw4Vi7iBKY/HC5wkCSjg3gePHGOVTmzgV0xOXplHci2GA2752+Bu3lwaLZb4hyrJS0E3N3Xu6kRqIV5u907HnU2nKyMLIh2fGuHj+451EGwenTudliPQeUg4BHBElsT2BWr48EHHxzfY41YrAuvYrVmqaaEtt2bwq54qWq0x2LI4NPZJ3U6ewAAQABJREFUCRbzCERt//33z0WbBr8XjlXhQQE2GxCsqr7rHDUBwUjqeIow0B1EvMALx1LHDQFk9DIKAczbWWuYXaMSeBiPvJkJtt2EWGN3+9H/+ORPUcPxN7v/pFNZdLNTVCNKjsdy8NVXX+XxhVqxuYzDrhBTyfe0ORmEHhCpw/Dhw1lf25ldMWqiHyx5+LJUJ1rCLCXAq15//XUIOnK7XNiVNAZbPbZ98LYsbcuSF3aFCNY3T2y1tsGyh4N5hr4g8rQjNawIRCGA+KqOJ/JghEgfojrVkvEH7TTw2n3H9ejUrbF3OBotzQkWtVcvwUJ6gdSKlYzP3cC1GxGxYxAqkJ4fTwx6E9JjyIxRhZ2mncPwVER39QKEQWRriFlPOmUN5yXh2TwGRcx9YhBdhBl+06cUTNB4+ia+otnsieuuIjTgVzi+pg0aqAUC7N+YXetiemFDCsFihrRj2iH8F32POq7XQZV/KqdKgoU9MksXwifUMW4rPGzehVex6qBL4ocZcuUGyB4+poivsEDysGHuJiF2YnyTOo8VN1dwbma94qyUZA2GVaBUcvci37uIr5DFpiOd+bYkUBrSZRYbfq1h1SHjq44bAqOslwEEamfebtrPs80Ey1nCeik3TftTB3ru0P0/9Pth6uy5ZKyGYCGugFrBBqBWTHChPcHOQyRV/GVOx1adxFCr0MQaCQK8Qqx5dTTqR4iFmi8RweKpQHlHlqJtpJieeETFAWlpMxQ7CjTgxX3CPOP7Au2D3bbGDkfGFzMDAnV8dzIOpWaPiUDtzNvtfjFxtSHBshGoKlwBwUKnA7tiacRxaOMcjVhLeBULDOsuU16b21TFfzLq4ly0sUcMdCJTGFx4wM6xkUrEyRrrjRmDQyw4Fh8r5FBhOepXUUp6KyISTw2NL29MPH1LJuOLwTvjW5wo1Ldea3viI1BH83a7dwgmVqxYYcdouBwESiVYkGiWRg64YYoe8OIIncKsih+CK54GLNb5dk0cU/dyYPK/FiRAnIpya1q97QWshcaj7Gu6ZpMMKsaDwafsmybOsb88k5h5iQPSok9o8hbQzZI1komwQoJVa1dYjZ1li4/Nuzg/gz42JtCYdkagpubtZsiYstg5MLGojNZgUk4gn6nk5bVvP7rqxQVfvrtm07odOnTaZ8d+f9Zr2N/s8efG8wYqD2xKWDawEDJ6FrFYZ9QRWTH8rGHoRMqREJQDbpm11Fd8JSghxIJkuwkiZhCoBZFooiwuE1upCyN69GKyBhdK/XHdTh/L72D8GiFYLeCpIdBfGC0z0rJly9RxQwAZvYRg4Za21jiIllAJVsmDmAPB+vUH//rfVvzBbveKr1f/r88X/8uqOf/v0PH9Ou6MvgM/HCyK8nU8yBakitUUuSvjDa8aOHBgmdIIu6mtEeagABKsKGu2WvQRM0w3wVq+fDlEHLkmVKyqHsF7hGMVtwbzpsBdijgRmSNoYoOVY4GeFMX2D0UhIlKklZ40SZtROQKwK7b9Rcuti+4mBAtDw6Jr0fIDCGT1g4XsKsCuTAVvrl955Zv3LViwgOkY71ZQKGYuLvnLEsJchtsqOAHaQGVXBrR0Ac4PA6O3JjtxOgVtgiOGpoQ+Llq0iGeG04IVsitpG4okVEg8w6FNzR4p1lfZyym0hNZTERq4mJHwxoclg4nRQJsjUHf9oAwfBBGPeuxR23w0S+5+VoL1P1fNcbT4+Q1LN/XrygI5f/58SAB6QD7bjPUMThYqXykdza7XLRSvYOu5UqkppNjkYdbD2hZIiTE7TkSR6CBUKFQxF6jXcYkiG8yLMBplHNls+C/Gb2GCxbjDsZAjMhaOZ0BvtQkCYt5ezmGaoiFFiIXuqOhatHwbgawEa8G6Jn6uF29YiXHDEUccgWE7KsK6C1pt7DwJsxKAMGueJ+1J3Qy0hLYQC5EVBjHYXSG48s3iG98Q7AWxe0vd2dCM4ro99JZXkTxsqEq9alKOjYHjwrHwzairUY6o1rQoxFduw9Aa9UvMsGrU4BZoalaChVW7G4UddunOuHoie3A3tY53YSF1N283sCPUxAxLLqEvCK5YyDk5HzhwatJXGKBhrMHwIUQdeTUD23Z6WgvJLt1vsVOEgUFkIBhf7LGQvgdu6WVbIQDBwvqiNbrMRz4wb7A3sa3RL597kZVg7dCxieCkS6cc7Oh9RrDatsGu4K+tIReEW8jLD3FhbcNKj9MP1cLrqJ3ZijWYQ4WGFDoSN70FUa6L+Iq+ME3T4KadqnUCFLXY2/EctrCsrtYDVELjEZ+3gHm7DRRPNc6S7BgNF4pAVoKFRwZ3+/p37eNOoHezICD6wSwl+JMXysIHWDjqAmVBLei/3QOMkFONcCy842aEEXYFUfZQVhfar9ZWEZouo5jmIWR8TYwG2gqB1jBvt4eMSUYV3zYgRYezEiz8XTmauHPnHY/pub8jgd7KggDsqnafdnb0F3Ub0gKkI5jrceDFkdKfW0xYSNpYg7OozHC/VCPxFeC3vIrQPGAMLuLh4g6Nmoo04BsCmLezcfJ/m5cIN9nC4SkpUS5NnBqBrARr3O7HDe2+Z1T1/2mvkzt1zFpFVOEazwk7cS3WAlBgU8wPmUHtzPVoMzRr6dKlqUcBdkUhNdLzQoKzEMrUQFWSkeOr6rihEuSrrbSVzNttJFWIZaNRdDgr++ncsRPeRI/rfVCgociuJu39V3+7x08C8XqZFwKo0nF8hZvWvAqsqhx2iqgFkeLgvwO+mItJU8l9Qc6BKBF7nRT1sktGElmJb/oUrZUsbaIiNPhwaBTxKvsZE6OBlkeglczb7cGCYKkZlg1IoeEcLND7d+0Lx1q24aNFX67gUCFW7dhdoRlU2VWhI9cahwfhFnz9Br9oIopj5UaCxdGtulgjmSHmy9MIsRDC0RcTGScgykFkQnESe5KmfVSEAjijw4GGxYsXo7n230uZJw9JYzNuuOEGIidPntx4y8SgbZ8yZcr9999vYioJYN7OFFQjoXJ8lDDb54QK21r9rnl80FKnzG1aH7zj7vxL3Q7NmAgBxDyIfGrtoAV7dqgVXApHDPYHKOUsYe0IFsMna3Aiayq6j0OKQw89NNHoV54YEszwMU3XTp+bGjoeSDk06qffkNT90oyhCLSq+Eo6K0KsLATr2WefvfXWW40kjAIvu+yyww8/PBTMvCKh3Vjon3/++XkVWEI5uRGsEtqqVRgE0FZgtWMuaxfAHQOGw+g3OS0YaDyRbB/raFsG20CXhJwDT5UxPyYIG8MFfx2/cYQQq60IFk8psiv8hqAI5nMU+nWvwGub1yVvUOXiK7T2/FrMvN0eIJ5kZO2pzRIYoEceeeTaa69lsKRY5I4q2bURNmElWAaK2gSQ7iLBYj9dmxZv31A8avKtN3RqoSwEf+5ItrbPUZsrVEhMOpiUsQA3NY9DdsVQmkmqNp38tqGiJayXZjM7wvic5CtJwrGyl9bOJYgqEARECnL99dcb+cfo0aMff/xxbqFSHDVqlJGUnHDCCT/72c+uuOIK8nKXF+fqq682cwhfY7v99tvl1lFHHTVt2rTU8GK3UGvlQNOOoyVAAQKJxHK0aeJAAhD+xS9+MWfOdp/IK2cSO+usswKN8f9SCZb/YxRsoYiv6ij24K2GPCH5QHAV9W5DTfhxkNjWGwYh8PgaXRLTDdMQzibcXUikTPStxxAsfGq0pJGKG2oONCB8hWPVd4fj7mA5dxF4TJ8+XegR+jhIVWDNlmZcc8019957ryRjfZ01a5ahYshR7rrrLrHoooTx48f/9re/lZWeW1OnTk3NsSgNRXA5OFRVi2gJ99wz0gNAVMNuvPHGq666Kuou8TNmzLjnnnuEN5977rmGFUGXTz755Ouuu45bcGUGjpS33HKLKeryyy8/9thjuQR/aDR6DFLSTvOcoJecPXu224bPlOZLAFsK/dUIATbQL774IkylRm2WpvK2vPLKK3wjuWnLIWGQj6bJfE4ACV6wYAHH+6Mayam01157Lequ//FI6bCH8L+dBbXwzTffjPMkF1R7TYuFG/ELbfwFF1wwb948ucUyLAES/+Y3vzHpn3nmGZKZSwIm5a9+9Ss7JbeOPvpoO2X8MKs7Wv746Wuakpd30aJFKRqPa2VHLsbozDPPRAQoaRivP/zhDxJmsOxbpGGMTErSmDApKUdy8VSYUSYy6vmRxB7+zeqmwRee2DbtkMODtVPNsBpBm1ALIgBoOlZIsOvorMHuF7okfsg5eOfteBOutfiKXvAEto8rLDNqJoD4Sh03GDSyBwYPHhz6ygfO5JIstK6HH374xBNPtG8h9BJ1oR0ZJwzB4s2Nk7LWaTBgQEXIDjDfXqDPxTbL6G0nTZqENMtUcdFFF5lb4lDeXJJGwqh6EUOKKItIFMdcEmkKqVdAVYR1Gi9Wa0Qjw4a5vOf71h9e4+XLl6NRQi0YkxdihgU18a0jSduD+B1BIx0RtYWdnb0agNTailZUhHan2ipM9xlWMbZDi9FWfc+ls7YaiAKXLFmCuVWWkseNGxfIHsrYAmkCl0xWmEXW+sUM9MhxyXMLy8n3OBGuauzpjjD6FtMGQ5uI4daIESMmTJgACbOzPPHEE6eeeqrJQgBW/frrrxsTPfuW/2ElWP6P0bYWIr7CdiHKemlbOm9CTKMIrpBacVYufqPgYRwh5qQhTCt+Lg9TcuiMbbSI7uzmYebv83es7aZGhWEY2NJF3W2HeB5RddyQeqAxurrzzjvNqikuslKXRkaxi89SAnmZr2yZSsbSPM8OwWIiyp1gMbJ2x4cOHWpf2uHbbrsNsyqMupgkjQEWCa688krbNosYbLnsjDUKK8Gq0WB1gGDVyLQWYgFJwtY7BU8SLWGKjL4NJ5szTDpWrlxpDkUziFDkpmcMfetIoD1triIUNNjtCIfGJpqTGQGI9DIKAZbVk046ybArkj344INZJFgcG8RiesyYMVE1xoxHtNzy5u0GCp7eZcuWIWVP9OgycAyfLYsyBRIYOXJkIqZLOfzgtRdeeCGnqmUEb775ZiLtYusbLsQGi+0IYxAFSoDhRiUrKL7a2rN0iqeQTXMtOAdnABHqotDk6zfpGkwuyFkWuPzJC8fiRAy6XZqE1Kfu1lcCbJurCM3Thb0OMo8W0GibHpUQQKT95JNPmoqyO776+c9/jtjDNrpitjTlOwJ/XLPw5vf+52Vv/zP/rlvy4GtdP66RfsDRr5i32ObJcb+Y6Ul29tlnc7QzKj2wx0TeLoE3CMstkVodcsghjz32mH231mGXBAuedMcddxgRHxLFEry12mjSAM7lmpiJEydm36OY0moXQPIxYMAA/5stbq7Y2WexFUWChTofilZHbxSBMULYA8fCXocARh5Mam73DYHsfl5CsNrZyN0eFGST4hyrRtJlu/3lh3kdLrnkEtnrsqycdtppY8eOzdIMVmgUjnxjR+gCZR5//PFul9/Lv/pk6tv3zV+3LFDvY4tem7bv2QO7tb6dOx1f2OWjFz54ZuParXKW3bv0PmLnIX++y8EBQAKXyJaQF2I7ZTshM2kQPiGLMo4ViIdvhWpdhYeZWzNnzjz99NNJzxIP07KFZFElmEp9DrgIFu0+77zzjNsJ9gccszS+RoruFY5M+ISILW80GxSIl2lV0c3wpHyOLOEo3HO9EisuakEWG4ebq5h40llYCGaqnnc5ZncQPXK8mbP98MVG5/UxC/EqGQOkBMuMyKBBgzDTTvElSlNCmwQ4Ryw9xT2S8ZAU6LuZ8wOT/FZl0vaaI5OSElA4JpKEhbIryoFyceueYRMDrWqxy+345ervOnf3h08d3mNwU36JgzEUsoFTBTIWDBCaPnMLpsvJwcCoSWXY10MnDMGyfcPi+Qw/WCInowScvmKtVVP8mxAsu1dsO9hnwDTdOwM7S5YwMuSApzgaIAUi1gq8e1kqqkVejAM8/zYOLwzsipchr308Qiy0hK1BsHjG6A59oUctIJOjO2qDFZg3eOwxthMnwIFbeikIMG97slKiGWyUXZlh4hYJmspyTPo6BjLyS+RM/EI7HnXLZsNkZDUPdS3LLVhX6HOylV9vz7BDG+BVZGIbLHFfQR8Q3CEnZBeCpJdfwOgKGstduUWagB8LthomI+KoRIiQ8YUXXpCSzZbFbomJpFgKp2qpq7EiblFOotorSYwgB7GQz19vwIgb99aoBXNUYoqdeyWAF1EpI8hLwZkdBLEtIPtRFWHgIQEQzpPzDaikRi2BclrvkgmZaZYz+ZwFM5vkarv58tqtH9tx/JomcOT1/1Ycful/L2rRwgQSLPrDoQPjowIxIG5V5SQIZItXyD52i8khjFUEgKwoHD14/vnn5RJ6hLbV0CBUgaEqP7KEfu5AXtcAHbZ9adASzjLIm8ye6aWXXrJVwmZUaNWll16KNNLEeBvwWXyFqzoEVyiM8M7Fl/hyxBA7d4zlW+aLwnBQPGNh3othGTbRxrQxR8TKLEoJViPa4rgB20G+Bt0CZnaNHUwXw/6WX7q8BeX6aONn7pKbJnBn9/xuU/pIgtYW4JU2QHElWFAoPqVJs0QwiAoWpak5Zwtzgl1JAmk6X4YSOsUlXOfv/u7v0C2aXtlKRvSAnNE1t0yAeM6Rsu+BfhnrK3M3ELA3RuyT7Lps77Eml4jfkEOaRppbvgVwfCeSD98aRnuwDOO0IKImDIzyZVcUjiqtZYRYX375JYIN+fIXQj70awj8PBzQ+E1SFWEoVmiBkeNCoDn9HppAIxWByhFoSh+bJqi8C3VpQBOCxSlCBEL88GZEl4xm9NVXXz3llFPsTkK27JO3Bx+83WEELpFzSHrES3ZGwlEsB0Mr1LSc20QDyA9WFMgYesnXFYwekwShWlsRv9m0LLQoHyI5PJivL7i8OoV/dhQiUKsUXwyN2QaEWCncMccsvMxkuGbA1SpyPqkUXRIaQ2yiy2xDvnXRF4SLSOPyLbYFShPHDU33hC3Q0/p2gRNz7sY3TeDOrncVAUGgCcHiFCHKOH6///3vA3ZUjQgiG2+MzB6DzIwGHHfccZwsiCoNKRdSaOGCF198cVQyiYerEeDreO5kPtxlH+yhfhDNHR8KxZCIA3EImYoDisJbwBsWXQCxAA2F3MMdcWlRHHpFl6xawiiEcdyAuhA5VlSCWsQzqfIroamQ0ZJ1iPgjcPeraQJ3ds/vNqWPUQla+JEoaMiaECxTK3IgXgObY6G3MnclgDAjEJPjJW/gL3/5y9ACIUyc/sU261sq+DiuOEKTmUi4GqZXWInFFImZjOUHRHyFOqb8qqNq5JwU7IptOmIYI5KJSpwxHgkWjqM2bdqUsZxqs9tu3E1LYCdwLAgWPkhNZL0CdKHuQ1Mc4MxI7EBqLaQsDpwUJedL9TAwwh9BVDO41doWSE3pY9MEUdCVGZ/vI1FQy+MSLKrna0FYhUs7UNs999xzdps4RYhZuolZuHChCROYPXu28YCCkbt9C5YTk+hEETjUiPYGqKkfWBKL0Zhx12G3x58wKhivTn2zYLApZ7AQXGVxIpoI4bq7dMf0ChYSCle3bt3gWEDauFdJBFFVidUMy418Cwgp3R3M6y5AmTNPUWXaHqej0iSKx9tTKMcSR1CJiqpdYv/5ZSWPRBHjmIBgIcSi2+KOAbXd3LlzjWsGFl3cgtmm60899ZShTci9MGM3HAieZJvDo/jDq2+gb+Q12blFGDEV+kpJhvMxUzUxmFqbxNRFwwKlhV5iNHbCCSfYLQlNVmEk7MqfTzujz0JwxVerOC240047lQZL3e3ckVE5PnQNfeSdgmNxlKE0SPOqCAkWe4C8Smu9cpDv4hwL87vWc9zAbMx8LiYZNjcinhlY4vnLpZmZmbFJycFwc5eTUmbQiZQw2U3JRMr8TEyjax6ym5R2GxBsmEIcQg58teNN9L/t97Nz9zh+TN8j+Udgas9/98uBP2sHN+6588sWeCTM05hnADPVqB9eGPjZd7Gygh5JDLZBF1xwwcnf/+bNm2dSksu+i8NW+eyJJODub37zGyIl669+9SuT0QRI/33B3/1PFnOXuo4++mhuSPO4lESUydcSnnnmGdNs4k0uCQRiKMdueSBxtZevvPIK5jvVtkFqx5gdlJgry28MCHCiovx6c6kRxGClTYtCEYzEF3u7pim9SsBLin7TqyZ52BgO3LDl8+RFToQPs6iZSAMZ7fmcGdVcEmZRMImZtJmQ5ZJpuU+fPmayZYFg7uWv3DXTMpGmNG41JjClMdubu1T6hz/8wRRl35LImH/5ntWLL76ITj9m+rone/yDude/9dD//dY/8e+m5b9/6tMmM20bPhIZh7hDxvyavSAEEF/xZZWCCo9fLIfd+AYILcHfVfxc+aZkUqYZ+ZZZTmlQQ9bXOHVx5ILJPU5Kf9IgeOMp9ac93rYEHrBgwYIK36B0yDhWU7tAWJTZJNtkS9IY5gTBsrkXdymfyEAyNvCGNtm1mHIkEgpl8zDCxJiiTLF2CXHCvLAQLH68jBxMiZOlvmnYHeEkMtEr3IaPRMbxTaAizFNupmU1Q4DnvvJv46B7fe2111AI4hUzdzdXzQDYdr+mWkJGECurmJ/6wQEpiet1tl9tsLY9o84QFp/84KPOVHW9GXCLg8o7qicci4m6ZeIxNcE01rYAMbfsAIzKrogwrMgkCHXNY+46AsZ7GRYRePir9SFfRze5hdSc2QYVPzzSnTLF3VZ6JFJ0387i0fE0u1ltHsZoAzebGGBViAMHoGgGRiQxKUJxTRVvWD5/KSi07xjfgF7ordBIPhjMsoF3MTxVhibwLVJPEcYfERw3sHizpNm0IH5231Ji24TwQ2zL0IPzjdq8WohZFY4S77rrLrztYJvLZWjJvCnGbEsSZP80Aod4+NnVMQcigebFZPNjx9c9zCQDwZJe4AM5l+605CORHRklWNkxzL+EasVXGFzjFRaRFacFWUTz717CEpFgmekgYdbKksOu4IX8ErWA1RfdBHkDTrMSFVJaYp4Ns+MvrdL6VsQxamgBazb7+/r2gpZjzoynG7xASy+QNnFIPMce8RbwGQ9+rNmhX0ujLkgYTnlyrJSiAg8zB3o4noIaoWhnNPn2wl0aIiskqfapCwgWkRn72KqPhBvMOHdVRRgHpVLTYA+LyRE6hVJr/b4yDCCQjWOOivTFB3ZFu/DZyBSACcv3bfT9f/bB8uXBpA1FbMnqAr1mFJLmLT89KkLGpfx661sj7xRvd90VT0nd4qQeLzjcb3/729DsiM34hd5KHWkIFvIqtkaHHXaY/fWF1MX6k5EOLl682GZX0rbsWsJWfSSyj50SrOwY5lwC0ppKrK+w5uMDeSztOGLw7eM89XLpjggKfgwvTPFkIDjEzhcZvv25pxTllJBFVYRJQRbHDbX2LkuX07nFiYmVbYaItwUOFUrGgGsevElfeOGFNseywzHrCiTDXx28ChKMl0c2D7WTmge603gpTnb4bB0K6x133NEkyE6wWvWRMBClDqiKMDV0hWTEcTn2lYlsd3JpB5WyqDO/wK5yKTDfQiBYeOOsSqqXqC9IHyFYhx56aKJcdmJOFSDHYqU58MADy3Q5ZrchThiCFbBZiZOrzdMgHWFwESQQ6NGjh+do8C3agIdPFHMPPfSQuGiG9LAZwAF1jipC3DqgSJU3nfKnT58uEF122WXjx48nHueFSLYwY2dCMJ6iSXnRRReltm2XKuAfvHESRnbFbtO3fWYuTwvUiiM1Yl+LNQiBRE742uqRyA54R+QW2UvREvJCAOMn3nN2GHkVGKccttSotLAR8daQHN6Jq4gsrCUODrmkYQQRVGS3s0GUyKAw41d4ftMNCPMy9hwHHXSQO5nebUQAcQu+5Xwe3MY2t1sMEw58ztspMctwILJatmwZoiwpBLU1W+ssBWreKARURRiFTAXxCD9YVsvUD6KVZ7+INgrBlc9TCbsu7JOgWRWMSpIq4Rx4l8mFH/N1HZ4E5FjeboFQo+i3CJM8HdvSsnIzuNBTbwd3W1vbNcQA1d1aLmrokFoh8zN3lV0ZKHIPKMHKHdL0BQq7Yt1KX0SSnLxm2LNjKnTAAQfYKvkkZZSXllnA/2/2yQHAvA4HcJYQLZJtlVIe3DFqUhVhDJAikzC46H9b1TlWZLfrcwMKwqaOSbI+TY7bUkymOMYUN7Wmy4CAEqwM4OWalQNZmFWWpvXHdThGV7h4QR+faz+KKsx/O3ck7fzy9bCATyxmecxBioI1Q7loQlUAkwG/DgwuAPIaZilE8xaHALNx65m6Y27Lm+uzcWdxA1p+yUqwysc8vEbeZDyLluDRDkUbNrZ4PcDNVbW+TMOBiIiFYDE1RNz0IhqFAraxuTcFm2gGC5Od3EvOXiAztWoJs8DI4GIQ06qqqCzI+JAXqwmMKDyfdpIChUxOxVdJQUudXglWauhyzoh+sATxFda1qAWRfjOzl6aLzAUpbL1pcKIDL7nUG7MQ7NigQQWNIIOFVB//WDEbU1oyRkQPEmZBG/EkR4bZXGG6l6UczVsQAq0nxFL9YEGPSmixSrBCYSk7EnaFFVTRx7Y54MZeef/99y+IBxSNmjhrKLqWdOUX6n4dHgPHQojF5JiueQXlUjOs7MAitIZjYYzVYpKS7Mj4UAKm7vg65+dDY7K3ATNWdqr+W9xm76knJSjB8mIgij48iBoCwRVdRS1Y3zMjtBwjJy8GbPtGwHswpin0GCZnEViGMXj3CgEIlqoIt38W0lzxYEOgOTnPOeI0+TVPkQjAsVrGEkv1g0U+KSFlK8EKAaXkKDmoUpw5FLMDX7hjmsDTFSqJknuXY3XemmEVKr4yAPLVbeFY/nw1SFWEZnQyBjCL4Q312StHxg7WNzvyfqZo/33ExEFY9YNxUMoxjRKsHMFMWRQEqCCdHfYxTNnMDniDxK9SyvZ5kw0XrOhTvBLhgA2mUTTM9itTHGAIybCjZ0w9sXxSFWGOYy1eOdRxQ46Q5lIUJzngvh5aQCbtHQsBykFvHRcn7U4t0ivBqniYoAvoBYrQLmF2jVqQ16kWbq5iDoOHWkLEV0UcHowChLqQ5MGxohKUGa8EK1+0cdxAgeq4IV9Us5cmpu7ma9DZC6ykBMRXRSw0lfSlLpUqwap4pAoSX2EQjfMkPtiS/ZstFQO0ffW+aQk5NMDRBFq1fTOLvWJMkZlhslNsNTFKV4IVA6RkSdACYzEJa0+WTVMXiQCvGxyr1kIsjESRYJUjaC9yKGpWthKsKgcMpwMcHUL+nGMjMNDhK1qUjD17671OUBlkfp74t8Q3bDnWV42Px+DBg7Eux1ts460yY9QGK3e0sZLE4J21XB035I5tlgKZpdkM88pnKaTCvLArJk+YYoVtaMOqlWBVOehMo7y3ORqeMymjFuRF4iv3LfkuITLhPJ0nZlh8jBkKW5VPZEQdsPNqfVQyHHqKMPcZBLU+g4uEUh035I5t6gKxXuJlh2OlLqHajGreXgn+JX32rpK+eV4pGn28Mxx22GF5tRPTDWZkqFXJGqu82h+zHHpHNyvvI8MHuTFfpI/Z+ByTQW5YhnHKD5OuyrQC+19PzO1zBNaHorA1ZHAxeO+3X/8/fP7yy2vf/njj5+zE9uy6y4idh56x24+6d+rqQzvbqg1oCZcuXZrvt7DKAZCXFAkWH0YrpzqtxSCgBMtAUXaAzRAn+1CyZK8YP3g4EWWPhVowR3lY9oYVUQLUygcLFdrAhFvCp40cGIqPSuFYlTBOtcFyjE7GWzhuePbzRee9ceP6LducY73x5Yp/W7Pw3o+e/och5xzaQ9fLjBgny46sGvG5qB2S5aw6tVhf8bZW3ZC2q19VhNUMOVZEvKis0Nmrh6gtWrRo1113xS6n5dkVcIkEq1pjCAzdkD76sJcVUQcb60o+IqQ2WNnf36gS1m/++qY1j9nsyqRc+fWnV73zgLnUQGkIcIaXebu06vKqCP1g69nj5gVOoeUowSoU3sjCYUU88Rk/WQDJwFADuysEV/layke224MbkEhYRbXmKVhfwa5ykT5mRxRRx4ABA3DcUL45lEqwsg9fVAmPrnpx9abI7xa8uX7lHz9bGJVX4wtCgN0db329zh8wLfCFHP3Ac0GPhLtYJVhufIq6yzYoo+dP3pnXXnuNt33YsGEIrotqqJflMs1VaOfOKXrA90F8ZQYHeo0ZVvnOsZRgmSHIPfDql++6y3x17TvuBHq3CATkOGERJRdUJvpB2FU7KDcKAjBLsUqwsqCXMu+qVauQXSGGSZm/QwcMgFhNkVu0mJurmICIljBm4tyTiWsG3yasvfbai4eqZI4FwUKM6onXjNwHutoCV2+MFF9Jwz79Zl21LWzP2iErPPC4ca5L9/X8YIUjpQSrAvDRD6a2vsLt+5IlS5Df8PWbtpX6QrCw66/k/BqqSaydUg9foU8b35qk/JL9gKsQq6Ax7dyxyeTcuUOTBAU1TIvl9WcOrwUOrBdMlWqAVdVg6StaNvJsfRB+8OHeFBWzF8HNFa7Dhw4d2uaflKpKiIX4CllRirErJwtn+5lPaWQ51VGLEqyCoO7fta+75L269nEn0LsFIcCJIo65VGilEL9fat4eH6siUirBKgJVV5mpxVfvvfcenrtZQX1e4F09z/VeJWZYzFaIzZhec+1KnoXB3XlCOOHIL89yo8uCYJVvXB/dnNa5c0yv/d2dGdksgTu73s2CQF2EWOKgIUtPNW8WBJRgZUEvcV4UTCk+7YxOCkcMeLbktGA60VfihnqfoRIJFpKhMr/rnG4QxA84dLwcMxGOWVTrMiMdSv7n+knvg0f1GhbVzr/oe9TBO239MrT+KkEAU3ckWEiLK6k9ZqUbNmxA0ta7d++Y6TVZ7ggowcodUleByBWS+lMgC2pBzoghmUBa4Cq9ne6hJ2X6KPP79hxNAP9a2L0BDk8LBu8lLACqIizutcOb6El9Dm8s//Rdj7l233GN8RpTGgKIipnJPfeJpebtpT0PURXl4EY8qmiNDyCAIIrj/ax8gfioSwQD+Gcn14EHHsiSGZWsbeMR5rGJLI3xIL4SK/JaAM62ldbCsQ444IBCzfX4Wo6qCAt6JHbuvOM/DPk/Ltjw4fy1yz7Z+EXHDh326LbL8B6DB3brV1CNWmx8BNASvvLKK7hrqfZzDo4Gox9sz2PmDkxKvqUEqzzAsb6KL76COsCuUIShFiyvibWqSbSE5RAsxg4nCNRYI4SwFUPCB8eCoBfnVAIVYSXHOWs0EBmbOmTHPfiXsRDNnjsCyG7hWAix/CQx7Mx5Mes1ZeU+RpUXqCrCkoaApQ5lHy9knPoQluCLAXOfgQPVzCISMByJlXOQB7c3jIhXnkUjQdn+Bm0GJTjW9tF5XqmKME80taxaISBaQj83GHp+0IdHSQlWSaMghwfZ7rvrQ9vCcogtPIIrn0+ruXtRzl2+vQpcHBooujrYFerImmpp2V6jxUMaWhBKECxVERaErRbrOQIo35mlP/zwQw/bKQ7cPWxYWzVJCVYZw401VRzzdl4Jvn6DKmr//ff3Vq9fBl6x6yjho4Swh5qKrwyKmP1xmOj99983MTkGIFh6ijBHPLWoeiEgQizfPmbA57xoUk33hPV6ANytVYLlxiefu+jpEYHAnBzF4eMKH9yDBg3q37+/I5neshHAwqBoLSHsiq9GusfObpKfYTgW9L2IQ09qg+XniGurykGA78Ayt6OgKKe6mLXo+cGYQBWdTAlW0QhvLd9t3o67gcWLFyNj4Os36rMk0XiInXuiLIkSMyiMXR2trwLdhAYNGTIEIRY0K3Ar46WqCDMCqNnrjoCYunvVCzXA8mQ4lGAVPhDuTztzFzdX8CrWP9aqwlvTWhUgWEISDg0qqFuiHOzSpUtB5ZdZLFjxjC1dujRfmR8PrZ9GvmViq3W1MwJo4ni5mMk9AQETXjZUmKh60p52boYSrMJHX8zbQ6vB9BgDSTwV+e8fPLT9PkQWJ8TCSycbwRYQX5lhAis4FqcoEJqayIwBJVgZAdTsLYAAQix/TN2RUuvXnT15qJRgFTsQPOuc4WpU/CFFwJ4d6QunBdUUMcsYFGfnjviKzz4yfFma51te3IZBGd9+++28jv6xV86rKN+w0vYoAjERwAyLnQb7sZjpC01GM/jyR6FVaOExEWjiNSBmKZosCgHMijGRDtxFpoVJO4621RFDAJkUl0hlijgfh5gdCRbynhRN8jwLu228ssGxOKyavakQUD1FGAXjDTfcwK3JkydHJUgRT5mzZs0yGSdOnDhmzBhzqYGqEOA4IRN7OX6PHX3kC6ScQNdD6A6IyrylBKtAtBFT4aXJZlHs9VELsrwNGzaM4ycF1t02RTOVsHfEbXG+eCLwb2G97YABA955551ly5YNHjw4+5MC/jzYiLKyF6UluBGYOnXqoYce+vjjj5tkhXqRNbVooCkCCI2QefMxNKRZTRMXl0D1g8Vhm6LkllJ/pOh/oVnY0NjfxuHdw54dQsCnS/JlA4X2wv/Cc3fpziQFM7bHzn8QkrYQhyCwIiSpSTM2podaqZ17IyxFxDz55JNnnXWWXXJLClntDtYo7MNxQvSDlUvRajRkRTdVN525IfzV5o3/smrOvLVvf7Lx844dOu6+Q6/+n3X/T/ueJhWgxsLXKJ++0ac/N8S/LwgtIZQoRz4k1lffF9+y/7M2v/HGG9CjjLI6tXOP+YjMmDHjnnvu4Vkl/VFHHfXzn/9cxNvPPvvse++9t2DBgrlz50pRKRR/EyZMOP/88y+99FIpgcG9+uqrjfg8tGqkX1OmTLn//vslC5cnnXQSH+mSS47FXXjhheauROpfBwJYg6xcuRInn1WZ1cKuODxY6MfdHd3XW40IKMFqxCRNzJwvlkx5+96PNn4WyPzMG8uuHnDm5g/WYaqCPXtrHPgP9LHySyRY+GjNqxmrV6/m08jtwIN5JlmG8cEGxzIrcQoYRUWYImNbZYHiPProo4avELDpC/ToqaeemjZtGpjAbEaPHn3MMcc0DgoECC2hJAugBz26/fbbjfaQ8m+66SZJGVU1o4/bDlPOzJkzeeznz59/+OGHE/n8888ff/zx5q4G4iCAEAvFBX594yTOPQ3cvR0mrtxxK65AVRHmgC2yq1B2RdEL1y2f8uY/oZXfb7/9lF3lgHVYEezYwBab9LCbiePE91XibPXMgMKaVRZ7LPTXqXugEqw40F155ZWIlExK0fQZCyouhdaQAF41duxYzAlMYhOAMHEkecSIEZi6m7zm7qRJk0yYAo08zFE1RcGoJNfDDz981VVXPfHEE3L53HPP/fCHPzQFaiAOAsjReZUwCY2TON80nElXgpUvpNlLU4KVHcMOaAYbZVem3EVbPnx3py/MpQaKQCAvb1jsPuEcjW41imizJ2WizoBjcagwNUNVG6w4Qwlt4menPPLII1944QWJiX/agDOJc+bMOeSQQxB68bP9WzKOdvkm7Kj61FNPFUYFXcN5EgcSzRFF+JnhfKYoDbgRQCoMxyrim1TuermLfpBpkJexaUpNUBoCSrBygBq7K3cpr6xd5k6gdzMikJc3LMRXGQ2SMnakkuysrJwrhGNxvjVFA5BgqaeGFLiRhTPF6TLChNAGHnfccVdccUW6EqRqFJHCqNAPnnbaVoNRHgbIFrxNnVWmAxYtIea26V6ldDVKLjVvz4JeQXmVYOUALFbt7lJWfbPWnUDvZkQgFwkW7Ipy4GoZG1PH7Njncs4cjpWi8WqDFQc0W9Rk0uMMz4RTBNAD/vKXv2ya0VE1wi25iwXYiSeeSFHQLORqaoDVFNWoBMiQxBIrKkER8RzjVf1gEcBmLFMJVkYAt2bnzKC7lE7NEriz692mCDCp8TmwLF/ZY4ZqK+urRkhxWw+GKTiW2mA1ghkaEyA6iI5GjhwZmjJ+JMadcRI7qsbei2OMFCIaTGjWI488ogZYcVCNSiNawjLFuoivkDiioIxqksZXgoCORw6w79Wtj7uUPbr0difQu9kRQPiUhWBxvpoFps39kyFQwVQ26ZFMtcGK8/TefPPNHBs0RIdTfphMRVlNhRZIXpOdBISxwTrvvPNCE9uR7qpHjRp16623in6QXEKzOF2oBlg2honC2HFymq/MrxNCsPTzOInGqJzEahCXA84jdh768CfPOwo6cudYu0xHCXqrKQIQLGa0dN9mxq0oefGR3bSWlk/Ako9zLOgmAq2YnWXfrJ8jbIrVsccey/mycePGSUr8YN12221Nc9kJ+AoKjMqOOffcc+U0oh3ZGHZXzd0f//jH06dPNxnxzoDG0FxqIAUCCLHwKBb/JUpRhcmCvRd7y6FDh5oYDXiCQEc2rJ40pdbNOHvRzXhkCO3CSX2G/8OQc0JvaWSOCKDj48A5J7NSlInBL3ouDL1T5G29LMzXcCyoauNnNEM7y3cb8aPL9wlC77ZzJM4UEArG4UDtjFKr9h0pIA56YFpFd5BDi3g3jX8Qtej2aPkGAVURGigyBa7f92+P7hkipoJdXbfvd3vWTBVo5mYIwJDwOMBi3yxh8P6GDRtwLtqGhweDQHx/jVMx5Fj4Fhef499HR/6PirBMc5PIdvh3IxcrK/+6pS2KhQBTCm5fYiXNlkjPD2bDr8DcqiLMB9yB3frddcCF+HPHIwNnBrFqx+4KzeDBPQbmU4GWEgMBDgCihUFXGCPttiSow5DWwBK2RbV9iA9uwLHYgh9wwAFNv/uhpwgDzwv2VXfffTc2UpdcckkiK6tAOXpZawSYjvCBzOatUOuor776Cg92beW6r0ZPhaoIazRY2tQmCMCuYEuJdFXYLnBuTq2vQpGFIoDn/vvvj9FuaAKJRDnLd/SGDx/uSKO3FIE2RACzObTnfCStuL5jPArHyujvo7jmtXnJqiJs8wegpbrPlhFbhETqqjZ3zeAefg6UYYYFAXVDKm4a1JrTDabebUMEECzxYdOYqvZ0+IiDhnR5NVfRCCjBKhphLb88BDjOBseKb4aFxIvzgyVYoZYHQd41oTwF0sbP3gXqUU8NAUD0UhEQBJheirPEwn6UGQxTekXbTwSUYPk5LtqqlAhggBWfYKn4Kg7Ke++9NzIqPgjtSCxCLEcCvaUItCcCiIE5lht/UkqEknpvTwRX+YmVYJWPudZYIAKIW2K6G8X4FK1WofanBfaz3KL33Xdf7DxWrFgRVa0SrChkNF4R4Ms5BX3+Wc8Pev50KcHyfIC0eckQQIK1fv16zK6bZkN8pa4ZmqJkEvBJFix2o5QdqiI0QGlAEQgggJYQ21DO+gXiM15SIMaRbCkzlqPZi0NACVZx2GrJ1SAAx8K4yl03n7vH2xNf73In07sGAWRUeBzgUCGbZhNpAirBMlBoQBFoRKAISyw1b2/E2bcYJVi+jUgO7Rk9enQOpdS2iDhaQsRX5XzForYohjScT0HDsThU2GhQol/LCcFLoxSB7xGAYGEvhZ79+4gc/qdA3SLmgGORRbSjc0W+X4GHZYPqxIkTx4wZYy7LDOBn6IorrjBHtHhbLrvsMv3GasYhQILltsjGcwzOM1W0ngJnsMUeiycWZ2PwLVOCSrAMFBpQBBoR4AURIdbAgfm4nsbSFAcQTZ0AN7ZEY8pEoO0I1tSpU/Eq+fjjjxuUDb8xMaUF+PLr9ddfbxgVfMtUDQucPHmyudRAfASYdDi6zA83yo25sFpAfIXzzMZbGhMHgT59+nAqSjgWy4ZkURusONBpmnZGAFN3/PEiOM/loxFq3l6LZ6ntVIRPPvlk4NurVX3Lgi8TU7VhVzwuHOjlJ8+NLWOrxZPkVSMRtESdJYRdISnkUzBeNbhejWGpwIOivTP5vMOGFV+vXrNpXb06oq1VBEpDAKPPHC2xVD9Y2sBlqajtJFgOsJ599tlbb72VB5c0rMHTp08XukM8H75l8zF37lzJbmsVAwrHe++9l1ysPVOmTCGxlGaLqRwNkFvknTBhwgsvvCCmVJLX0TZyPfbYY3w2jrpuu+22AF/ks2i0fNq0aU3rbaUEqP+wE2p0wYDoBYJ18MEHt1JnK+nLgAED0MPOe+u1x7osenL1vNWb1m5txqoOe3bd5ZQ+R144YHSXjjq3VDIyWqm/CECwFi1ahPNebBaztJLJDbrWvXv3LIVo3hIQaLtvEaIiBNZQwgGzMewEQnPffffBV0hM+C//8i+feuopkTahyIP6oGSESM2YMePRRx+VZKTklnAyUfaZMOnnzJnTOJwjRoy46qqrQi3ApAqTxdG2c88995prrrHFciZvoHmmtJYP4KkBxBqJ1PLlyzFcwHNmyyNQQgc/+vqzv134Xz/Y/FljXYf1GHT3gf+5c8dMq0hjsRqjCNQdgWXLlmG8CMfK0pF3330X+4eMhWRpgOaNiUDbzYBQK7QbMBskT6zBNkyGXRF57LHH2pQI+mJ0edCmsWPHvv766yTDHQAmKaYQYVRcErDDVIdC0CQzAVga/Iy7yJlsAyyTwAQcbRs6dKjNrkwWarzlllsM+TPx7RBgb4crrMCZHT4rgXcGnZXyegBufX9GKLui/FfWvTP9/cfyqkjLUQRaBgGEWNmdjqKssNedlgGn9TrSdgSLIcR4HPJ0yCGHoInjF8VsDEMiy+DBg0PH/sQTT0RvCFeLKkRykb3xZDu3qAICJBb3iJ0oJ7SWxki7bSeccEJjAtozfvx49JWNt9okptFZA8pB2FUuFqZtgqGjm5s7bJmx+iVHgic+nee4q7cUgfZEgCM4bP/Y6aXuPv5+u337S12CZiwNgfa1k0Axxw/REY4SRMyDyOe6664DejGcwgqq6TBAdKBHFMJ5QIRMkyZNElET/IZi+RiLFLVkyZJRo0ZFlUYhiKD4wfYoikBjykRto3baQ7G8ijYVayy2hWP4ACqk1nQfT8qIGzlA2sJdLrNryzZ8tHGLy13+e1+tWvvNhp07b3PlUGbztC5FwFsE+IAEtgr9+vVL10I9P5gOt0pytS/BErhhM3/9138NwUJdiMhHLKvkFiKlmEOylRyddRYcCIZEUXAs8t55551GqxhTNHX22WcHrKmkAUnbhsE7tZOX9oh4LGZHWinZyh2+ePqzl3f64C0sgfbs2me3VZ0H7LknBlit1McK+7Lumw1NayeNEqymKGmCdkOAM87I0VPzJDL279+/3UCraX/bnWAxbHxkjb+/+93vsDc3Ag+EQE888USiQYVOYW9OOQirTjrpJMOuKOTBBx90SLDsWmxbKxOftG0jR46U2k8//XS4Xbv50/rg6zXXvPvgM59tNZLrYH2e+P/s/r/9Xx3+wqCqgSwIdO8U4mMsUGCcNIEseqkItAMCODrBYiGFHRXsCuOHUA9/7YBb7frYXjZY0CZ+ZpAII+M577zziNlnn32ee+45c+umm24S4mViQgMBM/lHHnnk5JNPZnuBty2THq2fCduBQF4uL774YoRYkgatomlqurZRzvnnn48/LURrdr0tH7546a+/Y1fbd/XXH/zrf33v0e3j9ColAoN33L1TB5c4cM8uu/TaQZ2NpYRXs7U2ArgB2rJlCyYcSbuJzQl5k+bS9FUh0F4SLB5oGJWNNTIntHvE8Bd/UaIW5AnmkzXG65WdPhDGqcmZZ55p5F6UJqKjSy65xBR12mmnceowkJFL8tqNodKbb76Z04uSEl0hJVAyPrfStU3KQWVJC23VZ2NLWinmd5/8r9e+fC+qR//44ay/2eMn/br0jEqg8TER2KFj55P7Dn9s9ctR6U/qOzzqlsYrAoqAHCfkSHt8KPgKBRKsvD62E79eTZkagbbzg5UaKc1YCwQmvfXfZ37qktj9/b5/c0rfI2vRF88bufyrT/7jG7d+vPHzxnYO3XHP/z5sohpgNSKjMYqAQeDVV1/lgHn8j6Ki00CCFUe1YqrQQLUItJeKsFqstfYSEFjx1Wp3LSu//tSdQO/GRGBgt37/eOBFf9H3qC4dv/siIRkhVWN3G/XrYRcpu4oJoyZrWwSwxErkE0v1g7V7VNpLRVi74dEGJ0Vgk9N3AKVt2rI5aZmaPgoBONa1+46btu/Z7371yfpvvt6pc7d9uqU8fB5VhcYrAq2KAATrlVde+fLLL+N8GhXPyZi47Lvvvq2KRkv2SwlWSw5r+3aq7w47uzvfZ4ce7gR6NykCHTt0HNRtt6S5NL0ioAiIJdagQYOaQoH1FXa6GT9i2LQWTZAvAqoizBdPLa1iBA7tsY+7BQf1GOhOoHcVAUVAESgHAYRY+KP++uuvm1aHfjCFW4emxWqCQhFQglUovFp42Qj8u11HOKo8puf+B++kBMuBkN5SBBSB8hDo3LkzQqyPPvrIXeXGjRvXrl2rBMuNkod3lWB5OCjapPQIDNpxt/9ncMi3hihxaPe9rhgU4i8jfWWaUxFQBBSBbAiIqTsmVo5iRD/oSKC3/ERA3TT4OS7aqkwIvL3ho9+vmvPKundWb/yCT+UM6Nr3R70PPGu373yMZSpaMysCioAikCsC7777bpcuXfbaa6+oUt944w0+VJ/IaVZUURpfJgJKsMpEW+tSBBQBRUARUAS2Q2D9+vWLFy8+7LDDQj+WumHDBgiW/e217TLrhccIqIrQ48HRpikCioAioAi0OgLdu3fv1atXlE8sNW+v7/grwarv2GnLFYF2RIDvlz/77LPt2HPtc+si4DB1xwBLzdtrOvLqB6umA6fNVgSSIQAvueOOO4YOHWqynXDCCZMnTzaXRQRmzJhxyy23mJJLqNHUpQFFoEYI8MGcbt268TEc82VbaTzaw02bNvXsqZ9PrdFgbmuqEqxtWGhIEWhtBM477zybUUG5pk6dOm3atIJ6Dbt69NFH+dC4Kf+tt96SsIigzKfNTQINKAJti8Aee+yxYsWKAMHSz+PU+nlQFWGth08brwikRwCyNXfu3PT5m+W85557Jk2aZKcaMmSIXM6ePduO17AioAhghoWjdhSCNhRc9u3b147RcI0QUIJVo8HSpioCeSKAPsIUhzSLywkTJowePfqss75zJMYlYWL43X///SYx8fPnz5d4/nJpF2WSRQVEWXnxxReTFxGaJLv99ttNXSaSW6ENMyVTL4UYwZiJ14AiUEcE8IllOx1dt27d5s2be/TQr3vVcTC3tllVhHUdOW23PwiwxtuKMH8a5mgJDAlOc/3115s09OLOO++0T4MjfzIyJ+6OHDlSLiE05DVdhnvddNNNjarGc845B+517733BrQeoqYcNWqUrSI88cQTzz//fGkMpIoyDc9rbJhp87hx4+iCaaSJ14AiUEcEeuzS85F3n3jz9ZkffPMZn6XvuaXbD7r232F9n2HdB9SxO9pmJVj6DPiCAIvxqaeeOmbMmOIahMDjiiuuMAIPPp562WWX2ZSiuKp9KBkj91mzZpmWnH766Xbfx44da1+SzCYu55577syZMw0HsnV/MKG7777bFGsCMpTQoxEjRpAxULhJJgG7rjPOOGPKlCmGYDU2TLLwwEycONFdbKAWvVQEvEXgrQ0f/pelv35n08cdNn3XxpUdOize+MG/vPbS1H3O+Oluo7xtuTYsCgElWFHIaHzZCMyZM4fvnhZKsETgYZZkW7GF1MQ2AC+786XUFzByRwoFR7ntttukckRKjlbsvffe+Js2CWw+ZCIbA4wmP5GWwWuRNhnwGxP//+2dW2hW2RXHm6ntFKeISocyqZOxxqfqIJhEikhaBU0RHyL1hkLRGmolYMGgoMb64I2KkiJEtBAQwVtMiA9qNIJCFCFegkUhguah0ToP9Z46FGprf8wuyz3nfLfJJH7n8s+D7r3P2muv/dsPZ7HW+vaxEZRT22vdjIZxXqhCuYmpIQKxJrBzoP1v//pHxi3sHGib/sOf8rGvjE81GFkCcrAiezTpMoyUUF1dHSkqnJ5ARmm4QPCa583tv+D9hQjtJN7BCpAkqkRsKUVuu+kAAA0ESURBVAdwnJje3l7n6yBGJCmgocAuzHHj4M8R40ZnnOUudCCm6LtWGSUZPHbsGO5aRUVFNgGNi0C8CNx9PXBz8EEOm88+u/WHnyzIIaBHESQgByuCh5JGk8gx8Q7mY1ttbW2WhwIE7/iysrLTp0/z3l21alVHR4dfbY0ALoJ7ZxOMIQDmXs/ksyzBlJcmr2rmXr9+nWQWwi7KwiBZKrpOoYVe3P0CnZ2d/f39PMLmQCwH8+7cuRMuSMprRlEEcDH7+vr8WigzAybV1dXmdLLxb/nTP9wslkNPeDmgdXd3W1EXNrizMGPCDYQ54ozawsIaEYGIE7j35d9zW3jn9bv4cW5JPY0OATlY0TmL9FqCN0PoAk8FB4s3q+9gUTY0b948c6pwsBA2n4agCE8duGwV2YaVFzyuGJGSQF4JbbytWdd/wWNJc3OzC3ERvOGphV7w3nbs2JHRhUI5joIl3WzpyDYePHgQdnectezX3wg+5bB8a7a0tDRMA/eaWngbB6O1MzaWL1/OOAfkTs2PRGaU16AIRJzA8zf/zG3h8zevcwvoaQQJ6JqGCB5K6kwialVbW8u2eVOWl5fjNhkCglLbt2+3LmKUWlu3tbV1yZIlrmteF11XkW1i1sCF4upLgl54bLhNNh5uYAl/bpwGU8wqLkPPGB5DgFvLfackrDZSI0QHly5dms0kLuAxRGxtCDdm4Qr7yin5ouuOCV/Nj4cx2NPT44RZlDPyJ2Zrcy5NTU319fXZBDQuAnEh8L0P8gQ7RpXoZR2Xw3xnZ55DfSeolgiMGIFTp05ZfIjf9uM2WaUUVwOYo8P6eDZ+iKurqytjJClQkW2GowoHiFc4Xhp6KCqyFJjJZGxMnDhxcHDQPeJ7L2EZdFJg5MfAwjJFHwn8ipCNZKTn7Gxvb+c3AbQJLuL1NjY2+i5RIXshx+oSrE6Y5SxMxe8EUU7dG8pxdvGh8ZPcR3Vwtui6pfOuQviN0Bqumx/1zDtLAiIQNQKl389zm+inH/4oajbLnrwESt6+fZtXSAIiMHIEyAfxY3v/G3nkrfhzK7ockL86tUEuG8jEhw8f2ps1XJGd13lyZUYuHBVYCIeJCx2sqAt7SGPxOnelSAHNxLecF4j35gfSfLPVFgEREIFsBF68+fIXf23M9pTxP5Yt+fXHP88hoEcRJKAIVgQPJV0mkQ8iWGIhKzbPRd44T4FKKYNC/U1LSwuhFybabUxDq8hGFdVUGfN9+Fv+rZt4b2ZAuEHBO8KMY0bEg1hh4zUiAiJQdAJjR43+3Sfz/vJFV0ZLPv/oM3lXGclEfFBp3YgfUMLNI1BEctD3rtgwZVV8xi7bzgkjuXogwksWLkKJ7yeRNso2PTBuGvxxwlTUzvtWkcT0BQJt8pgI88fVnbldscBEdUVABETAEagv/dXa0ppRJd8NAJkz9vM/l/82MKhuLAgoghWLY0qskZS3U7oU2B6eys2bN/G9/OorX4YLkPBjXF28G3cV2U7eVWSHK6X8nx8yiy6fw6NK2mkgCWgr8ks3v7rLfsPo25CxTb6S0FdNTQ1byCigQREQARHIRuD3n9T85se/vPmq/4t/P//P2/+OHfXRlNGffvaDj7PJazziBORgRfyAEm4embWMObUNGzYELsTyQaxevbqysvL+/fs2WEhF9r1790jh2RTKq/Gu7JICcoX4RrhoFISRnWxoaKCLMGJ4coXfsUkZFj/NY1PZvEMzQA0REAERCBAY/cGH1WN/FhhUN6YEVOQe04NLtdkEn/bu3RujCxFSfVravAiIgAikkoBqsFJ57DHfNEXufBY65puQ+SIgAiIgAkkmoAhWkk83kXujUorknd2blcg9alMiIAIiIAJxJ6AarLifYIrsJzPoiqjcnQgp2rm2KgIiIAIiEDcCimDF7cRkrwiIgAiIgAiIQOQJqAYr8kckA0VABERABERABOJGQA5W3E5M9oqACIiACIiACESegBysyB+RDBQBERABERABEYgbATlYcTsx2SsCIiACIiACIhB5AnKwIn9EMlAEREAEREAERCBuBORgxe3EZK8IiIAIiIAIiEDkCcjBivwRyUAREAEREIH3RYCvxVdVVXGb8ZYtW1jz6tWrtPk7dOjQ+zJhBNfZs2cPOxrBBaTaI6CLRj0YaoqACIiACCSRAI4F29q4cWPeze3evfvkyZOTJk1yknwG/ujRoyP07faSkpKamhoziU/Lb9q0adq0aTaiRqwJyMGK9fHJeBEQAREQgeEk8OLFC/OunN4R8q6c8vPnz5v1fKxi6dKlvntnj4bcwLMsxK0csn5NzEFAKcIccPRIBERABEQgvQRIF77PzePYLV68+PHjx8O46KVLl4ZRm1R9IwKKYH0jXBIWAREQARGIPYFz584dOXKEYBU7qaioWL9+PWEqipNICF6/fp2KKwbLysr47Gl/f7/r7ty5k2jQ6tWrt27dSqiJdN6JEyeYjhNGeRYjThViNJjih6YY4Tuqa9asyZv+e/nyJcLuD7WXL182I51mHmU0A/3Pnj1zwitXrly2bBmS/Ou2Q9sGX716hbAzOJCUfPr0KbtzenjU3Nxs0Tt/mzzatWuXxfnQVl1dffjwYVbhb86cOYqZORTfeas/ERABERABEUg0gT999ee2ePbs2bVr19p2jx8/TmLOuhRFWfvKlSt+Fx2VlZW3b982gSdPnjCCE+ZGULV582baBw8epG1iNHw9Ns5r2Nqosulu0NTSZWlTGDYDAV+YtawbWNfNZS23BHvxBWiz5fAjtPHIn8WurTtu3Dj262bxL2whbN00N5Qi/L+jqf9EQAREQATSQGDbtm3bt2+3nbpgj4vo2GC2Bik8PwrV1tbW0NBgsRxUdXV1MXfu3LmnT582JQTMFi5caF2/QazL/a1YsYIpRMjsqallZNGiRb7CgBkI+MIEqy5evGh6Ag0MtriUvxdiVCiZNWuWk+cRXZckbWlpWbdunT+rrq7Olhg/fjzBOVtl+fLld+/etW6aG3Kw0nz62rsIiIAIpI4AjoL5Cm7z06dPJ5VWCIiZM2f6Yh0dHfhS/gia8dWcu0PGzT0iHRkQsylkEu2PvBvpNufTmIBroNCl/1w3YEZAeMKECX6qMfw0MOK6Fy5cWLBggf9o4sSJfX19jNy6dWv+/Pn+oylTpnR3d7uRyZMn+4/UNgKqwTIUaoiACIiACKSUwMDAwNB2TuQpMHFwcJCR2tpaYjzEtJyb5VyugGSgiwyBotbWVhdYIu61f/9+Cp581yowxboUZvX29jpJViTEZY8KbxDbY0VfnmCY3/XbBcb8/Clpa8vBStuJa78iIAIikGoCFljyKVDS7ncLbxN/yihMyArfCwcLNwtnK6NMeHDMmDGEixingp4Qka+cTGJY3o24MnMrLada/9q1a9mEc4w3NTVZijAgBrRA2K8QlzGgJG1dpQjTduLarwiIgAiknUDAx+IugxkzZgwBCj82JM6UcSLuCC4IYR78pGz5wfDER48e8Ss8xvlRnl8olm0Vp+HGjRuuksx1Ozs7w5rzjkydOjXbRLbZ09Pja8CB45eD/ojaYQJysMJMNCICIiACIpBYAsRp6uvrzcciVoQnxN8QNsz9DqTV/GSZqUUbJU1UwdMIxH6yLYSeffv2Uc+OAPaYT4POM2fOZJvF+PPnz21dSrhcDMzJk2Es8Ns4VFkx0Rc2nYFtsgQuaeFeYw7Lk/1IKcJkn692JwIiIAIi8DUCZMG4C8pqpwjPHDhw4GsSBXfwnLgri6sZXPET3szs2bPtJ3W4LNRU2QVRGbX6iT+mo825eoSv8AJdRRQjdM3gsJ729nb3FA3l5eWNjY2WIuTbO/ziDzsLuZ6KjwJxDxaXgbEEqvh5oCMT3ubIfT4ovLv4jpRwR0V8rZflIiACIiACIpCXADXgVFn5ebS8U4ZFAP/Jr6MaFp1SEhcCShHG5aRkpwiIgAiIwBAJDLnKaojrfTWNwinCY99Gg+bGmoAcrFgfn4wXAREQARHISoD6KmJIVVVVXDcwtCqrrKoLeECCz784tIAZEkkUAaUIE3Wc2owIiIAIiEDRCZCLpCrLPv9XdHtkQFEIyMEqCnYtKgIiIAIiIAIikGQCShEm+XS1NxEQAREQAREQgaIQkINVFOxaVAREQAREQAREIMkE5GAl+XS1NxEQAREQAREQgaIQkINVFOxaVAREQAREQAREIMkE5GAl+XS1NxEQAREQAREQgaIQkINVFOxaVAREQAREQAREIMkE5GAl+XS1NxEQAREQAREQgaIQkINVFOxaVAREQAREQAREIMkE5GAl+XS1NxEQAREQAREQgaIQkINVFOxaVAREQAREQAREIMkE5GAl+XS1NxEQAREQAREQgaIQkINVFOxaVAREQAREQAREIMkE5GAl+XS1NxEQAREQAREQgaIQkINVFOxaVAREQAREQAREIMkE/gdbNYlE/p2fVgAAAABJRU5ErkJggg==)"
      ]
    },
    {
      "cell_type": "code",
      "execution_count": 18,
      "id": "27",
      "metadata": {
        "id": "27",
        "outputId": "47e568b4-bdcd-477b-df5d-c907891d439b",
        "colab": {
          "base_uri": "https://localhost:8080/",
          "height": 34,
          "referenced_widgets": [
            "70ee96c8ef3c45aa98219904eb3b9fe3",
            "eddd34db2d804dcf8bec541202e00305",
            "147a5bd97280413eb9faa3058cb97d07",
            "87d7d473913245e685ca190c5fd19afd",
            "9c719713b7f84b5bbc9c3b93ae018025",
            "ade3d0b0a6de40ce83e27e7385cf728d",
            "e75b133f77c440c3a5fd22971d759f5e",
            "47d55e09f93f4adab47035b886f77e72",
            "316e150ba0c24fc5bdd4d447c994be7d",
            "4083fa5e3357412880cde9e48023539a"
          ]
        }
      },
      "outputs": [
        {
          "output_type": "display_data",
          "data": {
            "text/plain": [
              "Output()"
            ],
            "application/vnd.jupyter.widget-view+json": {
              "version_major": 2,
              "version_minor": 0,
              "model_id": "70ee96c8ef3c45aa98219904eb3b9fe3"
            }
          },
          "metadata": {}
        },
        {
          "output_type": "display_data",
          "data": {
            "text/plain": [],
            "text/html": [
              "<pre style=\"white-space:pre;overflow-x:auto;line-height:normal;font-family:Menlo,'DejaVu Sans Mono',consolas,'Courier New',monospace\"></pre>\n"
            ]
          },
          "metadata": {}
        },
        {
          "output_type": "display_data",
          "data": {
            "text/plain": [
              "\n"
            ],
            "text/html": [
              "<pre style=\"white-space:pre;overflow-x:auto;line-height:normal;font-family:Menlo,'DejaVu Sans Mono',consolas,'Courier New',monospace\">\n",
              "</pre>\n"
            ]
          },
          "metadata": {}
        },
        {
          "output_type": "display_data",
          "data": {
            "text/plain": [
              "Output()"
            ],
            "application/vnd.jupyter.widget-view+json": {
              "version_major": 2,
              "version_minor": 0,
              "model_id": "147a5bd97280413eb9faa3058cb97d07"
            }
          },
          "metadata": {}
        },
        {
          "output_type": "display_data",
          "data": {
            "text/plain": [],
            "text/html": [
              "<pre style=\"white-space:pre;overflow-x:auto;line-height:normal;font-family:Menlo,'DejaVu Sans Mono',consolas,'Courier New',monospace\"></pre>\n"
            ]
          },
          "metadata": {}
        },
        {
          "output_type": "display_data",
          "data": {
            "text/plain": [
              "\n"
            ],
            "text/html": [
              "<pre style=\"white-space:pre;overflow-x:auto;line-height:normal;font-family:Menlo,'DejaVu Sans Mono',consolas,'Courier New',monospace\">\n",
              "</pre>\n"
            ]
          },
          "metadata": {}
        },
        {
          "output_type": "display_data",
          "data": {
            "text/plain": [
              "Output()"
            ],
            "application/vnd.jupyter.widget-view+json": {
              "version_major": 2,
              "version_minor": 0,
              "model_id": "9c719713b7f84b5bbc9c3b93ae018025"
            }
          },
          "metadata": {}
        },
        {
          "output_type": "display_data",
          "data": {
            "text/plain": [],
            "text/html": [
              "<pre style=\"white-space:pre;overflow-x:auto;line-height:normal;font-family:Menlo,'DejaVu Sans Mono',consolas,'Courier New',monospace\"></pre>\n"
            ]
          },
          "metadata": {}
        },
        {
          "output_type": "display_data",
          "data": {
            "text/plain": [
              "\n"
            ],
            "text/html": [
              "<pre style=\"white-space:pre;overflow-x:auto;line-height:normal;font-family:Menlo,'DejaVu Sans Mono',consolas,'Courier New',monospace\">\n",
              "</pre>\n"
            ]
          },
          "metadata": {}
        },
        {
          "output_type": "stream",
          "name": "stdout",
          "text": [
            "Initializing collection 'ChildOf'\n"
          ]
        },
        {
          "output_type": "display_data",
          "data": {
            "text/plain": [
              "Output()"
            ],
            "application/vnd.jupyter.widget-view+json": {
              "version_major": 2,
              "version_minor": 0,
              "model_id": "e75b133f77c440c3a5fd22971d759f5e"
            }
          },
          "metadata": {}
        },
        {
          "output_type": "display_data",
          "data": {
            "text/plain": [],
            "text/html": [
              "<pre style=\"white-space:pre;overflow-x:auto;line-height:normal;font-family:Menlo,'DejaVu Sans Mono',consolas,'Courier New',monospace\"></pre>\n"
            ]
          },
          "metadata": {}
        },
        {
          "output_type": "display_data",
          "data": {
            "text/plain": [
              "\n"
            ],
            "text/html": [
              "<pre style=\"white-space:pre;overflow-x:auto;line-height:normal;font-family:Menlo,'DejaVu Sans Mono',consolas,'Courier New',monospace\">\n",
              "</pre>\n"
            ]
          },
          "metadata": {}
        },
        {
          "output_type": "display_data",
          "data": {
            "text/plain": [
              "Output()"
            ],
            "application/vnd.jupyter.widget-view+json": {
              "version_major": 2,
              "version_minor": 0,
              "model_id": "316e150ba0c24fc5bdd4d447c994be7d"
            }
          },
          "metadata": {}
        },
        {
          "output_type": "display_data",
          "data": {
            "text/plain": [],
            "text/html": [
              "<pre style=\"white-space:pre;overflow-x:auto;line-height:normal;font-family:Menlo,'DejaVu Sans Mono',consolas,'Courier New',monospace\"></pre>\n"
            ]
          },
          "metadata": {}
        },
        {
          "output_type": "display_data",
          "data": {
            "text/plain": [
              "\n"
            ],
            "text/html": [
              "<pre style=\"white-space:pre;overflow-x:auto;line-height:normal;font-family:Menlo,'DejaVu Sans Mono',consolas,'Courier New',monospace\">\n",
              "</pre>\n"
            ]
          },
          "metadata": {}
        }
      ],
      "source": [
        "# (13 nodes, 15 edges)\n",
        "# This dataset represents the parent-child\n",
        "# relationships of certain characters from the GoT universe\n",
        "\n",
        "from arango_datasets import Datasets\n",
        "\n",
        "Datasets(db).load(\"GAME_OF_THRONES\")"
      ]
    },
    {
      "cell_type": "markdown",
      "id": "28",
      "metadata": {
        "id": "28"
      },
      "source": [
        "#### GDELT Project (Open Intelligence)"
      ]
    },
    {
      "cell_type": "markdown",
      "id": "29",
      "metadata": {
        "id": "29"
      },
      "source": [
        "> GDELT monitors the world's news media from nearly every corner of every country\n",
        "in print, broadcast, and web formats, in over 100 languages,\n",
        "every moment of every day. [...] Put simply, the GDELT Project is a realtime open data global graph over human society as seen through the eyes of the world's news media, reaching deeply into local events, reaction, discourse, and emotions of the most remote corners of the world in near-realtime and making all of this available as an open data firehose to enable research over human society.\n"
      ]
    },
    {
      "cell_type": "code",
      "execution_count": 19,
      "id": "30",
      "metadata": {
        "id": "30",
        "outputId": "f1d0cd06-b861-4e4c-d15f-d25465119aaf",
        "colab": {
          "base_uri": "https://localhost:8080/",
          "height": 260,
          "referenced_widgets": [
            "787cd3d8813d4515ad7e138aaa49ff8c",
            "3afc205fe9b840258b7b0656665551b1",
            "01ecb9afdf5e4f1d86a62d600c621401",
            "b04d48b009814255bec75e8815e9b8b2",
            "dfc2dccaaf704fc8ab98d084161f8d6f",
            "35dcc210e7df45b0aea55852fcf02466",
            "c0298c61e6564c70900ed485a332f104",
            "ce7a6a346cac4456aaad509590b84445",
            "1e2cac77fa2e43afb98d6d9bde57741b",
            "830a7c760c3a43ee8ee40c1e06798a14",
            "6c719cccc182418b9060b951bf88fd2b",
            "7a8655bc8c3b46fc9a2909cf670e9064",
            "a9245b5e66fc4c808bb3beec6c3a99f8",
            "38c9a48129e24829a96d566785a6688c",
            "0df0198bad8341e0b017d0a5039d6094",
            "6a6ca17c07f94dcab0bc3853e3e25e3e",
            "4ab7df5989f445dabe4657d07f7b97b9",
            "bd9d20ef71c24856889a0e876754e627",
            "d714f473459c4087aca075d7e41b0361",
            "65ec933ff80e445d9faefe0b6de2794e",
            "3fd66aca0de4489788c231af73a8dc9f",
            "bf1f854832fe4ddabaea0090c9bf1916",
            "443b07aa182d4fa08755353991442776",
            "a43fd065c67041a183df402874c30020",
            "48f34d7821774273bcc072e2168344fb",
            "36da2525b19847e1addebd4a26b6979f",
            "2cb2acb201a04ec89f524003e4bf86d0",
            "8dd40f435d1749e2be2cd59527d144d8",
            "1d1314830fc8414aab37de559cae3a7e",
            "2204c3cd02fb44a8893193aa436ce237",
            "f9f2787c50c14a879c052ecc78cf48fc",
            "1929aaf08f4544edba0a08b91a489ce3",
            "b0f8ee4fe5c446e4966dafe58d68dee2",
            "ceec724abeee4fb898211f7bee085551",
            "1a72b4fda58948e0a2eb71bdc719a9ec",
            "731201f02f5c4472816523f311a5bbbd",
            "6edea384a5d84339a997485ee48ee4b3",
            "6072ffb0bfc9471ba8227137be406b1b",
            "f25a84f15e3445e9b633df16055e3886",
            "cdf1c5f8046c453b9a3357d363c36644",
            "13d8b76a4c3f443ca0dee631fd3959b0",
            "9af4fff0dbaa4cbdaed50a2d06859ad6",
            "14fc56900a6d4df99016f3473c6e0676",
            "4e7914d83ed64042b3998f915e6d829b",
            "ffdc18c6a4d64e24886e8cd52efbb90f",
            "e720851d72204e31b0cb1f95d8adb3f6",
            "00bb413e3e8d4aa2ae5a6d22f161f9cf",
            "4d3c7dbf69da4fb499307835431b6a09",
            "21cf9ccaa27f46bfa338e8e763e93fff",
            "3cda846de799490fa17347b6df055779",
            "20d76c9bdcfd4cbebd03b49b2265fa15",
            "54da99ce57ce418bae748462b7f75097",
            "33dc2087089d47888368b9d5a08e8065",
            "287733dd66da40ccbc7933737b98e7c7",
            "2e28383458f6415bb6726ba7a340b727",
            "bd5d1c41edac4817a435116142b6993f",
            "5f528fd15f944d44acf9df355dd3f585",
            "e19611b67f1248e7935fb7943fc79dc2"
          ]
        }
      },
      "outputs": [
        {
          "output_type": "display_data",
          "data": {
            "text/plain": [
              "Output()"
            ],
            "application/vnd.jupyter.widget-view+json": {
              "version_major": 2,
              "version_minor": 0,
              "model_id": "787cd3d8813d4515ad7e138aaa49ff8c"
            }
          },
          "metadata": {}
        },
        {
          "output_type": "display_data",
          "data": {
            "text/plain": [],
            "text/html": [
              "<pre style=\"white-space:pre;overflow-x:auto;line-height:normal;font-family:Menlo,'DejaVu Sans Mono',consolas,'Courier New',monospace\"></pre>\n"
            ]
          },
          "metadata": {}
        },
        {
          "output_type": "display_data",
          "data": {
            "text/plain": [
              "\n"
            ],
            "text/html": [
              "<pre style=\"white-space:pre;overflow-x:auto;line-height:normal;font-family:Menlo,'DejaVu Sans Mono',consolas,'Courier New',monospace\">\n",
              "</pre>\n"
            ]
          },
          "metadata": {}
        },
        {
          "output_type": "display_data",
          "data": {
            "text/plain": [
              "Output()"
            ],
            "application/vnd.jupyter.widget-view+json": {
              "version_major": 2,
              "version_minor": 0,
              "model_id": "01ecb9afdf5e4f1d86a62d600c621401"
            }
          },
          "metadata": {}
        },
        {
          "output_type": "stream",
          "name": "stdout",
          "text": [
            "Initializing collection 'Actor'\n"
          ]
        },
        {
          "output_type": "display_data",
          "data": {
            "text/plain": [],
            "text/html": [
              "<pre style=\"white-space:pre;overflow-x:auto;line-height:normal;font-family:Menlo,'DejaVu Sans Mono',consolas,'Courier New',monospace\"></pre>\n"
            ]
          },
          "metadata": {}
        },
        {
          "output_type": "display_data",
          "data": {
            "text/plain": [
              "\n"
            ],
            "text/html": [
              "<pre style=\"white-space:pre;overflow-x:auto;line-height:normal;font-family:Menlo,'DejaVu Sans Mono',consolas,'Courier New',monospace\">\n",
              "</pre>\n"
            ]
          },
          "metadata": {}
        },
        {
          "output_type": "display_data",
          "data": {
            "text/plain": [
              "Output()"
            ],
            "application/vnd.jupyter.widget-view+json": {
              "version_major": 2,
              "version_minor": 0,
              "model_id": "dfc2dccaaf704fc8ab98d084161f8d6f"
            }
          },
          "metadata": {}
        },
        {
          "output_type": "display_data",
          "data": {
            "text/plain": [],
            "text/html": [
              "<pre style=\"white-space:pre;overflow-x:auto;line-height:normal;font-family:Menlo,'DejaVu Sans Mono',consolas,'Courier New',monospace\"></pre>\n"
            ]
          },
          "metadata": {}
        },
        {
          "output_type": "display_data",
          "data": {
            "text/plain": [
              "\n"
            ],
            "text/html": [
              "<pre style=\"white-space:pre;overflow-x:auto;line-height:normal;font-family:Menlo,'DejaVu Sans Mono',consolas,'Courier New',monospace\">\n",
              "</pre>\n"
            ]
          },
          "metadata": {}
        },
        {
          "output_type": "stream",
          "name": "stdout",
          "text": [
            "Initializing collection 'Class'\n"
          ]
        },
        {
          "output_type": "display_data",
          "data": {
            "text/plain": [
              "Output()"
            ],
            "application/vnd.jupyter.widget-view+json": {
              "version_major": 2,
              "version_minor": 0,
              "model_id": "c0298c61e6564c70900ed485a332f104"
            }
          },
          "metadata": {}
        },
        {
          "output_type": "display_data",
          "data": {
            "text/plain": [],
            "text/html": [
              "<pre style=\"white-space:pre;overflow-x:auto;line-height:normal;font-family:Menlo,'DejaVu Sans Mono',consolas,'Courier New',monospace\"></pre>\n"
            ]
          },
          "metadata": {}
        },
        {
          "output_type": "display_data",
          "data": {
            "text/plain": [
              "\n"
            ],
            "text/html": [
              "<pre style=\"white-space:pre;overflow-x:auto;line-height:normal;font-family:Menlo,'DejaVu Sans Mono',consolas,'Courier New',monospace\">\n",
              "</pre>\n"
            ]
          },
          "metadata": {}
        },
        {
          "output_type": "display_data",
          "data": {
            "text/plain": [
              "Output()"
            ],
            "application/vnd.jupyter.widget-view+json": {
              "version_major": 2,
              "version_minor": 0,
              "model_id": "1e2cac77fa2e43afb98d6d9bde57741b"
            }
          },
          "metadata": {}
        },
        {
          "output_type": "display_data",
          "data": {
            "text/plain": [],
            "text/html": [
              "<pre style=\"white-space:pre;overflow-x:auto;line-height:normal;font-family:Menlo,'DejaVu Sans Mono',consolas,'Courier New',monospace\"></pre>\n"
            ]
          },
          "metadata": {}
        },
        {
          "output_type": "display_data",
          "data": {
            "text/plain": [
              "\n"
            ],
            "text/html": [
              "<pre style=\"white-space:pre;overflow-x:auto;line-height:normal;font-family:Menlo,'DejaVu Sans Mono',consolas,'Courier New',monospace\">\n",
              "</pre>\n"
            ]
          },
          "metadata": {}
        },
        {
          "output_type": "display_data",
          "data": {
            "text/plain": [
              "Output()"
            ],
            "application/vnd.jupyter.widget-view+json": {
              "version_major": 2,
              "version_minor": 0,
              "model_id": "6c719cccc182418b9060b951bf88fd2b"
            }
          },
          "metadata": {}
        },
        {
          "output_type": "stream",
          "name": "stdout",
          "text": [
            "Initializing collection 'Country'\n"
          ]
        },
        {
          "output_type": "display_data",
          "data": {
            "text/plain": [],
            "text/html": [
              "<pre style=\"white-space:pre;overflow-x:auto;line-height:normal;font-family:Menlo,'DejaVu Sans Mono',consolas,'Courier New',monospace\"></pre>\n"
            ]
          },
          "metadata": {}
        },
        {
          "output_type": "display_data",
          "data": {
            "text/plain": [
              "\n"
            ],
            "text/html": [
              "<pre style=\"white-space:pre;overflow-x:auto;line-height:normal;font-family:Menlo,'DejaVu Sans Mono',consolas,'Courier New',monospace\">\n",
              "</pre>\n"
            ]
          },
          "metadata": {}
        },
        {
          "output_type": "display_data",
          "data": {
            "text/plain": [
              "Output()"
            ],
            "application/vnd.jupyter.widget-view+json": {
              "version_major": 2,
              "version_minor": 0,
              "model_id": "a9245b5e66fc4c808bb3beec6c3a99f8"
            }
          },
          "metadata": {}
        },
        {
          "output_type": "display_data",
          "data": {
            "text/plain": [],
            "text/html": [
              "<pre style=\"white-space:pre;overflow-x:auto;line-height:normal;font-family:Menlo,'DejaVu Sans Mono',consolas,'Courier New',monospace\"></pre>\n"
            ]
          },
          "metadata": {}
        },
        {
          "output_type": "display_data",
          "data": {
            "text/plain": [
              "\n"
            ],
            "text/html": [
              "<pre style=\"white-space:pre;overflow-x:auto;line-height:normal;font-family:Menlo,'DejaVu Sans Mono',consolas,'Courier New',monospace\">\n",
              "</pre>\n"
            ]
          },
          "metadata": {}
        },
        {
          "output_type": "display_data",
          "data": {
            "text/plain": [
              "Output()"
            ],
            "application/vnd.jupyter.widget-view+json": {
              "version_major": 2,
              "version_minor": 0,
              "model_id": "0df0198bad8341e0b017d0a5039d6094"
            }
          },
          "metadata": {}
        },
        {
          "output_type": "stream",
          "name": "stdout",
          "text": [
            "Initializing collection 'Event'\n"
          ]
        },
        {
          "output_type": "display_data",
          "data": {
            "text/plain": [],
            "text/html": [
              "<pre style=\"white-space:pre;overflow-x:auto;line-height:normal;font-family:Menlo,'DejaVu Sans Mono',consolas,'Courier New',monospace\"></pre>\n"
            ]
          },
          "metadata": {}
        },
        {
          "output_type": "display_data",
          "data": {
            "text/plain": [
              "\n"
            ],
            "text/html": [
              "<pre style=\"white-space:pre;overflow-x:auto;line-height:normal;font-family:Menlo,'DejaVu Sans Mono',consolas,'Courier New',monospace\">\n",
              "</pre>\n"
            ]
          },
          "metadata": {}
        },
        {
          "output_type": "display_data",
          "data": {
            "text/plain": [
              "Output()"
            ],
            "application/vnd.jupyter.widget-view+json": {
              "version_major": 2,
              "version_minor": 0,
              "model_id": "4ab7df5989f445dabe4657d07f7b97b9"
            }
          },
          "metadata": {}
        },
        {
          "output_type": "display_data",
          "data": {
            "text/plain": [],
            "text/html": [
              "<pre style=\"white-space:pre;overflow-x:auto;line-height:normal;font-family:Menlo,'DejaVu Sans Mono',consolas,'Courier New',monospace\"></pre>\n"
            ]
          },
          "metadata": {}
        },
        {
          "output_type": "display_data",
          "data": {
            "text/plain": [
              "\n"
            ],
            "text/html": [
              "<pre style=\"white-space:pre;overflow-x:auto;line-height:normal;font-family:Menlo,'DejaVu Sans Mono',consolas,'Courier New',monospace\">\n",
              "</pre>\n"
            ]
          },
          "metadata": {}
        },
        {
          "output_type": "display_data",
          "data": {
            "text/plain": [
              "Output()"
            ],
            "application/vnd.jupyter.widget-view+json": {
              "version_major": 2,
              "version_minor": 0,
              "model_id": "d714f473459c4087aca075d7e41b0361"
            }
          },
          "metadata": {}
        },
        {
          "output_type": "stream",
          "name": "stdout",
          "text": [
            "Initializing collection 'Location'\n"
          ]
        },
        {
          "output_type": "display_data",
          "data": {
            "text/plain": [],
            "text/html": [
              "<pre style=\"white-space:pre;overflow-x:auto;line-height:normal;font-family:Menlo,'DejaVu Sans Mono',consolas,'Courier New',monospace\"></pre>\n"
            ]
          },
          "metadata": {}
        },
        {
          "output_type": "display_data",
          "data": {
            "text/plain": [
              "\n"
            ],
            "text/html": [
              "<pre style=\"white-space:pre;overflow-x:auto;line-height:normal;font-family:Menlo,'DejaVu Sans Mono',consolas,'Courier New',monospace\">\n",
              "</pre>\n"
            ]
          },
          "metadata": {}
        },
        {
          "output_type": "display_data",
          "data": {
            "text/plain": [
              "Output()"
            ],
            "application/vnd.jupyter.widget-view+json": {
              "version_major": 2,
              "version_minor": 0,
              "model_id": "3fd66aca0de4489788c231af73a8dc9f"
            }
          },
          "metadata": {}
        },
        {
          "output_type": "display_data",
          "data": {
            "text/plain": [],
            "text/html": [
              "<pre style=\"white-space:pre;overflow-x:auto;line-height:normal;font-family:Menlo,'DejaVu Sans Mono',consolas,'Courier New',monospace\"></pre>\n"
            ]
          },
          "metadata": {}
        },
        {
          "output_type": "display_data",
          "data": {
            "text/plain": [
              "\n"
            ],
            "text/html": [
              "<pre style=\"white-space:pre;overflow-x:auto;line-height:normal;font-family:Menlo,'DejaVu Sans Mono',consolas,'Courier New',monospace\">\n",
              "</pre>\n"
            ]
          },
          "metadata": {}
        },
        {
          "output_type": "display_data",
          "data": {
            "text/plain": [
              "Output()"
            ],
            "application/vnd.jupyter.widget-view+json": {
              "version_major": 2,
              "version_minor": 0,
              "model_id": "443b07aa182d4fa08755353991442776"
            }
          },
          "metadata": {}
        },
        {
          "output_type": "stream",
          "name": "stdout",
          "text": [
            "Initializing collection 'Region'\n"
          ]
        },
        {
          "output_type": "display_data",
          "data": {
            "text/plain": [],
            "text/html": [
              "<pre style=\"white-space:pre;overflow-x:auto;line-height:normal;font-family:Menlo,'DejaVu Sans Mono',consolas,'Courier New',monospace\"></pre>\n"
            ]
          },
          "metadata": {}
        },
        {
          "output_type": "display_data",
          "data": {
            "text/plain": [
              "\n"
            ],
            "text/html": [
              "<pre style=\"white-space:pre;overflow-x:auto;line-height:normal;font-family:Menlo,'DejaVu Sans Mono',consolas,'Courier New',monospace\">\n",
              "</pre>\n"
            ]
          },
          "metadata": {}
        },
        {
          "output_type": "display_data",
          "data": {
            "text/plain": [
              "Output()"
            ],
            "application/vnd.jupyter.widget-view+json": {
              "version_major": 2,
              "version_minor": 0,
              "model_id": "48f34d7821774273bcc072e2168344fb"
            }
          },
          "metadata": {}
        },
        {
          "output_type": "display_data",
          "data": {
            "text/plain": [],
            "text/html": [
              "<pre style=\"white-space:pre;overflow-x:auto;line-height:normal;font-family:Menlo,'DejaVu Sans Mono',consolas,'Courier New',monospace\"></pre>\n"
            ]
          },
          "metadata": {}
        },
        {
          "output_type": "display_data",
          "data": {
            "text/plain": [
              "\n"
            ],
            "text/html": [
              "<pre style=\"white-space:pre;overflow-x:auto;line-height:normal;font-family:Menlo,'DejaVu Sans Mono',consolas,'Courier New',monospace\">\n",
              "</pre>\n"
            ]
          },
          "metadata": {}
        },
        {
          "output_type": "display_data",
          "data": {
            "text/plain": [
              "Output()"
            ],
            "application/vnd.jupyter.widget-view+json": {
              "version_major": 2,
              "version_minor": 0,
              "model_id": "2cb2acb201a04ec89f524003e4bf86d0"
            }
          },
          "metadata": {}
        },
        {
          "output_type": "stream",
          "name": "stdout",
          "text": [
            "Initializing collection 'Source'\n"
          ]
        },
        {
          "output_type": "display_data",
          "data": {
            "text/plain": [],
            "text/html": [
              "<pre style=\"white-space:pre;overflow-x:auto;line-height:normal;font-family:Menlo,'DejaVu Sans Mono',consolas,'Courier New',monospace\"></pre>\n"
            ]
          },
          "metadata": {}
        },
        {
          "output_type": "display_data",
          "data": {
            "text/plain": [
              "\n"
            ],
            "text/html": [
              "<pre style=\"white-space:pre;overflow-x:auto;line-height:normal;font-family:Menlo,'DejaVu Sans Mono',consolas,'Courier New',monospace\">\n",
              "</pre>\n"
            ]
          },
          "metadata": {}
        },
        {
          "output_type": "display_data",
          "data": {
            "text/plain": [
              "Output()"
            ],
            "application/vnd.jupyter.widget-view+json": {
              "version_major": 2,
              "version_minor": 0,
              "model_id": "1d1314830fc8414aab37de559cae3a7e"
            }
          },
          "metadata": {}
        },
        {
          "output_type": "display_data",
          "data": {
            "text/plain": [],
            "text/html": [
              "<pre style=\"white-space:pre;overflow-x:auto;line-height:normal;font-family:Menlo,'DejaVu Sans Mono',consolas,'Courier New',monospace\"></pre>\n"
            ]
          },
          "metadata": {}
        },
        {
          "output_type": "display_data",
          "data": {
            "text/plain": [
              "\n"
            ],
            "text/html": [
              "<pre style=\"white-space:pre;overflow-x:auto;line-height:normal;font-family:Menlo,'DejaVu Sans Mono',consolas,'Courier New',monospace\">\n",
              "</pre>\n"
            ]
          },
          "metadata": {}
        },
        {
          "output_type": "display_data",
          "data": {
            "text/plain": [
              "Output()"
            ],
            "application/vnd.jupyter.widget-view+json": {
              "version_major": 2,
              "version_minor": 0,
              "model_id": "f9f2787c50c14a879c052ecc78cf48fc"
            }
          },
          "metadata": {}
        },
        {
          "output_type": "stream",
          "name": "stdout",
          "text": [
            "Initializing collection 'eventActor'\n"
          ]
        },
        {
          "output_type": "display_data",
          "data": {
            "text/plain": [],
            "text/html": [
              "<pre style=\"white-space:pre;overflow-x:auto;line-height:normal;font-family:Menlo,'DejaVu Sans Mono',consolas,'Courier New',monospace\"></pre>\n"
            ]
          },
          "metadata": {}
        },
        {
          "output_type": "display_data",
          "data": {
            "text/plain": [
              "\n"
            ],
            "text/html": [
              "<pre style=\"white-space:pre;overflow-x:auto;line-height:normal;font-family:Menlo,'DejaVu Sans Mono',consolas,'Courier New',monospace\">\n",
              "</pre>\n"
            ]
          },
          "metadata": {}
        },
        {
          "output_type": "display_data",
          "data": {
            "text/plain": [
              "Output()"
            ],
            "application/vnd.jupyter.widget-view+json": {
              "version_major": 2,
              "version_minor": 0,
              "model_id": "b0f8ee4fe5c446e4966dafe58d68dee2"
            }
          },
          "metadata": {}
        },
        {
          "output_type": "display_data",
          "data": {
            "text/plain": [],
            "text/html": [
              "<pre style=\"white-space:pre;overflow-x:auto;line-height:normal;font-family:Menlo,'DejaVu Sans Mono',consolas,'Courier New',monospace\"></pre>\n"
            ]
          },
          "metadata": {}
        },
        {
          "output_type": "display_data",
          "data": {
            "text/plain": [
              "\n"
            ],
            "text/html": [
              "<pre style=\"white-space:pre;overflow-x:auto;line-height:normal;font-family:Menlo,'DejaVu Sans Mono',consolas,'Courier New',monospace\">\n",
              "</pre>\n"
            ]
          },
          "metadata": {}
        },
        {
          "output_type": "stream",
          "name": "stdout",
          "text": [
            "Initializing collection 'hasLocation'\n"
          ]
        },
        {
          "output_type": "display_data",
          "data": {
            "text/plain": [
              "Output()"
            ],
            "application/vnd.jupyter.widget-view+json": {
              "version_major": 2,
              "version_minor": 0,
              "model_id": "1a72b4fda58948e0a2eb71bdc719a9ec"
            }
          },
          "metadata": {}
        },
        {
          "output_type": "display_data",
          "data": {
            "text/plain": [],
            "text/html": [
              "<pre style=\"white-space:pre;overflow-x:auto;line-height:normal;font-family:Menlo,'DejaVu Sans Mono',consolas,'Courier New',monospace\"></pre>\n"
            ]
          },
          "metadata": {}
        },
        {
          "output_type": "display_data",
          "data": {
            "text/plain": [
              "\n"
            ],
            "text/html": [
              "<pre style=\"white-space:pre;overflow-x:auto;line-height:normal;font-family:Menlo,'DejaVu Sans Mono',consolas,'Courier New',monospace\">\n",
              "</pre>\n"
            ]
          },
          "metadata": {}
        },
        {
          "output_type": "display_data",
          "data": {
            "text/plain": [
              "Output()"
            ],
            "application/vnd.jupyter.widget-view+json": {
              "version_major": 2,
              "version_minor": 0,
              "model_id": "6edea384a5d84339a997485ee48ee4b3"
            }
          },
          "metadata": {}
        },
        {
          "output_type": "display_data",
          "data": {
            "text/plain": [],
            "text/html": [
              "<pre style=\"white-space:pre;overflow-x:auto;line-height:normal;font-family:Menlo,'DejaVu Sans Mono',consolas,'Courier New',monospace\"></pre>\n"
            ]
          },
          "metadata": {}
        },
        {
          "output_type": "display_data",
          "data": {
            "text/plain": [
              "\n"
            ],
            "text/html": [
              "<pre style=\"white-space:pre;overflow-x:auto;line-height:normal;font-family:Menlo,'DejaVu Sans Mono',consolas,'Courier New',monospace\">\n",
              "</pre>\n"
            ]
          },
          "metadata": {}
        },
        {
          "output_type": "display_data",
          "data": {
            "text/plain": [
              "Output()"
            ],
            "application/vnd.jupyter.widget-view+json": {
              "version_major": 2,
              "version_minor": 0,
              "model_id": "f25a84f15e3445e9b633df16055e3886"
            }
          },
          "metadata": {}
        },
        {
          "output_type": "stream",
          "name": "stdout",
          "text": [
            "Initializing collection 'hasSource'\n"
          ]
        },
        {
          "output_type": "display_data",
          "data": {
            "text/plain": [],
            "text/html": [
              "<pre style=\"white-space:pre;overflow-x:auto;line-height:normal;font-family:Menlo,'DejaVu Sans Mono',consolas,'Courier New',monospace\"></pre>\n"
            ]
          },
          "metadata": {}
        },
        {
          "output_type": "display_data",
          "data": {
            "text/plain": [
              "\n"
            ],
            "text/html": [
              "<pre style=\"white-space:pre;overflow-x:auto;line-height:normal;font-family:Menlo,'DejaVu Sans Mono',consolas,'Courier New',monospace\">\n",
              "</pre>\n"
            ]
          },
          "metadata": {}
        },
        {
          "output_type": "display_data",
          "data": {
            "text/plain": [
              "Output()"
            ],
            "application/vnd.jupyter.widget-view+json": {
              "version_major": 2,
              "version_minor": 0,
              "model_id": "13d8b76a4c3f443ca0dee631fd3959b0"
            }
          },
          "metadata": {}
        },
        {
          "output_type": "display_data",
          "data": {
            "text/plain": [],
            "text/html": [
              "<pre style=\"white-space:pre;overflow-x:auto;line-height:normal;font-family:Menlo,'DejaVu Sans Mono',consolas,'Courier New',monospace\"></pre>\n"
            ]
          },
          "metadata": {}
        },
        {
          "output_type": "display_data",
          "data": {
            "text/plain": [
              "\n"
            ],
            "text/html": [
              "<pre style=\"white-space:pre;overflow-x:auto;line-height:normal;font-family:Menlo,'DejaVu Sans Mono',consolas,'Courier New',monospace\">\n",
              "</pre>\n"
            ]
          },
          "metadata": {}
        },
        {
          "output_type": "display_data",
          "data": {
            "text/plain": [
              "Output()"
            ],
            "application/vnd.jupyter.widget-view+json": {
              "version_major": 2,
              "version_minor": 0,
              "model_id": "14fc56900a6d4df99016f3473c6e0676"
            }
          },
          "metadata": {}
        },
        {
          "output_type": "stream",
          "name": "stdout",
          "text": [
            "Initializing collection 'inCountry'\n"
          ]
        },
        {
          "output_type": "display_data",
          "data": {
            "text/plain": [],
            "text/html": [
              "<pre style=\"white-space:pre;overflow-x:auto;line-height:normal;font-family:Menlo,'DejaVu Sans Mono',consolas,'Courier New',monospace\"></pre>\n"
            ]
          },
          "metadata": {}
        },
        {
          "output_type": "display_data",
          "data": {
            "text/plain": [
              "\n"
            ],
            "text/html": [
              "<pre style=\"white-space:pre;overflow-x:auto;line-height:normal;font-family:Menlo,'DejaVu Sans Mono',consolas,'Courier New',monospace\">\n",
              "</pre>\n"
            ]
          },
          "metadata": {}
        },
        {
          "output_type": "display_data",
          "data": {
            "text/plain": [
              "Output()"
            ],
            "application/vnd.jupyter.widget-view+json": {
              "version_major": 2,
              "version_minor": 0,
              "model_id": "ffdc18c6a4d64e24886e8cd52efbb90f"
            }
          },
          "metadata": {}
        },
        {
          "output_type": "display_data",
          "data": {
            "text/plain": [],
            "text/html": [
              "<pre style=\"white-space:pre;overflow-x:auto;line-height:normal;font-family:Menlo,'DejaVu Sans Mono',consolas,'Courier New',monospace\"></pre>\n"
            ]
          },
          "metadata": {}
        },
        {
          "output_type": "display_data",
          "data": {
            "text/plain": [
              "\n"
            ],
            "text/html": [
              "<pre style=\"white-space:pre;overflow-x:auto;line-height:normal;font-family:Menlo,'DejaVu Sans Mono',consolas,'Courier New',monospace\">\n",
              "</pre>\n"
            ]
          },
          "metadata": {}
        },
        {
          "output_type": "display_data",
          "data": {
            "text/plain": [
              "Output()"
            ],
            "application/vnd.jupyter.widget-view+json": {
              "version_major": 2,
              "version_minor": 0,
              "model_id": "00bb413e3e8d4aa2ae5a6d22f161f9cf"
            }
          },
          "metadata": {}
        },
        {
          "output_type": "stream",
          "name": "stdout",
          "text": [
            "Initializing collection 'inRegion'\n"
          ]
        },
        {
          "output_type": "display_data",
          "data": {
            "text/plain": [],
            "text/html": [
              "<pre style=\"white-space:pre;overflow-x:auto;line-height:normal;font-family:Menlo,'DejaVu Sans Mono',consolas,'Courier New',monospace\"></pre>\n"
            ]
          },
          "metadata": {}
        },
        {
          "output_type": "display_data",
          "data": {
            "text/plain": [
              "\n"
            ],
            "text/html": [
              "<pre style=\"white-space:pre;overflow-x:auto;line-height:normal;font-family:Menlo,'DejaVu Sans Mono',consolas,'Courier New',monospace\">\n",
              "</pre>\n"
            ]
          },
          "metadata": {}
        },
        {
          "output_type": "display_data",
          "data": {
            "text/plain": [
              "Output()"
            ],
            "application/vnd.jupyter.widget-view+json": {
              "version_major": 2,
              "version_minor": 0,
              "model_id": "21cf9ccaa27f46bfa338e8e763e93fff"
            }
          },
          "metadata": {}
        },
        {
          "output_type": "display_data",
          "data": {
            "text/plain": [],
            "text/html": [
              "<pre style=\"white-space:pre;overflow-x:auto;line-height:normal;font-family:Menlo,'DejaVu Sans Mono',consolas,'Courier New',monospace\"></pre>\n"
            ]
          },
          "metadata": {}
        },
        {
          "output_type": "display_data",
          "data": {
            "text/plain": [
              "\n"
            ],
            "text/html": [
              "<pre style=\"white-space:pre;overflow-x:auto;line-height:normal;font-family:Menlo,'DejaVu Sans Mono',consolas,'Courier New',monospace\">\n",
              "</pre>\n"
            ]
          },
          "metadata": {}
        },
        {
          "output_type": "display_data",
          "data": {
            "text/plain": [
              "Output()"
            ],
            "application/vnd.jupyter.widget-view+json": {
              "version_major": 2,
              "version_minor": 0,
              "model_id": "20d76c9bdcfd4cbebd03b49b2265fa15"
            }
          },
          "metadata": {}
        },
        {
          "output_type": "stream",
          "name": "stdout",
          "text": [
            "Initializing collection 'subClass'\n"
          ]
        },
        {
          "output_type": "display_data",
          "data": {
            "text/plain": [],
            "text/html": [
              "<pre style=\"white-space:pre;overflow-x:auto;line-height:normal;font-family:Menlo,'DejaVu Sans Mono',consolas,'Courier New',monospace\"></pre>\n"
            ]
          },
          "metadata": {}
        },
        {
          "output_type": "display_data",
          "data": {
            "text/plain": [
              "\n"
            ],
            "text/html": [
              "<pre style=\"white-space:pre;overflow-x:auto;line-height:normal;font-family:Menlo,'DejaVu Sans Mono',consolas,'Courier New',monospace\">\n",
              "</pre>\n"
            ]
          },
          "metadata": {}
        },
        {
          "output_type": "display_data",
          "data": {
            "text/plain": [
              "Output()"
            ],
            "application/vnd.jupyter.widget-view+json": {
              "version_major": 2,
              "version_minor": 0,
              "model_id": "33dc2087089d47888368b9d5a08e8065"
            }
          },
          "metadata": {}
        },
        {
          "output_type": "display_data",
          "data": {
            "text/plain": [],
            "text/html": [
              "<pre style=\"white-space:pre;overflow-x:auto;line-height:normal;font-family:Menlo,'DejaVu Sans Mono',consolas,'Courier New',monospace\"></pre>\n"
            ]
          },
          "metadata": {}
        },
        {
          "output_type": "display_data",
          "data": {
            "text/plain": [
              "\n"
            ],
            "text/html": [
              "<pre style=\"white-space:pre;overflow-x:auto;line-height:normal;font-family:Menlo,'DejaVu Sans Mono',consolas,'Courier New',monospace\">\n",
              "</pre>\n"
            ]
          },
          "metadata": {}
        },
        {
          "output_type": "display_data",
          "data": {
            "text/plain": [
              "Output()"
            ],
            "application/vnd.jupyter.widget-view+json": {
              "version_major": 2,
              "version_minor": 0,
              "model_id": "2e28383458f6415bb6726ba7a340b727"
            }
          },
          "metadata": {}
        },
        {
          "output_type": "stream",
          "name": "stdout",
          "text": [
            "Initializing collection 'type'\n"
          ]
        },
        {
          "output_type": "display_data",
          "data": {
            "text/plain": [],
            "text/html": [
              "<pre style=\"white-space:pre;overflow-x:auto;line-height:normal;font-family:Menlo,'DejaVu Sans Mono',consolas,'Courier New',monospace\"></pre>\n"
            ]
          },
          "metadata": {}
        },
        {
          "output_type": "display_data",
          "data": {
            "text/plain": [
              "\n"
            ],
            "text/html": [
              "<pre style=\"white-space:pre;overflow-x:auto;line-height:normal;font-family:Menlo,'DejaVu Sans Mono',consolas,'Courier New',monospace\">\n",
              "</pre>\n"
            ]
          },
          "metadata": {}
        },
        {
          "output_type": "display_data",
          "data": {
            "text/plain": [
              "Output()"
            ],
            "application/vnd.jupyter.widget-view+json": {
              "version_major": 2,
              "version_minor": 0,
              "model_id": "5f528fd15f944d44acf9df355dd3f585"
            }
          },
          "metadata": {}
        },
        {
          "output_type": "display_data",
          "data": {
            "text/plain": [],
            "text/html": [
              "<pre style=\"white-space:pre;overflow-x:auto;line-height:normal;font-family:Menlo,'DejaVu Sans Mono',consolas,'Courier New',monospace\"></pre>\n"
            ]
          },
          "metadata": {}
        },
        {
          "output_type": "display_data",
          "data": {
            "text/plain": [
              "\n"
            ],
            "text/html": [
              "<pre style=\"white-space:pre;overflow-x:auto;line-height:normal;font-family:Menlo,'DejaVu Sans Mono',consolas,'Courier New',monospace\">\n",
              "</pre>\n"
            ]
          },
          "metadata": {}
        }
      ],
      "source": [
        "# (~70k nodes, ~400k edges)\n",
        "# https://www.gdeltproject.org/\n",
        "\n",
        "from arango_datasets import Datasets\n",
        "\n",
        "Datasets(db).load(\"OPEN_INTELLIGENCE\")"
      ]
    },
    {
      "cell_type": "markdown",
      "id": "31",
      "metadata": {
        "id": "31"
      },
      "source": [
        "### Configuring LangChain"
      ]
    },
    {
      "cell_type": "code",
      "execution_count": 20,
      "id": "32",
      "metadata": {
        "id": "32",
        "outputId": "96dd371b-cb0a-4e38-f429-dc535b93dbf9",
        "colab": {
          "base_uri": "https://localhost:8080/"
        }
      },
      "outputs": [
        {
          "output_type": "stream",
          "name": "stdout",
          "text": [
            "{\n",
            "    \"Graph Schema\": [\n",
            "        {\n",
            "            \"graph_name\": \"GAME_OF_THRONES\",\n",
            "            \"edge_definitions\": [\n",
            "                {\n",
            "                    \"edge_collection\": \"ChildOf\",\n",
            "                    \"from_vertex_collections\": [\n",
            "                        \"Characters\"\n",
            "                    ],\n",
            "                    \"to_vertex_collections\": [\n",
            "                        \"Characters\"\n",
            "                    ]\n",
            "                }\n",
            "            ]\n",
            "        },\n",
            "        {\n",
            "            \"graph_name\": \"OPEN_INTELLIGENCE\",\n",
            "            \"edge_definitions\": [\n",
            "                {\n",
            "                    \"edge_collection\": \"eventActor\",\n",
            "                    \"from_vertex_collections\": [\n",
            "                        \"Event\"\n",
            "                    ],\n",
            "                    \"to_vertex_collections\": [\n",
            "                        \"Actor\"\n",
            "                    ]\n",
            "                },\n",
            "                {\n",
            "                    \"edge_collection\": \"hasLocation\",\n",
            "                    \"from_vertex_collections\": [\n",
            "                        \"Event\"\n",
            "                    ],\n",
            "                    \"to_vertex_collections\": [\n",
            "                        \"Location\"\n",
            "                    ]\n",
            "                },\n",
            "                {\n",
            "                    \"edge_collection\": \"hasSource\",\n",
            "                    \"from_vertex_collections\": [\n",
            "                        \"Event\"\n",
            "                    ],\n",
            "                    \"to_vertex_collections\": [\n",
            "                        \"Source\"\n",
            "                    ]\n",
            "                },\n",
            "                {\n",
            "                    \"edge_collection\": \"inCountry\",\n",
            "                    \"from_vertex_collections\": [\n",
            "                        \"Location\"\n",
            "                    ],\n",
            "                    \"to_vertex_collections\": [\n",
            "                        \"Country\"\n",
            "                    ]\n",
            "                },\n",
            "                {\n",
            "                    \"edge_collection\": \"inRegion\",\n",
            "                    \"from_vertex_collections\": [\n",
            "                        \"Country\"\n",
            "                    ],\n",
            "                    \"to_vertex_collections\": [\n",
            "                        \"Region\"\n",
            "                    ]\n",
            "                },\n",
            "                {\n",
            "                    \"edge_collection\": \"subClass\",\n",
            "                    \"from_vertex_collections\": [\n",
            "                        \"Class\"\n",
            "                    ],\n",
            "                    \"to_vertex_collections\": [\n",
            "                        \"Class\"\n",
            "                    ]\n",
            "                },\n",
            "                {\n",
            "                    \"edge_collection\": \"type\",\n",
            "                    \"from_vertex_collections\": [\n",
            "                        \"Event\"\n",
            "                    ],\n",
            "                    \"to_vertex_collections\": [\n",
            "                        \"Class\"\n",
            "                    ]\n",
            "                }\n",
            "            ]\n",
            "        }\n",
            "    ],\n",
            "    \"Collection Schema\": [\n",
            "        {\n",
            "            \"collection_name\": \"Region\",\n",
            "            \"collection_type\": \"document\",\n",
            "            \"document_properties\": [\n",
            "                {\n",
            "                    \"name\": \"_key\",\n",
            "                    \"type\": \"str\"\n",
            "                },\n",
            "                {\n",
            "                    \"name\": \"_id\",\n",
            "                    \"type\": \"str\"\n",
            "                },\n",
            "                {\n",
            "                    \"name\": \"_rev\",\n",
            "                    \"type\": \"str\"\n",
            "                },\n",
            "                {\n",
            "                    \"name\": \"name\",\n",
            "                    \"type\": \"str\"\n",
            "                }\n",
            "            ],\n",
            "            \"example_document\": {\n",
            "                \"_key\": \"Northern_Africa\",\n",
            "                \"_id\": \"Region/Northern_Africa\",\n",
            "                \"_rev\": \"_hg5h2TC---\",\n",
            "                \"name\": \"Northern Africa\"\n",
            "            }\n",
            "        },\n",
            "        {\n",
            "            \"collection_name\": \"type\",\n",
            "            \"collection_type\": \"edge\",\n",
            "            \"edge_properties\": [\n",
            "                {\n",
            "                    \"name\": \"_key\",\n",
            "                    \"type\": \"str\"\n",
            "                },\n",
            "                {\n",
            "                    \"name\": \"_id\",\n",
            "                    \"type\": \"str\"\n",
            "                },\n",
            "                {\n",
            "                    \"name\": \"_from\",\n",
            "                    \"type\": \"str\"\n",
            "                },\n",
            "                {\n",
            "                    \"name\": \"_to\",\n",
            "                    \"type\": \"str\"\n",
            "                },\n",
            "                {\n",
            "                    \"name\": \"_rev\",\n",
            "                    \"type\": \"str\"\n",
            "                },\n",
            "                {\n",
            "                    \"name\": \"name\",\n",
            "                    \"type\": \"str\"\n",
            "                }\n",
            "            ],\n",
            "            \"example_edge\": {\n",
            "                \"_key\": \"143072967\",\n",
            "                \"_id\": \"type/143072967\",\n",
            "                \"_from\": \"Event/ALG1\",\n",
            "                \"_to\": \"Class/Violence_against_civilians\",\n",
            "                \"_rev\": \"_hg5iOKO---\",\n",
            "                \"name\": \"Violence against civilians\"\n",
            "            }\n",
            "        },\n",
            "        {\n",
            "            \"collection_name\": \"hasSource\",\n",
            "            \"collection_type\": \"edge\",\n",
            "            \"edge_properties\": [\n",
            "                {\n",
            "                    \"name\": \"_key\",\n",
            "                    \"type\": \"str\"\n",
            "                },\n",
            "                {\n",
            "                    \"name\": \"_id\",\n",
            "                    \"type\": \"str\"\n",
            "                },\n",
            "                {\n",
            "                    \"name\": \"_from\",\n",
            "                    \"type\": \"str\"\n",
            "                },\n",
            "                {\n",
            "                    \"name\": \"_to\",\n",
            "                    \"type\": \"str\"\n",
            "                },\n",
            "                {\n",
            "                    \"name\": \"_rev\",\n",
            "                    \"type\": \"str\"\n",
            "                }\n",
            "            ],\n",
            "            \"example_edge\": {\n",
            "                \"_key\": \"ALG1-b30282f2374cee867a9f7e2a62deb1b5\",\n",
            "                \"_id\": \"hasSource/ALG1-b30282f2374cee867a9f7e2a62deb1b5\",\n",
            "                \"_from\": \"Event/ALG1\",\n",
            "                \"_to\": \"Source/b30282f2374cee867a9f7e2a62deb1b5\",\n",
            "                \"_rev\": \"_hg5iH_a---\"\n",
            "            }\n",
            "        },\n",
            "        {\n",
            "            \"collection_name\": \"Characters\",\n",
            "            \"collection_type\": \"document\",\n",
            "            \"document_properties\": [\n",
            "                {\n",
            "                    \"name\": \"_key\",\n",
            "                    \"type\": \"str\"\n",
            "                },\n",
            "                {\n",
            "                    \"name\": \"_id\",\n",
            "                    \"type\": \"str\"\n",
            "                },\n",
            "                {\n",
            "                    \"name\": \"_rev\",\n",
            "                    \"type\": \"str\"\n",
            "                },\n",
            "                {\n",
            "                    \"name\": \"name\",\n",
            "                    \"type\": \"str\"\n",
            "                },\n",
            "                {\n",
            "                    \"name\": \"surname\",\n",
            "                    \"type\": \"str\"\n",
            "                },\n",
            "                {\n",
            "                    \"name\": \"alive\",\n",
            "                    \"type\": \"bool\"\n",
            "                },\n",
            "                {\n",
            "                    \"name\": \"age\",\n",
            "                    \"type\": \"int\"\n",
            "                },\n",
            "                {\n",
            "                    \"name\": \"gender\",\n",
            "                    \"type\": \"str\"\n",
            "                }\n",
            "            ],\n",
            "            \"example_document\": {\n",
            "                \"_key\": \"RickardStark\",\n",
            "                \"_id\": \"Characters/RickardStark\",\n",
            "                \"_rev\": \"_hg5hjBG---\",\n",
            "                \"name\": \"Rickard\",\n",
            "                \"surname\": \"Stark\",\n",
            "                \"alive\": false,\n",
            "                \"age\": 60,\n",
            "                \"gender\": \"male\"\n",
            "            }\n",
            "        },\n",
            "        {\n",
            "            \"collection_name\": \"ChildOf\",\n",
            "            \"collection_type\": \"edge\",\n",
            "            \"edge_properties\": [\n",
            "                {\n",
            "                    \"name\": \"_key\",\n",
            "                    \"type\": \"str\"\n",
            "                },\n",
            "                {\n",
            "                    \"name\": \"_id\",\n",
            "                    \"type\": \"str\"\n",
            "                },\n",
            "                {\n",
            "                    \"name\": \"_from\",\n",
            "                    \"type\": \"str\"\n",
            "                },\n",
            "                {\n",
            "                    \"name\": \"_to\",\n",
            "                    \"type\": \"str\"\n",
            "                },\n",
            "                {\n",
            "                    \"name\": \"_rev\",\n",
            "                    \"type\": \"str\"\n",
            "                }\n",
            "            ],\n",
            "            \"example_edge\": {\n",
            "                \"_key\": \"267270121\",\n",
            "                \"_id\": \"ChildOf/267270121\",\n",
            "                \"_from\": \"Characters/BranStark\",\n",
            "                \"_to\": \"Characters/NedStark\",\n",
            "                \"_rev\": \"_hg5hli----\"\n",
            "            }\n",
            "        },\n",
            "        {\n",
            "            \"collection_name\": \"inRegion\",\n",
            "            \"collection_type\": \"edge\",\n",
            "            \"edge_properties\": [\n",
            "                {\n",
            "                    \"name\": \"_key\",\n",
            "                    \"type\": \"str\"\n",
            "                },\n",
            "                {\n",
            "                    \"name\": \"_id\",\n",
            "                    \"type\": \"str\"\n",
            "                },\n",
            "                {\n",
            "                    \"name\": \"_from\",\n",
            "                    \"type\": \"str\"\n",
            "                },\n",
            "                {\n",
            "                    \"name\": \"_to\",\n",
            "                    \"type\": \"str\"\n",
            "                },\n",
            "                {\n",
            "                    \"name\": \"_rev\",\n",
            "                    \"type\": \"str\"\n",
            "                }\n",
            "            ],\n",
            "            \"example_edge\": {\n",
            "                \"_key\": \"Angola-Middle_Africa\",\n",
            "                \"_id\": \"inRegion/Angola-Middle_Africa\",\n",
            "                \"_from\": \"Country/Angola\",\n",
            "                \"_to\": \"Region/Middle_Africa\",\n",
            "                \"_rev\": \"_hg5iMie---\"\n",
            "            }\n",
            "        },\n",
            "        {\n",
            "            \"collection_name\": \"eventActor\",\n",
            "            \"collection_type\": \"edge\",\n",
            "            \"edge_properties\": [\n",
            "                {\n",
            "                    \"name\": \"_key\",\n",
            "                    \"type\": \"str\"\n",
            "                },\n",
            "                {\n",
            "                    \"name\": \"_id\",\n",
            "                    \"type\": \"str\"\n",
            "                },\n",
            "                {\n",
            "                    \"name\": \"_from\",\n",
            "                    \"type\": \"str\"\n",
            "                },\n",
            "                {\n",
            "                    \"name\": \"_to\",\n",
            "                    \"type\": \"str\"\n",
            "                },\n",
            "                {\n",
            "                    \"name\": \"_rev\",\n",
            "                    \"type\": \"str\"\n",
            "                }\n",
            "            ],\n",
            "            \"example_edge\": {\n",
            "                \"_key\": \"63500328\",\n",
            "                \"_id\": \"eventActor/63500328\",\n",
            "                \"_from\": \"Event/ALG1\",\n",
            "                \"_to\": \"Actor/b4226a92202dcdf01cdee130abd85928\",\n",
            "                \"_rev\": \"_hg5h4j2---\"\n",
            "            }\n",
            "        },\n",
            "        {\n",
            "            \"collection_name\": \"inCountry\",\n",
            "            \"collection_type\": \"edge\",\n",
            "            \"edge_properties\": [\n",
            "                {\n",
            "                    \"name\": \"_key\",\n",
            "                    \"type\": \"str\"\n",
            "                },\n",
            "                {\n",
            "                    \"name\": \"_id\",\n",
            "                    \"type\": \"str\"\n",
            "                },\n",
            "                {\n",
            "                    \"name\": \"_from\",\n",
            "                    \"type\": \"str\"\n",
            "                },\n",
            "                {\n",
            "                    \"name\": \"_to\",\n",
            "                    \"type\": \"str\"\n",
            "                },\n",
            "                {\n",
            "                    \"name\": \"_rev\",\n",
            "                    \"type\": \"str\"\n",
            "                }\n",
            "            ],\n",
            "            \"example_edge\": {\n",
            "                \"_key\": \"61112d48fd89b4045a476e500a51bc5c-Algeria\",\n",
            "                \"_id\": \"inCountry/61112d48fd89b4045a476e500a51bc5c-Algeria\",\n",
            "                \"_from\": \"Location/61112d48fd89b4045a476e500a51bc5c\",\n",
            "                \"_to\": \"Country/Algeria\",\n",
            "                \"_rev\": \"_hg5iLj2---\"\n",
            "            }\n",
            "        },\n",
            "        {\n",
            "            \"collection_name\": \"subClass\",\n",
            "            \"collection_type\": \"edge\",\n",
            "            \"edge_properties\": [\n",
            "                {\n",
            "                    \"name\": \"_key\",\n",
            "                    \"type\": \"str\"\n",
            "                },\n",
            "                {\n",
            "                    \"name\": \"_id\",\n",
            "                    \"type\": \"str\"\n",
            "                },\n",
            "                {\n",
            "                    \"name\": \"_from\",\n",
            "                    \"type\": \"str\"\n",
            "                },\n",
            "                {\n",
            "                    \"name\": \"_to\",\n",
            "                    \"type\": \"str\"\n",
            "                },\n",
            "                {\n",
            "                    \"name\": \"_rev\",\n",
            "                    \"type\": \"str\"\n",
            "                }\n",
            "            ],\n",
            "            \"example_edge\": {\n",
            "                \"_key\": \"Violence_against_civilians-Attack\",\n",
            "                \"_id\": \"subClass/Violence_against_civilians-Attack\",\n",
            "                \"_from\": \"Class/Violence_against_civilians\",\n",
            "                \"_to\": \"Class/Attack\",\n",
            "                \"_rev\": \"_hg5iM8q---\"\n",
            "            }\n",
            "        },\n",
            "        {\n",
            "            \"collection_name\": \"Country\",\n",
            "            \"collection_type\": \"document\",\n",
            "            \"document_properties\": [\n",
            "                {\n",
            "                    \"name\": \"_key\",\n",
            "                    \"type\": \"str\"\n",
            "                },\n",
            "                {\n",
            "                    \"name\": \"_id\",\n",
            "                    \"type\": \"str\"\n",
            "                },\n",
            "                {\n",
            "                    \"name\": \"_rev\",\n",
            "                    \"type\": \"str\"\n",
            "                },\n",
            "                {\n",
            "                    \"name\": \"name\",\n",
            "                    \"type\": \"str\"\n",
            "                }\n",
            "            ],\n",
            "            \"example_document\": {\n",
            "                \"_key\": \"Algeria\",\n",
            "                \"_id\": \"Country/Algeria\",\n",
            "                \"_rev\": \"_hg5hroa---\",\n",
            "                \"name\": \"Algeria\"\n",
            "            }\n",
            "        },\n",
            "        {\n",
            "            \"collection_name\": \"Actor\",\n",
            "            \"collection_type\": \"document\",\n",
            "            \"document_properties\": [\n",
            "                {\n",
            "                    \"name\": \"_key\",\n",
            "                    \"type\": \"str\"\n",
            "                },\n",
            "                {\n",
            "                    \"name\": \"_id\",\n",
            "                    \"type\": \"str\"\n",
            "                },\n",
            "                {\n",
            "                    \"name\": \"_rev\",\n",
            "                    \"type\": \"str\"\n",
            "                },\n",
            "                {\n",
            "                    \"name\": \"name\",\n",
            "                    \"type\": \"str\"\n",
            "                }\n",
            "            ],\n",
            "            \"example_document\": {\n",
            "                \"_key\": \"228e62bfcd97e3cb8a559cba8a9e7b27\",\n",
            "                \"_id\": \"Actor/228e62bfcd97e3cb8a559cba8a9e7b27\",\n",
            "                \"_rev\": \"_hg5hmoC---\",\n",
            "                \"name\": \"Zouar Communal Militia (Chad)\"\n",
            "            }\n",
            "        },\n",
            "        {\n",
            "            \"collection_name\": \"Class\",\n",
            "            \"collection_type\": \"document\",\n",
            "            \"document_properties\": [\n",
            "                {\n",
            "                    \"name\": \"_key\",\n",
            "                    \"type\": \"str\"\n",
            "                },\n",
            "                {\n",
            "                    \"name\": \"_id\",\n",
            "                    \"type\": \"str\"\n",
            "                },\n",
            "                {\n",
            "                    \"name\": \"_rev\",\n",
            "                    \"type\": \"str\"\n",
            "                },\n",
            "                {\n",
            "                    \"name\": \"name\",\n",
            "                    \"type\": \"str\"\n",
            "                }\n",
            "            ],\n",
            "            \"example_document\": {\n",
            "                \"_key\": \"Violence_against_civilians\",\n",
            "                \"_id\": \"Class/Violence_against_civilians\",\n",
            "                \"_rev\": \"_hg5hrJm---\",\n",
            "                \"name\": \"Violence against civilians\"\n",
            "            }\n",
            "        },\n",
            "        {\n",
            "            \"collection_name\": \"hasLocation\",\n",
            "            \"collection_type\": \"edge\",\n",
            "            \"edge_properties\": [\n",
            "                {\n",
            "                    \"name\": \"_key\",\n",
            "                    \"type\": \"str\"\n",
            "                },\n",
            "                {\n",
            "                    \"name\": \"_id\",\n",
            "                    \"type\": \"str\"\n",
            "                },\n",
            "                {\n",
            "                    \"name\": \"_from\",\n",
            "                    \"type\": \"str\"\n",
            "                },\n",
            "                {\n",
            "                    \"name\": \"_to\",\n",
            "                    \"type\": \"str\"\n",
            "                },\n",
            "                {\n",
            "                    \"name\": \"_rev\",\n",
            "                    \"type\": \"str\"\n",
            "                }\n",
            "            ],\n",
            "            \"example_edge\": {\n",
            "                \"_key\": \"ALG1-61112d48fd89b4045a476e500a51bc5c\",\n",
            "                \"_id\": \"hasLocation/ALG1-61112d48fd89b4045a476e500a51bc5c\",\n",
            "                \"_from\": \"Event/ALG1\",\n",
            "                \"_to\": \"Location/61112d48fd89b4045a476e500a51bc5c\",\n",
            "                \"_rev\": \"_hg5iB-e---\"\n",
            "            }\n",
            "        },\n",
            "        {\n",
            "            \"collection_name\": \"Event\",\n",
            "            \"collection_type\": \"document\",\n",
            "            \"document_properties\": [\n",
            "                {\n",
            "                    \"name\": \"_key\",\n",
            "                    \"type\": \"str\"\n",
            "                },\n",
            "                {\n",
            "                    \"name\": \"_id\",\n",
            "                    \"type\": \"str\"\n",
            "                },\n",
            "                {\n",
            "                    \"name\": \"_rev\",\n",
            "                    \"type\": \"str\"\n",
            "                },\n",
            "                {\n",
            "                    \"name\": \"date\",\n",
            "                    \"type\": \"str\"\n",
            "                },\n",
            "                {\n",
            "                    \"name\": \"dateStamp\",\n",
            "                    \"type\": \"int\"\n",
            "                },\n",
            "                {\n",
            "                    \"name\": \"description\",\n",
            "                    \"type\": \"str\"\n",
            "                },\n",
            "                {\n",
            "                    \"name\": \"fatalities\",\n",
            "                    \"type\": \"int\"\n",
            "                },\n",
            "                {\n",
            "                    \"name\": \"geo\",\n",
            "                    \"type\": \"dict\"\n",
            "                },\n",
            "                {\n",
            "                    \"name\": \"name\",\n",
            "                    \"type\": \"str\"\n",
            "                },\n",
            "                {\n",
            "                    \"name\": \"label\",\n",
            "                    \"type\": \"str\"\n",
            "                }\n",
            "            ],\n",
            "            \"example_document\": {\n",
            "                \"_key\": \"ALG1\",\n",
            "                \"_id\": \"Event/ALG1\",\n",
            "                \"_rev\": \"_hg5hwR2---\",\n",
            "                \"date\": \"1997-01-01T00:00:00.000Z\",\n",
            "                \"dateStamp\": 852076800000,\n",
            "                \"description\": \"5 January: Beheading of 5 citizens in Douaouda (Tipaza).\",\n",
            "                \"fatalities\": 5,\n",
            "                \"geo\": {\n",
            "                    \"type\": \"Point\",\n",
            "                    \"coordinates\": [\n",
            "                        36.672,\n",
            "                        2.789\n",
            "                    ]\n",
            "                },\n",
            "                \"name\": \"Beheading of 5 citizens in Dou\",\n",
            "                \"label\": \"Violence_against_civilians\"\n",
            "            }\n",
            "        },\n",
            "        {\n",
            "            \"collection_name\": \"Source\",\n",
            "            \"collection_type\": \"document\",\n",
            "            \"document_properties\": [\n",
            "                {\n",
            "                    \"name\": \"_key\",\n",
            "                    \"type\": \"str\"\n",
            "                },\n",
            "                {\n",
            "                    \"name\": \"_id\",\n",
            "                    \"type\": \"str\"\n",
            "                },\n",
            "                {\n",
            "                    \"name\": \"_rev\",\n",
            "                    \"type\": \"str\"\n",
            "                },\n",
            "                {\n",
            "                    \"name\": \"name\",\n",
            "                    \"type\": \"str\"\n",
            "                },\n",
            "                {\n",
            "                    \"name\": \"sourceScale\",\n",
            "                    \"type\": \"str\"\n",
            "                }\n",
            "            ],\n",
            "            \"example_document\": {\n",
            "                \"_key\": \"b30282f2374cee867a9f7e2a62deb1b5\",\n",
            "                \"_id\": \"Source/b30282f2374cee867a9f7e2a62deb1b5\",\n",
            "                \"_rev\": \"_hg5h3-K---\",\n",
            "                \"name\": \"Algeria Watch\",\n",
            "                \"sourceScale\": \"Other\"\n",
            "            }\n",
            "        },\n",
            "        {\n",
            "            \"collection_name\": \"Location\",\n",
            "            \"collection_type\": \"document\",\n",
            "            \"document_properties\": [\n",
            "                {\n",
            "                    \"name\": \"_key\",\n",
            "                    \"type\": \"str\"\n",
            "                },\n",
            "                {\n",
            "                    \"name\": \"_id\",\n",
            "                    \"type\": \"str\"\n",
            "                },\n",
            "                {\n",
            "                    \"name\": \"_rev\",\n",
            "                    \"type\": \"str\"\n",
            "                },\n",
            "                {\n",
            "                    \"name\": \"name\",\n",
            "                    \"type\": \"str\"\n",
            "                }\n",
            "            ],\n",
            "            \"example_document\": {\n",
            "                \"_key\": \"61112d48fd89b4045a476e500a51bc5c\",\n",
            "                \"_id\": \"Location/61112d48fd89b4045a476e500a51bc5c\",\n",
            "                \"_rev\": \"_hg5h1h6---\",\n",
            "                \"name\": \"Douaouda\"\n",
            "            }\n",
            "        }\n",
            "    ]\n",
            "}\n"
          ]
        }
      ],
      "source": [
        "# 1: Instantiate the ArangoDB-LangChain Graph wrapper\n",
        "\n",
        "from langchain.graphs import ArangoGraph\n",
        "\n",
        "graph = ArangoGraph(db)\n",
        "\n",
        "pprint(graph.schema)"
      ]
    },
    {
      "cell_type": "code",
      "execution_count": 21,
      "id": "33",
      "metadata": {
        "id": "33",
        "outputId": "d3fb20f9-b38b-4451-b999-5a5198b079d6",
        "colab": {
          "base_uri": "https://localhost:8080/"
        }
      },
      "outputs": [
        {
          "output_type": "stream",
          "name": "stderr",
          "text": [
            "/usr/local/lib/python3.10/dist-packages/langchain_core/_api/deprecation.py:117: LangChainDeprecationWarning: The class `langchain_community.chat_models.openai.ChatOpenAI` was deprecated in langchain-community 0.0.10 and will be removed in 0.2.0. An updated version of the class exists in the langchain-openai package and should be used instead. To use it run `pip install -U langchain-openai` and import as `from langchain_openai import ChatOpenAI`.\n",
            "  warn_deprecated(\n"
          ]
        }
      ],
      "source": [
        "# 2: Instantiate the OpenAI Chat model\n",
        "# Note that other models can be used as well\n",
        "# Ref: https://github.com/langchain-ai/langchain/tree/master/libs/langchain/langchain/chat_models\n",
        "\n",
        "from langchain.chat_models import ChatOpenAI\n",
        "\n",
        "model = ChatOpenAI(temperature=0, model_name='gpt-4')"
      ]
    },
    {
      "cell_type": "code",
      "execution_count": 22,
      "id": "34",
      "metadata": {
        "id": "34"
      },
      "outputs": [],
      "source": [
        "# 3: Instantiate the LangChain Question-Answering Chain with\n",
        "# our **model** and **graph**\n",
        "\n",
        "from langchain.chains import ArangoGraphQAChain\n",
        "\n",
        "chain = ArangoGraphQAChain.from_llm(model, graph=graph, verbose=True)"
      ]
    },
    {
      "cell_type": "markdown",
      "id": "35",
      "metadata": {
        "id": "35"
      },
      "source": [
        "---\n",
        "## Prompting"
      ]
    },
    {
      "cell_type": "markdown",
      "id": "36",
      "metadata": {
        "id": "36"
      },
      "source": [
        "#### Game Of Thrones"
      ]
    },
    {
      "cell_type": "code",
      "execution_count": 23,
      "id": "37",
      "metadata": {
        "id": "37",
        "outputId": "5970c32a-0cb8-4626-b296-bf0caaddff99",
        "colab": {
          "base_uri": "https://localhost:8080/"
        }
      },
      "outputs": [
        {
          "output_type": "stream",
          "name": "stdout",
          "text": [
            "\n",
            "\n",
            "\u001b[1m> Entering new ArangoGraphQAChain chain...\u001b[0m\n",
            "AQL Query (1):\u001b[32;1m\u001b[1;3m\n",
            "WITH Characters\n",
            "FOR c IN Characters\n",
            "SORT c.age ASC\n",
            "LIMIT 2\n",
            "RETURN c\n",
            "\u001b[0m\n",
            "AQL Result:\n",
            "\u001b[32;1m\u001b[1;3m[{'_key': 'BranStark', '_id': 'Characters/BranStark', '_rev': '_hg5hjBG--D', 'name': 'Bran', 'surname': 'Stark', 'alive': True, 'age': 10, 'gender': 'male'}, {'_key': 'AryaStark', '_id': 'Characters/AryaStark', '_rev': '_hg5hjBG--C', 'name': 'Arya', 'surname': 'Stark', 'alive': True, 'age': 11, 'gender': 'female'}]\u001b[0m\n",
            "\n",
            "\u001b[1m> Finished chain.\u001b[0m\n"
          ]
        },
        {
          "output_type": "execute_result",
          "data": {
            "text/plain": [
              "{'query': 'Who are the 2 youngest characters?',\n",
              " 'result': 'The two youngest characters are Bran Stark, who is 10 years old, and Arya Stark, who is 11 years old.'}"
            ]
          },
          "metadata": {},
          "execution_count": 23
        }
      ],
      "source": [
        "chain.invoke(\"Who are the 2 youngest characters?\")"
      ]
    },
    {
      "cell_type": "code",
      "execution_count": 24,
      "id": "38",
      "metadata": {
        "id": "38",
        "outputId": "53ad1ac2-28d0-4d3f-f6d2-1e550063a2d1",
        "colab": {
          "base_uri": "https://localhost:8080/"
        }
      },
      "outputs": [
        {
          "output_type": "stream",
          "name": "stdout",
          "text": [
            "\n",
            "\n",
            "\u001b[1m> Entering new ArangoGraphQAChain chain...\u001b[0m\n",
            "AQL Query (1):\u001b[32;1m\u001b[1;3m\n",
            "WITH Characters, ChildOf\n",
            "FOR v, e IN 1..10 ANY 'Characters/BranStark' ChildOf\n",
            "  FILTER v._key == 'AryaStark'\n",
            "  RETURN e\n",
            "\u001b[0m\n",
            "AQL Result:\n",
            "\u001b[32;1m\u001b[1;3m[{'_key': '267270127', '_id': 'ChildOf/267270127', '_from': 'Characters/AryaStark', '_to': 'Characters/NedStark', '_rev': '_hg5hliC--A'}, {'_key': '267270129', '_id': 'ChildOf/267270129', '_from': 'Characters/AryaStark', '_to': 'Characters/CatelynStark', '_rev': '_hg5hliC--B'}, {'_key': '267270127', '_id': 'ChildOf/267270127', '_from': 'Characters/AryaStark', '_to': 'Characters/NedStark', '_rev': '_hg5hliC--A'}, {'_key': '267270129', '_id': 'ChildOf/267270129', '_from': 'Characters/AryaStark', '_to': 'Characters/CatelynStark', '_rev': '_hg5hliC--B'}, {'_key': '267270129', '_id': 'ChildOf/267270129', '_from': 'Characters/AryaStark', '_to': 'Characters/CatelynStark', '_rev': '_hg5hliC--B'}, {'_key': '267270127', '_id': 'ChildOf/267270127', '_from': 'Characters/AryaStark', '_to': 'Characters/NedStark', '_rev': '_hg5hliC--A'}, {'_key': '267270127', '_id': 'ChildOf/267270127', '_from': 'Characters/AryaStark', '_to': 'Characters/NedStark', '_rev': '_hg5hliC--A'}, {'_key': '267270129', '_id': 'ChildOf/267270129', '_from': 'Characters/AryaStark', '_to': 'Characters/CatelynStark', '_rev': '_hg5hliC--B'}, {'_key': '267270127', '_id': 'ChildOf/267270127', '_from': 'Characters/AryaStark', '_to': 'Characters/NedStark', '_rev': '_hg5hliC--A'}, {'_key': '267270129', '_id': 'ChildOf/267270129', '_from': 'Characters/AryaStark', '_to': 'Characters/CatelynStark', '_rev': '_hg5hliC--B'}]\u001b[0m\n",
            "\n",
            "\u001b[1m> Finished chain.\u001b[0m\n"
          ]
        },
        {
          "output_type": "execute_result",
          "data": {
            "text/plain": [
              "{'query': 'How are Bran Stark and Arya Stark related?',\n",
              " 'result': 'Bran Stark and Arya Stark are related as siblings. They both are the children of Ned Stark and Catelyn Stark.'}"
            ]
          },
          "metadata": {},
          "execution_count": 24
        }
      ],
      "source": [
        "chain.invoke(\"How are Bran Stark and Arya Stark related?\")"
      ]
    },
    {
      "cell_type": "code",
      "execution_count": 25,
      "id": "39",
      "metadata": {
        "id": "39",
        "outputId": "64bea922-404c-4372-a941-8d321d16e837",
        "colab": {
          "base_uri": "https://localhost:8080/"
        }
      },
      "outputs": [
        {
          "output_type": "stream",
          "name": "stdout",
          "text": [
            "\n",
            "\n",
            "\u001b[1m> Entering new ArangoGraphQAChain chain...\u001b[0m\n",
            "AQL Query (1):\u001b[32;1m\u001b[1;3m\n",
            "WITH Characters, ChildOf\n",
            "FOR v, e IN 2..2 OUTBOUND 'Characters/BranStark' ChildOf\n",
            "RETURN v\n",
            "\u001b[0m\n",
            "AQL Result:\n",
            "\u001b[32;1m\u001b[1;3m[{'_key': 'LyarraStark', '_id': 'Characters/LyarraStark', '_rev': '_hg5hjBG--_', 'name': 'Lyarra', 'surname': 'Stark', 'alive': False, 'age': 60, 'gender': 'female'}, {'_key': 'RickardStark', '_id': 'Characters/RickardStark', '_rev': '_hg5hjBG---', 'name': 'Rickard', 'surname': 'Stark', 'alive': False, 'age': 60, 'gender': 'male'}]\u001b[0m\n",
            "\n",
            "\u001b[1m> Finished chain.\u001b[0m\n"
          ]
        },
        {
          "output_type": "execute_result",
          "data": {
            "text/plain": [
              "{'query': 'Who are Bran Stark’s grandparents?',\n",
              " 'result': \"Bran Stark's grandparents are Lyarra Stark and Rickard Stark.\"}"
            ]
          },
          "metadata": {},
          "execution_count": 25
        }
      ],
      "source": [
        "chain.invoke(\"Who are Bran Stark’s grandparents?\")"
      ]
    },
    {
      "cell_type": "code",
      "execution_count": 26,
      "id": "40",
      "metadata": {
        "id": "40",
        "outputId": "2e7bea00-1b20-4c12-b36c-fe901e5d4a48",
        "colab": {
          "base_uri": "https://localhost:8080/"
        }
      },
      "outputs": [
        {
          "output_type": "stream",
          "name": "stdout",
          "text": [
            "\n",
            "\n",
            "\u001b[1m> Entering new ArangoGraphQAChain chain...\u001b[0m\n",
            "AQL Query (1):\u001b[32;1m\u001b[1;3m\n",
            "WITH Characters, ChildOf\n",
            "FOR doc IN Characters\n",
            "    COLLECT family = doc.surname WITH COUNT INTO characterCount\n",
            "    RETURN {family: family, characterCount: characterCount}\n",
            "\u001b[0m\n",
            "AQL Result:\n",
            "\u001b[32;1m\u001b[1;3m[{'family': 'Baratheon', 'characterCount': 1}, {'family': 'Lannister', 'characterCount': 4}, {'family': 'Stark', 'characterCount': 8}]\u001b[0m\n",
            "\n",
            "\u001b[1m> Finished chain.\u001b[0m\n"
          ]
        },
        {
          "output_type": "execute_result",
          "data": {
            "text/plain": [
              "{'query': 'Fetch me the character count for each family',\n",
              " 'result': 'The count of characters for each family in the database is as follows: There is 1 character from the Baratheon family, 4 characters from the Lannister family, and 8 characters from the Stark family.'}"
            ]
          },
          "metadata": {},
          "execution_count": 26
        }
      ],
      "source": [
        "chain.invoke(\"Fetch me the character count for each family\")"
      ]
    },
    {
      "cell_type": "code",
      "execution_count": 27,
      "id": "41",
      "metadata": {
        "id": "41",
        "outputId": "ccf60d29-9642-423e-caf2-6d4413ea8042",
        "colab": {
          "base_uri": "https://localhost:8080/"
        }
      },
      "outputs": [
        {
          "output_type": "stream",
          "name": "stdout",
          "text": [
            "\n",
            "\n",
            "\u001b[1m> Entering new ArangoGraphQAChain chain...\u001b[0m\n",
            "AQL Query (1):\u001b[32;1m\u001b[1;3m\n",
            "WITH Characters\n",
            "FOR rickard IN Characters\n",
            "    FILTER rickard._key == 'RickardStark'\n",
            "FOR arya IN Characters\n",
            "    FILTER arya._key == 'AryaStark'\n",
            "RETURN ABS(rickard.age - arya.age)\n",
            "\u001b[0m\n",
            "AQL Result:\n",
            "\u001b[32;1m\u001b[1;3m[49]\u001b[0m\n",
            "\n",
            "\u001b[1m> Finished chain.\u001b[0m\n"
          ]
        },
        {
          "output_type": "execute_result",
          "data": {
            "text/plain": [
              "{'query': 'What is the age difference between Rickard Stark and Arya Stark?',\n",
              " 'result': 'The age difference between Rickard Stark and Arya Stark is 49 years.'}"
            ]
          },
          "metadata": {},
          "execution_count": 27
        }
      ],
      "source": [
        "chain.invoke(\"What is the age difference between Rickard Stark and Arya Stark?\")"
      ]
    },
    {
      "cell_type": "code",
      "execution_count": 28,
      "id": "42",
      "metadata": {
        "id": "42",
        "outputId": "d5459311-3406-4933-b8da-e87822d3d7fd",
        "colab": {
          "base_uri": "https://localhost:8080/"
        }
      },
      "outputs": [
        {
          "output_type": "stream",
          "name": "stdout",
          "text": [
            "\n",
            "\n",
            "\u001b[1m> Entering new ArangoGraphQAChain chain...\u001b[0m\n",
            "AQL Query (1):\u001b[32;1m\u001b[1;3m\n",
            "WITH Characters\n",
            "FOR character IN Characters\n",
            "    FILTER character.name == 'Rickard' AND character.surname == 'Stark'\n",
            "    RETURN character.age\n",
            "\u001b[0m\n",
            "AQL Result:\n",
            "\u001b[32;1m\u001b[1;3m[60]\u001b[0m\n",
            "\n",
            "\u001b[1m> Finished chain.\u001b[0m\n"
          ]
        },
        {
          "output_type": "execute_result",
          "data": {
            "text/plain": [
              "{'query': 'Wie alt ist Rickard Stark?',\n",
              " 'result': 'Rickard Stark was 60 years old.'}"
            ]
          },
          "metadata": {},
          "execution_count": 28
        }
      ],
      "source": [
        "chain.invoke(\"Wie alt ist Rickard Stark?\") # (German: \"How old is Rickard Stark?\")"
      ]
    },
    {
      "cell_type": "code",
      "execution_count": 95,
      "id": "43",
      "metadata": {
        "id": "43",
        "outputId": "2b87b1b7-9a12-445b-f14a-9c6b941b1a0e",
        "colab": {
          "base_uri": "https://localhost:8080/"
        }
      },
      "outputs": [
        {
          "output_type": "stream",
          "name": "stdout",
          "text": [
            "\n",
            "\n",
            "\u001b[1m> Entering new ArangoGraphQAChain chain...\u001b[0m\n",
            "AQL Query (1):\u001b[32;1m\u001b[1;3m\n",
            "WITH Characters\n",
            "RETURN AVERAGE(\n",
            "  FOR character IN Characters\n",
            "    FILTER CONTAINS(character._key, 'Stark')\n",
            "    RETURN character.age\n",
            ")\n",
            "\u001b[0m\n",
            "AQL Result:\n",
            "\u001b[32;1m\u001b[1;3m[31.375]\u001b[0m\n",
            "\n",
            "\u001b[1m> Finished chain.\u001b[0m\n"
          ]
        },
        {
          "output_type": "execute_result",
          "data": {
            "text/plain": [
              "{'query': 'Fetch me the average age of all Stark characters',\n",
              " 'result': 'The average age of all Stark characters in the database is approximately 31.4 years.',\n",
              " 'aql_query': \"\\nWITH Characters\\nRETURN AVERAGE(\\n  FOR character IN Characters\\n    FILTER CONTAINS(character._key, 'Stark')\\n    RETURN character.age\\n)\\n\",\n",
              " 'aql_result': [31.375]}"
            ]
          },
          "metadata": {},
          "execution_count": 95
        }
      ],
      "source": [
        "chain.invoke(\"Fetch me the average age of all Stark characters\")"
      ]
    },
    {
      "cell_type": "code",
      "execution_count": 30,
      "id": "44",
      "metadata": {
        "id": "44",
        "outputId": "08f7e236-a9e3-4a0d-ddf8-38f648a4a66d",
        "colab": {
          "base_uri": "https://localhost:8080/"
        }
      },
      "outputs": [
        {
          "output_type": "stream",
          "name": "stdout",
          "text": [
            "\n",
            "\n",
            "\u001b[1m> Entering new ArangoGraphQAChain chain...\u001b[0m\n",
            "AQL Query (1):\u001b[32;1m\u001b[1;3m\n",
            "WITH Characters, ChildOf\n",
            "FOR v, e IN 1..1 OUTBOUND 'Characters/BranStark' ChildOf\n",
            "FILTER v.alive == false\n",
            "RETURN v\n",
            "\u001b[0m\n",
            "AQL Result:\n",
            "\u001b[32;1m\u001b[1;3m[{'_key': 'CatelynStark', '_id': 'Characters/CatelynStark', '_rev': '_hg5hjBG--B', 'name': 'Catelyn', 'surname': 'Stark', 'alive': False, 'age': 40, 'gender': 'female'}]\u001b[0m\n",
            "\n",
            "\u001b[1m> Finished chain.\u001b[0m\n"
          ]
        },
        {
          "output_type": "execute_result",
          "data": {
            "text/plain": [
              "{'query': 'Does Bran Stark have a dead parent?',\n",
              " 'result': 'Yes, Bran Stark has a dead parent. His mother, Catelyn Stark, is deceased.'}"
            ]
          },
          "metadata": {},
          "execution_count": 30
        }
      ],
      "source": [
        "chain.invoke(\"Does Bran Stark have a dead parent?\")"
      ]
    },
    {
      "cell_type": "code",
      "execution_count": 31,
      "id": "45",
      "metadata": {
        "id": "45",
        "outputId": "2c1339cb-6d48-4bd1-bd9b-18e9d8343cf1",
        "colab": {
          "base_uri": "https://localhost:8080/"
        }
      },
      "outputs": [
        {
          "output_type": "stream",
          "name": "stdout",
          "text": [
            "\n",
            "\n",
            "\u001b[1m> Entering new ArangoGraphQAChain chain...\u001b[0m\n",
            "AQL Query (1):\u001b[32;1m\u001b[1;3m\n",
            "WITH Characters\n",
            "INSERT { \"_key\": \"JonSnow\", \"name\": \"Jon\", \"surname\": \"Snow\", \"alive\": true, \"age\": 31, \"gender\": \"male\" } INTO Characters OPTIONS { overwrite: true }\n",
            "\u001b[0m\n",
            "AQL Result:\n",
            "\u001b[32;1m\u001b[1;3m[]\u001b[0m\n",
            "\n",
            "\u001b[1m> Finished chain.\u001b[0m\n"
          ]
        },
        {
          "output_type": "execute_result",
          "data": {
            "text/plain": [
              "{'query': 'Add Jon Snow, 31, a male character. Use overwrite.',\n",
              " 'result': 'The character Jon Snow, a 31-year-old male, has been successfully added to the database. If there was a previous entry for Jon Snow, it has been overwritten with the new information.'}"
            ]
          },
          "metadata": {},
          "execution_count": 31
        }
      ],
      "source": [
        "chain.invoke(\"Add Jon Snow, 31, a male character. Use overwrite.\")"
      ]
    },
    {
      "cell_type": "code",
      "execution_count": 32,
      "id": "46",
      "metadata": {
        "id": "46",
        "outputId": "89f725c1-1728-4d6f-c2b2-baf760638b0b",
        "colab": {
          "base_uri": "https://localhost:8080/"
        }
      },
      "outputs": [
        {
          "output_type": "stream",
          "name": "stdout",
          "text": [
            "\n",
            "\n",
            "\u001b[1m> Entering new ArangoGraphQAChain chain...\u001b[0m\n",
            "AQL Query (1):\u001b[32;1m\u001b[1;3m\n",
            "WITH Characters, ChildOf\n",
            "INSERT {\n",
            "  _from: \"Characters/JonSnow\",\n",
            "  _to: \"Characters/NedStark\"\n",
            "} INTO ChildOf\n",
            "\u001b[0m\n",
            "AQL Result:\n",
            "\u001b[32;1m\u001b[1;3m[]\u001b[0m\n",
            "\n",
            "\u001b[1m> Finished chain.\u001b[0m\n"
          ]
        },
        {
          "output_type": "execute_result",
          "data": {
            "text/plain": [
              "{'query': 'Create a ChildOf edge from Jon Snow to Ned Stark.',\n",
              " 'result': 'A relationship has been established in the database indicating that Jon Snow is a child of Ned Stark.'}"
            ]
          },
          "metadata": {},
          "execution_count": 32
        }
      ],
      "source": [
        "chain.invoke(\"Create a ChildOf edge from Jon Snow to Ned Stark.\")"
      ]
    },
    {
      "cell_type": "code",
      "execution_count": 33,
      "id": "47",
      "metadata": {
        "id": "47",
        "outputId": "0b404dc7-98b9-4308-9263-7f130e7aef90",
        "colab": {
          "base_uri": "https://localhost:8080/"
        }
      },
      "outputs": [
        {
          "output_type": "stream",
          "name": "stdout",
          "text": [
            "\n",
            "\n",
            "\u001b[1m> Entering new ArangoGraphQAChain chain...\u001b[0m\n",
            "AQL Query (1):\u001b[32;1m\u001b[1;3m\n",
            "WITH Characters, ChildOf\n",
            "FOR v, e IN 1..1 ANY 'Characters/NedStark' ChildOf\n",
            "RETURN v\n",
            "\u001b[0m\n",
            "AQL Result:\n",
            "\u001b[32;1m\u001b[1;3m[{'_key': 'JonSnow', '_id': 'Characters/JonSnow', '_rev': '_hg5i5Yu--_', 'name': 'Jon', 'surname': 'Snow', 'alive': True, 'age': 31, 'gender': 'male'}, {'_key': 'AryaStark', '_id': 'Characters/AryaStark', '_rev': '_hg5hjBG--C', 'name': 'Arya', 'surname': 'Stark', 'alive': True, 'age': 11, 'gender': 'female'}, {'_key': 'SansaStark', '_id': 'Characters/SansaStark', '_rev': '_hg5hjBG--G', 'name': 'Sansa', 'surname': 'Stark', 'alive': True, 'age': 13, 'gender': 'female'}, {'_key': 'RobbStark', '_id': 'Characters/RobbStark', '_rev': '_hg5hjBG--F', 'name': 'Robb', 'surname': 'Stark', 'alive': False, 'age': 16, 'gender': 'male'}, {'_key': 'BranStark', '_id': 'Characters/BranStark', '_rev': '_hg5hjBG--D', 'name': 'Bran', 'surname': 'Stark', 'alive': True, 'age': 10, 'gender': 'male'}, {'_key': 'LyarraStark', '_id': 'Characters/LyarraStark', '_rev': '_hg5hjBG--_', 'name': 'Lyarra', 'surname': 'Stark', 'alive': False, 'age': 60, 'gender': 'female'}, {'_key': 'RickardStark', '_id': 'Characters/RickardStark', '_rev': '_hg5hjBG---', 'name': 'Rickard', 'surname': 'Stark', 'alive': False, 'age': 60, 'gender': 'male'}]\u001b[0m\n",
            "\n",
            "\u001b[1m> Finished chain.\u001b[0m\n"
          ]
        },
        {
          "output_type": "execute_result",
          "data": {
            "text/plain": [
              "{'query': 'Who is related to Ned Stark?',\n",
              " 'result': \"Ned Stark is related to several characters. His children are Jon Snow, Arya Stark, Sansa Stark, Robb Stark, and Bran Stark. Jon Snow is 31 years old and is alive. Arya Stark is 11 years old and is also alive. Sansa Stark is 13 years old and is alive. Robb Stark was 16 years old but is now deceased. Bran Stark is 10 years old and is alive. Ned Stark's parents are Lyarra Stark and Rickard Stark. Lyarra Stark was 60 years old but is now deceased. Rickard Stark was also 60 years old but is now deceased.\"}"
            ]
          },
          "metadata": {},
          "execution_count": 33
        }
      ],
      "source": [
        "chain.invoke(\"Who is related to Ned Stark?\")"
      ]
    },
    {
      "cell_type": "code",
      "execution_count": 34,
      "id": "48",
      "metadata": {
        "id": "48",
        "outputId": "f68f7210-d0de-4521-e9ed-efb8c77a27aa",
        "colab": {
          "base_uri": "https://localhost:8080/"
        }
      },
      "outputs": [
        {
          "output_type": "stream",
          "name": "stdout",
          "text": [
            "\n",
            "\n",
            "\u001b[1m> Entering new ArangoGraphQAChain chain...\u001b[0m\n",
            "AQL Query (1):\u001b[32;1m\u001b[1;3m\n",
            "WITH Characters\n",
            "FOR character IN Characters\n",
            "RETURN character\n",
            "\u001b[0m\n",
            "AQL Result:\n",
            "\u001b[32;1m\u001b[1;3m[{'_key': 'RickardStark', '_id': 'Characters/RickardStark', '_rev': '_hg5hjBG---', 'name': 'Rickard', 'surname': 'Stark', 'alive': False, 'age': 60, 'gender': 'male'}, {'_key': 'LyarraStark', '_id': 'Characters/LyarraStark', '_rev': '_hg5hjBG--_', 'name': 'Lyarra', 'surname': 'Stark', 'alive': False, 'age': 60, 'gender': 'female'}, {'_key': 'NedStark', '_id': 'Characters/NedStark', '_rev': '_hg5hjBG--A', 'name': 'Ned', 'surname': 'Stark', 'alive': True, 'age': 41, 'gender': 'male'}, {'_key': 'CatelynStark', '_id': 'Characters/CatelynStark', '_rev': '_hg5hjBG--B', 'name': 'Catelyn', 'surname': 'Stark', 'alive': False, 'age': 40, 'gender': 'female'}, {'_key': 'AryaStark', '_id': 'Characters/AryaStark', '_rev': '_hg5hjBG--C', 'name': 'Arya', 'surname': 'Stark', 'alive': True, 'age': 11, 'gender': 'female'}, {'_key': 'BranStark', '_id': 'Characters/BranStark', '_rev': '_hg5hjBG--D', 'name': 'Bran', 'surname': 'Stark', 'alive': True, 'age': 10, 'gender': 'male'}, {'_key': 'RobbStark', '_id': 'Characters/RobbStark', '_rev': '_hg5hjBG--F', 'name': 'Robb', 'surname': 'Stark', 'alive': False, 'age': 16, 'gender': 'male'}, {'_key': 'SansaStark', '_id': 'Characters/SansaStark', '_rev': '_hg5hjBG--G', 'name': 'Sansa', 'surname': 'Stark', 'alive': True, 'age': 13, 'gender': 'female'}, {'_key': 'TywinLannister', '_id': 'Characters/TywinLannister', '_rev': '_hg5hjBG--H', 'name': 'Tywin', 'surname': 'Lannister', 'alive': False, 'age': 67, 'gender': 'male'}, {'_key': 'JaimeLannister', '_id': 'Characters/JaimeLannister', '_rev': '_hg5hjBG--I', 'name': 'Jaime', 'surname': 'Lannister', 'alive': True, 'age': 36, 'gender': 'male'}]\u001b[0m\n",
            "\n",
            "\u001b[1m> Finished chain.\u001b[0m\n"
          ]
        },
        {
          "output_type": "execute_result",
          "data": {
            "text/plain": [
              "{'query': 'What can you tell me about the characters?',\n",
              " 'result': 'The database contains information about several characters. Here are some of them:\\n\\n1. Rickard Stark: He is a male character who is not alive. He was 60 years old.\\n2. Lyarra Stark: She is a female character who is not alive. She was 60 years old.\\n3. Ned Stark: He is a male character who is alive. He is 41 years old.\\n4. Catelyn Stark: She is a female character who is not alive. She was 40 years old.\\n5. Arya Stark: She is a female character who is alive. She is 11 years old.\\n6. Bran Stark: He is a male character who is alive. He is 10 years old.\\n7. Robb Stark: He is a male character who is not alive. He was 16 years old.\\n8. Sansa Stark: She is a female character who is alive. She is 13 years old.\\n9. Tywin Lannister: He is a male character who is not alive. He was 67 years old.\\n10. Jaime Lannister: He is a male character who is alive. He is 36 years old.'}"
            ]
          },
          "metadata": {},
          "execution_count": 34
        }
      ],
      "source": [
        "chain.invoke(\"What can you tell me about the characters?\")"
      ]
    },
    {
      "cell_type": "code",
      "execution_count": 35,
      "id": "49",
      "metadata": {
        "id": "49",
        "outputId": "6905eb13-c5e9-4534-c595-599beeb0a6a1",
        "colab": {
          "base_uri": "https://localhost:8080/"
        }
      },
      "outputs": [
        {
          "output_type": "stream",
          "name": "stdout",
          "text": [
            "\n",
            "\n",
            "\u001b[1m> Entering new ArangoGraphQAChain chain...\u001b[0m\n",
            "AQL Query (1):\u001b[32;1m\u001b[1;3m\n",
            "WITH Characters, ChildOf\n",
            "FOR v, e IN OUTBOUND SHORTEST_PATH 'Characters/BranStark' TO 'Characters/RickardStark' GRAPH 'GAME_OF_THRONES'\n",
            "RETURN {vertex: v, edge: e}\n",
            "\u001b[0m\n",
            "AQL Result:\n",
            "\u001b[32;1m\u001b[1;3m[{'vertex': {'_key': 'BranStark', '_id': 'Characters/BranStark', '_rev': '_hg5hjBG--D', 'name': 'Bran', 'surname': 'Stark', 'alive': True, 'age': 10, 'gender': 'male'}, 'edge': None}, {'vertex': {'_key': 'NedStark', '_id': 'Characters/NedStark', '_rev': '_hg5hjBG--A', 'name': 'Ned', 'surname': 'Stark', 'alive': True, 'age': 41, 'gender': 'male'}, 'edge': {'_key': '267270121', '_id': 'ChildOf/267270121', '_from': 'Characters/BranStark', '_to': 'Characters/NedStark', '_rev': '_hg5hli----'}}, {'vertex': {'_key': 'RickardStark', '_id': 'Characters/RickardStark', '_rev': '_hg5hjBG---', 'name': 'Rickard', 'surname': 'Stark', 'alive': False, 'age': 60, 'gender': 'male'}, 'edge': {'_key': '267270137', '_id': 'ChildOf/267270137', '_from': 'Characters/NedStark', '_to': 'Characters/RickardStark', '_rev': '_hg5hliC--G'}}]\u001b[0m\n",
            "\n",
            "\u001b[1m> Finished chain.\u001b[0m\n"
          ]
        },
        {
          "output_type": "execute_result",
          "data": {
            "text/plain": [
              "{'query': 'Use the shortest path algorithm to go from Bran Stark to Rickard Stark',\n",
              " 'result': 'The shortest path from Bran Stark to Rickard Stark in the Game of Thrones graph goes through Ned Stark. Bran Stark, who is alive and 10 years old, is the son of Ned Stark, who is also alive and 41 years old. Ned Stark is the son of Rickard Stark, who is not alive and was 60 years old.'}"
            ]
          },
          "metadata": {},
          "execution_count": 35
        }
      ],
      "source": [
        "chain.invoke(\"Use the shortest path algorithm to go from Bran Stark to Rickard Stark\")"
      ]
    },
    {
      "cell_type": "code",
      "execution_count": 36,
      "id": "50",
      "metadata": {
        "id": "50",
        "outputId": "1372b2d7-03a1-4b69-c401-6be33b24bb6b",
        "colab": {
          "base_uri": "https://localhost:8080/"
        }
      },
      "outputs": [
        {
          "output_type": "stream",
          "name": "stdout",
          "text": [
            "\n",
            "\n",
            "\u001b[1m> Entering new ArangoGraphQAChain chain...\u001b[0m\n",
            "AQL Query (1):\u001b[32;1m\u001b[1;3m\n",
            "WITH Characters, ChildOf\n",
            "FOR v, e IN 1..100 OUTBOUND 'Characters/JoffreyBaratheon' ChildOf\n",
            "RETURN v\n",
            "\u001b[0m\n",
            "AQL Result:\n",
            "\u001b[32;1m\u001b[1;3m[{'_key': 'JaimeLannister', '_id': 'Characters/JaimeLannister', '_rev': '_hg5hjBG--I', 'name': 'Jaime', 'surname': 'Lannister', 'alive': True, 'age': 36, 'gender': 'male'}, {'_key': 'TywinLannister', '_id': 'Characters/TywinLannister', '_rev': '_hg5hjBG--H', 'name': 'Tywin', 'surname': 'Lannister', 'alive': False, 'age': 67, 'gender': 'male'}, {'_key': 'CerseiLannister', '_id': 'Characters/CerseiLannister', '_rev': '_hg5hjBG--J', 'name': 'Cersei', 'surname': 'Lannister', 'alive': True, 'age': 36, 'gender': 'female'}, {'_key': 'TywinLannister', '_id': 'Characters/TywinLannister', '_rev': '_hg5hjBG--H', 'name': 'Tywin', 'surname': 'Lannister', 'alive': False, 'age': 67, 'gender': 'male'}]\u001b[0m\n",
            "\n",
            "\u001b[1m> Finished chain.\u001b[0m\n"
          ]
        },
        {
          "output_type": "execute_result",
          "data": {
            "text/plain": [
              "{'query': 'What is the family tree of Joffrey Baratheon?',\n",
              " 'result': \"Joffrey Baratheon's family tree includes his parents Jaime Lannister and Cersei Lannister. Jaime Lannister is alive and 36 years old. Cersei Lannister is also alive and 36 years old. His grandfather, Tywin Lannister, appears twice in the family tree. Tywin Lannister is not alive and was 67 years old.\"}"
            ]
          },
          "metadata": {},
          "execution_count": 36
        }
      ],
      "source": [
        "chain.invoke(\"What is the family tree of Joffrey Baratheon?\")"
      ]
    },
    {
      "cell_type": "code",
      "execution_count": 92,
      "id": "51",
      "metadata": {
        "id": "51",
        "outputId": "667d1fb7-e2e8-438a-bbe4-766985126326",
        "colab": {
          "base_uri": "https://localhost:8080/"
        }
      },
      "outputs": [
        {
          "output_type": "stream",
          "name": "stdout",
          "text": [
            "\n",
            "\n",
            "\u001b[1m> Entering new ArangoGraphQAChain chain...\u001b[0m\n",
            "AQL Query (1):\u001b[32;1m\u001b[1;3m\n",
            "WITH Characters, ChildOf\n",
            "FOR v, e IN 1..2 ANY 'Characters/BranStark' ChildOf\n",
            "  FILTER v._key == 'RickardStark'\n",
            "  RETURN e\n",
            "\u001b[0m\n",
            "AQL Result:\n",
            "\u001b[32;1m\u001b[1;3m[{'_key': '267270137', '_id': 'ChildOf/267270137', '_from': 'Characters/NedStark', '_to': 'Characters/RickardStark', '_rev': '_hg5hliC--G'}]\u001b[0m\n",
            "\n",
            "\u001b[1m> Finished chain.\u001b[0m\n"
          ]
        },
        {
          "output_type": "execute_result",
          "data": {
            "text/plain": [
              "{'query': 'Is there a relationship between Bran Stark and Rickard Stark?',\n",
              " 'result': 'Yes, there is a relationship between Bran Stark and Rickard Stark. Rickard Stark is the grandfather of Bran Stark.',\n",
              " 'aql_query': \"\\nWITH Characters, ChildOf\\nFOR v, e IN 1..2 ANY 'Characters/BranStark' ChildOf\\n  FILTER v._key == 'RickardStark'\\n  RETURN e\\n\",\n",
              " 'aql_result': [{'_key': '267270137',\n",
              "   '_id': 'ChildOf/267270137',\n",
              "   '_from': 'Characters/NedStark',\n",
              "   '_to': 'Characters/RickardStark',\n",
              "   '_rev': '_hg5hliC--G'}]}"
            ]
          },
          "metadata": {},
          "execution_count": 92
        }
      ],
      "source": [
        "chain.invoke(\"Is there a relationship between Bran Stark and Rickard Stark?\")"
      ]
    },
    {
      "cell_type": "code",
      "execution_count": 38,
      "id": "52",
      "metadata": {
        "id": "52",
        "outputId": "0220a5e0-c26d-467d-ccd3-e70897cd2d06",
        "colab": {
          "base_uri": "https://localhost:8080/"
        }
      },
      "outputs": [
        {
          "output_type": "stream",
          "name": "stdout",
          "text": [
            "\n",
            "\n",
            "\u001b[1m> Entering new ArangoGraphQAChain chain...\u001b[0m\n",
            "AQL Query (1):\u001b[32;1m\u001b[1;3m\n",
            "WITH Characters, ChildOf\n",
            "FOR v, e IN 1..2 ANY 'Characters/AryaStark' ChildOf\n",
            "    FILTER v._key == 'NedStark'\n",
            "    RETURN v\n",
            "\u001b[0m\n",
            "AQL Result:\n",
            "\u001b[32;1m\u001b[1;3m[{'_key': 'NedStark', '_id': 'Characters/NedStark', '_rev': '_hg5hjBG--A', 'name': 'Ned', 'surname': 'Stark', 'alive': True, 'age': 41, 'gender': 'male'}]\u001b[0m\n",
            "\n",
            "\u001b[1m> Finished chain.\u001b[0m\n"
          ]
        },
        {
          "output_type": "execute_result",
          "data": {
            "text/plain": [
              "{'query': 'Are Arya Stark and Ned Stark related?',\n",
              " 'result': 'Yes, Arya Stark and Ned Stark are related. Ned Stark, who is alive and 41 years old, is a relative of Arya Stark.'}"
            ]
          },
          "metadata": {},
          "execution_count": 38
        }
      ],
      "source": [
        "chain.invoke(\"Are Arya Stark and Ned Stark related?\")"
      ]
    },
    {
      "cell_type": "code",
      "execution_count": 39,
      "id": "53",
      "metadata": {
        "id": "53",
        "outputId": "3661b581-4a60-4e30-dcd9-8cfad7307d45",
        "colab": {
          "base_uri": "https://localhost:8080/"
        }
      },
      "outputs": [
        {
          "output_type": "stream",
          "name": "stdout",
          "text": [
            "\n",
            "\n",
            "\u001b[1m> Entering new ArangoGraphQAChain chain...\u001b[0m\n",
            "AQL Query (1):\u001b[32;1m\u001b[1;3m\n",
            "WITH Characters\n",
            "FOR character IN Characters\n",
            "    FILTER character._key == 'NedStark'\n",
            "    RETURN character.alive\n",
            "\u001b[0m\n",
            "AQL Result:\n",
            "\u001b[32;1m\u001b[1;3m[True]\u001b[0m\n",
            "\n",
            "\u001b[1m> Finished chain.\u001b[0m\n"
          ]
        },
        {
          "output_type": "execute_result",
          "data": {
            "text/plain": [
              "{'query': 'Is Ned Stark alive?', 'result': 'Yes, Ned Stark is alive.'}"
            ]
          },
          "metadata": {},
          "execution_count": 39
        }
      ],
      "source": [
        "chain.invoke(\"Is Ned Stark alive?\")"
      ]
    },
    {
      "cell_type": "code",
      "execution_count": 40,
      "id": "54",
      "metadata": {
        "id": "54",
        "outputId": "883495ee-938e-4c2e-e84f-625a975d25df",
        "colab": {
          "base_uri": "https://localhost:8080/"
        }
      },
      "outputs": [
        {
          "output_type": "stream",
          "name": "stdout",
          "text": [
            "\n",
            "\n",
            "\u001b[1m> Entering new ArangoGraphQAChain chain...\u001b[0m\n",
            "AQL Query (1):\u001b[32;1m\u001b[1;3m\n",
            "WITH Characters\n",
            "UPDATE \"NedStark\" WITH { alive: false } IN Characters\n",
            "\u001b[0m\n",
            "AQL Result:\n",
            "\u001b[32;1m\u001b[1;3m[]\u001b[0m\n",
            "\n",
            "\u001b[1m> Finished chain.\u001b[0m\n"
          ]
        },
        {
          "output_type": "execute_result",
          "data": {
            "text/plain": [
              "{'query': 'Ned Stark has died. Update the data',\n",
              " 'result': 'The data has been updated. Ned Stark is now marked as deceased in the database.'}"
            ]
          },
          "metadata": {},
          "execution_count": 40
        }
      ],
      "source": [
        "chain.invoke(\"Ned Stark has died. Update the data\")"
      ]
    },
    {
      "cell_type": "code",
      "execution_count": 41,
      "id": "55",
      "metadata": {
        "id": "55",
        "outputId": "24d0c699-1d55-4825-ba82-117230a44e91",
        "colab": {
          "base_uri": "https://localhost:8080/"
        }
      },
      "outputs": [
        {
          "output_type": "stream",
          "name": "stdout",
          "text": [
            "\n",
            "\n",
            "\u001b[1m> Entering new ArangoGraphQAChain chain...\u001b[0m\n",
            "AQL Query (1):\u001b[32;1m\u001b[1;3m\n",
            "WITH Characters\n",
            "FOR character IN Characters\n",
            "    COLLECT alive = character.alive WITH COUNT INTO count\n",
            "    RETURN { \"alive\": alive, \"count\": count }\n",
            "\u001b[0m\n",
            "AQL Result:\n",
            "\u001b[32;1m\u001b[1;3m[{'alive': False, 'count': 7}, {'alive': True, 'count': 7}]\u001b[0m\n",
            "\n",
            "\u001b[1m> Finished chain.\u001b[0m\n"
          ]
        },
        {
          "output_type": "execute_result",
          "data": {
            "text/plain": [
              "{'query': 'How many characters are alive? How many characters are dead?',\n",
              " 'result': 'There are 7 characters who are alive and 7 characters who are dead.'}"
            ]
          },
          "metadata": {},
          "execution_count": 41
        }
      ],
      "source": [
        "chain.invoke(\"How many characters are alive? How many characters are dead?\")"
      ]
    },
    {
      "cell_type": "code",
      "execution_count": 42,
      "id": "56",
      "metadata": {
        "id": "56",
        "outputId": "9f519a8d-3dec-4745-9105-80fbc3788d66",
        "colab": {
          "base_uri": "https://localhost:8080/"
        }
      },
      "outputs": [
        {
          "output_type": "stream",
          "name": "stdout",
          "text": [
            "\n",
            "\n",
            "\u001b[1m> Entering new ArangoGraphQAChain chain...\u001b[0m\n",
            "AQL Query (1):\u001b[32;1m\u001b[1;3m\n",
            "WITH Characters, ChildOf\n",
            "FOR v, e IN 1..1 OUTBOUND 'Characters/AryaStark' ChildOf\n",
            "    FILTER v.alive == false\n",
            "    COLLECT WITH COUNT INTO numParents\n",
            "    RETURN numParents == 2\n",
            "\u001b[0m\n",
            "AQL Result:\n",
            "\u001b[32;1m\u001b[1;3m[True]\u001b[0m\n",
            "\n",
            "\u001b[1m> Finished chain.\u001b[0m\n"
          ]
        },
        {
          "output_type": "execute_result",
          "data": {
            "text/plain": [
              "{'query': 'Is Arya Stark now an orphan?',\n",
              " 'result': 'Yes, Arya Stark is now an orphan. Both of her parents are deceased.'}"
            ]
          },
          "metadata": {},
          "execution_count": 42
        }
      ],
      "source": [
        "chain.invoke(\"Is Arya Stark now an orphan?\")"
      ]
    },
    {
      "cell_type": "markdown",
      "id": "57",
      "metadata": {
        "id": "57"
      },
      "source": [
        "#### Open Intelligence"
      ]
    },
    {
      "cell_type": "code",
      "execution_count": 43,
      "id": "58",
      "metadata": {
        "id": "58"
      },
      "outputs": [],
      "source": [
        "# Set the maximum number of AQL Query Results to return to 5\n",
        "# This avoids burning the LLM token limit on JSON results\n",
        "chain.top_k = 5"
      ]
    },
    {
      "cell_type": "code",
      "execution_count": 44,
      "id": "59",
      "metadata": {
        "id": "59",
        "outputId": "2c397c3e-05f7-4b30-dee0-da9cebcad535",
        "colab": {
          "base_uri": "https://localhost:8080/"
        }
      },
      "outputs": [
        {
          "output_type": "stream",
          "name": "stdout",
          "text": [
            "\n",
            "\n",
            "\u001b[1m> Entering new ArangoGraphQAChain chain...\u001b[0m\n",
            "AQL Query (1):\u001b[32;1m\u001b[1;3m\n",
            "WITH Event\n",
            "FOR e IN Event\n",
            "FILTER DATE_MONTH(e.date) == 12 AND DATE_YEAR(e.date) == 2019\n",
            "LIMIT 3\n",
            "RETURN e\n",
            "\u001b[0m\n",
            "AQL Result:\n",
            "\u001b[32;1m\u001b[1;3m[{'_key': 'ALG7745', '_id': 'Event/ALG7745', '_rev': '_hg5hwvq--K', 'date': '2019-12-01T00:00:00.000Z', 'dateStamp': 1575158400000, 'description': 'On 01 December 2019, UGTA members and workers marched in Algiers against foreign intervention and in favor of the army and the scheduled elections. [size=hundreds]', 'fatalities': 0, 'geo': {'type': 'Point', 'coordinates': [36.752, 3.042]}, 'name': 'On 01 December 2019, UGTA memb', 'label': 'Protests'}, {'_key': 'ALG7746', '_id': 'Event/ALG7746', '_rev': '_hg5hwvq--L', 'date': '2019-12-02T00:00:00.000Z', 'dateStamp': 1575244800000, 'description': 'On 02 December 2019, workers protested against the company, Sour El-Ghozlane in Bouira for not distributing salaries in over 4 months. [size=260].', 'fatalities': 0, 'geo': {'type': 'Point', 'coordinates': [36.38, 3.901]}, 'name': 'On 02 December 2019, workers p', 'label': 'Protests'}, {'_key': 'ALG7747', '_id': 'Event/ALG7747', '_rev': '_hg5hwvq--M', 'date': '2019-12-02T00:00:00.000Z', 'dateStamp': 1575244800000, 'description': \"On 02 December 2019, citizens protested in Jijel during a presidential candidate's speech against the elections. [size=no report]\", 'fatalities': 0, 'geo': {'type': 'Point', 'coordinates': [36.8, 5.767]}, 'name': 'On 02 December 2019, citizens ', 'label': 'Protests'}]\u001b[0m\n",
            "\n",
            "\u001b[1m> Finished chain.\u001b[0m\n"
          ]
        },
        {
          "output_type": "execute_result",
          "data": {
            "text/plain": [
              "{'query': 'Fetch me 3 events that happened in December 2019',\n",
              " 'result': \"Here are 3 events that happened in December 2019:\\n\\n1. On December 1, 2019, UGTA members and workers marched in Algiers against foreign intervention and in favor of the army and the scheduled elections. The size of the protest was in the hundreds. There were no reported fatalities.\\n\\n2. On December 2, 2019, workers protested against the company, Sour El-Ghozlane in Bouira for not distributing salaries in over 4 months. The size of the protest was reported to be 260. There were no reported fatalities.\\n\\n3. On December 2, 2019, citizens protested in Jijel during a presidential candidate's speech against the elections. The size of the protest was not reported. There were no reported fatalities.\"}"
            ]
          },
          "metadata": {},
          "execution_count": 44
        }
      ],
      "source": [
        "chain.invoke(\"Fetch me 3 events that happened in December 2019\")"
      ]
    },
    {
      "cell_type": "code",
      "execution_count": 45,
      "id": "60",
      "metadata": {
        "id": "60",
        "outputId": "adf95cf4-fc07-446e-bd1b-37f764903299",
        "colab": {
          "base_uri": "https://localhost:8080/"
        }
      },
      "outputs": [
        {
          "output_type": "stream",
          "name": "stdout",
          "text": [
            "\n",
            "\n",
            "\u001b[1m> Entering new ArangoGraphQAChain chain...\u001b[0m\n",
            "AQL Query (1):\u001b[32;1m\u001b[1;3m\n",
            "WITH Actor, eventActor\n",
            "FOR v, e IN 1..1 OUTBOUND 'Event/ANG3310' eventActor\n",
            "    RETURN v\n",
            "\u001b[0m\n",
            "AQL Query Execution Error: \n",
            "\u001b[33;1m\u001b[1;3mAQL: collection not known to traversal: 'Event'. please add 'WITH Event' as the first line in your AQL (while executing)\u001b[0m\n",
            "\n",
            "AQL Query (2):\u001b[32;1m\u001b[1;3m\n",
            "WITH Actor, eventActor, Event\n",
            "FOR v, e IN 1..1 OUTBOUND 'Event/ANG3310' eventActor\n",
            "    RETURN v\n",
            "\u001b[0m\n",
            "AQL Result:\n",
            "\u001b[32;1m\u001b[1;3m[{'_key': '49b99403d00b7815df01ad738d89db3f', '_id': 'Actor/49b99403d00b7815df01ad738d89db3f', '_rev': '_hg5hmsq--I', 'name': 'Civilians (Angola)'}, {'_key': 'b401737cbe3391caf6afb021f675e694', '_id': 'Actor/b401737cbe3391caf6afb021f675e694', '_rev': '_hg5hmoG-_U', 'name': 'Unidentified Armed Group (Angola)'}]\u001b[0m\n",
            "\n",
            "\u001b[1m> Finished chain.\u001b[0m\n"
          ]
        },
        {
          "output_type": "execute_result",
          "data": {
            "text/plain": [
              "{'query': \"Who is responsible for 'Event/ANG3310'?\",\n",
              " 'result': \"The event 'ANG3310' involves the actors 'Civilians (Angola)' and 'Unidentified Armed Group (Angola)'.\"}"
            ]
          },
          "metadata": {},
          "execution_count": 45
        }
      ],
      "source": [
        "chain.invoke(\"Who is responsible for 'Event/ANG3310'?\")"
      ]
    },
    {
      "cell_type": "code",
      "execution_count": 46,
      "id": "61",
      "metadata": {
        "id": "61",
        "outputId": "53823584-5dfc-44ea-f14e-8b09fe41055a",
        "colab": {
          "base_uri": "https://localhost:8080/"
        }
      },
      "outputs": [
        {
          "output_type": "stream",
          "name": "stdout",
          "text": [
            "\n",
            "\n",
            "\u001b[1m> Entering new ArangoGraphQAChain chain...\u001b[0m\n",
            "AQL Query (1):\u001b[32;1m\u001b[1;3m\n",
            "WITH Event, hasLocation, Location\n",
            "FOR e IN Event\n",
            "    FILTER e._id == 'Event/ANG3310'\n",
            "    FOR l IN 1..1 OUTBOUND e._id hasLocation\n",
            "    RETURN l.name\n",
            "\u001b[0m\n",
            "AQL Result:\n",
            "\u001b[32;1m\u001b[1;3m['Kilamba Kiaxi']\u001b[0m\n",
            "\n",
            "\u001b[1m> Finished chain.\u001b[0m\n"
          ]
        },
        {
          "output_type": "execute_result",
          "data": {
            "text/plain": [
              "{'query': \"Where did 'Event/ANG3310' take place?\",\n",
              " 'result': \"The event with the identifier 'ANG3310' took place in Kilamba Kiaxi.\"}"
            ]
          },
          "metadata": {},
          "execution_count": 46
        }
      ],
      "source": [
        "chain.invoke(\"Where did 'Event/ANG3310' take place?\")"
      ]
    },
    {
      "cell_type": "code",
      "execution_count": 91,
      "id": "62",
      "metadata": {
        "id": "62",
        "outputId": "435e8a90-6848-4c8e-a9a5-8cb096549e39",
        "colab": {
          "base_uri": "https://localhost:8080/",
          "height": 261
        }
      },
      "outputs": [
        {
          "output_type": "stream",
          "name": "stdout",
          "text": [
            "\n",
            "\n",
            "\u001b[1m> Entering new ArangoGraphQAChain chain...\u001b[0m\n",
            "AQL Query (1):\u001b[32;1m\u001b[1;3m\n",
            "WITH Event, hasLocation, Location, inCountry, Country\n",
            "FOR v, e IN 1..2 OUTBOUND 'Event/ANG3310' hasLocation, inCountry\n",
            "  FILTER IS_SAME_COLLECTION('Country', v)\n",
            "  RETURN v\n",
            "\u001b[0m\n",
            "AQL Result:\n",
            "\u001b[32;1m\u001b[1;3m[{'_key': 'Angola', '_id': 'Country/Angola', '_rev': '_hg5hroa--_', 'name': 'Angola'}]\u001b[0m\n",
            "\n",
            "\u001b[1m> Finished chain.\u001b[0m\n"
          ]
        },
        {
          "output_type": "execute_result",
          "data": {
            "text/plain": [
              "\"The event with the identifier 'Event/ANG3310' took place in the country Angola.\""
            ],
            "application/vnd.google.colaboratory.intrinsic+json": {
              "type": "string"
            }
          },
          "metadata": {},
          "execution_count": 91
        }
      ],
      "source": [
        "chain.invoke(\"What country did 'Event/ANG3310' take place in?\")"
      ]
    },
    {
      "cell_type": "code",
      "execution_count": 89,
      "id": "63",
      "metadata": {
        "id": "63",
        "outputId": "b1ea48ca-7f07-4be5-90f6-30ed76a36443",
        "colab": {
          "base_uri": "https://localhost:8080/"
        }
      },
      "outputs": [
        {
          "output_type": "stream",
          "name": "stdout",
          "text": [
            "\n",
            "\n",
            "\u001b[1m> Entering new ArangoGraphQAChain chain...\u001b[0m\n",
            "AQL Query (1):\u001b[32;1m\u001b[1;3m\n",
            "WITH Event, hasLocation, Location, inCountry, Country, inRegion, Region\n",
            "FOR event IN Event\n",
            "  FILTER event._id == 'Event/ANG3310'\n",
            "  FOR location IN 1 OUTBOUND event hasLocation\n",
            "    FOR country IN 1 OUTBOUND location inCountry\n",
            "      FOR region IN 1 OUTBOUND country inRegion\n",
            "        RETURN region\n",
            "\u001b[0m\n",
            "AQL Result:\n",
            "\u001b[32;1m\u001b[1;3m[{'_key': 'Middle_Africa', '_id': 'Region/Middle_Africa', '_rev': '_hg5h2TC--_', 'name': 'Middle Africa'}]\u001b[0m\n",
            "\n",
            "\u001b[1m> Finished chain.\u001b[0m\n"
          ]
        },
        {
          "output_type": "execute_result",
          "data": {
            "text/plain": [
              "{'query': \"What region did 'Event/ANG3310' take place in?\",\n",
              " 'result': \"The event with the identifier 'ANG3310' took place in the region of Middle Africa.\",\n",
              " 'aql_query': \"\\nWITH Event, hasLocation, Location, inCountry, Country, inRegion, Region\\nFOR event IN Event\\n  FILTER event._id == 'Event/ANG3310'\\n  FOR location IN 1 OUTBOUND event hasLocation\\n    FOR country IN 1 OUTBOUND location inCountry\\n      FOR region IN 1 OUTBOUND country inRegion\\n        RETURN region\\n\",\n",
              " 'aql_result': [{'_key': 'Middle_Africa',\n",
              "   '_id': 'Region/Middle_Africa',\n",
              "   '_rev': '_hg5h2TC--_',\n",
              "   'name': 'Middle Africa'}]}"
            ]
          },
          "metadata": {},
          "execution_count": 89
        }
      ],
      "source": [
        "chain.invoke(\"What region did 'Event/ANG3310' take place in?\")"
      ]
    },
    {
      "cell_type": "code",
      "execution_count": 49,
      "id": "64",
      "metadata": {
        "id": "64",
        "outputId": "3c52b325-6a45-4a09-e699-e01574956270",
        "colab": {
          "base_uri": "https://localhost:8080/"
        }
      },
      "outputs": [
        {
          "output_type": "stream",
          "name": "stdout",
          "text": [
            "\n",
            "\n",
            "\u001b[1m> Entering new ArangoGraphQAChain chain...\u001b[0m\n",
            "AQL Query (1):\u001b[32;1m\u001b[1;3m\n",
            "WITH Event, hasSource, Source\n",
            "FOR event IN Event\n",
            "    FILTER event._id == 'Event/ANG3310'\n",
            "    FOR v, e IN 1..1 OUTBOUND event._id hasSource\n",
            "        RETURN v\n",
            "\u001b[0m\n",
            "AQL Result:\n",
            "\u001b[32;1m\u001b[1;3m[{'_key': '16d860ee739cdc9777cd6f2cd0b607ca', '_id': 'Source/16d860ee739cdc9777cd6f2cd0b607ca', '_rev': '_hg5h3-e--W', 'name': 'Angola Press Agency', 'sourceScale': 'National'}]\u001b[0m\n",
            "\n",
            "\u001b[1m> Finished chain.\u001b[0m\n"
          ]
        },
        {
          "output_type": "execute_result",
          "data": {
            "text/plain": [
              "{'query': \"What is the source of 'Event/ANG3310'?\",\n",
              " 'result': \"The source of the event 'ANG3310' is the 'Angola Press Agency', which operates on a national scale.\"}"
            ]
          },
          "metadata": {},
          "execution_count": 49
        }
      ],
      "source": [
        "chain.invoke(\"What is the source of 'Event/ANG3310'?\")"
      ]
    },
    {
      "cell_type": "code",
      "execution_count": 50,
      "id": "65",
      "metadata": {
        "id": "65",
        "outputId": "787f4387-6bb7-4475-b2e8-241d17259752",
        "colab": {
          "base_uri": "https://localhost:8080/"
        }
      },
      "outputs": [
        {
          "output_type": "stream",
          "name": "stdout",
          "text": [
            "\n",
            "\n",
            "\u001b[1m> Entering new ArangoGraphQAChain chain...\u001b[0m\n",
            "AQL Query (1):\u001b[32;1m\u001b[1;3m\n",
            "WITH Event, type\n",
            "FOR event IN Event\n",
            "    FILTER event._id == 'Event/ANG3310'\n",
            "    FOR edge IN type\n",
            "        FILTER edge._from == event._id\n",
            "        RETURN edge.name\n",
            "\u001b[0m\n",
            "AQL Result:\n",
            "\u001b[32;1m\u001b[1;3m['Strategic developments']\u001b[0m\n",
            "\n",
            "\u001b[1m> Finished chain.\u001b[0m\n"
          ]
        },
        {
          "output_type": "execute_result",
          "data": {
            "text/plain": [
              "{'query': \"What type of event is 'Event/ANG3310' classified as?\",\n",
              " 'result': \"The event 'Event/ANG3310' is classified as a 'Strategic developments' type of event.\"}"
            ]
          },
          "metadata": {},
          "execution_count": 50
        }
      ],
      "source": [
        "chain.invoke(\"What type of event is 'Event/ANG3310' classified as?\")"
      ]
    },
    {
      "cell_type": "code",
      "execution_count": 51,
      "id": "66",
      "metadata": {
        "id": "66",
        "outputId": "5a075904-b257-426e-9648-ed2f1002be16",
        "colab": {
          "base_uri": "https://localhost:8080/"
        }
      },
      "outputs": [
        {
          "output_type": "stream",
          "name": "stdout",
          "text": [
            "\n",
            "\n",
            "\u001b[1m> Entering new ArangoGraphQAChain chain...\u001b[0m\n",
            "AQL Query (1):\u001b[32;1m\u001b[1;3m\n",
            "WITH Class, subClass\n",
            "FOR v, e IN 1..1 OUTBOUND 'Class/Strategic_developments' subClass\n",
            "RETURN v\n",
            "\u001b[0m\n",
            "AQL Result:\n",
            "\u001b[32;1m\u001b[1;3m[{'_key': 'Agreement', '_id': 'Class/Agreement', '_rev': '_hg5hrJq--H', 'name': 'Agreement'}, {'_key': 'Headquarters_or_base_established', '_id': 'Class/Headquarters_or_base_established', '_rev': '_hg5hrJq--G', 'name': 'Headquarters or base established'}, {'_key': 'Non-violent_transfer_of_territory', '_id': 'Class/Non-violent_transfer_of_territory', '_rev': '_hg5hrJq--F', 'name': 'Non-violent transfer of territory'}, {'_key': 'Arrests', '_id': 'Class/Arrests', '_rev': '_hg5hrJq--A', 'name': 'Arrests'}, {'_key': 'Other', '_id': 'Class/Other', '_rev': '_hg5hrJq--_', 'name': 'Other'}]\u001b[0m\n",
            "\n",
            "\u001b[1m> Finished chain.\u001b[0m\n"
          ]
        },
        {
          "output_type": "execute_result",
          "data": {
            "text/plain": [
              "{'query': \"What are the classes associated to 'Strategic developments'?\",\n",
              " 'result': \"The classes associated with 'Strategic developments' are 'Agreement', 'Headquarters or base established', 'Non-violent transfer of territory', 'Arrests', and 'Other'.\"}"
            ]
          },
          "metadata": {},
          "execution_count": 51
        }
      ],
      "source": [
        "chain.invoke(\"What are the classes associated to 'Strategic developments'?\")"
      ]
    },
    {
      "cell_type": "code",
      "execution_count": 52,
      "id": "67",
      "metadata": {
        "id": "67",
        "outputId": "e74cd3c9-2e50-4353-f9c1-48d6d1c079ca",
        "colab": {
          "base_uri": "https://localhost:8080/"
        }
      },
      "outputs": [
        {
          "output_type": "stream",
          "name": "stdout",
          "text": [
            "\n",
            "\n",
            "\u001b[1m> Entering new ArangoGraphQAChain chain...\u001b[0m\n",
            "AQL Query (1):\u001b[32;1m\u001b[1;3m\n",
            "WITH Actor, Event, eventActor\n",
            "FOR actor IN Actor\n",
            "  LET eventCount = LENGTH(\n",
            "    FOR v, e IN INBOUND actor._id eventActor\n",
            "      RETURN 1\n",
            "  )\n",
            "  SORT eventCount DESC\n",
            "  LIMIT 1\n",
            "  RETURN actor\n",
            "\u001b[0m\n",
            "AQL Result:\n",
            "\u001b[32;1m\u001b[1;3m[{'_key': 'ce421379323f450c3369e23c705373a5', '_id': 'Actor/ce421379323f450c3369e23c705373a5', '_rev': '_hg5hmsq---', 'name': 'Civilians (Democratic Republic of Congo)'}]\u001b[0m\n",
            "\n",
            "\u001b[1m> Finished chain.\u001b[0m\n"
          ]
        },
        {
          "output_type": "execute_result",
          "data": {
            "text/plain": [
              "{'query': 'Fetch me the Actor with the most associated events. Remember to use INBOUND for eventActor',\n",
              " 'result': \"The actor associated with the most events in the database is 'Civilians (Democratic Republic of Congo)'.\"}"
            ]
          },
          "metadata": {},
          "execution_count": 52
        }
      ],
      "source": [
        "chain.invoke(\"Fetch me the Actor with the most associated events. Remember to use INBOUND for eventActor\")"
      ]
    },
    {
      "cell_type": "code",
      "execution_count": 53,
      "id": "68",
      "metadata": {
        "id": "68",
        "outputId": "9298ad6d-1f28-41bd-fbfe-cc4ad9e97576",
        "colab": {
          "base_uri": "https://localhost:8080/"
        }
      },
      "outputs": [
        {
          "output_type": "stream",
          "name": "stdout",
          "text": [
            "\n",
            "\n",
            "\u001b[1m> Entering new ArangoGraphQAChain chain...\u001b[0m\n",
            "AQL Query (1):\u001b[32;1m\u001b[1;3m\n",
            "WITH Event\n",
            "FOR e IN Event\n",
            "    FILTER e.date LIKE \"2020%\"\n",
            "    SORT e.fatalities DESC\n",
            "    LIMIT 1\n",
            "    RETURN e\n",
            "\u001b[0m\n",
            "AQL Result:\n",
            "\u001b[32;1m\u001b[1;3m[{'_key': 'CHA1052', '_id': 'Event/CHA1052', '_rev': '_hg5hzsu--w', 'date': '2020-04-04T00:00:00.000Z', 'dateStamp': 1585958400000, 'description': 'Between 31 March and 8 April, the Chadian army carried out military operations against Boko Haram (or ISWAP) militants in the Lac Region. The military acknowledged that 52 Chadian soldiers were killed and 196 others wounded in the operations, claiming to have killed 1000 Boko Haram militants. The declared toll is assessed to be exaggerated and therefore revised and coded as 100.', 'fatalities': 152, 'geo': {'type': 'Point', 'coordinates': [13.533, 14.31]}, 'name': 'Between 31 March and 8 April, ', 'label': 'Battles'}]\u001b[0m\n",
            "\n",
            "\u001b[1m> Finished chain.\u001b[0m\n"
          ]
        },
        {
          "output_type": "execute_result",
          "data": {
            "text/plain": [
              "{'query': 'Which 2020 event has the largest number of fatalities?',\n",
              " 'result': 'The 2020 event with the largest number of fatalities was a military operation carried out by the Chadian army against Boko Haram (or ISWAP) militants in the Lac Region. This event occurred between March 31 and April 8. The military acknowledged that 52 Chadian soldiers were killed and 196 others were wounded in the operations, claiming to have killed 1000 Boko Haram militants. However, the declared toll is assessed to be exaggerated and therefore revised and coded as 100. This brings the total fatalities to 152.'}"
            ]
          },
          "metadata": {},
          "execution_count": 53
        }
      ],
      "source": [
        "chain.invoke(\"Which 2020 event has the largest number of fatalities?\")"
      ]
    },
    {
      "cell_type": "code",
      "execution_count": 54,
      "id": "69",
      "metadata": {
        "id": "69",
        "outputId": "cf8e4d07-f867-48ae-919c-4da2c35a048a",
        "colab": {
          "base_uri": "https://localhost:8080/"
        }
      },
      "outputs": [
        {
          "output_type": "stream",
          "name": "stdout",
          "text": [
            "\n",
            "\n",
            "\u001b[1m> Entering new ArangoGraphQAChain chain...\u001b[0m\n",
            "AQL Query (1):\u001b[32;1m\u001b[1;3m\n",
            "WITH Event, inCountry\n",
            "FOR country IN inCountry\n",
            "    COLLECT countryName = country._to INTO groups = country\n",
            "    SORT LENGTH(groups) DESC\n",
            "    LIMIT 3\n",
            "    RETURN { \"country\": countryName, \"eventCount\": LENGTH(groups) }\n",
            "\u001b[0m\n",
            "AQL Result:\n",
            "\u001b[32;1m\u001b[1;3m[{'country': 'Country/Democratic_Republic_of_Congo', 'eventCount': 2046}, {'country': 'Country/Kenya', 'eventCount': 1192}, {'country': 'Country/Burundi', 'eventCount': 1030}]\u001b[0m\n",
            "\n",
            "\u001b[1m> Finished chain.\u001b[0m\n"
          ]
        },
        {
          "output_type": "execute_result",
          "data": {
            "text/plain": [
              "{'query': 'Return the first 3 countries with the most associated events',\n",
              " 'result': 'The first three countries with the most associated events are the Democratic Republic of Congo with 2046 events, Kenya with 1192 events, and Burundi with 1030 events.'}"
            ]
          },
          "metadata": {},
          "execution_count": 54
        }
      ],
      "source": [
        "chain.invoke(\"Return the first 3 countries with the most associated events\")"
      ]
    },
    {
      "cell_type": "code",
      "execution_count": 55,
      "id": "70",
      "metadata": {
        "id": "70",
        "outputId": "ceee8bad-5459-4cce-8ec2-dcd01a402073",
        "colab": {
          "base_uri": "https://localhost:8080/"
        }
      },
      "outputs": [
        {
          "output_type": "execute_result",
          "data": {
            "text/plain": [
              "True"
            ]
          },
          "metadata": {},
          "execution_count": 55
        }
      ],
      "source": [
        "# ArangoSearch + LangChain\n",
        "\n",
        "db.delete_view(\"EventView\", ignore_missing=True)\n",
        "db.create_view(\n",
        "    \"EventView\",\n",
        "    \"arangosearch\",\n",
        "    {\n",
        "        \"links\": {\n",
        "            \"Event\": {\n",
        "                \"analyzers\": [\"text_en\"],\n",
        "                \"fields\": {\n",
        "                    \"description\": { # <------ Enable Event search by `description`\n",
        "                        \"analyzers\": [\"text_en\"],\n",
        "                    },\n",
        "                },\n",
        "                \"includeAllFields\": True,\n",
        "                \"storeValues\": \"none\",\n",
        "                \"trackListPositions\": False,\n",
        "            },\n",
        "        }\n",
        "    },\n",
        ")\n",
        "\n",
        "True"
      ]
    },
    {
      "cell_type": "code",
      "execution_count": 56,
      "id": "71",
      "metadata": {
        "id": "71",
        "outputId": "ed08caab-5cdf-4886-f90d-ec921aa5ee4a",
        "colab": {
          "base_uri": "https://localhost:8080/"
        }
      },
      "outputs": [
        {
          "output_type": "stream",
          "name": "stdout",
          "text": [
            "\n",
            "\n",
            "\u001b[1m> Entering new ArangoGraphQAChain chain...\u001b[0m\n",
            "AQL Query (1):\u001b[32;1m\u001b[1;3m\n",
            "WITH Event\n",
            "FOR doc IN EventView\n",
            "    SEARCH ANALYZER(doc.description IN TOKENS('assassinations', 'text_en'), 'text_en')\n",
            "    RETURN doc\n",
            "\u001b[0m\n",
            "AQL Result:\n",
            "\u001b[32;1m\u001b[1;3m[{'_key': 'DRC7400', '_id': 'Event/DRC7400', '_rev': '_hg5h0Oq--T', 'date': '2013-05-11T00:00:00.000Z', 'dateStamp': 1368230400000, 'description': 'The chief local political leader in Kalonge was assassinated by an armed group.', 'fatalities': 1, 'geo': {'type': 'Point', 'coordinates': [-2.331, 28.729]}, 'name': 'The chief local political lead', 'label': 'Violence_against_civilians'}, {'_key': 'DRC7799', '_id': 'Event/DRC7799', '_rev': '_hg5h0O2-_b', 'date': '2013-11-15T00:00:00.000Z', 'dateStamp': 1384473600000, 'description': 'Armed men reportedly tried to assassinate a member of the Kyaghanda socio-cultural group in Kinshasa. He was beaten into a coma.', 'fatalities': 0, 'geo': {'type': 'Point', 'coordinates': [-4.325, 15.322]}, 'name': 'Armed men reportedly tried to ', 'label': 'Violence_against_civilians'}, {'_key': 'DRC7882', '_id': 'Event/DRC7882', '_rev': '_hg5h0O6-_G', 'date': '2014-01-03T00:00:00.000Z', 'dateStamp': 1388707200000, 'description': 'Protesters gathered in Eringeti, protesting the assassination of Colonel Mamadou Ndala.', 'fatalities': 0, 'geo': {'type': 'Point', 'coordinates': [0.852, 29.612]}, 'name': 'Protesters gathered in Eringet', 'label': 'Protests'}, {'_key': 'DRC7883', '_id': 'Event/DRC7883', '_rev': '_hg5h0O6-_H', 'date': '2014-01-03T00:00:00.000Z', 'dateStamp': 1388707200000, 'description': 'Protesters gathered in Mbau, protesting the assassination of Colonel Mamadou Ndala.', 'fatalities': 0, 'geo': {'type': 'Point', 'coordinates': [0.653, 29.496]}, 'name': 'Protesters gathered in Mbau, p', 'label': 'Protests'}, {'_key': 'DRC7884', '_id': 'Event/DRC7884', '_rev': '_hg5h0O6-_I', 'date': '2014-01-03T00:00:00.000Z', 'dateStamp': 1388707200000, 'description': 'Protesters gathered in Muwanga, protesting the assassination of Colonel Mamadou Ndala.', 'fatalities': 0, 'geo': {'type': 'Point', 'coordinates': [0.333, 29.75]}, 'name': 'Protesters gathered in Muwanga', 'label': 'Protests'}]\u001b[0m\n",
            "\n",
            "\u001b[1m> Finished chain.\u001b[0m\n",
            "{'query': 'ArangoSearch: Fetch me events about assassinations. Use the EventView.', 'result': 'Based on the search criteria, five events related to assassinations were found:\\n\\n1. The chief local political leader in Kalonge was assassinated by an armed group on May 11, 2013. This event resulted in one fatality.\\n\\n2. On November 15, 2013, armed men reportedly tried to assassinate a member of the Kyaghanda socio-cultural group in Kinshasa. The individual was beaten into a coma, but there were no fatalities.\\n\\n3. On January 3, 2014, protesters gathered in Eringeti to protest the assassination of Colonel Mamadou Ndala. There were no fatalities reported in this event.\\n\\n4. On the same day, another protest occurred in Mbau, also in response to the assassination of Colonel Mamadou Ndala. No fatalities were reported.\\n\\n5. A similar protest was held in Muwanga, again in response to the assassination of Colonel Mamadou Ndala. This event also did not result in any fatalities.'}\n"
          ]
        }
      ],
      "source": [
        "print(chain.invoke(\"ArangoSearch: Fetch me events about assassinations. Use the EventView.\"))"
      ]
    },
    {
      "cell_type": "code",
      "execution_count": 57,
      "id": "72",
      "metadata": {
        "id": "72",
        "outputId": "45e0bd9d-76ee-4841-ee04-34ed8c6df0cf",
        "colab": {
          "base_uri": "https://localhost:8080/"
        }
      },
      "outputs": [
        {
          "output_type": "stream",
          "name": "stdout",
          "text": [
            "\n",
            "\n",
            "\u001b[1m> Entering new ArangoGraphQAChain chain...\u001b[0m\n",
            "AQL Query (1):\u001b[32;1m\u001b[1;3m\n",
            "WITH Event, Class, type\n",
            "FOR doc IN EventView\n",
            "  SEARCH ANALYZER(doc.description IN TOKENS('FARDC', 'text_en'), 'text_en')\n",
            "  LET class = (\n",
            "    FOR v, e IN 1..1 OUTBOUND doc._id type\n",
            "      RETURN v\n",
            "  )\n",
            "  RETURN { \"event\": doc, \"class\": class }\n",
            "\u001b[0m\n",
            "AQL Result:\n",
            "\u001b[32;1m\u001b[1;3m[{'event': {'_key': 'DRC16234', '_id': 'Event/DRC16234', '_rev': '_hg5h01C--4', 'date': '2019-12-13T00:00:00.000Z', 'dateStamp': 1576195200000, 'description': 'On 13 December 2019, CODECO attacked the FARDC in Cafe, Djugu, Ituri.', 'fatalities': 0, 'geo': {'type': 'Point', 'coordinates': [2.118, 30.121]}, 'name': 'On 13 December 2019, CODECO at', 'label': 'Battles'}, 'class': [{'_key': 'Battles', '_id': 'Class/Battles', '_rev': '_hg5hrJm--_', 'name': 'Battles'}]}, {'event': {'_key': 'DRC16232', '_id': 'Event/DRC16232', '_rev': '_hg5h01C--5', 'date': '2019-12-13T00:00:00.000Z', 'dateStamp': 1576195200000, 'description': 'On 13 December 2019, the FARDC killed Nyatura FDDH Commander in Masisi territory.', 'fatalities': 1, 'geo': {'type': 'Point', 'coordinates': [-1.4, 28.817]}, 'name': 'On 13 December 2019, the FARDC', 'label': 'Battles'}, 'class': [{'_key': 'Battles', '_id': 'Class/Battles', '_rev': '_hg5hrJm--_', 'name': 'Battles'}]}, {'event': {'_key': 'DRC16249', '_id': 'Event/DRC16249', '_rev': '_hg5h01C-_C', 'date': '2019-12-14T00:00:00.000Z', 'dateStamp': 1576281600000, 'description': \"On 14 December 2019, armed clashes took place between FARDC and CODECO in some villages like Dhehuand and Dheda in the groupment Dz'na, djtsi sector, Djugu territory. 6 people died including 2 soldiers.\", 'fatalities': 6, 'geo': {'type': 'Point', 'coordinates': [1.966, 30.506]}, 'name': 'On 14 December 2019, armed cla', 'label': 'Battles'}, 'class': [{'_key': 'Battles', '_id': 'Class/Battles', '_rev': '_hg5hrJm--_', 'name': 'Battles'}]}, {'event': {'_key': 'DRC16250', '_id': 'Event/DRC16250', '_rev': '_hg5h01C-_D', 'date': '2019-12-14T00:00:00.000Z', 'dateStamp': 1576281600000, 'description': 'On 14 December 2019, armed clashes took place between FARDC and ADF leading to the regain of the Kazaroho camp, at the 20th km in Beni-Mbau sector. One ADF fighter was arrested.', 'fatalities': 0, 'geo': {'type': 'Point', 'coordinates': [0.706, 29.656]}, 'name': 'On 14 December 2019, armed cla', 'label': 'Battles'}, 'class': [{'_key': 'Battles', '_id': 'Class/Battles', '_rev': '_hg5hrJm--_', 'name': 'Battles'}]}, {'event': {'_key': 'DRC16254', '_id': 'Event/DRC16254', '_rev': '_hg5h01C-_I', 'date': '2019-12-15T00:00:00.000Z', 'dateStamp': 1576368000000, 'description': 'On 15 December 2019, FARDC attacked CNRD fighters in Mangungu village in Kalehe territory. Three CNRD fighters were killed an a FARDC soldier was injured.', 'fatalities': 3, 'geo': {'type': 'Point', 'coordinates': [-2.097, 28.905]}, 'name': 'On 15 December 2019, FARDC att', 'label': 'Battles'}, 'class': [{'_key': 'Battles', '_id': 'Class/Battles', '_rev': '_hg5hrJm--_', 'name': 'Battles'}]}]\u001b[0m\n",
            "\n",
            "\u001b[1m> Finished chain.\u001b[0m\n",
            "{'query': '\\n  ArangoSearch: Use the EventView to fetch events that mention FARDC.\\n  Return each event along with its associated Class.\\n', 'result': \"The search for events mentioning FARDC returned several instances. Here are some of them:\\n\\n1. On 13 December 2019, CODECO attacked the FARDC in Cafe, Djugu, Ituri. This event is classified under 'Battles'.\\n2. On the same day, the FARDC killed Nyatura FDDH Commander in Masisi territory. This event is also classified under 'Battles'.\\n3. On 14 December 2019, armed clashes took place between FARDC and CODECO in some villages like Dhehuand and Dheda in the groupment Dz'na, djtsi sector, Djugu territory. 6 people died including 2 soldiers. This event is classified under 'Battles'.\\n4. On the same day, armed clashes took place between FARDC and ADF leading to the regain of the Kazaroho camp, at the 20th km in Beni-Mbau sector. One ADF fighter was arrested. This event is classified under 'Battles'.\\n5. On 15 December 2019, FARDC attacked CNRD fighters in Mangungu village in Kalehe territory. Three CNRD fighters were killed and a FARDC soldier was injured. This event is classified under 'Battles'.\\n\\nAll these events are classified under 'Battles'.\"}\n"
          ]
        }
      ],
      "source": [
        "print(chain.invoke(\"\"\"\n",
        "  ArangoSearch: Use the EventView to fetch events that mention FARDC.\n",
        "  Return each event along with its associated Class.\n",
        "\"\"\"))"
      ]
    },
    {
      "cell_type": "code",
      "execution_count": 58,
      "id": "73",
      "metadata": {
        "id": "73",
        "outputId": "562ccedb-514d-47da-8c63-795e15f6d531",
        "colab": {
          "base_uri": "https://localhost:8080/"
        }
      },
      "outputs": [
        {
          "output_type": "stream",
          "name": "stdout",
          "text": [
            "\n",
            "\n",
            "\u001b[1m> Entering new ArangoGraphQAChain chain...\u001b[0m\n",
            "AQL Query (1):\u001b[32;1m\u001b[1;3m\n",
            "WITH Event\n",
            "FOR doc IN EventView\n",
            "  SEARCH ANALYZER(\n",
            "    doc.description IN TOKENS('law students', 'text_en'),\n",
            "    'text_en'\n",
            "  )\n",
            "  SORT BM25(doc) DESC\n",
            "  RETURN doc\n",
            "\u001b[0m\n",
            "AQL Result:\n",
            "\u001b[32;1m\u001b[1;3m[{'_key': 'ALG5027', '_id': 'Event/ALG5027', '_rev': '_hg5hwja-_c', 'date': '2017-12-12T00:00:00.000Z', 'dateStamp': 1513036800000, 'description': 'Law students blocked access to the law and political science faculty in Batna to call for a regularisation of their diploma.', 'fatalities': 0, 'geo': {'type': 'Point', 'coordinates': [35.555, 6.179]}, 'name': 'Law students blocked access to', 'label': 'Protests'}, {'_key': 'ALG5028', '_id': 'Event/ALG5028', '_rev': '_hg5hwje--C', 'date': '2017-12-13T00:00:00.000Z', 'dateStamp': 1513123200000, 'description': 'Law students blocked access to the law and political science faculty in Batna to call for a regularisation of their diploma.', 'fatalities': 0, 'geo': {'type': 'Point', 'coordinates': [35.555, 6.179]}, 'name': 'Law students blocked access to', 'label': 'Protests'}, {'_key': 'ALG5029', '_id': 'Event/ALG5029', '_rev': '_hg5hwje--J', 'date': '2017-12-14T00:00:00.000Z', 'dateStamp': 1513209600000, 'description': 'Law students blocked access to the law and political science faculty in Batna to call for a regularisation of their diploma.', 'fatalities': 0, 'geo': {'type': 'Point', 'coordinates': [35.555, 6.179]}, 'name': 'Law students blocked access to', 'label': 'Protests'}, {'_key': 'ALG37', '_id': 'Event/ALG37', '_rev': '_hg5hwR6--K', 'date': '1997-01-26T00:00:00.000Z', 'dateStamp': 854236800000, 'description': 'A student of law-studies was killed by armed men in Sidi Moussa.', 'fatalities': 1, 'geo': {'type': 'Point', 'coordinates': [36.606, 3.088]}, 'name': 'A student of law-studies was k', 'label': 'Violence_against_civilians'}, {'_key': 'GAM45', '_id': 'Event/GAM45', '_rev': '_hg5hyUm--P', 'date': '2003-05-09T00:00:00.000Z', 'dateStamp': 1052438400000, 'description': 'Muslim female students at St. Theresas secondary school boycotted classes to protest the governments new law that bans the wearing of veils in school.', 'fatalities': 0, 'geo': {'type': 'Point', 'coordinates': [13.453, -16.578]}, 'name': 'Muslim female students at St. ', 'label': 'Protests'}]\u001b[0m\n",
            "\n",
            "\u001b[1m> Finished chain.\u001b[0m\n",
            "{'query': \"\\n  ArangoSearch: Fetch me events that mention 'law students'.\\n  Prioritize results that have both 'law' and 'students', but not necessarily side-by-side.\\n  Use the EventView.\\n\", 'result': \"Based on your request, I found several events that mention 'law students'. Here are some of them:\\n\\n1. On December 12, 2017, law students blocked access to the law and political science faculty in Batna to call for a regularisation of their diploma. This event had no fatalities.\\n\\n2. The same event occurred on December 13, 2017, and December 14, 2017, with no fatalities reported.\\n\\n3. On January 26, 1997, a student of law studies was killed by armed men in Sidi Moussa. This event resulted in one fatality.\\n\\n4. On May 9, 2003, Muslim female students at St. Theresas secondary school boycotted classes to protest the government's new law that bans the wearing of veils in school. This event had no fatalities.\\n\\nThese events were prioritized based on the presence of both 'law' and 'students' in their descriptions.\"}\n"
          ]
        }
      ],
      "source": [
        "print(chain.invoke(\"\"\"\n",
        "  ArangoSearch: Fetch me events that mention 'law students'.\n",
        "  Prioritize results that have both 'law' and 'students', but not necessarily side-by-side.\n",
        "  Use the EventView.\n",
        "\"\"\"))"
      ]
    },
    {
      "cell_type": "code",
      "execution_count": 59,
      "id": "74",
      "metadata": {
        "id": "74",
        "outputId": "d34b6c33-be64-4e93-d283-34c31a369080",
        "colab": {
          "base_uri": "https://localhost:8080/"
        }
      },
      "outputs": [
        {
          "output_type": "execute_result",
          "data": {
            "text/plain": [
              "True"
            ]
          },
          "metadata": {},
          "execution_count": 59
        }
      ],
      "source": [
        "db.delete_view(\"ActorView\", ignore_missing=True)\n",
        "db.create_view(\n",
        "    \"ActorView\",\n",
        "    \"arangosearch\",\n",
        "    {\n",
        "        \"links\": {\n",
        "            \"Actor\": {\n",
        "                \"analyzers\": [\"text_en\"],\n",
        "                \"fields\": {\n",
        "                    \"name\": { # <------ Enable Actor search by `name`\n",
        "                        \"analyzers\": [\"text_en\"],\n",
        "                    },\n",
        "                },\n",
        "                \"includeAllFields\": True,\n",
        "                \"storeValues\": \"none\",\n",
        "                \"trackListPositions\": False,\n",
        "            },\n",
        "        }\n",
        "    },\n",
        ")\n",
        "\n",
        "True"
      ]
    },
    {
      "cell_type": "code",
      "execution_count": 60,
      "id": "75",
      "metadata": {
        "id": "75",
        "outputId": "1ea16621-5c9b-4692-891c-3d86b9515932",
        "colab": {
          "base_uri": "https://localhost:8080/"
        }
      },
      "outputs": [
        {
          "output_type": "stream",
          "name": "stdout",
          "text": [
            "\n",
            "\n",
            "\u001b[1m> Entering new ArangoGraphQAChain chain...\u001b[0m\n",
            "AQL Query (1):\u001b[32;1m\u001b[1;3m\n",
            "WITH Actor\n",
            "FOR actor IN ActorView\n",
            "  SEARCH PHRASE(actor.name, 'United Nations', 'text_en')\n",
            "  RETURN actor\n",
            "\u001b[0m\n",
            "AQL Result:\n",
            "\u001b[32;1m\u001b[1;3m[{'_key': '4ed1d7cd48ca47c08215f84d4198a425', '_id': 'Actor/4ed1d7cd48ca47c08215f84d4198a425', '_rev': '_hg5hmoG--G', 'name': 'UNOCI: United Nations Operation in Ivory Coast (2004-)'}, {'_key': '588ef1752e2f120ce6d12c27cd78c66f', '_id': 'Actor/588ef1752e2f120ce6d12c27cd78c66f', '_rev': '_hg5hmoG--H', 'name': 'UNMIL: United Nations Mission in Liberia (2003-)'}, {'_key': 'b653dd3752b75d9749c083aca0f07f54', '_id': 'Actor/b653dd3752b75d9749c083aca0f07f54', '_rev': '_hg5hmoG--I', 'name': 'UNMEE: United Nations Mission in Ethiopia and Eritrea (2000-2008)'}, {'_key': '827a99003b0685f6f2db84bc0db726d0', '_id': 'Actor/827a99003b0685f6f2db84bc0db726d0', '_rev': '_hg5hmoG--J', 'name': 'UNMAS: United Nations Mine Action Service'}, {'_key': '0ad7f09c301fb80e539cf1956439a9c4', '_id': 'Actor/0ad7f09c301fb80e539cf1956439a9c4', '_rev': '_hg5hmoG-_W', 'name': 'UNAMSIL: United Nations Mission in Sierra Leone (1999-2005)'}]\u001b[0m\n",
            "\n",
            "\u001b[1m> Finished chain.\u001b[0m\n",
            "{'query': \"ArangoSearch: Fetch me the actors whose name has 'United Nations' in it. Use the ActorView.\", 'result': \"The actors in the database whose names contain 'United Nations' are as follows:\\n\\n1. UNOCI: United Nations Operation in Ivory Coast (2004-)\\n2. UNMIL: United Nations Mission in Liberia (2003-)\\n3. UNMEE: United Nations Mission in Ethiopia and Eritrea (2000-2008)\\n4. UNMAS: United Nations Mine Action Service\\n5. UNAMSIL: United Nations Mission in Sierra Leone (1999-2005)\"}\n"
          ]
        }
      ],
      "source": [
        "print(chain.invoke(\"ArangoSearch: Fetch me the actors whose name has 'United Nations' in it. Use the ActorView.\"))"
      ]
    },
    {
      "cell_type": "code",
      "execution_count": 61,
      "id": "76",
      "metadata": {
        "id": "76",
        "outputId": "c161768b-57d3-46f0-de8b-5706d3b0e452",
        "colab": {
          "base_uri": "https://localhost:8080/"
        }
      },
      "outputs": [
        {
          "output_type": "stream",
          "name": "stdout",
          "text": [
            "\n",
            "\n",
            "\u001b[1m> Entering new ArangoGraphQAChain chain...\u001b[0m\n",
            "AQL Query (1):\u001b[32;1m\u001b[1;3m\n",
            "WITH Actor\n",
            "FOR actor IN ActorView\n",
            "  SEARCH ANALYZER(\n",
            "    (BOOST(PHRASE(actor.name, 'peace', 'text_en'), 1) OR BOOST(PHRASE(actor.name, 'justice', 'text_en'), 5)) \n",
            "    AND NOT PHRASE(actor.name, 'mutiny', 'text_en'), \n",
            "    'text_en'\n",
            "  )\n",
            "  SORT BM25(actor) DESC\n",
            "  RETURN actor\n",
            "\u001b[0m\n",
            "AQL Result:\n",
            "\u001b[32;1m\u001b[1;3m[{'_key': 'b999da8d9a6761498d708a5bcebf62fc', '_id': 'Actor/b999da8d9a6761498d708a5bcebf62fc', '_rev': '_hg5hmoa-_E', 'name': 'MJP: Movement for Justice and Peace'}, {'_key': '187d0bfa73812df50f7b9c58569f7593', '_id': 'Actor/187d0bfa73812df50f7b9c58569f7593', '_rev': '_hg5hmoK-_z', 'name': 'RJ: Revolution and Justice'}, {'_key': 'eb3b4b11e5a13793d14a0a937d44774a', '_id': 'Actor/eb3b4b11e5a13793d14a0a937d44774a', '_rev': '_hg5hmsm-__', 'name': 'CNJ: National Convention for Justice'}, {'_key': 'f55215168ca78dd170232c14bf16c1a9', '_id': 'Actor/f55215168ca78dd170232c14bf16c1a9', '_rev': '_hg5hmsi-_d', 'name': 'Ethiopian Unity and Justice Movement'}, {'_key': '88f7eae1cb43b688afa193747a4a0ba8', '_id': 'Actor/88f7eae1cb43b688afa193747a4a0ba8', '_rev': '_hg5hmsa--8', 'name': 'JEM: Justice and Equality Movement'}]\u001b[0m\n",
            "\n",
            "\u001b[1m> Finished chain.\u001b[0m\n",
            "{'query': \"\\n  ArangoSearch: Use the ActorView to search for actors who name has 'peace' or 'justice'.\\n  Boost by 1 for 'peace' matches, and boost by 5 for 'justice' matches.\\n  Avoid actor names that match with 'mutiny'.\\n  Sort and list them numerically.\\n\", 'result': \"The search for actors whose names contain either 'peace' or 'justice' returned the following results:\\n\\n1. MJP: Movement for Justice and Peace\\n2. RJ: Revolution and Justice\\n3. CNJ: National Convention for Justice\\n4. Ethiopian Unity and Justice Movement\\n5. JEM: Justice and Equality Movement\\n\\nPlease note that these results do not include any actors whose names contain the term 'mutiny'. The results are sorted based on their relevance to the search terms, with a higher preference given to 'justice' over 'peace'.\"}\n"
          ]
        }
      ],
      "source": [
        "print(chain.invoke(\"\"\"\n",
        "  ArangoSearch: Use the ActorView to search for actors who name has 'peace' or 'justice'.\n",
        "  Boost by 1 for 'peace' matches, and boost by 5 for 'justice' matches.\n",
        "  Avoid actor names that match with 'mutiny'.\n",
        "  Sort and list them numerically.\n",
        "\"\"\"))"
      ]
    },
    {
      "cell_type": "code",
      "execution_count": 62,
      "id": "77",
      "metadata": {
        "id": "77",
        "outputId": "596da623-5fd3-467c-9459-2f0ce1fa792e",
        "colab": {
          "base_uri": "https://localhost:8080/"
        }
      },
      "outputs": [
        {
          "output_type": "stream",
          "name": "stdout",
          "text": [
            "\n",
            "\n",
            "\u001b[1m> Entering new ArangoGraphQAChain chain...\u001b[0m\n",
            "AQL Query (1):\u001b[32;1m\u001b[1;3m\n",
            "WITH Actor, Event, eventActor\n",
            "FOR actor IN ActorView\n",
            "  SEARCH ANALYZER(actor.name IN TOKENS('militia', 'text_en'), 'text_en')\n",
            "  LET events = (\n",
            "    FOR v, e IN INBOUND actor eventActor\n",
            "      RETURN { 'event': v, 'fatalities': v.fatalities }\n",
            "  )\n",
            "  SORT LENGTH(events) DESC\n",
            "  LIMIT 1\n",
            "  RETURN { 'actor': actor, 'total_fatalities': SUM(events[*].fatalities) }\n",
            "\u001b[0m\n",
            "AQL Result:\n",
            "\u001b[32;1m\u001b[1;3m[{'actor': {'_key': 'd00e5916b65b9c98c9396c21bf6a104c', '_id': 'Actor/d00e5916b65b9c98c9396c21bf6a104c', '_rev': '_hg5hmsS-_a', 'name': 'Mayi Mayi Militia'}, 'total_fatalities': 2711}]\u001b[0m\n",
            "\n",
            "\u001b[1m> Finished chain.\u001b[0m\n",
            "{'query': \"\\n  ArangoSearch: Use the ActorView to fetch me Actors whose name has the word 'militia' in it.\\n  From those actors, fetch me the Actor with the highest number of associated events.\\n  With those events, return their sum of fatalities.\\n  Remember to use INBOUND for eventActor!\\n\", 'result': \"The actor with the word 'militia' in their name, who is associated with the highest number of events, is the 'Mayi Mayi Militia'. The sum of fatalities from all the events associated with this actor is 2711.\"}\n"
          ]
        }
      ],
      "source": [
        "print(chain.invoke(\"\"\"\n",
        "  ArangoSearch: Use the ActorView to fetch me Actors whose name has the word 'militia' in it.\n",
        "  From those actors, fetch me the Actor with the highest number of associated events.\n",
        "  With those events, return their sum of fatalities.\n",
        "  Remember to use INBOUND for eventActor!\n",
        "\"\"\"))"
      ]
    },
    {
      "cell_type": "markdown",
      "id": "78",
      "metadata": {
        "id": "78"
      },
      "source": [
        "---\n",
        "## Prompt Engineering"
      ]
    },
    {
      "cell_type": "markdown",
      "id": "79",
      "metadata": {
        "id": "79"
      },
      "source": [
        "##### via Prompt Modifiers"
      ]
    },
    {
      "cell_type": "markdown",
      "id": "80",
      "metadata": {
        "id": "80"
      },
      "source": [
        "You can alter the values of the following `ArangoDBGraphQAChain` class variables to modify the behaviour of your chain results\n"
      ]
    },
    {
      "cell_type": "code",
      "execution_count": 63,
      "id": "81",
      "metadata": {
        "id": "81",
        "outputId": "e602ea96-f61f-4290-d8c2-f228b919b951",
        "colab": {
          "base_uri": "https://localhost:8080/"
        }
      },
      "outputs": [
        {
          "output_type": "stream",
          "name": "stdout",
          "text": [
            "\n",
            "\n",
            "\u001b[1m> Entering new ArangoGraphQAChain chain...\u001b[0m\n",
            "AQL Query (1):\u001b[32;1m\u001b[1;3m\n",
            "WITH Characters, ChildOf\n",
            "FOR v, e IN 2..2 OUTBOUND 'Characters/RickardStark' ChildOf\n",
            "RETURN v\n",
            "\u001b[0m\n",
            "AQL Result:\n",
            "\u001b[32;1m\u001b[1;3m[]\u001b[0m\n",
            "\n",
            "\u001b[1m> Finished chain.\u001b[0m\n"
          ]
        },
        {
          "output_type": "execute_result",
          "data": {
            "text/plain": [
              "{'query': 'Who are the grandchildren of Rickard Stark?',\n",
              " 'result': 'Rickard Stark does not have any recorded grandchildren in the database.'}"
            ]
          },
          "metadata": {},
          "execution_count": 63
        }
      ],
      "source": [
        "# Notice how the following prompt returns nothing;\n",
        "chain.invoke(\"Who are the grandchildren of Rickard Stark?\")"
      ]
    },
    {
      "cell_type": "code",
      "execution_count": 64,
      "id": "82",
      "metadata": {
        "id": "82",
        "outputId": "c78f2429-e3af-44f6-a619-9529e52050e3",
        "colab": {
          "base_uri": "https://localhost:8080/"
        }
      },
      "outputs": [
        {
          "output_type": "stream",
          "name": "stdout",
          "text": [
            "\n",
            "\n",
            "\u001b[1m> Entering new ArangoGraphQAChain chain...\u001b[0m\n",
            "AQL Query (1):\u001b[32;1m\u001b[1;3m\n",
            "WITH Characters, ChildOf\n",
            "FOR v, e IN 2..2 INBOUND 'Characters/RickardStark' ChildOf\n",
            "RETURN v\n",
            "\u001b[0m\n",
            "AQL Result:\n",
            "\u001b[32;1m\u001b[1;3m[{'_key': 'JonSnow', '_id': 'Characters/JonSnow', '_rev': '_hg5i5Yu--_', 'name': 'Jon', 'surname': 'Snow', 'alive': True, 'age': 31, 'gender': 'male'}, {'_key': 'AryaStark', '_id': 'Characters/AryaStark', '_rev': '_hg5hjBG--C', 'name': 'Arya', 'surname': 'Stark', 'alive': True, 'age': 11, 'gender': 'female'}, {'_key': 'SansaStark', '_id': 'Characters/SansaStark', '_rev': '_hg5hjBG--G', 'name': 'Sansa', 'surname': 'Stark', 'alive': True, 'age': 13, 'gender': 'female'}, {'_key': 'RobbStark', '_id': 'Characters/RobbStark', '_rev': '_hg5hjBG--F', 'name': 'Robb', 'surname': 'Stark', 'alive': False, 'age': 16, 'gender': 'male'}, {'_key': 'BranStark', '_id': 'Characters/BranStark', '_rev': '_hg5hjBG--D', 'name': 'Bran', 'surname': 'Stark', 'alive': True, 'age': 10, 'gender': 'male'}]\u001b[0m\n",
            "\n",
            "\u001b[1m> Finished chain.\u001b[0m\n"
          ]
        },
        {
          "output_type": "execute_result",
          "data": {
            "text/plain": [
              "{'query': 'Who are the grandchildren of Rickard Stark? Remember to use INBOUND',\n",
              " 'result': 'The grandchildren of Rickard Stark are Jon Snow, Arya Stark, Sansa Stark, Robb Stark, and Bran Stark.'}"
            ]
          },
          "metadata": {},
          "execution_count": 64
        }
      ],
      "source": [
        "# A simple reminder to use INBOUND (instead of OUTBOUND) returns the correct result;\n",
        "chain.invoke(\"Who are the grandchildren of Rickard Stark? Remember to use INBOUND\")"
      ]
    },
    {
      "cell_type": "code",
      "execution_count": 65,
      "id": "83",
      "metadata": {
        "id": "83",
        "outputId": "1d7f77a4-8482-45d8-8d76-6302e62d9c82",
        "colab": {
          "base_uri": "https://localhost:8080/"
        }
      },
      "outputs": [
        {
          "output_type": "stream",
          "name": "stdout",
          "text": [
            "\n",
            "\n",
            "\u001b[1m> Entering new ArangoGraphQAChain chain...\u001b[0m\n",
            "AQL Query (1):\u001b[32;1m\u001b[1;3m\n",
            "WITH Characters, ChildOf\n",
            "FOR v, e IN 2..2 INBOUND 'Characters/TywinLannister' ChildOf\n",
            "  RETURN v\n",
            "\u001b[0m\n",
            "AQL Result:\n",
            "\u001b[32;1m\u001b[1;3m[{'_key': 'JoffreyBaratheon', '_id': 'Characters/JoffreyBaratheon', '_rev': '_hg5hjBG--L', 'name': 'Joffrey', 'surname': 'Baratheon', 'alive': False, 'age': 19, 'gender': 'male'}, {'_key': 'JoffreyBaratheon', '_id': 'Characters/JoffreyBaratheon', '_rev': '_hg5hjBG--L', 'name': 'Joffrey', 'surname': 'Baratheon', 'alive': False, 'age': 19, 'gender': 'male'}]\u001b[0m\n",
            "\n",
            "\u001b[1m> Finished chain.\u001b[0m\n"
          ]
        },
        {
          "output_type": "execute_result",
          "data": {
            "text/plain": [
              "{'query': 'Who are the grandchildren of Tywin Lannister?',\n",
              " 'result': \"The grandchildren of Tywin Lannister are Joffrey Baratheon. Please note that Joffrey Baratheon is listed twice, indicating that he is a grandchild through both of Tywin's children.\"}"
            ]
          },
          "metadata": {},
          "execution_count": 65
        }
      ],
      "source": [
        "# We can solidify this pattern by making using of **chain.aql_examples**\n",
        "\n",
        "# The AQL Examples modifier instructs the LLM to adapt its AQL-completion style\n",
        "# to the user’s examples. These examples arepassed to the AQL Generation Prompt\n",
        "# Template to promote few-shot-learning.\n",
        "\n",
        "chain.aql_examples = \"\"\"\n",
        "# Who are the grandchildren of Rickard Stark?\n",
        "WITH Characters, ChildOf\n",
        "FOR v, e IN 2..2 INBOUND 'Characters/RickardStark' ChildOf\n",
        "  RETURN v\n",
        "\n",
        "# Is Ned Stark alive?\n",
        "RETURN DOCUMENT('Characters/NedStark').alive\n",
        "\"\"\"\n",
        "\n",
        "# Note how we are no longer specifying the use of INBOUND\n",
        "chain.invoke(\"Who are the grandchildren of Tywin Lannister?\")"
      ]
    },
    {
      "cell_type": "code",
      "execution_count": 66,
      "id": "84",
      "metadata": {
        "id": "84"
      },
      "outputs": [],
      "source": [
        "# Other modifiers include:\n",
        "\n",
        "# Specify the maximum number of AQL Query Results to return\n",
        "chain.top_k = 5\n",
        "\n",
        "# Specify the maximum amount of AQL Generation attempts that should be made\n",
        "# before returning an error\n",
        "chain.max_aql_generation_attempts = 5\n",
        "\n",
        "# Specify whether or not to return the AQL Query in the output dictionary\n",
        "# Use `chain(\"...\")` instead of `chain.invoke(\"...\")` to see this change\n",
        "chain.return_aql_query = True\n",
        "\n",
        "# Specify whether or not to return the AQL JSON Result in the output dictionary\n",
        "# Use `chain(\"...\")` instead of `chain.invoke(\"...\")` to see this change\n",
        "chain.return_aql_result = True"
      ]
    },
    {
      "cell_type": "markdown",
      "id": "85",
      "metadata": {
        "id": "85"
      },
      "source": [
        "##### via Prompt Templates"
      ]
    },
    {
      "cell_type": "code",
      "execution_count": 67,
      "id": "86",
      "metadata": {
        "id": "86"
      },
      "outputs": [],
      "source": [
        "from langchain.prompts import PromptTemplate"
      ]
    },
    {
      "cell_type": "markdown",
      "id": "87",
      "metadata": {
        "id": "87"
      },
      "source": [
        "###### Natural Language to AQL Template"
      ]
    },
    {
      "cell_type": "code",
      "execution_count": 68,
      "id": "88",
      "metadata": {
        "id": "88"
      },
      "outputs": [],
      "source": [
        "AQL_GENERATION_TEMPLATE = \"\"\"Task: Generate an ArangoDB Query Language (AQL) query from a User Input.\n",
        "\n",
        "You are an ArangoDB Query Language (AQL) expert responsible for translating a `User Input` into an ArangoDB Query Language (AQL) query.\n",
        "\n",
        "You are given an `ArangoDB Schema`. It is a JSON Object containing:\n",
        "1. `Graph Schema`: Lists all Graphs within the ArangoDB Database Instance, along with their Edge Relationships.\n",
        "2. `Collection Schema`: Lists all Collections within the ArangoDB Database Instance, along with their document/edge properties and a document/edge example.\n",
        "\n",
        "You may also be given a set of `AQL Query Examples` to help you create the `AQL Query`. If provided, the `AQL Query Examples` should be used as a reference, similar to how `ArangoDB Schema` should be used.\n",
        "\n",
        "Things you should do:\n",
        "- Think step by step.\n",
        "- Rely on `ArangoDB Schema` and `AQL Query Examples` (if provided) to generate the query.\n",
        "- Begin the `AQL Query` by the `WITH` AQL keyword to specify all of the ArangoDB Collections required.\n",
        "- Return the `AQL Query` wrapped in 3 backticks (```).\n",
        "- Use only the provided relationship types and properties in the `ArangoDB Schema` and any `AQL Query Examples` queries.\n",
        "- Only answer to requests related to generating an AQL Query.\n",
        "- If a request is unrelated to generating AQL Query, say that you cannot help the user.\n",
        "\n",
        "Things you should not do:\n",
        "- Do not use any properties/relationships that can't be inferred from the `ArangoDB Schema` or the `AQL Query Examples`.\n",
        "- Do not include any text except the generated AQL Query.\n",
        "- Do not provide explanations or apologies in your responses.\n",
        "- Do not generate an AQL Query that removes or deletes any data.\n",
        "\n",
        "Under no circumstance should you generate an AQL Query that deletes any data whatsoever.\n",
        "\n",
        "ArangoDB Schema:\n",
        "{adb_schema}\n",
        "\n",
        "AQL Query Examples (Optional):\n",
        "{aql_examples}\n",
        "\n",
        "User Input:\n",
        "{user_input}\n",
        "\n",
        "AQL Query:\n",
        "\"\"\"\n",
        "\n",
        "AQL_GENERATION_PROMPT = PromptTemplate(\n",
        "    input_variables=[\"adb_schema\", \"aql_examples\", \"user_input\"],\n",
        "    template=AQL_GENERATION_TEMPLATE,\n",
        ")"
      ]
    },
    {
      "cell_type": "markdown",
      "id": "89",
      "metadata": {
        "id": "89"
      },
      "source": [
        "###### AQL to AQL Template"
      ]
    },
    {
      "cell_type": "code",
      "execution_count": 69,
      "id": "90",
      "metadata": {
        "id": "90"
      },
      "outputs": [],
      "source": [
        "AQL_FIX_TEMPLATE = \"\"\"Task: Address the ArangoDB Query Language (AQL) error message of an ArangoDB Query Language query.\n",
        "\n",
        "You are an ArangoDB Query Language (AQL) expert responsible for correcting the provided `AQL Query` based on the provided `AQL Error`.\n",
        "\n",
        "The `AQL Error` explains why the `AQL Query` could not be executed in the database.\n",
        "The `AQL Error` may also contain the position of the error relative to the total number of lines of the `AQL Query`.\n",
        "For example, 'error X at position 2:5' denotes that the error X occurs on line 2, column 5 of the `AQL Query`.\n",
        "\n",
        "You are also given the `ArangoDB Schema`. It is a JSON Object containing:\n",
        "1. `Graph Schema`: Lists all Graphs within the ArangoDB Database Instance, along with their Edge Relationships.\n",
        "2. `Collection Schema`: Lists all Collections within the ArangoDB Database Instance, along with their document/edge properties and a document/edge example.\n",
        "\n",
        "You will output the `Corrected AQL Query` wrapped in 3 backticks (```). Do not include any text except the Corrected AQL Query.\n",
        "\n",
        "Remember to think step by step.\n",
        "\n",
        "ArangoDB Schema:\n",
        "{adb_schema}\n",
        "\n",
        "AQL Query:\n",
        "{aql_query}\n",
        "\n",
        "AQL Error:\n",
        "{aql_error}\n",
        "\n",
        "Corrected AQL Query:\n",
        "\"\"\"\n",
        "\n",
        "AQL_FIX_PROMPT = PromptTemplate(\n",
        "    input_variables=[\"adb_schema\", \"aql_query\", \"aql_error\"],\n",
        "    template=AQL_FIX_TEMPLATE,\n",
        ")"
      ]
    },
    {
      "cell_type": "markdown",
      "id": "91",
      "metadata": {
        "id": "91"
      },
      "source": [
        "###### JSON to Natural Language Template"
      ]
    },
    {
      "cell_type": "code",
      "execution_count": 70,
      "id": "92",
      "metadata": {
        "id": "92"
      },
      "outputs": [],
      "source": [
        "AQL_QA_TEMPLATE = \"\"\"Task: Generate a natural language `Summary` from the results of an ArangoDB Query Language query.\n",
        "\n",
        "You are an ArangoDB Query Language (AQL) expert responsible for creating a well-written `Summary` from the `User Input` and associated `AQL Result`.\n",
        "\n",
        "A user has executed an ArangoDB Query Language query, which has returned the AQL Result in JSON format.\n",
        "You are responsible for creating an `Summary` based on the AQL Result.\n",
        "\n",
        "You are given the following information:\n",
        "- `ArangoDB Schema`: contains a schema representation of the user's ArangoDB Database.\n",
        "- `User Input`: the original question/request of the user, which has been translated into an AQL Query.\n",
        "- `AQL Query`: the AQL equivalent of the `User Input`, translated by another AI Model. Should you deem it to be incorrect, suggest a different AQL Query.\n",
        "- `AQL Result`: the JSON output returned by executing the `AQL Query` within the ArangoDB Database.\n",
        "\n",
        "Remember to think step by step.\n",
        "\n",
        "Your `Summary` should sound like it is a response to the `User Input`.\n",
        "Your `Summary` should not include any mention of the `AQL Query` or the `AQL Result`.\n",
        "\n",
        "ArangoDB Schema:\n",
        "{adb_schema}\n",
        "\n",
        "User Input:\n",
        "{user_input}\n",
        "\n",
        "AQL Query:\n",
        "{aql_query}\n",
        "\n",
        "AQL Result:\n",
        "{aql_result}\n",
        "\n",
        "Use sarcasm in your answer!\n",
        "\"\"\"\n",
        "# Note the instruction to use sarcasm ^\n",
        "\n",
        "AQL_QA_PROMPT = PromptTemplate(\n",
        "    input_variables=[\"adb_schema\", \"user_input\", \"aql_query\", \"aql_result\"],\n",
        "    template=AQL_QA_TEMPLATE,\n",
        ")"
      ]
    },
    {
      "cell_type": "markdown",
      "id": "93",
      "metadata": {
        "id": "93"
      },
      "source": [
        "###### Reconfiguring LangChain"
      ]
    },
    {
      "cell_type": "code",
      "execution_count": 71,
      "id": "94",
      "metadata": {
        "id": "94"
      },
      "outputs": [],
      "source": [
        "sarcastic_chain = ArangoGraphQAChain.from_llm(\n",
        "    model,\n",
        "    aql_generation_prompt=AQL_GENERATION_PROMPT, # No change from original\n",
        "    aql_fix_prompt=AQL_FIX_PROMPT, # No change from original\n",
        "    qa_prompt=AQL_QA_PROMPT, # Added instruction to use sarcasm\n",
        "    graph=graph,\n",
        "    verbose=True\n",
        ")"
      ]
    },
    {
      "cell_type": "code",
      "execution_count": 72,
      "id": "95",
      "metadata": {
        "id": "95",
        "outputId": "9442c09e-b209-44ec-a65f-ab030986ff2d",
        "colab": {
          "base_uri": "https://localhost:8080/"
        }
      },
      "outputs": [
        {
          "output_type": "stream",
          "name": "stdout",
          "text": [
            "\n",
            "\n",
            "\u001b[1m> Entering new ArangoGraphQAChain chain...\u001b[0m\n",
            "AQL Query (1):\u001b[32;1m\u001b[1;3m\n",
            "WITH Characters\n",
            "FOR character IN Characters\n",
            "    FILTER character.name == 'Ned' AND character.surname == 'Stark'\n",
            "    RETURN character.alive\n",
            "\u001b[0m\n",
            "AQL Result:\n",
            "\u001b[32;1m\u001b[1;3m[False]\u001b[0m\n",
            "\n",
            "\u001b[1m> Finished chain.\u001b[0m\n"
          ]
        },
        {
          "output_type": "execute_result",
          "data": {
            "text/plain": [
              "{'query': 'Is Ned Stark alive?',\n",
              " 'result': \"Oh, I hate to be the bearer of bad news, but Ned Stark has joined the choir invisible. He is an ex-character. He's shuffled off this mortal coil. In simpler terms, no, Ned Stark is not alive.\"}"
            ]
          },
          "metadata": {},
          "execution_count": 72
        }
      ],
      "source": [
        "sarcastic_chain.invoke(\"Is Ned Stark alive?\")"
      ]
    },
    {
      "cell_type": "markdown",
      "id": "96",
      "metadata": {
        "id": "96"
      },
      "source": [
        "---\n",
        "## Fine-Tuning"
      ]
    },
    {
      "cell_type": "markdown",
      "id": "97",
      "metadata": {
        "id": "97"
      },
      "source": [
        "https://platform.openai.com/docs/guides/fine-tuning/create-a-fine-tuned-model\n",
        "\n",
        "**NOTE**: OpenAI's fine-tuning jobs require a minimum of 10 \"messages\" to train on. Due to this quota, we will be duplicating our 2 training examples 5x times, but you are free to replace them with other Natural Language to AQL examples."
      ]
    },
    {
      "cell_type": "code",
      "execution_count": 73,
      "id": "98",
      "metadata": {
        "id": "98"
      },
      "outputs": [],
      "source": [
        "# 1. Load the Training Data\n",
        "\n",
        "import json\n",
        "\n",
        "# **NOTE**: OpenAI's fine-tuning jobs require a minimum of 10 \"messages\" to train on.\n",
        "# Due to this quota, we will be duplicating our 2 training examples 5x times,\n",
        "# but you are free to replace them with other Natural Language to AQL examples.\n",
        "\n",
        "training_data = [\n",
        "    {\"messages\": [\n",
        "        {\"role\": \"user\", \"content\": \"How old is Ned Stark?\"},\n",
        "        {\"role\": \"assistant\", \"content\": \"RETURN DOCUMENT('Characters/NedStark').age\"}\n",
        "    ]},\n",
        "    {\"messages\": [\n",
        "        {\"role\": \"user\", \"content\": \"When did 'Event/X' occur?\"},\n",
        "        {\"role\": \"assistant\", \"content\": \"RETURN DOCUMENT('Event/X').date\"}\n",
        "    ]},\n",
        "    # Duplicates are here:\n",
        "    {\"messages\": [\n",
        "        {\"role\": \"user\", \"content\": \"How old is Ned Stark?\"},\n",
        "        {\"role\": \"assistant\", \"content\": \"RETURN DOCUMENT('Characters/NedStark').age\"}\n",
        "    ]},\n",
        "    {\"messages\": [\n",
        "        {\"role\": \"user\", \"content\": \"When did 'Event/X' occur?\"},\n",
        "        {\"role\": \"assistant\", \"content\": \"RETURN DOCUMENT('Event/X').date\"}\n",
        "    ]},\n",
        "    {\"messages\": [\n",
        "        {\"role\": \"user\", \"content\": \"How old is Ned Stark?\"},\n",
        "        {\"role\": \"assistant\", \"content\": \"RETURN DOCUMENT('Characters/NedStark').age\"}\n",
        "    ]},\n",
        "    {\"messages\": [\n",
        "        {\"role\": \"user\", \"content\": \"When did 'Event/X' occur?\"},\n",
        "        {\"role\": \"assistant\", \"content\": \"RETURN DOCUMENT('Event/X').date\"}\n",
        "    ]},\n",
        "    {\"messages\": [\n",
        "        {\"role\": \"user\", \"content\": \"How old is Ned Stark?\"},\n",
        "        {\"role\": \"assistant\", \"content\": \"RETURN DOCUMENT('Characters/NedStark').age\"}\n",
        "    ]},\n",
        "    {\"messages\": [\n",
        "        {\"role\": \"user\", \"content\": \"When did 'Event/X' occur?\"},\n",
        "        {\"role\": \"assistant\", \"content\": \"RETURN DOCUMENT('Event/X').date\"}\n",
        "    ]},\n",
        "    {\"messages\": [\n",
        "        {\"role\": \"user\", \"content\": \"How old is Ned Stark?\"},\n",
        "        {\"role\": \"assistant\", \"content\": \"RETURN DOCUMENT('Characters/NedStark').age\"}\n",
        "    ]},\n",
        "    {\"messages\": [\n",
        "        {\"role\": \"user\", \"content\": \"When did 'Event/X' occur?\"},\n",
        "        {\"role\": \"assistant\", \"content\": \"RETURN DOCUMENT('Event/X').date\"}\n",
        "    ]},\n",
        "    # ...\n",
        "]\n",
        "\n",
        "with open('aql.jsonl', 'w') as f:\n",
        "    for entry in training_data:\n",
        "        json_str = json.dumps(entry)\n",
        "        f.write(json_str + '\\n')"
      ]
    },
    {
      "cell_type": "code",
      "execution_count": 77,
      "id": "99",
      "metadata": {
        "id": "99",
        "outputId": "9fe0e40c-a2b3-4439-9ab7-213b65d4c0b3",
        "colab": {
          "base_uri": "https://localhost:8080/"
        }
      },
      "outputs": [
        {
          "output_type": "execute_result",
          "data": {
            "text/plain": [
              "FileObject(id='file-egN1bG3TNxKOMGG3TRpCMxWL', bytes=1455, created_at=1710184143, filename='aql.jsonl', object='file', purpose='fine-tune', status='processed', status_details=None)"
            ]
          },
          "metadata": {},
          "execution_count": 77
        }
      ],
      "source": [
        "# 2. Create the OpenAI File\n",
        "\n",
        "import os\n",
        "from openai import OpenAI\n",
        "\n",
        "openai.api_key = os.getenv(\"OPENAI_API_KEY\")\n",
        "\n",
        "client = OpenAI()\n",
        "\n",
        "openai_file = client.files.create(\n",
        "  file=open(\"aql.jsonl\", \"rb\"),\n",
        "  purpose='fine-tune'\n",
        ")\n",
        "\n",
        "openai_file"
      ]
    },
    {
      "cell_type": "code",
      "execution_count": 81,
      "id": "100",
      "metadata": {
        "id": "100",
        "outputId": "3db42e8c-b3ea-4ad6-840f-fa3f1be751ac",
        "colab": {
          "base_uri": "https://localhost:8080/"
        }
      },
      "outputs": [
        {
          "output_type": "execute_result",
          "data": {
            "text/plain": [
              "FineTuningJob(id='ftjob-DYn1hfmeBmsDkK77zemvL1oS', created_at=1710184183, error=Error(code=None, message=None, param=None, error=None), fine_tuned_model=None, finished_at=None, hyperparameters=Hyperparameters(n_epochs='auto', batch_size='auto', learning_rate_multiplier='auto'), model='gpt-3.5-turbo-0125', object='fine_tuning.job', organization_id='org-qxPkNPWF8DKL1WPIc5huNbv1', result_files=[], status='validating_files', trained_tokens=None, training_file='file-egN1bG3TNxKOMGG3TRpCMxWL', validation_file=None, user_provided_suffix=None)"
            ]
          },
          "metadata": {},
          "execution_count": 81
        }
      ],
      "source": [
        "# 3. Trigger the Fine Tuning Job\n",
        "\n",
        "job = client.fine_tuning.jobs.create(training_file=openai_file.id, model=\"gpt-3.5-turbo\")\n",
        "\n",
        "job"
      ]
    },
    {
      "cell_type": "code",
      "execution_count": 101,
      "id": "101",
      "metadata": {
        "id": "101",
        "outputId": "eaccf4c5-4ccc-4ba1-dac7-80b650224477",
        "colab": {
          "base_uri": "https://localhost:8080/"
        }
      },
      "outputs": [
        {
          "output_type": "stream",
          "name": "stdout",
          "text": [
            "done!\n"
          ]
        }
      ],
      "source": [
        "# 4. Wait for the Job to complete\n",
        "\n",
        "import time\n",
        "from datetime import datetime\n",
        "from IPython.display import clear_output\n",
        "\n",
        "job_status = job.status\n",
        "while job.finished_at == None:\n",
        "    print(datetime.now().isoformat(), job_status)\n",
        "\n",
        "    time.sleep(5)\n",
        "    clear_output(wait=True)\n",
        "\n",
        "    job = client.fine_tuning.jobs.retrieve(job.id)\n",
        "    job_status = job.status\n",
        "\n",
        "print('done!')"
      ]
    },
    {
      "cell_type": "code",
      "execution_count": 102,
      "id": "102",
      "metadata": {
        "id": "102"
      },
      "outputs": [],
      "source": [
        "# 5. Instantiate the OpenAI wrapper with the fine-tuned model\n",
        "\n",
        "ft_model = ChatOpenAI(temperature=0, model=job.fine_tuned_model)"
      ]
    },
    {
      "cell_type": "code",
      "execution_count": 103,
      "id": "103",
      "metadata": {
        "id": "103"
      },
      "outputs": [],
      "source": [
        "# 6. Re-instantiate the ArangoGraphQAChain object\n",
        "\n",
        "ft_chain = ArangoGraphQAChain.from_llm(ft_model, graph=graph, verbose=True)"
      ]
    },
    {
      "cell_type": "code",
      "execution_count": 104,
      "id": "104",
      "metadata": {
        "id": "104",
        "outputId": "23b05d9f-e932-4703-ecab-46d89f499832",
        "colab": {
          "base_uri": "https://localhost:8080/"
        }
      },
      "outputs": [
        {
          "output_type": "stream",
          "name": "stdout",
          "text": [
            "\n",
            "\n",
            "\u001b[1m> Entering new ArangoGraphQAChain chain...\u001b[0m\n",
            "AQL Query (1):\u001b[32;1m\u001b[1;3m\n",
            "WITH Event\n",
            "RETURN DOCUMENT('Event/ALG7745').date\n",
            "\u001b[0m\n",
            "AQL Result:\n",
            "\u001b[32;1m\u001b[1;3m['2019-12-01T00:00:00.000Z']\u001b[0m\n",
            "\n",
            "\u001b[1m> Finished chain.\u001b[0m\n",
            "\n",
            "\n",
            "\u001b[1m> Entering new ArangoGraphQAChain chain...\u001b[0m\n",
            "AQL Query (1):\u001b[32;1m\u001b[1;3m\n",
            "RETURN DOCUMENT('Characters/NedStark').age\n",
            "\u001b[0m\n",
            "AQL Result:\n",
            "\u001b[32;1m\u001b[1;3m[41]\u001b[0m\n",
            "\n",
            "\u001b[1m> Finished chain.\u001b[0m\n"
          ]
        },
        {
          "output_type": "execute_result",
          "data": {
            "text/plain": [
              "{'query': 'How old is Ned Stark?',\n",
              " 'result': 'Ned Stark is 41 years old.',\n",
              " 'aql_query': \"\\nRETURN DOCUMENT('Characters/NedStark').age\\n\",\n",
              " 'aql_result': [41]}"
            ]
          },
          "metadata": {},
          "execution_count": 104
        }
      ],
      "source": [
        "ft_chain.invoke(\"When did Event/ALG7745 occur?\")\n",
        "ft_chain.invoke(\"How old is Ned Stark?\")"
      ]
    },
    {
      "cell_type": "code",
      "execution_count": 105,
      "id": "105",
      "metadata": {
        "id": "105",
        "outputId": "09591e48-a064-4c1d-f916-e84cc1bea6da",
        "colab": {
          "base_uri": "https://localhost:8080/"
        }
      },
      "outputs": [
        {
          "output_type": "stream",
          "name": "stdout",
          "text": [
            "\n",
            "\n",
            "\u001b[1m> Entering new ArangoGraphQAChain chain...\u001b[0m\n",
            "AQL Query (1):\u001b[32;1m\u001b[1;3m\n",
            "WITH Event\n",
            "RETURN (\n",
            "    FOR event IN Event\n",
            "        FILTER event._key == 'ALG7745'\n",
            "        RETURN event.date\n",
            ")[0]\n",
            "\u001b[0m\n",
            "AQL Result:\n",
            "\u001b[32;1m\u001b[1;3m['2019-12-01T00:00:00.000Z']\u001b[0m\n",
            "\n",
            "\u001b[1m> Finished chain.\u001b[0m\n",
            "\n",
            "\n",
            "\u001b[1m> Entering new ArangoGraphQAChain chain...\u001b[0m\n",
            "AQL Query (1):\u001b[32;1m\u001b[1;3m\n",
            "WITH Characters\n",
            "FOR character IN Characters\n",
            "FILTER character.name == 'Ned' && character.surname == 'Stark'\n",
            "RETURN character.age\n",
            "\u001b[0m\n",
            "AQL Result:\n",
            "\u001b[32;1m\u001b[1;3m[41]\u001b[0m\n",
            "\n",
            "\u001b[1m> Finished chain.\u001b[0m\n"
          ]
        },
        {
          "output_type": "execute_result",
          "data": {
            "text/plain": [
              "{'query': 'How old is Ned Stark?', 'result': 'Ned Stark is 41 years old.'}"
            ]
          },
          "metadata": {},
          "execution_count": 105
        }
      ],
      "source": [
        "chain.invoke(\"When did Event/ALG7745 occur?\")\n",
        "chain.invoke(\"How old is Ned Stark?\")"
      ]
    },
    {
      "cell_type": "markdown",
      "id": "106",
      "metadata": {
        "id": "106"
      },
      "source": [
        "---\n",
        "## LlamaIndex 101 🦙"
      ]
    },
    {
      "cell_type": "markdown",
      "id": "107",
      "metadata": {
        "id": "107"
      },
      "source": [
        "> LlamaIndex is a data framework for LLM-based applications which benefit from context augmentation. Such LLM systems have been termed as RAG systems, standing for “Retrieval-Augmented Generation”. LlamaIndex provides the essential abstractions to more easily ingest, structure, and access private or domain-specific data in order to inject these safely and reliably into LLMs for more accurate text generation\n",
        "\n",
        "[Source](https://docs.llamaindex.ai/en/stable/)\n",
        "\n",
        "\n",
        "LLMs are trained on enormous bodies of data but they aren’t trained on your data. Retrieval-Augmented Generation (RAG) solves this problem by adding your data to the data LLMs already have access to.\n",
        "\n",
        "There are five key stages within RAG, which in turn will be a part of any larger application you build. These are:\n",
        "\n",
        "1. **Loading**: this refers to getting your data from where it lives - whether it's text files, PDFs, another website, a database, or an API - into your pipeline. LlamaHub provides hundreds of connectors to choose from.\n",
        "\n",
        "2. **Indexing**: this means creating a data structure that allows for querying the data. For LLMs this nearly always means creating vector embeddings, numerical representations of the meaning of your data, as well as numerous other metadata strategies to make it easy to accurately find contextually relevant data.\n",
        "\n",
        "3. **Storing**: once your data is indexed you will almost always want to store your index, as well as other metadata, to avoid having to re-index it.\n",
        "\n",
        "4. **Querying**: for any given indexing strategy there are many ways you can utilize LLMs and LlamaIndex data structures to query, including sub-queries, multi-step queries and hybrid strategies.\n",
        "\n",
        "5. **Evaluation**: a critical step in any pipeline is checking how effective it is relative to other strategies, or when you make changes. Evaluation provides objective measures of how accurate, faithful and fast your responses to queries are.\n",
        "\n",
        "\n",
        "<img src=\"https://docs.llamaindex.ai/en/stable/_images/basic_rag.png\"/>\n",
        "<img src=\"https://docs.llamaindex.ai/en/stable/_images/stages.png\"/>\n",
        "\n",
        "[Source](https://docs.llamaindex.ai/en/stable/getting_started/concepts.html)"
      ]
    },
    {
      "cell_type": "code",
      "execution_count": 97,
      "id": "108",
      "metadata": {
        "id": "108"
      },
      "outputs": [],
      "source": [
        "# 1. Instantiate the ArangoDB LlamaIndex Reader\n",
        "from llama_index.readers.arango_db import SimpleArangoDBReader\n",
        "\n",
        "reader = SimpleArangoDBReader(credentials[\"url\"])\n",
        "\n",
        "event_documents = reader.load_data(\n",
        "    credentials[\"username\"],\n",
        "    credentials[\"password\"],\n",
        "    credentials[\"dbName\"],\n",
        "    collection_name=\"Event\",\n",
        "    field_names=[\"description\", \"date\", \"label\", \"fatalities\"],\n",
        "    separator=\", \",\n",
        "    metadata_names=[\"_id\"]\n",
        ")"
      ]
    },
    {
      "cell_type": "code",
      "execution_count": 126,
      "id": "109",
      "metadata": {
        "id": "109"
      },
      "outputs": [],
      "source": [
        "# 2. Instantiate the VectorStoreIndex & Query Engine\n",
        "\n",
        "from llama_index.core import VectorStoreIndex\n",
        "\n",
        "event_index = VectorStoreIndex.from_documents(event_documents[0:3000]) # sample the first 3k events\n",
        "\n",
        "event_query_engine = event_index.as_query_engine()\n",
        "\n",
        "event_chat_engine = event_index.as_chat_engine()"
      ]
    },
    {
      "cell_type": "code",
      "execution_count": 144,
      "id": "110",
      "metadata": {
        "id": "110",
        "outputId": "1ec03dd0-c620-403d-d092-d3971db090af",
        "colab": {
          "base_uri": "https://localhost:8080/"
        }
      },
      "outputs": [
        {
          "output_type": "execute_result",
          "data": {
            "text/plain": [
              "Response(response='Protesters have gathered in the streets due to concerns about the increase in food prices, high unemployment rates, and a perceived decline in essential government services.', source_nodes=[NodeWithScore(node=TextNode(id_='158c69fc-2fba-4f32-a998-91a3a47a16ca', embedding=None, metadata={'_id': 'Event/ALG2554'}, excluded_embed_metadata_keys=[], excluded_llm_metadata_keys=[], relationships={<NodeRelationship.SOURCE: '1'>: RelatedNodeInfo(node_id='038eafc2-1e7a-4cf7-826c-41ead79ceaab', node_type=<ObjectType.DOCUMENT: '4'>, metadata={'_id': 'Event/ALG2554'}, hash='934e2b16f008b227f4b9bd563eab504ac01d2296c544bef445176eb75ad2b0a3'), <NodeRelationship.PREVIOUS: '2'>: RelatedNodeInfo(node_id='337d4352-b089-4772-bbf6-db591a54833f', node_type=<ObjectType.TEXT: '1'>, metadata={'_id': 'Event/ALG2553'}, hash='70b02ab3d240c802aa60cd72264d3adad57daa5d04fa174a511d4a0899298728'), <NodeRelationship.NEXT: '3'>: RelatedNodeInfo(node_id='a622f88b-c6b9-467f-a3ca-b351139e45f5', node_type=<ObjectType.TEXT: '1'>, metadata={}, hash='6c6bdd8671d153dd0b70aea14a915a151337fa0bc889f6cdc8c65dce6175c8b3')}, text='Protesters gather in the streets over the rise of food prices, unemployment, and a perceived deterioration of basic government services., 2011-01-05T00:00:00.000Z, Protests, 0', start_char_idx=0, end_char_idx=175, text_template='{metadata_str}\\n\\n{content}', metadata_template='{key}: {value}', metadata_seperator='\\n'), score=0.8528379279022342), NodeWithScore(node=TextNode(id_='1855d0f9-97b4-479b-bdaa-96c90dad7185', embedding=None, metadata={'_id': 'Event/ALG2555'}, excluded_embed_metadata_keys=[], excluded_llm_metadata_keys=[], relationships={<NodeRelationship.SOURCE: '1'>: RelatedNodeInfo(node_id='6d5dd696-77f6-48ff-93b9-c743249fa077', node_type=<ObjectType.DOCUMENT: '4'>, metadata={'_id': 'Event/ALG2555'}, hash='ad792bbbba20eec788b2a259da32e19c15851ed158f90a5fd059e15dc7b961fa'), <NodeRelationship.PREVIOUS: '2'>: RelatedNodeInfo(node_id='a8e2252c-c600-472a-8fd5-402acf47dbea', node_type=<ObjectType.TEXT: '1'>, metadata={'_id': 'Event/ALG2559'}, hash='3f364098aff7624a0a86585ac54567044b49085e0143904303e7f499efc238ba'), <NodeRelationship.NEXT: '3'>: RelatedNodeInfo(node_id='6f80f573-8be0-4e05-8f30-4a530d9f983d', node_type=<ObjectType.TEXT: '1'>, metadata={}, hash='e7a71c1105679ddc330bae6e78e4e36679d809ef5a46bbb2c8ca820eb066d284')}, text='Protesters gather in the streets over the rise of food prices, unemployment, and a perceived deterioration of basic government services., 2011-01-05T00:00:00.000Z, Protests, 0', start_char_idx=0, end_char_idx=175, text_template='{metadata_str}\\n\\n{content}', metadata_template='{key}: {value}', metadata_seperator='\\n'), score=0.8519977629659838)], metadata={'158c69fc-2fba-4f32-a998-91a3a47a16ca': {'_id': 'Event/ALG2554'}, '1855d0f9-97b4-479b-bdaa-96c90dad7185': {'_id': 'Event/ALG2555'}})"
            ]
          },
          "metadata": {},
          "execution_count": 144
        }
      ],
      "source": [
        "# 3. Query the data\n",
        "\n",
        "event_query_engine.query(\"Tell me about a protest\")"
      ]
    },
    {
      "cell_type": "code",
      "execution_count": 114,
      "id": "111",
      "metadata": {
        "id": "111"
      },
      "outputs": [],
      "source": [
        "# 4. Persisting the data\n",
        "\n",
        "event_index.storage_context.persist()"
      ]
    },
    {
      "cell_type": "code",
      "execution_count": 115,
      "id": "112",
      "metadata": {
        "id": "112"
      },
      "outputs": [],
      "source": [
        "# 5. Re-creating the index from persisted data\n",
        "\n",
        "from llama_index.core import StorageContext, load_index_from_storage\n",
        "\n",
        "storage_context = StorageContext.from_defaults(persist_dir=\"./storage\")\n",
        "\n",
        "event_index = load_index_from_storage(storage_context)"
      ]
    },
    {
      "cell_type": "code",
      "execution_count": 116,
      "id": "113",
      "metadata": {
        "id": "113"
      },
      "outputs": [],
      "source": [
        "# 6. New document reader for 'Actor' collection\n",
        "\n",
        "actor_documents = reader.load_data(\n",
        "    credentials[\"username\"],\n",
        "    credentials[\"password\"],\n",
        "    credentials[\"dbName\"],\n",
        "    collection_name=\"Actor\",\n",
        "    field_names=[\"name\"],\n",
        "    metadata_names=[\"_id\"]\n",
        ")\n",
        "\n",
        "actor_index = VectorStoreIndex.from_documents(actor_documents)"
      ]
    },
    {
      "cell_type": "code",
      "execution_count": 129,
      "id": "114",
      "metadata": {
        "id": "114"
      },
      "outputs": [],
      "source": [
        "# 7. Creating Query Engine Tools\n",
        "\n",
        "from llama_index.core.tools import QueryEngineTool\n",
        "\n",
        "event_tool = QueryEngineTool.from_defaults(\n",
        "    query_engine=event_index.as_query_engine(),\n",
        "    name=\"Event Index\",\n",
        "    description=\"Query Engine for 'Event' collection data\",\n",
        ")\n",
        "\n",
        "actor_tool = QueryEngineTool.from_defaults(\n",
        "    query_engine=actor_index.as_query_engine(),\n",
        "    name=\"Actor Index\",\n",
        "    description=\"Query Engine for 'Actor' collection data\",\n",
        ")"
      ]
    },
    {
      "cell_type": "code",
      "execution_count": 130,
      "id": "115",
      "metadata": {
        "id": "115"
      },
      "outputs": [],
      "source": [
        "# 8. Creating the Router Query Engine\n",
        "\n",
        "from llama_index.core.query_engine import RouterQueryEngine\n",
        "\n",
        "router_query_engine = RouterQueryEngine.from_defaults(\n",
        "    query_engine_tools=[event_tool, actor_tool]\n",
        ")"
      ]
    },
    {
      "cell_type": "code",
      "execution_count": 134,
      "id": "116",
      "metadata": {
        "id": "116",
        "outputId": "8ab1bd4f-2c28-4d84-aaf4-6e0a3c637ab8",
        "colab": {
          "base_uri": "https://localhost:8080/"
        }
      },
      "outputs": [
        {
          "output_type": "execute_result",
          "data": {
            "text/plain": [
              "Response(response='National Union for the Total Independence of Angola', source_nodes=[NodeWithScore(node=TextNode(id_='cd0f1b76-e2a9-444f-a1e7-69aa70905bdd', embedding=None, metadata={'_id': 'Actor/fa638dbcb53f818c5e12dd09542efedf'}, excluded_embed_metadata_keys=[], excluded_llm_metadata_keys=[], relationships={<NodeRelationship.SOURCE: '1'>: RelatedNodeInfo(node_id='03a3bbba-e945-4497-8297-cd12d27045cf', node_type=<ObjectType.DOCUMENT: '4'>, metadata={'_id': 'Actor/fa638dbcb53f818c5e12dd09542efedf'}, hash='9c03b3ced77eed0465aa9509c4133601952135beb1bf9b9c4c1c34c15c3f8637'), <NodeRelationship.PREVIOUS: '2'>: RelatedNodeInfo(node_id='e23eae4e-9a22-4d16-86a1-aebecb1a7730', node_type=<ObjectType.TEXT: '1'>, metadata={'_id': 'Actor/7ce21c73939d25a5797624adeb219433'}, hash='122b531e1b03d8c51cd871db2959109abf236fdf2de581724e8bb682c7068c12'), <NodeRelationship.NEXT: '3'>: RelatedNodeInfo(node_id='34b3624d-04a8-4d7b-822c-3f3f1cc9832f', node_type=<ObjectType.TEXT: '1'>, metadata={}, hash='847f5b8366fd43866cedd4940ce1179fa8e834fdc7b9007a59e08961400e65b8')}, text='Former UNITA: National Union for the Total Independence of Angola', start_char_idx=0, end_char_idx=65, text_template='{metadata_str}\\n\\n{content}', metadata_template='{key}: {value}', metadata_seperator='\\n'), score=0.8614664686763281), NodeWithScore(node=TextNode(id_='2833e01f-7019-4dd7-9216-742cfebf67e7', embedding=None, metadata={'_id': 'Actor/9bf5e0a27d6c6ec8113ff71756802331'}, excluded_embed_metadata_keys=[], excluded_llm_metadata_keys=[], relationships={<NodeRelationship.SOURCE: '1'>: RelatedNodeInfo(node_id='21b10caa-fa0f-4c3e-9638-9a600425d378', node_type=<ObjectType.DOCUMENT: '4'>, metadata={'_id': 'Actor/9bf5e0a27d6c6ec8113ff71756802331'}, hash='c1a025475ca5fd65e68103deedd4c11f71370b2978f460bcfee5755a4f18be2e'), <NodeRelationship.PREVIOUS: '2'>: RelatedNodeInfo(node_id='58437b79-582f-4eb2-bc8d-2da99dcd3914', node_type=<ObjectType.TEXT: '1'>, metadata={'_id': 'Actor/827a99003b0685f6f2db84bc0db726d0'}, hash='f33dd57065b77a9d9002be32e4f371a7a8eb53f6795f44ddaa7fb695b82a8161'), <NodeRelationship.NEXT: '3'>: RelatedNodeInfo(node_id='024fc5a4-e0f4-45ff-8a52-15bc22bbbd7d', node_type=<ObjectType.TEXT: '1'>, metadata={}, hash='42090e4f8de57e7efe1fc2892d9b1fb5a305f5ec6c964cb93de0b9dba80853ed')}, text='UNITA: National Union for the Total Independence of Angola', start_char_idx=0, end_char_idx=58, text_template='{metadata_str}\\n\\n{content}', metadata_template='{key}: {value}', metadata_seperator='\\n'), score=0.8602056427642614)], metadata={'cd0f1b76-e2a9-444f-a1e7-69aa70905bdd': {'_id': 'Actor/fa638dbcb53f818c5e12dd09542efedf'}, '2833e01f-7019-4dd7-9216-742cfebf67e7': {'_id': 'Actor/9bf5e0a27d6c6ec8113ff71756802331'}, 'selector_result': MultiSelection(selections=[SingleSelection(index=1, reason=\"The question 'What does UNITA stand for?' is likely related to an 'Actor' collection data query, as UNITA is likely an organization or entity represented by actors.\")])})"
            ]
          },
          "metadata": {},
          "execution_count": 134
        }
      ],
      "source": [
        "# 9. Querying the Router\n",
        "\n",
        "router_query_engine.query(\"What does UNITA stand for?\")"
      ]
    },
    {
      "cell_type": "code",
      "source": [
        "router_query_engine.query(\"What are some Actors associated to Angola?\")"
      ],
      "metadata": {
        "id": "Fo67Trjm_-qy",
        "outputId": "626a704a-a3bb-498f-c37c-a0c54a28dcd6",
        "colab": {
          "base_uri": "https://localhost:8080/"
        }
      },
      "id": "Fo67Trjm_-qy",
      "execution_count": 138,
      "outputs": [
        {
          "output_type": "execute_result",
          "data": {
            "text/plain": [
              "Response(response='Government of Angola and UNITA', source_nodes=[NodeWithScore(node=TextNode(id_='300fe63d-7686-44d5-9082-1f06ab8415f5', embedding=None, metadata={'_id': 'Actor/c830f275ce678ee9a0184606db329a4c'}, excluded_embed_metadata_keys=[], excluded_llm_metadata_keys=[], relationships={<NodeRelationship.SOURCE: '1'>: RelatedNodeInfo(node_id='92ac5f1d-6a18-4880-9470-d639dd5f4206', node_type=<ObjectType.DOCUMENT: '4'>, metadata={'_id': 'Actor/c830f275ce678ee9a0184606db329a4c'}, hash='17866ed7ab330f3824a838c7a47a3da12f692cc88e99447be466f4ff34743f09'), <NodeRelationship.PREVIOUS: '2'>: RelatedNodeInfo(node_id='18ab1c7e-602f-42fb-9fa0-7262e9085027', node_type=<ObjectType.TEXT: '1'>, metadata={'_id': 'Actor/a3cf97fe7c908c8075cf470fd30f5691'}, hash='0c1a1c683f7b2e1fe2cb7992ee5b01332f03438e55f172ad6c43527ffab923ca'), <NodeRelationship.NEXT: '3'>: RelatedNodeInfo(node_id='9bfe9371-4af9-4b4c-abf5-22243bd07cfb', node_type=<ObjectType.TEXT: '1'>, metadata={}, hash='bb78323a2b9c15b892b56858d37f784b9c1314c008367413721d6d28bcb426c1')}, text='Government of Angola (1975-)', start_char_idx=0, end_char_idx=28, text_template='{metadata_str}\\n\\n{content}', metadata_template='{key}: {value}', metadata_seperator='\\n'), score=0.8721270332984348), NodeWithScore(node=TextNode(id_='2833e01f-7019-4dd7-9216-742cfebf67e7', embedding=None, metadata={'_id': 'Actor/9bf5e0a27d6c6ec8113ff71756802331'}, excluded_embed_metadata_keys=[], excluded_llm_metadata_keys=[], relationships={<NodeRelationship.SOURCE: '1'>: RelatedNodeInfo(node_id='21b10caa-fa0f-4c3e-9638-9a600425d378', node_type=<ObjectType.DOCUMENT: '4'>, metadata={'_id': 'Actor/9bf5e0a27d6c6ec8113ff71756802331'}, hash='c1a025475ca5fd65e68103deedd4c11f71370b2978f460bcfee5755a4f18be2e'), <NodeRelationship.PREVIOUS: '2'>: RelatedNodeInfo(node_id='58437b79-582f-4eb2-bc8d-2da99dcd3914', node_type=<ObjectType.TEXT: '1'>, metadata={'_id': 'Actor/827a99003b0685f6f2db84bc0db726d0'}, hash='f33dd57065b77a9d9002be32e4f371a7a8eb53f6795f44ddaa7fb695b82a8161'), <NodeRelationship.NEXT: '3'>: RelatedNodeInfo(node_id='024fc5a4-e0f4-45ff-8a52-15bc22bbbd7d', node_type=<ObjectType.TEXT: '1'>, metadata={}, hash='42090e4f8de57e7efe1fc2892d9b1fb5a305f5ec6c964cb93de0b9dba80853ed')}, text='UNITA: National Union for the Total Independence of Angola', start_char_idx=0, end_char_idx=58, text_template='{metadata_str}\\n\\n{content}', metadata_template='{key}: {value}', metadata_seperator='\\n'), score=0.8702608020248003)], metadata={'300fe63d-7686-44d5-9082-1f06ab8415f5': {'_id': 'Actor/c830f275ce678ee9a0184606db329a4c'}, '2833e01f-7019-4dd7-9216-742cfebf67e7': {'_id': 'Actor/9bf5e0a27d6c6ec8113ff71756802331'}, 'selector_result': MultiSelection(selections=[SingleSelection(index=1, reason=\"The query engine for 'Actor' collection data would be most relevant to the question 'What are some Actors associated to Angola?' as it focuses on retrieving information about actors, which are likely to include individuals associated with Angola.\")])})"
            ]
          },
          "metadata": {},
          "execution_count": 138
        }
      ]
    },
    {
      "cell_type": "code",
      "source": [
        "router_query_engine.query(\"Tell me about an event that had at least 1 fatality\")"
      ],
      "metadata": {
        "id": "wETZgig_ATU9",
        "outputId": "d04a0f83-6b21-4383-c4fb-231255c431e3",
        "colab": {
          "base_uri": "https://localhost:8080/"
        }
      },
      "id": "wETZgig_ATU9",
      "execution_count": 148,
      "outputs": [
        {
          "output_type": "execute_result",
          "data": {
            "text/plain": [
              "Response(response='An event that had at least 1 fatality involved 2 deaths due to rioting reported by The Liberte Daily.', source_nodes=[NodeWithScore(node=TextNode(id_='0333a1a9-5118-4eff-b0a1-e824e2751a6a', embedding=None, metadata={'_id': 'Event/ALG548'}, excluded_embed_metadata_keys=[], excluded_llm_metadata_keys=[], relationships={<NodeRelationship.SOURCE: '1'>: RelatedNodeInfo(node_id='7e9660cd-6f91-4e2d-af8f-edf7f0a39be3', node_type=<ObjectType.DOCUMENT: '4'>, metadata={'_id': 'Event/ALG548'}, hash='181229cb01578544cd0216b9c6f809404f41523327a9d20be13ffc8e71e43517'), <NodeRelationship.PREVIOUS: '2'>: RelatedNodeInfo(node_id='5547a459-f56c-4423-a10d-71d905fa620c', node_type=<ObjectType.TEXT: '1'>, metadata={'_id': 'Event/ALG547'}, hash='68bf1d15a7bc0fa9a88308774812ac20afb1de4c8bfc5ceb7cdc9390e4f378c6'), <NodeRelationship.NEXT: '3'>: RelatedNodeInfo(node_id='192c4105-2171-468f-b724-8dc5ff7bfad9', node_type=<ObjectType.TEXT: '1'>, metadata={}, hash='2556a141dead3eff57f3262caf5ce64f234d2fd948808c916a7e716230ecaa30')}, text='The Liberte Daily reported that 2 more deaths due to rioting had occurred on Monday. Both were allegedly shot by police, although the locations of the shootings were not reported., 2001-05-28T00:00:00.000Z, Violence_against_civilians, 2', start_char_idx=0, end_char_idx=236, text_template='{metadata_str}\\n\\n{content}', metadata_template='{key}: {value}', metadata_seperator='\\n'), score=0.8191686461095953), NodeWithScore(node=TextNode(id_='8e517a19-abd1-457c-a913-ff28125466ca', embedding=None, metadata={'_id': 'Event/ALG623'}, excluded_embed_metadata_keys=[], excluded_llm_metadata_keys=[], relationships={<NodeRelationship.SOURCE: '1'>: RelatedNodeInfo(node_id='ff1bf6b6-3134-4b47-b717-b9c668c590b9', node_type=<ObjectType.DOCUMENT: '4'>, metadata={'_id': 'Event/ALG623'}, hash='164ef9c1fe3f41fa6191d1af7b52c5566690090e11eb31c47504a94ed987283a'), <NodeRelationship.PREVIOUS: '2'>: RelatedNodeInfo(node_id='b6ac9243-6590-4175-8caf-5af12a11e6d9', node_type=<ObjectType.TEXT: '1'>, metadata={'_id': 'Event/ALG624'}, hash='a2bdd9643de2d6a574815f2797977da31b90d538513c8ba6eaea84cf7032cc74'), <NodeRelationship.NEXT: '3'>: RelatedNodeInfo(node_id='f4738570-453b-49de-9d18-eb814623f9c4', node_type=<ObjectType.TEXT: '1'>, metadata={}, hash='0aa79e4edcfe1086fa34f646201d19e416d41f72712e31b3ee9fc9a6c127f7c5')}, text='43 people have been reported killed in the Mascara region over the last two weeks (reported on Sept.1, 28 fatalities reported in other events)., 2001-08-25T00:00:00.000Z, Violence_against_civilians, 15', start_char_idx=0, end_char_idx=201, text_template='{metadata_str}\\n\\n{content}', metadata_template='{key}: {value}', metadata_seperator='\\n'), score=0.8188363212047347)], metadata={'0333a1a9-5118-4eff-b0a1-e824e2751a6a': {'_id': 'Event/ALG548'}, '8e517a19-abd1-457c-a913-ff28125466ca': {'_id': 'Event/ALG623'}, 'selector_result': MultiSelection(selections=[SingleSelection(index=0, reason=\"The query engine for 'Event' collection data would be most relevant to the question about an event with at least 1 fatality.\")])})"
            ]
          },
          "metadata": {},
          "execution_count": 148
        }
      ]
    },
    {
      "cell_type": "markdown",
      "id": "117",
      "metadata": {
        "id": "117"
      },
      "source": [
        "Next steps: Improving the [SimpleArangoDBReader](https://github.com/run-llama/llama_index/blob/main/llama-index-integrations/readers/llama-index-readers-arango-db/llama_index/readers/arango_db/base.py#L9) to make use of [relationships](https://github.com/run-llama/llama_index/blob/main/llama-index-core/llama_index/core/schema.py#L134-L150)!"
      ]
    },
    {
      "cell_type": "code",
      "source": [
        "# Notice how no relationships are being dervied, the response is empty:\n",
        "router_query_engine.query(\"What events are linked to the Government of Angola?\")"
      ],
      "metadata": {
        "id": "FS-84fDbAt7M",
        "outputId": "fe08413f-34ff-4d1e-e3be-4514b01a20dd",
        "colab": {
          "base_uri": "https://localhost:8080/"
        }
      },
      "id": "FS-84fDbAt7M",
      "execution_count": 145,
      "outputs": [
        {
          "output_type": "execute_result",
          "data": {
            "text/plain": [
              "Response(response='None of the events mentioned in the context information are linked to the Government of Angola.', source_nodes=[NodeWithScore(node=TextNode(id_='988a894c-3f07-433f-b6ac-9acace8b6be2', embedding=None, metadata={'_id': 'Event/ALG2367'}, excluded_embed_metadata_keys=[], excluded_llm_metadata_keys=[], relationships={<NodeRelationship.SOURCE: '1'>: RelatedNodeInfo(node_id='71a1b58c-28fe-4d4c-8192-7283a1e2d512', node_type=<ObjectType.DOCUMENT: '4'>, metadata={'_id': 'Event/ALG2367'}, hash='0c107782789a1674b8dbabd024723b1cca3c9719f7664bb9997e75aafb5497fb'), <NodeRelationship.PREVIOUS: '2'>: RelatedNodeInfo(node_id='1af36b49-069f-4938-b9a8-90db5b4396dd', node_type=<ObjectType.TEXT: '1'>, metadata={'_id': 'Event/ALG2366'}, hash='e590568ecd134130ee54e91ccdafe2191af671e60455d7da0b8290fd2bb00417'), <NodeRelationship.NEXT: '3'>: RelatedNodeInfo(node_id='34e6df18-5137-4e56-b23f-b0e41d422e46', node_type=<ObjectType.TEXT: '1'>, metadata={}, hash='403943b3cb8db64fd00c4395895b226428bf8fc72855df43afa63aae0e4b1f5a')}, text='Protests were observed this week, part of a wave of demonstrations over housing conditions, the state of roads, and gas and electricity cuts. Authorities insist that Algerias 2010 budget allots significant spending to health infrastructure, habitat and town planning, and social services like water, gas, electricity and urban transport., 2009-10-15T00:00:00.000Z, Protests, 0', start_char_idx=0, end_char_idx=376, text_template='{metadata_str}\\n\\n{content}', metadata_template='{key}: {value}', metadata_seperator='\\n'), score=0.8098310160208833), NodeWithScore(node=TextNode(id_='fd2a4303-7856-43db-9e62-d90edf614329', embedding=None, metadata={'_id': 'Event/ALG2931'}, excluded_embed_metadata_keys=[], excluded_llm_metadata_keys=[], relationships={<NodeRelationship.SOURCE: '1'>: RelatedNodeInfo(node_id='5c87170f-e39c-43aa-a8ee-25f954aba3d3', node_type=<ObjectType.DOCUMENT: '4'>, metadata={'_id': 'Event/ALG2931'}, hash='45841faf32e5ee0a249e499cdb81798fa07291b8768aad4368ae53c3cbee36a5'), <NodeRelationship.PREVIOUS: '2'>: RelatedNodeInfo(node_id='358ea7c2-b8ca-4b45-8674-ece1be96926a', node_type=<ObjectType.TEXT: '1'>, metadata={'_id': 'Event/ALG2929'}, hash='c906b4c3303083537c82d9f6d4a48019d982fbf6868c9fea4eb1a16052c41db2'), <NodeRelationship.NEXT: '3'>: RelatedNodeInfo(node_id='26f00775-279d-42c7-8f6d-e77b22b76dc1', node_type=<ObjectType.TEXT: '1'>, metadata={}, hash='02a9cc380cd877239f0156fff9b4ff21bcab52104d50f7bff6904ef4fc4c9943')}, text='Several provinces of the country witnessed protests linked to unemployment, urban planning, lack of gas and water, and especially to housing problem. In the province of Tipasa, west of Algiers, citizens of Halloula-Essahilia village last Thursday took to the streets and blocked National Road 67 to protest against the cancellation of the scheduled visit of the governor of Tipasa, during which they hoped to present their grievances to the first responsible of the province. They used burning tires and other objects to denounce the lack of drinking water in homes pipes for five days, the fall of a child in a sewer and to claim social order., 2011-12-22T00:00:00.000Z, Riots, 0', start_char_idx=0, end_char_idx=680, text_template='{metadata_str}\\n\\n{content}', metadata_template='{key}: {value}', metadata_seperator='\\n'), score=0.8092197909480777)], metadata={'988a894c-3f07-433f-b6ac-9acace8b6be2': {'_id': 'Event/ALG2367'}, 'fd2a4303-7856-43db-9e62-d90edf614329': {'_id': 'Event/ALG2931'}, 'selector_result': MultiSelection(selections=[SingleSelection(index=0, reason=\"The query engine for 'Event' collection data would be most relevant to the question 'What events are linked to the Government of Angola?' as it focuses on events and their data.\")])})"
            ]
          },
          "metadata": {},
          "execution_count": 145
        }
      ]
    },
    {
      "cell_type": "markdown",
      "id": "118",
      "metadata": {
        "id": "118"
      },
      "source": [
        "---\n",
        "## More Info\n",
        "\n",
        "- [ArangoDB: LLMs + Knowledge Graphs](https://arangodb.com/llm-knowledge-graph/)\n",
        "\n",
        "- [ArangoDB Empowers Large Language Models for Real-World Applications](https://arangodb.com/2023/08/bridging-knowledge-and-language-arangodb-empowers-large-language-models-for-real-world-applications/)\n",
        "\n",
        "- [LangChain Documentation](https://python.langchain.com/docs/get_started/introduction)\n",
        "    - [LangChain + ArangoDB Documentation](https://python.langchain.com/docs/integrations/providers/arangodb)\n",
        "\n",
        "- [LlamaIndex Documentation](https://docs.llamaindex.ai/en/stable/)\n",
        "    - [Llama Index + ArangoDB Documentation](https://llamahub.ai/l/readers/llama-index-readers-arango-db)\n",
        "\n",
        "- [LlamaIndex + LangChain](https://github.com/run-llama/llama_index/blob/main/llama-index-core/llama_index/core/schema.py#L134-L150)"
      ]
    }
  ],
  "metadata": {
    "colab": {
      "provenance": []
    },
    "kernelspec": {
      "display_name": "Python 3 (ipykernel)",
      "language": "python",
      "name": "python3"
    },
    "language_info": {
      "codemirror_mode": {
        "name": "ipython",
        "version": 3
      },
      "file_extension": ".py",
      "mimetype": "text/x-python",
      "name": "python",
      "nbconvert_exporter": "python",
      "pygments_lexer": "ipython3",
      "version": "3.8.8"
    },
    "widgets": {
      "application/vnd.jupyter.widget-state+json": {
        "70ee96c8ef3c45aa98219904eb3b9fe3": {
          "model_module": "@jupyter-widgets/output",
          "model_name": "OutputModel",
          "model_module_version": "1.0.0",
          "state": {
            "_dom_classes": [],
            "_model_module": "@jupyter-widgets/output",
            "_model_module_version": "1.0.0",
            "_model_name": "OutputModel",
            "_view_count": null,
            "_view_module": "@jupyter-widgets/output",
            "_view_module_version": "1.0.0",
            "_view_name": "OutputView",
            "layout": "IPY_MODEL_eddd34db2d804dcf8bec541202e00305",
            "msg_id": "",
            "outputs": [
              {
                "output_type": "display_data",
                "data": {
                  "text/plain": "GET: https://arangodb-dataset-library-ml.s3.amazonaws.com/root_metadata.json \u001b[38;2;91;192;222m▰▰▱▱▱▱▱\u001b[0m \u001b[33m0:00:00\u001b[0m\n",
                  "text/html": "<pre style=\"white-space:pre;overflow-x:auto;line-height:normal;font-family:Menlo,'DejaVu Sans Mono',consolas,'Courier New',monospace\">GET: https://arangodb-dataset-library-ml.s3.amazonaws.com/root_metadata.json <span style=\"color: #5bc0de; text-decoration-color: #5bc0de\">▰▰▱▱▱▱▱</span> <span style=\"color: #808000; text-decoration-color: #808000\">0:00:00</span>\n</pre>\n"
                },
                "metadata": {}
              }
            ]
          }
        },
        "eddd34db2d804dcf8bec541202e00305": {
          "model_module": "@jupyter-widgets/base",
          "model_name": "LayoutModel",
          "model_module_version": "1.2.0",
          "state": {
            "_model_module": "@jupyter-widgets/base",
            "_model_module_version": "1.2.0",
            "_model_name": "LayoutModel",
            "_view_count": null,
            "_view_module": "@jupyter-widgets/base",
            "_view_module_version": "1.2.0",
            "_view_name": "LayoutView",
            "align_content": null,
            "align_items": null,
            "align_self": null,
            "border": null,
            "bottom": null,
            "display": null,
            "flex": null,
            "flex_flow": null,
            "grid_area": null,
            "grid_auto_columns": null,
            "grid_auto_flow": null,
            "grid_auto_rows": null,
            "grid_column": null,
            "grid_gap": null,
            "grid_row": null,
            "grid_template_areas": null,
            "grid_template_columns": null,
            "grid_template_rows": null,
            "height": null,
            "justify_content": null,
            "justify_items": null,
            "left": null,
            "margin": null,
            "max_height": null,
            "max_width": null,
            "min_height": null,
            "min_width": null,
            "object_fit": null,
            "object_position": null,
            "order": null,
            "overflow": null,
            "overflow_x": null,
            "overflow_y": null,
            "padding": null,
            "right": null,
            "top": null,
            "visibility": null,
            "width": null
          }
        },
        "147a5bd97280413eb9faa3058cb97d07": {
          "model_module": "@jupyter-widgets/output",
          "model_name": "OutputModel",
          "model_module_version": "1.0.0",
          "state": {
            "_dom_classes": [],
            "_model_module": "@jupyter-widgets/output",
            "_model_module_version": "1.0.0",
            "_model_name": "OutputModel",
            "_view_count": null,
            "_view_module": "@jupyter-widgets/output",
            "_view_module_version": "1.0.0",
            "_view_name": "OutputView",
            "layout": "IPY_MODEL_87d7d473913245e685ca190c5fd19afd",
            "msg_id": "",
            "outputs": [
              {
                "output_type": "display_data",
                "data": {
                  "text/plain": "GET: https://arangodb-dataset-library-ml.s3.amazonaws.com/gameofthrones/vertex_collection/Characters.json \u001b[38;2;91;192;222m▰▰▰…\u001b[0m \u001b[33m0:0…\u001b[0m\n",
                  "text/html": "<pre style=\"white-space:pre;overflow-x:auto;line-height:normal;font-family:Menlo,'DejaVu Sans Mono',consolas,'Courier New',monospace\">GET: https://arangodb-dataset-library-ml.s3.amazonaws.com/gameofthrones/vertex_collection/Characters.json <span style=\"color: #5bc0de; text-decoration-color: #5bc0de\">▰▰▰…</span> <span style=\"color: #808000; text-decoration-color: #808000\">0:0…</span>\n</pre>\n"
                },
                "metadata": {}
              }
            ]
          }
        },
        "87d7d473913245e685ca190c5fd19afd": {
          "model_module": "@jupyter-widgets/base",
          "model_name": "LayoutModel",
          "model_module_version": "1.2.0",
          "state": {
            "_model_module": "@jupyter-widgets/base",
            "_model_module_version": "1.2.0",
            "_model_name": "LayoutModel",
            "_view_count": null,
            "_view_module": "@jupyter-widgets/base",
            "_view_module_version": "1.2.0",
            "_view_name": "LayoutView",
            "align_content": null,
            "align_items": null,
            "align_self": null,
            "border": null,
            "bottom": null,
            "display": null,
            "flex": null,
            "flex_flow": null,
            "grid_area": null,
            "grid_auto_columns": null,
            "grid_auto_flow": null,
            "grid_auto_rows": null,
            "grid_column": null,
            "grid_gap": null,
            "grid_row": null,
            "grid_template_areas": null,
            "grid_template_columns": null,
            "grid_template_rows": null,
            "height": null,
            "justify_content": null,
            "justify_items": null,
            "left": null,
            "margin": null,
            "max_height": null,
            "max_width": null,
            "min_height": null,
            "min_width": null,
            "object_fit": null,
            "object_position": null,
            "order": null,
            "overflow": null,
            "overflow_x": null,
            "overflow_y": null,
            "padding": null,
            "right": null,
            "top": null,
            "visibility": null,
            "width": null
          }
        },
        "9c719713b7f84b5bbc9c3b93ae018025": {
          "model_module": "@jupyter-widgets/output",
          "model_name": "OutputModel",
          "model_module_version": "1.0.0",
          "state": {
            "_dom_classes": [],
            "_model_module": "@jupyter-widgets/output",
            "_model_module_version": "1.0.0",
            "_model_name": "OutputModel",
            "_view_count": null,
            "_view_module": "@jupyter-widgets/output",
            "_view_module_version": "1.0.0",
            "_view_name": "OutputView",
            "layout": "IPY_MODEL_ade3d0b0a6de40ce83e27e7385cf728d",
            "msg_id": "",
            "outputs": [
              {
                "output_type": "display_data",
                "data": {
                  "text/plain": "Collection: Characters \u001b[38;2;91;192;222m▰▱▱▱▱▱▱\u001b[0m \u001b[33m0:00:00\u001b[0m\n",
                  "text/html": "<pre style=\"white-space:pre;overflow-x:auto;line-height:normal;font-family:Menlo,'DejaVu Sans Mono',consolas,'Courier New',monospace\">Collection: Characters <span style=\"color: #5bc0de; text-decoration-color: #5bc0de\">▰▱▱▱▱▱▱</span> <span style=\"color: #808000; text-decoration-color: #808000\">0:00:00</span>\n</pre>\n"
                },
                "metadata": {}
              }
            ]
          }
        },
        "ade3d0b0a6de40ce83e27e7385cf728d": {
          "model_module": "@jupyter-widgets/base",
          "model_name": "LayoutModel",
          "model_module_version": "1.2.0",
          "state": {
            "_model_module": "@jupyter-widgets/base",
            "_model_module_version": "1.2.0",
            "_model_name": "LayoutModel",
            "_view_count": null,
            "_view_module": "@jupyter-widgets/base",
            "_view_module_version": "1.2.0",
            "_view_name": "LayoutView",
            "align_content": null,
            "align_items": null,
            "align_self": null,
            "border": null,
            "bottom": null,
            "display": null,
            "flex": null,
            "flex_flow": null,
            "grid_area": null,
            "grid_auto_columns": null,
            "grid_auto_flow": null,
            "grid_auto_rows": null,
            "grid_column": null,
            "grid_gap": null,
            "grid_row": null,
            "grid_template_areas": null,
            "grid_template_columns": null,
            "grid_template_rows": null,
            "height": null,
            "justify_content": null,
            "justify_items": null,
            "left": null,
            "margin": null,
            "max_height": null,
            "max_width": null,
            "min_height": null,
            "min_width": null,
            "object_fit": null,
            "object_position": null,
            "order": null,
            "overflow": null,
            "overflow_x": null,
            "overflow_y": null,
            "padding": null,
            "right": null,
            "top": null,
            "visibility": null,
            "width": null
          }
        },
        "e75b133f77c440c3a5fd22971d759f5e": {
          "model_module": "@jupyter-widgets/output",
          "model_name": "OutputModel",
          "model_module_version": "1.0.0",
          "state": {
            "_dom_classes": [],
            "_model_module": "@jupyter-widgets/output",
            "_model_module_version": "1.0.0",
            "_model_name": "OutputModel",
            "_view_count": null,
            "_view_module": "@jupyter-widgets/output",
            "_view_module_version": "1.0.0",
            "_view_name": "OutputView",
            "layout": "IPY_MODEL_47d55e09f93f4adab47035b886f77e72",
            "msg_id": "",
            "outputs": [
              {
                "output_type": "display_data",
                "data": {
                  "text/plain": "GET: https://arangodb-dataset-library-ml.s3.amazonaws.com/gameofthrones/edge_collection/ChildOf.json \u001b[38;2;91;192;222m▰▰▰▱▱…\u001b[0m \u001b[33m0:00:00\u001b[0m\n",
                  "text/html": "<pre style=\"white-space:pre;overflow-x:auto;line-height:normal;font-family:Menlo,'DejaVu Sans Mono',consolas,'Courier New',monospace\">GET: https://arangodb-dataset-library-ml.s3.amazonaws.com/gameofthrones/edge_collection/ChildOf.json <span style=\"color: #5bc0de; text-decoration-color: #5bc0de\">▰▰▰▱▱…</span> <span style=\"color: #808000; text-decoration-color: #808000\">0:00:00</span>\n</pre>\n"
                },
                "metadata": {}
              }
            ]
          }
        },
        "47d55e09f93f4adab47035b886f77e72": {
          "model_module": "@jupyter-widgets/base",
          "model_name": "LayoutModel",
          "model_module_version": "1.2.0",
          "state": {
            "_model_module": "@jupyter-widgets/base",
            "_model_module_version": "1.2.0",
            "_model_name": "LayoutModel",
            "_view_count": null,
            "_view_module": "@jupyter-widgets/base",
            "_view_module_version": "1.2.0",
            "_view_name": "LayoutView",
            "align_content": null,
            "align_items": null,
            "align_self": null,
            "border": null,
            "bottom": null,
            "display": null,
            "flex": null,
            "flex_flow": null,
            "grid_area": null,
            "grid_auto_columns": null,
            "grid_auto_flow": null,
            "grid_auto_rows": null,
            "grid_column": null,
            "grid_gap": null,
            "grid_row": null,
            "grid_template_areas": null,
            "grid_template_columns": null,
            "grid_template_rows": null,
            "height": null,
            "justify_content": null,
            "justify_items": null,
            "left": null,
            "margin": null,
            "max_height": null,
            "max_width": null,
            "min_height": null,
            "min_width": null,
            "object_fit": null,
            "object_position": null,
            "order": null,
            "overflow": null,
            "overflow_x": null,
            "overflow_y": null,
            "padding": null,
            "right": null,
            "top": null,
            "visibility": null,
            "width": null
          }
        },
        "316e150ba0c24fc5bdd4d447c994be7d": {
          "model_module": "@jupyter-widgets/output",
          "model_name": "OutputModel",
          "model_module_version": "1.0.0",
          "state": {
            "_dom_classes": [],
            "_model_module": "@jupyter-widgets/output",
            "_model_module_version": "1.0.0",
            "_model_name": "OutputModel",
            "_view_count": null,
            "_view_module": "@jupyter-widgets/output",
            "_view_module_version": "1.0.0",
            "_view_name": "OutputView",
            "layout": "IPY_MODEL_4083fa5e3357412880cde9e48023539a",
            "msg_id": "",
            "outputs": [
              {
                "output_type": "display_data",
                "data": {
                  "text/plain": "Collection: ChildOf \u001b[38;2;91;192;222m▰▱▱▱▱▱▱\u001b[0m \u001b[33m0:00:00\u001b[0m\n",
                  "text/html": "<pre style=\"white-space:pre;overflow-x:auto;line-height:normal;font-family:Menlo,'DejaVu Sans Mono',consolas,'Courier New',monospace\">Collection: ChildOf <span style=\"color: #5bc0de; text-decoration-color: #5bc0de\">▰▱▱▱▱▱▱</span> <span style=\"color: #808000; text-decoration-color: #808000\">0:00:00</span>\n</pre>\n"
                },
                "metadata": {}
              }
            ]
          }
        },
        "4083fa5e3357412880cde9e48023539a": {
          "model_module": "@jupyter-widgets/base",
          "model_name": "LayoutModel",
          "model_module_version": "1.2.0",
          "state": {
            "_model_module": "@jupyter-widgets/base",
            "_model_module_version": "1.2.0",
            "_model_name": "LayoutModel",
            "_view_count": null,
            "_view_module": "@jupyter-widgets/base",
            "_view_module_version": "1.2.0",
            "_view_name": "LayoutView",
            "align_content": null,
            "align_items": null,
            "align_self": null,
            "border": null,
            "bottom": null,
            "display": null,
            "flex": null,
            "flex_flow": null,
            "grid_area": null,
            "grid_auto_columns": null,
            "grid_auto_flow": null,
            "grid_auto_rows": null,
            "grid_column": null,
            "grid_gap": null,
            "grid_row": null,
            "grid_template_areas": null,
            "grid_template_columns": null,
            "grid_template_rows": null,
            "height": null,
            "justify_content": null,
            "justify_items": null,
            "left": null,
            "margin": null,
            "max_height": null,
            "max_width": null,
            "min_height": null,
            "min_width": null,
            "object_fit": null,
            "object_position": null,
            "order": null,
            "overflow": null,
            "overflow_x": null,
            "overflow_y": null,
            "padding": null,
            "right": null,
            "top": null,
            "visibility": null,
            "width": null
          }
        },
        "787cd3d8813d4515ad7e138aaa49ff8c": {
          "model_module": "@jupyter-widgets/output",
          "model_name": "OutputModel",
          "model_module_version": "1.0.0",
          "state": {
            "_dom_classes": [],
            "_model_module": "@jupyter-widgets/output",
            "_model_module_version": "1.0.0",
            "_model_name": "OutputModel",
            "_view_count": null,
            "_view_module": "@jupyter-widgets/output",
            "_view_module_version": "1.0.0",
            "_view_name": "OutputView",
            "layout": "IPY_MODEL_3afc205fe9b840258b7b0656665551b1",
            "msg_id": "",
            "outputs": [
              {
                "output_type": "display_data",
                "data": {
                  "text/plain": "GET: https://arangodb-dataset-library-ml.s3.amazonaws.com/root_metadata.json \u001b[38;2;91;192;222m▰▰▰▱▱▱▱\u001b[0m \u001b[33m0:00:00\u001b[0m\n",
                  "text/html": "<pre style=\"white-space:pre;overflow-x:auto;line-height:normal;font-family:Menlo,'DejaVu Sans Mono',consolas,'Courier New',monospace\">GET: https://arangodb-dataset-library-ml.s3.amazonaws.com/root_metadata.json <span style=\"color: #5bc0de; text-decoration-color: #5bc0de\">▰▰▰▱▱▱▱</span> <span style=\"color: #808000; text-decoration-color: #808000\">0:00:00</span>\n</pre>\n"
                },
                "metadata": {}
              }
            ]
          }
        },
        "3afc205fe9b840258b7b0656665551b1": {
          "model_module": "@jupyter-widgets/base",
          "model_name": "LayoutModel",
          "model_module_version": "1.2.0",
          "state": {
            "_model_module": "@jupyter-widgets/base",
            "_model_module_version": "1.2.0",
            "_model_name": "LayoutModel",
            "_view_count": null,
            "_view_module": "@jupyter-widgets/base",
            "_view_module_version": "1.2.0",
            "_view_name": "LayoutView",
            "align_content": null,
            "align_items": null,
            "align_self": null,
            "border": null,
            "bottom": null,
            "display": null,
            "flex": null,
            "flex_flow": null,
            "grid_area": null,
            "grid_auto_columns": null,
            "grid_auto_flow": null,
            "grid_auto_rows": null,
            "grid_column": null,
            "grid_gap": null,
            "grid_row": null,
            "grid_template_areas": null,
            "grid_template_columns": null,
            "grid_template_rows": null,
            "height": null,
            "justify_content": null,
            "justify_items": null,
            "left": null,
            "margin": null,
            "max_height": null,
            "max_width": null,
            "min_height": null,
            "min_width": null,
            "object_fit": null,
            "object_position": null,
            "order": null,
            "overflow": null,
            "overflow_x": null,
            "overflow_y": null,
            "padding": null,
            "right": null,
            "top": null,
            "visibility": null,
            "width": null
          }
        },
        "01ecb9afdf5e4f1d86a62d600c621401": {
          "model_module": "@jupyter-widgets/output",
          "model_name": "OutputModel",
          "model_module_version": "1.0.0",
          "state": {
            "_dom_classes": [],
            "_model_module": "@jupyter-widgets/output",
            "_model_module_version": "1.0.0",
            "_model_name": "OutputModel",
            "_view_count": null,
            "_view_module": "@jupyter-widgets/output",
            "_view_module_version": "1.0.0",
            "_view_name": "OutputView",
            "layout": "IPY_MODEL_b04d48b009814255bec75e8815e9b8b2",
            "msg_id": "",
            "outputs": [
              {
                "output_type": "display_data",
                "data": {
                  "text/plain": "GET: https://arangodb-dataset-library-ml.s3.amazonaws.com/open_intelligence/vertex_collection/Actor.json \u001b[38;2;91;192;222m▰▰▰…\u001b[0m \u001b[33m0:00…\u001b[0m\n",
                  "text/html": "<pre style=\"white-space:pre;overflow-x:auto;line-height:normal;font-family:Menlo,'DejaVu Sans Mono',consolas,'Courier New',monospace\">GET: https://arangodb-dataset-library-ml.s3.amazonaws.com/open_intelligence/vertex_collection/Actor.json <span style=\"color: #5bc0de; text-decoration-color: #5bc0de\">▰▰▰…</span> <span style=\"color: #808000; text-decoration-color: #808000\">0:00…</span>\n</pre>\n"
                },
                "metadata": {}
              }
            ]
          }
        },
        "b04d48b009814255bec75e8815e9b8b2": {
          "model_module": "@jupyter-widgets/base",
          "model_name": "LayoutModel",
          "model_module_version": "1.2.0",
          "state": {
            "_model_module": "@jupyter-widgets/base",
            "_model_module_version": "1.2.0",
            "_model_name": "LayoutModel",
            "_view_count": null,
            "_view_module": "@jupyter-widgets/base",
            "_view_module_version": "1.2.0",
            "_view_name": "LayoutView",
            "align_content": null,
            "align_items": null,
            "align_self": null,
            "border": null,
            "bottom": null,
            "display": null,
            "flex": null,
            "flex_flow": null,
            "grid_area": null,
            "grid_auto_columns": null,
            "grid_auto_flow": null,
            "grid_auto_rows": null,
            "grid_column": null,
            "grid_gap": null,
            "grid_row": null,
            "grid_template_areas": null,
            "grid_template_columns": null,
            "grid_template_rows": null,
            "height": null,
            "justify_content": null,
            "justify_items": null,
            "left": null,
            "margin": null,
            "max_height": null,
            "max_width": null,
            "min_height": null,
            "min_width": null,
            "object_fit": null,
            "object_position": null,
            "order": null,
            "overflow": null,
            "overflow_x": null,
            "overflow_y": null,
            "padding": null,
            "right": null,
            "top": null,
            "visibility": null,
            "width": null
          }
        },
        "dfc2dccaaf704fc8ab98d084161f8d6f": {
          "model_module": "@jupyter-widgets/output",
          "model_name": "OutputModel",
          "model_module_version": "1.0.0",
          "state": {
            "_dom_classes": [],
            "_model_module": "@jupyter-widgets/output",
            "_model_module_version": "1.0.0",
            "_model_name": "OutputModel",
            "_view_count": null,
            "_view_module": "@jupyter-widgets/output",
            "_view_module_version": "1.0.0",
            "_view_name": "OutputView",
            "layout": "IPY_MODEL_35dcc210e7df45b0aea55852fcf02466",
            "msg_id": "",
            "outputs": [
              {
                "output_type": "display_data",
                "data": {
                  "text/plain": "Collection: Actor \u001b[38;2;91;192;222m▰▰▱▱▱▱▱\u001b[0m \u001b[33m0:00:00\u001b[0m\n",
                  "text/html": "<pre style=\"white-space:pre;overflow-x:auto;line-height:normal;font-family:Menlo,'DejaVu Sans Mono',consolas,'Courier New',monospace\">Collection: Actor <span style=\"color: #5bc0de; text-decoration-color: #5bc0de\">▰▰▱▱▱▱▱</span> <span style=\"color: #808000; text-decoration-color: #808000\">0:00:00</span>\n</pre>\n"
                },
                "metadata": {}
              }
            ]
          }
        },
        "35dcc210e7df45b0aea55852fcf02466": {
          "model_module": "@jupyter-widgets/base",
          "model_name": "LayoutModel",
          "model_module_version": "1.2.0",
          "state": {
            "_model_module": "@jupyter-widgets/base",
            "_model_module_version": "1.2.0",
            "_model_name": "LayoutModel",
            "_view_count": null,
            "_view_module": "@jupyter-widgets/base",
            "_view_module_version": "1.2.0",
            "_view_name": "LayoutView",
            "align_content": null,
            "align_items": null,
            "align_self": null,
            "border": null,
            "bottom": null,
            "display": null,
            "flex": null,
            "flex_flow": null,
            "grid_area": null,
            "grid_auto_columns": null,
            "grid_auto_flow": null,
            "grid_auto_rows": null,
            "grid_column": null,
            "grid_gap": null,
            "grid_row": null,
            "grid_template_areas": null,
            "grid_template_columns": null,
            "grid_template_rows": null,
            "height": null,
            "justify_content": null,
            "justify_items": null,
            "left": null,
            "margin": null,
            "max_height": null,
            "max_width": null,
            "min_height": null,
            "min_width": null,
            "object_fit": null,
            "object_position": null,
            "order": null,
            "overflow": null,
            "overflow_x": null,
            "overflow_y": null,
            "padding": null,
            "right": null,
            "top": null,
            "visibility": null,
            "width": null
          }
        },
        "c0298c61e6564c70900ed485a332f104": {
          "model_module": "@jupyter-widgets/output",
          "model_name": "OutputModel",
          "model_module_version": "1.0.0",
          "state": {
            "_dom_classes": [],
            "_model_module": "@jupyter-widgets/output",
            "_model_module_version": "1.0.0",
            "_model_name": "OutputModel",
            "_view_count": null,
            "_view_module": "@jupyter-widgets/output",
            "_view_module_version": "1.0.0",
            "_view_name": "OutputView",
            "layout": "IPY_MODEL_ce7a6a346cac4456aaad509590b84445",
            "msg_id": "",
            "outputs": [
              {
                "output_type": "display_data",
                "data": {
                  "text/plain": "GET: https://arangodb-dataset-library-ml.s3.amazonaws.com/open_intelligence/vertex_collection/Class.json \u001b[38;2;91;192;222m▰▰▰…\u001b[0m \u001b[33m0:00…\u001b[0m\n",
                  "text/html": "<pre style=\"white-space:pre;overflow-x:auto;line-height:normal;font-family:Menlo,'DejaVu Sans Mono',consolas,'Courier New',monospace\">GET: https://arangodb-dataset-library-ml.s3.amazonaws.com/open_intelligence/vertex_collection/Class.json <span style=\"color: #5bc0de; text-decoration-color: #5bc0de\">▰▰▰…</span> <span style=\"color: #808000; text-decoration-color: #808000\">0:00…</span>\n</pre>\n"
                },
                "metadata": {}
              }
            ]
          }
        },
        "ce7a6a346cac4456aaad509590b84445": {
          "model_module": "@jupyter-widgets/base",
          "model_name": "LayoutModel",
          "model_module_version": "1.2.0",
          "state": {
            "_model_module": "@jupyter-widgets/base",
            "_model_module_version": "1.2.0",
            "_model_name": "LayoutModel",
            "_view_count": null,
            "_view_module": "@jupyter-widgets/base",
            "_view_module_version": "1.2.0",
            "_view_name": "LayoutView",
            "align_content": null,
            "align_items": null,
            "align_self": null,
            "border": null,
            "bottom": null,
            "display": null,
            "flex": null,
            "flex_flow": null,
            "grid_area": null,
            "grid_auto_columns": null,
            "grid_auto_flow": null,
            "grid_auto_rows": null,
            "grid_column": null,
            "grid_gap": null,
            "grid_row": null,
            "grid_template_areas": null,
            "grid_template_columns": null,
            "grid_template_rows": null,
            "height": null,
            "justify_content": null,
            "justify_items": null,
            "left": null,
            "margin": null,
            "max_height": null,
            "max_width": null,
            "min_height": null,
            "min_width": null,
            "object_fit": null,
            "object_position": null,
            "order": null,
            "overflow": null,
            "overflow_x": null,
            "overflow_y": null,
            "padding": null,
            "right": null,
            "top": null,
            "visibility": null,
            "width": null
          }
        },
        "1e2cac77fa2e43afb98d6d9bde57741b": {
          "model_module": "@jupyter-widgets/output",
          "model_name": "OutputModel",
          "model_module_version": "1.0.0",
          "state": {
            "_dom_classes": [],
            "_model_module": "@jupyter-widgets/output",
            "_model_module_version": "1.0.0",
            "_model_name": "OutputModel",
            "_view_count": null,
            "_view_module": "@jupyter-widgets/output",
            "_view_module_version": "1.0.0",
            "_view_name": "OutputView",
            "layout": "IPY_MODEL_830a7c760c3a43ee8ee40c1e06798a14",
            "msg_id": "",
            "outputs": [
              {
                "output_type": "display_data",
                "data": {
                  "text/plain": "Collection: Class \u001b[38;2;91;192;222m▰▱▱▱▱▱▱\u001b[0m \u001b[33m0:00:00\u001b[0m\n",
                  "text/html": "<pre style=\"white-space:pre;overflow-x:auto;line-height:normal;font-family:Menlo,'DejaVu Sans Mono',consolas,'Courier New',monospace\">Collection: Class <span style=\"color: #5bc0de; text-decoration-color: #5bc0de\">▰▱▱▱▱▱▱</span> <span style=\"color: #808000; text-decoration-color: #808000\">0:00:00</span>\n</pre>\n"
                },
                "metadata": {}
              }
            ]
          }
        },
        "830a7c760c3a43ee8ee40c1e06798a14": {
          "model_module": "@jupyter-widgets/base",
          "model_name": "LayoutModel",
          "model_module_version": "1.2.0",
          "state": {
            "_model_module": "@jupyter-widgets/base",
            "_model_module_version": "1.2.0",
            "_model_name": "LayoutModel",
            "_view_count": null,
            "_view_module": "@jupyter-widgets/base",
            "_view_module_version": "1.2.0",
            "_view_name": "LayoutView",
            "align_content": null,
            "align_items": null,
            "align_self": null,
            "border": null,
            "bottom": null,
            "display": null,
            "flex": null,
            "flex_flow": null,
            "grid_area": null,
            "grid_auto_columns": null,
            "grid_auto_flow": null,
            "grid_auto_rows": null,
            "grid_column": null,
            "grid_gap": null,
            "grid_row": null,
            "grid_template_areas": null,
            "grid_template_columns": null,
            "grid_template_rows": null,
            "height": null,
            "justify_content": null,
            "justify_items": null,
            "left": null,
            "margin": null,
            "max_height": null,
            "max_width": null,
            "min_height": null,
            "min_width": null,
            "object_fit": null,
            "object_position": null,
            "order": null,
            "overflow": null,
            "overflow_x": null,
            "overflow_y": null,
            "padding": null,
            "right": null,
            "top": null,
            "visibility": null,
            "width": null
          }
        },
        "6c719cccc182418b9060b951bf88fd2b": {
          "model_module": "@jupyter-widgets/output",
          "model_name": "OutputModel",
          "model_module_version": "1.0.0",
          "state": {
            "_dom_classes": [],
            "_model_module": "@jupyter-widgets/output",
            "_model_module_version": "1.0.0",
            "_model_name": "OutputModel",
            "_view_count": null,
            "_view_module": "@jupyter-widgets/output",
            "_view_module_version": "1.0.0",
            "_view_name": "OutputView",
            "layout": "IPY_MODEL_7a8655bc8c3b46fc9a2909cf670e9064",
            "msg_id": "",
            "outputs": [
              {
                "output_type": "display_data",
                "data": {
                  "text/plain": "GET: https://arangodb-dataset-library-ml.s3.amazonaws.com/open_intelligence/vertex_collection/Country.json \u001b[38;2;91;192;222m▰▰…\u001b[0m \u001b[33m0:0…\u001b[0m\n",
                  "text/html": "<pre style=\"white-space:pre;overflow-x:auto;line-height:normal;font-family:Menlo,'DejaVu Sans Mono',consolas,'Courier New',monospace\">GET: https://arangodb-dataset-library-ml.s3.amazonaws.com/open_intelligence/vertex_collection/Country.json <span style=\"color: #5bc0de; text-decoration-color: #5bc0de\">▰▰…</span> <span style=\"color: #808000; text-decoration-color: #808000\">0:0…</span>\n</pre>\n"
                },
                "metadata": {}
              }
            ]
          }
        },
        "7a8655bc8c3b46fc9a2909cf670e9064": {
          "model_module": "@jupyter-widgets/base",
          "model_name": "LayoutModel",
          "model_module_version": "1.2.0",
          "state": {
            "_model_module": "@jupyter-widgets/base",
            "_model_module_version": "1.2.0",
            "_model_name": "LayoutModel",
            "_view_count": null,
            "_view_module": "@jupyter-widgets/base",
            "_view_module_version": "1.2.0",
            "_view_name": "LayoutView",
            "align_content": null,
            "align_items": null,
            "align_self": null,
            "border": null,
            "bottom": null,
            "display": null,
            "flex": null,
            "flex_flow": null,
            "grid_area": null,
            "grid_auto_columns": null,
            "grid_auto_flow": null,
            "grid_auto_rows": null,
            "grid_column": null,
            "grid_gap": null,
            "grid_row": null,
            "grid_template_areas": null,
            "grid_template_columns": null,
            "grid_template_rows": null,
            "height": null,
            "justify_content": null,
            "justify_items": null,
            "left": null,
            "margin": null,
            "max_height": null,
            "max_width": null,
            "min_height": null,
            "min_width": null,
            "object_fit": null,
            "object_position": null,
            "order": null,
            "overflow": null,
            "overflow_x": null,
            "overflow_y": null,
            "padding": null,
            "right": null,
            "top": null,
            "visibility": null,
            "width": null
          }
        },
        "a9245b5e66fc4c808bb3beec6c3a99f8": {
          "model_module": "@jupyter-widgets/output",
          "model_name": "OutputModel",
          "model_module_version": "1.0.0",
          "state": {
            "_dom_classes": [],
            "_model_module": "@jupyter-widgets/output",
            "_model_module_version": "1.0.0",
            "_model_name": "OutputModel",
            "_view_count": null,
            "_view_module": "@jupyter-widgets/output",
            "_view_module_version": "1.0.0",
            "_view_name": "OutputView",
            "layout": "IPY_MODEL_38c9a48129e24829a96d566785a6688c",
            "msg_id": "",
            "outputs": [
              {
                "output_type": "display_data",
                "data": {
                  "text/plain": "Collection: Country \u001b[38;2;91;192;222m▰▱▱▱▱▱▱\u001b[0m \u001b[33m0:00:00\u001b[0m\n",
                  "text/html": "<pre style=\"white-space:pre;overflow-x:auto;line-height:normal;font-family:Menlo,'DejaVu Sans Mono',consolas,'Courier New',monospace\">Collection: Country <span style=\"color: #5bc0de; text-decoration-color: #5bc0de\">▰▱▱▱▱▱▱</span> <span style=\"color: #808000; text-decoration-color: #808000\">0:00:00</span>\n</pre>\n"
                },
                "metadata": {}
              }
            ]
          }
        },
        "38c9a48129e24829a96d566785a6688c": {
          "model_module": "@jupyter-widgets/base",
          "model_name": "LayoutModel",
          "model_module_version": "1.2.0",
          "state": {
            "_model_module": "@jupyter-widgets/base",
            "_model_module_version": "1.2.0",
            "_model_name": "LayoutModel",
            "_view_count": null,
            "_view_module": "@jupyter-widgets/base",
            "_view_module_version": "1.2.0",
            "_view_name": "LayoutView",
            "align_content": null,
            "align_items": null,
            "align_self": null,
            "border": null,
            "bottom": null,
            "display": null,
            "flex": null,
            "flex_flow": null,
            "grid_area": null,
            "grid_auto_columns": null,
            "grid_auto_flow": null,
            "grid_auto_rows": null,
            "grid_column": null,
            "grid_gap": null,
            "grid_row": null,
            "grid_template_areas": null,
            "grid_template_columns": null,
            "grid_template_rows": null,
            "height": null,
            "justify_content": null,
            "justify_items": null,
            "left": null,
            "margin": null,
            "max_height": null,
            "max_width": null,
            "min_height": null,
            "min_width": null,
            "object_fit": null,
            "object_position": null,
            "order": null,
            "overflow": null,
            "overflow_x": null,
            "overflow_y": null,
            "padding": null,
            "right": null,
            "top": null,
            "visibility": null,
            "width": null
          }
        },
        "0df0198bad8341e0b017d0a5039d6094": {
          "model_module": "@jupyter-widgets/output",
          "model_name": "OutputModel",
          "model_module_version": "1.0.0",
          "state": {
            "_dom_classes": [],
            "_model_module": "@jupyter-widgets/output",
            "_model_module_version": "1.0.0",
            "_model_name": "OutputModel",
            "_view_count": null,
            "_view_module": "@jupyter-widgets/output",
            "_view_module_version": "1.0.0",
            "_view_name": "OutputView",
            "layout": "IPY_MODEL_6a6ca17c07f94dcab0bc3853e3e25e3e",
            "msg_id": "",
            "outputs": [
              {
                "output_type": "display_data",
                "data": {
                  "text/plain": "GET: https://arangodb-dataset-library-ml.s3.amazonaws.com/open_intelligence/vertex_collection/Event.json \u001b[38;2;91;192;222m▰▱▱…\u001b[0m \u001b[33m0:00…\u001b[0m\n",
                  "text/html": "<pre style=\"white-space:pre;overflow-x:auto;line-height:normal;font-family:Menlo,'DejaVu Sans Mono',consolas,'Courier New',monospace\">GET: https://arangodb-dataset-library-ml.s3.amazonaws.com/open_intelligence/vertex_collection/Event.json <span style=\"color: #5bc0de; text-decoration-color: #5bc0de\">▰▱▱…</span> <span style=\"color: #808000; text-decoration-color: #808000\">0:00…</span>\n</pre>\n"
                },
                "metadata": {}
              }
            ]
          }
        },
        "6a6ca17c07f94dcab0bc3853e3e25e3e": {
          "model_module": "@jupyter-widgets/base",
          "model_name": "LayoutModel",
          "model_module_version": "1.2.0",
          "state": {
            "_model_module": "@jupyter-widgets/base",
            "_model_module_version": "1.2.0",
            "_model_name": "LayoutModel",
            "_view_count": null,
            "_view_module": "@jupyter-widgets/base",
            "_view_module_version": "1.2.0",
            "_view_name": "LayoutView",
            "align_content": null,
            "align_items": null,
            "align_self": null,
            "border": null,
            "bottom": null,
            "display": null,
            "flex": null,
            "flex_flow": null,
            "grid_area": null,
            "grid_auto_columns": null,
            "grid_auto_flow": null,
            "grid_auto_rows": null,
            "grid_column": null,
            "grid_gap": null,
            "grid_row": null,
            "grid_template_areas": null,
            "grid_template_columns": null,
            "grid_template_rows": null,
            "height": null,
            "justify_content": null,
            "justify_items": null,
            "left": null,
            "margin": null,
            "max_height": null,
            "max_width": null,
            "min_height": null,
            "min_width": null,
            "object_fit": null,
            "object_position": null,
            "order": null,
            "overflow": null,
            "overflow_x": null,
            "overflow_y": null,
            "padding": null,
            "right": null,
            "top": null,
            "visibility": null,
            "width": null
          }
        },
        "4ab7df5989f445dabe4657d07f7b97b9": {
          "model_module": "@jupyter-widgets/output",
          "model_name": "OutputModel",
          "model_module_version": "1.0.0",
          "state": {
            "_dom_classes": [],
            "_model_module": "@jupyter-widgets/output",
            "_model_module_version": "1.0.0",
            "_model_name": "OutputModel",
            "_view_count": null,
            "_view_module": "@jupyter-widgets/output",
            "_view_module_version": "1.0.0",
            "_view_name": "OutputView",
            "layout": "IPY_MODEL_bd9d20ef71c24856889a0e876754e627",
            "msg_id": "",
            "outputs": [
              {
                "output_type": "display_data",
                "data": {
                  "text/plain": "Collection: Event \u001b[38;2;91;192;222m▰▰▰▰▰▰▱\u001b[0m \u001b[33m0:00:04\u001b[0m\n",
                  "text/html": "<pre style=\"white-space:pre;overflow-x:auto;line-height:normal;font-family:Menlo,'DejaVu Sans Mono',consolas,'Courier New',monospace\">Collection: Event <span style=\"color: #5bc0de; text-decoration-color: #5bc0de\">▰▰▰▰▰▰▱</span> <span style=\"color: #808000; text-decoration-color: #808000\">0:00:04</span>\n</pre>\n"
                },
                "metadata": {}
              }
            ]
          }
        },
        "bd9d20ef71c24856889a0e876754e627": {
          "model_module": "@jupyter-widgets/base",
          "model_name": "LayoutModel",
          "model_module_version": "1.2.0",
          "state": {
            "_model_module": "@jupyter-widgets/base",
            "_model_module_version": "1.2.0",
            "_model_name": "LayoutModel",
            "_view_count": null,
            "_view_module": "@jupyter-widgets/base",
            "_view_module_version": "1.2.0",
            "_view_name": "LayoutView",
            "align_content": null,
            "align_items": null,
            "align_self": null,
            "border": null,
            "bottom": null,
            "display": null,
            "flex": null,
            "flex_flow": null,
            "grid_area": null,
            "grid_auto_columns": null,
            "grid_auto_flow": null,
            "grid_auto_rows": null,
            "grid_column": null,
            "grid_gap": null,
            "grid_row": null,
            "grid_template_areas": null,
            "grid_template_columns": null,
            "grid_template_rows": null,
            "height": null,
            "justify_content": null,
            "justify_items": null,
            "left": null,
            "margin": null,
            "max_height": null,
            "max_width": null,
            "min_height": null,
            "min_width": null,
            "object_fit": null,
            "object_position": null,
            "order": null,
            "overflow": null,
            "overflow_x": null,
            "overflow_y": null,
            "padding": null,
            "right": null,
            "top": null,
            "visibility": null,
            "width": null
          }
        },
        "d714f473459c4087aca075d7e41b0361": {
          "model_module": "@jupyter-widgets/output",
          "model_name": "OutputModel",
          "model_module_version": "1.0.0",
          "state": {
            "_dom_classes": [],
            "_model_module": "@jupyter-widgets/output",
            "_model_module_version": "1.0.0",
            "_model_name": "OutputModel",
            "_view_count": null,
            "_view_module": "@jupyter-widgets/output",
            "_view_module_version": "1.0.0",
            "_view_name": "OutputView",
            "layout": "IPY_MODEL_65ec933ff80e445d9faefe0b6de2794e",
            "msg_id": "",
            "outputs": [
              {
                "output_type": "display_data",
                "data": {
                  "text/plain": "GET: https://arangodb-dataset-library-ml.s3.amazonaws.com/open_intelligence/vertex_collection/Location.json \u001b[38;2;91;192;222m▰…\u001b[0m \u001b[33m0:0…\u001b[0m\n",
                  "text/html": "<pre style=\"white-space:pre;overflow-x:auto;line-height:normal;font-family:Menlo,'DejaVu Sans Mono',consolas,'Courier New',monospace\">GET: https://arangodb-dataset-library-ml.s3.amazonaws.com/open_intelligence/vertex_collection/Location.json <span style=\"color: #5bc0de; text-decoration-color: #5bc0de\">▰…</span> <span style=\"color: #808000; text-decoration-color: #808000\">0:0…</span>\n</pre>\n"
                },
                "metadata": {}
              }
            ]
          }
        },
        "65ec933ff80e445d9faefe0b6de2794e": {
          "model_module": "@jupyter-widgets/base",
          "model_name": "LayoutModel",
          "model_module_version": "1.2.0",
          "state": {
            "_model_module": "@jupyter-widgets/base",
            "_model_module_version": "1.2.0",
            "_model_name": "LayoutModel",
            "_view_count": null,
            "_view_module": "@jupyter-widgets/base",
            "_view_module_version": "1.2.0",
            "_view_name": "LayoutView",
            "align_content": null,
            "align_items": null,
            "align_self": null,
            "border": null,
            "bottom": null,
            "display": null,
            "flex": null,
            "flex_flow": null,
            "grid_area": null,
            "grid_auto_columns": null,
            "grid_auto_flow": null,
            "grid_auto_rows": null,
            "grid_column": null,
            "grid_gap": null,
            "grid_row": null,
            "grid_template_areas": null,
            "grid_template_columns": null,
            "grid_template_rows": null,
            "height": null,
            "justify_content": null,
            "justify_items": null,
            "left": null,
            "margin": null,
            "max_height": null,
            "max_width": null,
            "min_height": null,
            "min_width": null,
            "object_fit": null,
            "object_position": null,
            "order": null,
            "overflow": null,
            "overflow_x": null,
            "overflow_y": null,
            "padding": null,
            "right": null,
            "top": null,
            "visibility": null,
            "width": null
          }
        },
        "3fd66aca0de4489788c231af73a8dc9f": {
          "model_module": "@jupyter-widgets/output",
          "model_name": "OutputModel",
          "model_module_version": "1.0.0",
          "state": {
            "_dom_classes": [],
            "_model_module": "@jupyter-widgets/output",
            "_model_module_version": "1.0.0",
            "_model_name": "OutputModel",
            "_view_count": null,
            "_view_module": "@jupyter-widgets/output",
            "_view_module_version": "1.0.0",
            "_view_name": "OutputView",
            "layout": "IPY_MODEL_bf1f854832fe4ddabaea0090c9bf1916",
            "msg_id": "",
            "outputs": [
              {
                "output_type": "display_data",
                "data": {
                  "text/plain": "Collection: Location \u001b[38;2;91;192;222m▰▰▰▰▰▰▱\u001b[0m \u001b[33m0:00:00\u001b[0m\n",
                  "text/html": "<pre style=\"white-space:pre;overflow-x:auto;line-height:normal;font-family:Menlo,'DejaVu Sans Mono',consolas,'Courier New',monospace\">Collection: Location <span style=\"color: #5bc0de; text-decoration-color: #5bc0de\">▰▰▰▰▰▰▱</span> <span style=\"color: #808000; text-decoration-color: #808000\">0:00:00</span>\n</pre>\n"
                },
                "metadata": {}
              }
            ]
          }
        },
        "bf1f854832fe4ddabaea0090c9bf1916": {
          "model_module": "@jupyter-widgets/base",
          "model_name": "LayoutModel",
          "model_module_version": "1.2.0",
          "state": {
            "_model_module": "@jupyter-widgets/base",
            "_model_module_version": "1.2.0",
            "_model_name": "LayoutModel",
            "_view_count": null,
            "_view_module": "@jupyter-widgets/base",
            "_view_module_version": "1.2.0",
            "_view_name": "LayoutView",
            "align_content": null,
            "align_items": null,
            "align_self": null,
            "border": null,
            "bottom": null,
            "display": null,
            "flex": null,
            "flex_flow": null,
            "grid_area": null,
            "grid_auto_columns": null,
            "grid_auto_flow": null,
            "grid_auto_rows": null,
            "grid_column": null,
            "grid_gap": null,
            "grid_row": null,
            "grid_template_areas": null,
            "grid_template_columns": null,
            "grid_template_rows": null,
            "height": null,
            "justify_content": null,
            "justify_items": null,
            "left": null,
            "margin": null,
            "max_height": null,
            "max_width": null,
            "min_height": null,
            "min_width": null,
            "object_fit": null,
            "object_position": null,
            "order": null,
            "overflow": null,
            "overflow_x": null,
            "overflow_y": null,
            "padding": null,
            "right": null,
            "top": null,
            "visibility": null,
            "width": null
          }
        },
        "443b07aa182d4fa08755353991442776": {
          "model_module": "@jupyter-widgets/output",
          "model_name": "OutputModel",
          "model_module_version": "1.0.0",
          "state": {
            "_dom_classes": [],
            "_model_module": "@jupyter-widgets/output",
            "_model_module_version": "1.0.0",
            "_model_name": "OutputModel",
            "_view_count": null,
            "_view_module": "@jupyter-widgets/output",
            "_view_module_version": "1.0.0",
            "_view_name": "OutputView",
            "layout": "IPY_MODEL_a43fd065c67041a183df402874c30020",
            "msg_id": "",
            "outputs": [
              {
                "output_type": "display_data",
                "data": {
                  "text/plain": "GET: https://arangodb-dataset-library-ml.s3.amazonaws.com/open_intelligence/vertex_collection/Region.json \u001b[38;2;91;192;222m▰▰▱…\u001b[0m \u001b[33m0:0…\u001b[0m\n",
                  "text/html": "<pre style=\"white-space:pre;overflow-x:auto;line-height:normal;font-family:Menlo,'DejaVu Sans Mono',consolas,'Courier New',monospace\">GET: https://arangodb-dataset-library-ml.s3.amazonaws.com/open_intelligence/vertex_collection/Region.json <span style=\"color: #5bc0de; text-decoration-color: #5bc0de\">▰▰▱…</span> <span style=\"color: #808000; text-decoration-color: #808000\">0:0…</span>\n</pre>\n"
                },
                "metadata": {}
              }
            ]
          }
        },
        "a43fd065c67041a183df402874c30020": {
          "model_module": "@jupyter-widgets/base",
          "model_name": "LayoutModel",
          "model_module_version": "1.2.0",
          "state": {
            "_model_module": "@jupyter-widgets/base",
            "_model_module_version": "1.2.0",
            "_model_name": "LayoutModel",
            "_view_count": null,
            "_view_module": "@jupyter-widgets/base",
            "_view_module_version": "1.2.0",
            "_view_name": "LayoutView",
            "align_content": null,
            "align_items": null,
            "align_self": null,
            "border": null,
            "bottom": null,
            "display": null,
            "flex": null,
            "flex_flow": null,
            "grid_area": null,
            "grid_auto_columns": null,
            "grid_auto_flow": null,
            "grid_auto_rows": null,
            "grid_column": null,
            "grid_gap": null,
            "grid_row": null,
            "grid_template_areas": null,
            "grid_template_columns": null,
            "grid_template_rows": null,
            "height": null,
            "justify_content": null,
            "justify_items": null,
            "left": null,
            "margin": null,
            "max_height": null,
            "max_width": null,
            "min_height": null,
            "min_width": null,
            "object_fit": null,
            "object_position": null,
            "order": null,
            "overflow": null,
            "overflow_x": null,
            "overflow_y": null,
            "padding": null,
            "right": null,
            "top": null,
            "visibility": null,
            "width": null
          }
        },
        "48f34d7821774273bcc072e2168344fb": {
          "model_module": "@jupyter-widgets/output",
          "model_name": "OutputModel",
          "model_module_version": "1.0.0",
          "state": {
            "_dom_classes": [],
            "_model_module": "@jupyter-widgets/output",
            "_model_module_version": "1.0.0",
            "_model_name": "OutputModel",
            "_view_count": null,
            "_view_module": "@jupyter-widgets/output",
            "_view_module_version": "1.0.0",
            "_view_name": "OutputView",
            "layout": "IPY_MODEL_36da2525b19847e1addebd4a26b6979f",
            "msg_id": "",
            "outputs": [
              {
                "output_type": "display_data",
                "data": {
                  "text/plain": "Collection: Region \u001b[38;2;91;192;222m▰▱▱▱▱▱▱\u001b[0m \u001b[33m0:00:00\u001b[0m\n",
                  "text/html": "<pre style=\"white-space:pre;overflow-x:auto;line-height:normal;font-family:Menlo,'DejaVu Sans Mono',consolas,'Courier New',monospace\">Collection: Region <span style=\"color: #5bc0de; text-decoration-color: #5bc0de\">▰▱▱▱▱▱▱</span> <span style=\"color: #808000; text-decoration-color: #808000\">0:00:00</span>\n</pre>\n"
                },
                "metadata": {}
              }
            ]
          }
        },
        "36da2525b19847e1addebd4a26b6979f": {
          "model_module": "@jupyter-widgets/base",
          "model_name": "LayoutModel",
          "model_module_version": "1.2.0",
          "state": {
            "_model_module": "@jupyter-widgets/base",
            "_model_module_version": "1.2.0",
            "_model_name": "LayoutModel",
            "_view_count": null,
            "_view_module": "@jupyter-widgets/base",
            "_view_module_version": "1.2.0",
            "_view_name": "LayoutView",
            "align_content": null,
            "align_items": null,
            "align_self": null,
            "border": null,
            "bottom": null,
            "display": null,
            "flex": null,
            "flex_flow": null,
            "grid_area": null,
            "grid_auto_columns": null,
            "grid_auto_flow": null,
            "grid_auto_rows": null,
            "grid_column": null,
            "grid_gap": null,
            "grid_row": null,
            "grid_template_areas": null,
            "grid_template_columns": null,
            "grid_template_rows": null,
            "height": null,
            "justify_content": null,
            "justify_items": null,
            "left": null,
            "margin": null,
            "max_height": null,
            "max_width": null,
            "min_height": null,
            "min_width": null,
            "object_fit": null,
            "object_position": null,
            "order": null,
            "overflow": null,
            "overflow_x": null,
            "overflow_y": null,
            "padding": null,
            "right": null,
            "top": null,
            "visibility": null,
            "width": null
          }
        },
        "2cb2acb201a04ec89f524003e4bf86d0": {
          "model_module": "@jupyter-widgets/output",
          "model_name": "OutputModel",
          "model_module_version": "1.0.0",
          "state": {
            "_dom_classes": [],
            "_model_module": "@jupyter-widgets/output",
            "_model_module_version": "1.0.0",
            "_model_name": "OutputModel",
            "_view_count": null,
            "_view_module": "@jupyter-widgets/output",
            "_view_module_version": "1.0.0",
            "_view_name": "OutputView",
            "layout": "IPY_MODEL_8dd40f435d1749e2be2cd59527d144d8",
            "msg_id": "",
            "outputs": [
              {
                "output_type": "display_data",
                "data": {
                  "text/plain": "GET: https://arangodb-dataset-library-ml.s3.amazonaws.com/open_intelligence/vertex_collection/Source.json \u001b[38;2;91;192;222m▰▰▰…\u001b[0m \u001b[33m0:0…\u001b[0m\n",
                  "text/html": "<pre style=\"white-space:pre;overflow-x:auto;line-height:normal;font-family:Menlo,'DejaVu Sans Mono',consolas,'Courier New',monospace\">GET: https://arangodb-dataset-library-ml.s3.amazonaws.com/open_intelligence/vertex_collection/Source.json <span style=\"color: #5bc0de; text-decoration-color: #5bc0de\">▰▰▰…</span> <span style=\"color: #808000; text-decoration-color: #808000\">0:0…</span>\n</pre>\n"
                },
                "metadata": {}
              }
            ]
          }
        },
        "8dd40f435d1749e2be2cd59527d144d8": {
          "model_module": "@jupyter-widgets/base",
          "model_name": "LayoutModel",
          "model_module_version": "1.2.0",
          "state": {
            "_model_module": "@jupyter-widgets/base",
            "_model_module_version": "1.2.0",
            "_model_name": "LayoutModel",
            "_view_count": null,
            "_view_module": "@jupyter-widgets/base",
            "_view_module_version": "1.2.0",
            "_view_name": "LayoutView",
            "align_content": null,
            "align_items": null,
            "align_self": null,
            "border": null,
            "bottom": null,
            "display": null,
            "flex": null,
            "flex_flow": null,
            "grid_area": null,
            "grid_auto_columns": null,
            "grid_auto_flow": null,
            "grid_auto_rows": null,
            "grid_column": null,
            "grid_gap": null,
            "grid_row": null,
            "grid_template_areas": null,
            "grid_template_columns": null,
            "grid_template_rows": null,
            "height": null,
            "justify_content": null,
            "justify_items": null,
            "left": null,
            "margin": null,
            "max_height": null,
            "max_width": null,
            "min_height": null,
            "min_width": null,
            "object_fit": null,
            "object_position": null,
            "order": null,
            "overflow": null,
            "overflow_x": null,
            "overflow_y": null,
            "padding": null,
            "right": null,
            "top": null,
            "visibility": null,
            "width": null
          }
        },
        "1d1314830fc8414aab37de559cae3a7e": {
          "model_module": "@jupyter-widgets/output",
          "model_name": "OutputModel",
          "model_module_version": "1.0.0",
          "state": {
            "_dom_classes": [],
            "_model_module": "@jupyter-widgets/output",
            "_model_module_version": "1.0.0",
            "_model_name": "OutputModel",
            "_view_count": null,
            "_view_module": "@jupyter-widgets/output",
            "_view_module_version": "1.0.0",
            "_view_name": "OutputView",
            "layout": "IPY_MODEL_2204c3cd02fb44a8893193aa436ce237",
            "msg_id": "",
            "outputs": [
              {
                "output_type": "display_data",
                "data": {
                  "text/plain": "Collection: Source \u001b[38;2;91;192;222m▰▰▰▱▱▱▱\u001b[0m \u001b[33m0:00:00\u001b[0m\n",
                  "text/html": "<pre style=\"white-space:pre;overflow-x:auto;line-height:normal;font-family:Menlo,'DejaVu Sans Mono',consolas,'Courier New',monospace\">Collection: Source <span style=\"color: #5bc0de; text-decoration-color: #5bc0de\">▰▰▰▱▱▱▱</span> <span style=\"color: #808000; text-decoration-color: #808000\">0:00:00</span>\n</pre>\n"
                },
                "metadata": {}
              }
            ]
          }
        },
        "2204c3cd02fb44a8893193aa436ce237": {
          "model_module": "@jupyter-widgets/base",
          "model_name": "LayoutModel",
          "model_module_version": "1.2.0",
          "state": {
            "_model_module": "@jupyter-widgets/base",
            "_model_module_version": "1.2.0",
            "_model_name": "LayoutModel",
            "_view_count": null,
            "_view_module": "@jupyter-widgets/base",
            "_view_module_version": "1.2.0",
            "_view_name": "LayoutView",
            "align_content": null,
            "align_items": null,
            "align_self": null,
            "border": null,
            "bottom": null,
            "display": null,
            "flex": null,
            "flex_flow": null,
            "grid_area": null,
            "grid_auto_columns": null,
            "grid_auto_flow": null,
            "grid_auto_rows": null,
            "grid_column": null,
            "grid_gap": null,
            "grid_row": null,
            "grid_template_areas": null,
            "grid_template_columns": null,
            "grid_template_rows": null,
            "height": null,
            "justify_content": null,
            "justify_items": null,
            "left": null,
            "margin": null,
            "max_height": null,
            "max_width": null,
            "min_height": null,
            "min_width": null,
            "object_fit": null,
            "object_position": null,
            "order": null,
            "overflow": null,
            "overflow_x": null,
            "overflow_y": null,
            "padding": null,
            "right": null,
            "top": null,
            "visibility": null,
            "width": null
          }
        },
        "f9f2787c50c14a879c052ecc78cf48fc": {
          "model_module": "@jupyter-widgets/output",
          "model_name": "OutputModel",
          "model_module_version": "1.0.0",
          "state": {
            "_dom_classes": [],
            "_model_module": "@jupyter-widgets/output",
            "_model_module_version": "1.0.0",
            "_model_name": "OutputModel",
            "_view_count": null,
            "_view_module": "@jupyter-widgets/output",
            "_view_module_version": "1.0.0",
            "_view_name": "OutputView",
            "layout": "IPY_MODEL_1929aaf08f4544edba0a08b91a489ce3",
            "msg_id": "",
            "outputs": [
              {
                "output_type": "display_data",
                "data": {
                  "text/plain": "GET: https://arangodb-dataset-library-ml.s3.amazonaws.com/open_intelligence/edge_collection/eventActor.json \u001b[38;2;91;192;222m▰…\u001b[0m \u001b[33m0:0…\u001b[0m\n",
                  "text/html": "<pre style=\"white-space:pre;overflow-x:auto;line-height:normal;font-family:Menlo,'DejaVu Sans Mono',consolas,'Courier New',monospace\">GET: https://arangodb-dataset-library-ml.s3.amazonaws.com/open_intelligence/edge_collection/eventActor.json <span style=\"color: #5bc0de; text-decoration-color: #5bc0de\">▰…</span> <span style=\"color: #808000; text-decoration-color: #808000\">0:0…</span>\n</pre>\n"
                },
                "metadata": {}
              }
            ]
          }
        },
        "1929aaf08f4544edba0a08b91a489ce3": {
          "model_module": "@jupyter-widgets/base",
          "model_name": "LayoutModel",
          "model_module_version": "1.2.0",
          "state": {
            "_model_module": "@jupyter-widgets/base",
            "_model_module_version": "1.2.0",
            "_model_name": "LayoutModel",
            "_view_count": null,
            "_view_module": "@jupyter-widgets/base",
            "_view_module_version": "1.2.0",
            "_view_name": "LayoutView",
            "align_content": null,
            "align_items": null,
            "align_self": null,
            "border": null,
            "bottom": null,
            "display": null,
            "flex": null,
            "flex_flow": null,
            "grid_area": null,
            "grid_auto_columns": null,
            "grid_auto_flow": null,
            "grid_auto_rows": null,
            "grid_column": null,
            "grid_gap": null,
            "grid_row": null,
            "grid_template_areas": null,
            "grid_template_columns": null,
            "grid_template_rows": null,
            "height": null,
            "justify_content": null,
            "justify_items": null,
            "left": null,
            "margin": null,
            "max_height": null,
            "max_width": null,
            "min_height": null,
            "min_width": null,
            "object_fit": null,
            "object_position": null,
            "order": null,
            "overflow": null,
            "overflow_x": null,
            "overflow_y": null,
            "padding": null,
            "right": null,
            "top": null,
            "visibility": null,
            "width": null
          }
        },
        "b0f8ee4fe5c446e4966dafe58d68dee2": {
          "model_module": "@jupyter-widgets/output",
          "model_name": "OutputModel",
          "model_module_version": "1.0.0",
          "state": {
            "_dom_classes": [],
            "_model_module": "@jupyter-widgets/output",
            "_model_module_version": "1.0.0",
            "_model_name": "OutputModel",
            "_view_count": null,
            "_view_module": "@jupyter-widgets/output",
            "_view_module_version": "1.0.0",
            "_view_name": "OutputView",
            "layout": "IPY_MODEL_ceec724abeee4fb898211f7bee085551",
            "msg_id": "",
            "outputs": [
              {
                "output_type": "display_data",
                "data": {
                  "text/plain": "Collection: eventActor \u001b[38;2;91;192;222m▰▰▱▱▱▱▱\u001b[0m \u001b[33m0:00:07\u001b[0m\n",
                  "text/html": "<pre style=\"white-space:pre;overflow-x:auto;line-height:normal;font-family:Menlo,'DejaVu Sans Mono',consolas,'Courier New',monospace\">Collection: eventActor <span style=\"color: #5bc0de; text-decoration-color: #5bc0de\">▰▰▱▱▱▱▱</span> <span style=\"color: #808000; text-decoration-color: #808000\">0:00:07</span>\n</pre>\n"
                },
                "metadata": {}
              }
            ]
          }
        },
        "ceec724abeee4fb898211f7bee085551": {
          "model_module": "@jupyter-widgets/base",
          "model_name": "LayoutModel",
          "model_module_version": "1.2.0",
          "state": {
            "_model_module": "@jupyter-widgets/base",
            "_model_module_version": "1.2.0",
            "_model_name": "LayoutModel",
            "_view_count": null,
            "_view_module": "@jupyter-widgets/base",
            "_view_module_version": "1.2.0",
            "_view_name": "LayoutView",
            "align_content": null,
            "align_items": null,
            "align_self": null,
            "border": null,
            "bottom": null,
            "display": null,
            "flex": null,
            "flex_flow": null,
            "grid_area": null,
            "grid_auto_columns": null,
            "grid_auto_flow": null,
            "grid_auto_rows": null,
            "grid_column": null,
            "grid_gap": null,
            "grid_row": null,
            "grid_template_areas": null,
            "grid_template_columns": null,
            "grid_template_rows": null,
            "height": null,
            "justify_content": null,
            "justify_items": null,
            "left": null,
            "margin": null,
            "max_height": null,
            "max_width": null,
            "min_height": null,
            "min_width": null,
            "object_fit": null,
            "object_position": null,
            "order": null,
            "overflow": null,
            "overflow_x": null,
            "overflow_y": null,
            "padding": null,
            "right": null,
            "top": null,
            "visibility": null,
            "width": null
          }
        },
        "1a72b4fda58948e0a2eb71bdc719a9ec": {
          "model_module": "@jupyter-widgets/output",
          "model_name": "OutputModel",
          "model_module_version": "1.0.0",
          "state": {
            "_dom_classes": [],
            "_model_module": "@jupyter-widgets/output",
            "_model_module_version": "1.0.0",
            "_model_name": "OutputModel",
            "_view_count": null,
            "_view_module": "@jupyter-widgets/output",
            "_view_module_version": "1.0.0",
            "_view_name": "OutputView",
            "layout": "IPY_MODEL_731201f02f5c4472816523f311a5bbbd",
            "msg_id": "",
            "outputs": [
              {
                "output_type": "display_data",
                "data": {
                  "text/plain": "GET: https://arangodb-dataset-library-ml.s3.amazonaws.com/open_intelligence/edge_collection/hasLocation.json \u001b[38;2;91;192;222m▰…\u001b[0m \u001b[33m0:…\u001b[0m\n",
                  "text/html": "<pre style=\"white-space:pre;overflow-x:auto;line-height:normal;font-family:Menlo,'DejaVu Sans Mono',consolas,'Courier New',monospace\">GET: https://arangodb-dataset-library-ml.s3.amazonaws.com/open_intelligence/edge_collection/hasLocation.json <span style=\"color: #5bc0de; text-decoration-color: #5bc0de\">▰…</span> <span style=\"color: #808000; text-decoration-color: #808000\">0:…</span>\n</pre>\n"
                },
                "metadata": {}
              }
            ]
          }
        },
        "731201f02f5c4472816523f311a5bbbd": {
          "model_module": "@jupyter-widgets/base",
          "model_name": "LayoutModel",
          "model_module_version": "1.2.0",
          "state": {
            "_model_module": "@jupyter-widgets/base",
            "_model_module_version": "1.2.0",
            "_model_name": "LayoutModel",
            "_view_count": null,
            "_view_module": "@jupyter-widgets/base",
            "_view_module_version": "1.2.0",
            "_view_name": "LayoutView",
            "align_content": null,
            "align_items": null,
            "align_self": null,
            "border": null,
            "bottom": null,
            "display": null,
            "flex": null,
            "flex_flow": null,
            "grid_area": null,
            "grid_auto_columns": null,
            "grid_auto_flow": null,
            "grid_auto_rows": null,
            "grid_column": null,
            "grid_gap": null,
            "grid_row": null,
            "grid_template_areas": null,
            "grid_template_columns": null,
            "grid_template_rows": null,
            "height": null,
            "justify_content": null,
            "justify_items": null,
            "left": null,
            "margin": null,
            "max_height": null,
            "max_width": null,
            "min_height": null,
            "min_width": null,
            "object_fit": null,
            "object_position": null,
            "order": null,
            "overflow": null,
            "overflow_x": null,
            "overflow_y": null,
            "padding": null,
            "right": null,
            "top": null,
            "visibility": null,
            "width": null
          }
        },
        "6edea384a5d84339a997485ee48ee4b3": {
          "model_module": "@jupyter-widgets/output",
          "model_name": "OutputModel",
          "model_module_version": "1.0.0",
          "state": {
            "_dom_classes": [],
            "_model_module": "@jupyter-widgets/output",
            "_model_module_version": "1.0.0",
            "_model_name": "OutputModel",
            "_view_count": null,
            "_view_module": "@jupyter-widgets/output",
            "_view_module_version": "1.0.0",
            "_view_name": "OutputView",
            "layout": "IPY_MODEL_6072ffb0bfc9471ba8227137be406b1b",
            "msg_id": "",
            "outputs": [
              {
                "output_type": "display_data",
                "data": {
                  "text/plain": "Collection: hasLocation \u001b[38;2;91;192;222m▰▰▰▰▱▱▱\u001b[0m \u001b[33m0:00:04\u001b[0m\n",
                  "text/html": "<pre style=\"white-space:pre;overflow-x:auto;line-height:normal;font-family:Menlo,'DejaVu Sans Mono',consolas,'Courier New',monospace\">Collection: hasLocation <span style=\"color: #5bc0de; text-decoration-color: #5bc0de\">▰▰▰▰▱▱▱</span> <span style=\"color: #808000; text-decoration-color: #808000\">0:00:04</span>\n</pre>\n"
                },
                "metadata": {}
              }
            ]
          }
        },
        "6072ffb0bfc9471ba8227137be406b1b": {
          "model_module": "@jupyter-widgets/base",
          "model_name": "LayoutModel",
          "model_module_version": "1.2.0",
          "state": {
            "_model_module": "@jupyter-widgets/base",
            "_model_module_version": "1.2.0",
            "_model_name": "LayoutModel",
            "_view_count": null,
            "_view_module": "@jupyter-widgets/base",
            "_view_module_version": "1.2.0",
            "_view_name": "LayoutView",
            "align_content": null,
            "align_items": null,
            "align_self": null,
            "border": null,
            "bottom": null,
            "display": null,
            "flex": null,
            "flex_flow": null,
            "grid_area": null,
            "grid_auto_columns": null,
            "grid_auto_flow": null,
            "grid_auto_rows": null,
            "grid_column": null,
            "grid_gap": null,
            "grid_row": null,
            "grid_template_areas": null,
            "grid_template_columns": null,
            "grid_template_rows": null,
            "height": null,
            "justify_content": null,
            "justify_items": null,
            "left": null,
            "margin": null,
            "max_height": null,
            "max_width": null,
            "min_height": null,
            "min_width": null,
            "object_fit": null,
            "object_position": null,
            "order": null,
            "overflow": null,
            "overflow_x": null,
            "overflow_y": null,
            "padding": null,
            "right": null,
            "top": null,
            "visibility": null,
            "width": null
          }
        },
        "f25a84f15e3445e9b633df16055e3886": {
          "model_module": "@jupyter-widgets/output",
          "model_name": "OutputModel",
          "model_module_version": "1.0.0",
          "state": {
            "_dom_classes": [],
            "_model_module": "@jupyter-widgets/output",
            "_model_module_version": "1.0.0",
            "_model_name": "OutputModel",
            "_view_count": null,
            "_view_module": "@jupyter-widgets/output",
            "_view_module_version": "1.0.0",
            "_view_name": "OutputView",
            "layout": "IPY_MODEL_cdf1c5f8046c453b9a3357d363c36644",
            "msg_id": "",
            "outputs": [
              {
                "output_type": "display_data",
                "data": {
                  "text/plain": "GET: https://arangodb-dataset-library-ml.s3.amazonaws.com/open_intelligence/edge_collection/hasSource.json \u001b[38;2;91;192;222m▰▰…\u001b[0m \u001b[33m0:0…\u001b[0m\n",
                  "text/html": "<pre style=\"white-space:pre;overflow-x:auto;line-height:normal;font-family:Menlo,'DejaVu Sans Mono',consolas,'Courier New',monospace\">GET: https://arangodb-dataset-library-ml.s3.amazonaws.com/open_intelligence/edge_collection/hasSource.json <span style=\"color: #5bc0de; text-decoration-color: #5bc0de\">▰▰…</span> <span style=\"color: #808000; text-decoration-color: #808000\">0:0…</span>\n</pre>\n"
                },
                "metadata": {}
              }
            ]
          }
        },
        "cdf1c5f8046c453b9a3357d363c36644": {
          "model_module": "@jupyter-widgets/base",
          "model_name": "LayoutModel",
          "model_module_version": "1.2.0",
          "state": {
            "_model_module": "@jupyter-widgets/base",
            "_model_module_version": "1.2.0",
            "_model_name": "LayoutModel",
            "_view_count": null,
            "_view_module": "@jupyter-widgets/base",
            "_view_module_version": "1.2.0",
            "_view_name": "LayoutView",
            "align_content": null,
            "align_items": null,
            "align_self": null,
            "border": null,
            "bottom": null,
            "display": null,
            "flex": null,
            "flex_flow": null,
            "grid_area": null,
            "grid_auto_columns": null,
            "grid_auto_flow": null,
            "grid_auto_rows": null,
            "grid_column": null,
            "grid_gap": null,
            "grid_row": null,
            "grid_template_areas": null,
            "grid_template_columns": null,
            "grid_template_rows": null,
            "height": null,
            "justify_content": null,
            "justify_items": null,
            "left": null,
            "margin": null,
            "max_height": null,
            "max_width": null,
            "min_height": null,
            "min_width": null,
            "object_fit": null,
            "object_position": null,
            "order": null,
            "overflow": null,
            "overflow_x": null,
            "overflow_y": null,
            "padding": null,
            "right": null,
            "top": null,
            "visibility": null,
            "width": null
          }
        },
        "13d8b76a4c3f443ca0dee631fd3959b0": {
          "model_module": "@jupyter-widgets/output",
          "model_name": "OutputModel",
          "model_module_version": "1.0.0",
          "state": {
            "_dom_classes": [],
            "_model_module": "@jupyter-widgets/output",
            "_model_module_version": "1.0.0",
            "_model_name": "OutputModel",
            "_view_count": null,
            "_view_module": "@jupyter-widgets/output",
            "_view_module_version": "1.0.0",
            "_view_name": "OutputView",
            "layout": "IPY_MODEL_9af4fff0dbaa4cbdaed50a2d06859ad6",
            "msg_id": "",
            "outputs": [
              {
                "output_type": "display_data",
                "data": {
                  "text/plain": "Collection: hasSource \u001b[38;2;91;192;222m▰▰▰▰▰▱▱\u001b[0m \u001b[33m0:00:04\u001b[0m\n",
                  "text/html": "<pre style=\"white-space:pre;overflow-x:auto;line-height:normal;font-family:Menlo,'DejaVu Sans Mono',consolas,'Courier New',monospace\">Collection: hasSource <span style=\"color: #5bc0de; text-decoration-color: #5bc0de\">▰▰▰▰▰▱▱</span> <span style=\"color: #808000; text-decoration-color: #808000\">0:00:04</span>\n</pre>\n"
                },
                "metadata": {}
              }
            ]
          }
        },
        "9af4fff0dbaa4cbdaed50a2d06859ad6": {
          "model_module": "@jupyter-widgets/base",
          "model_name": "LayoutModel",
          "model_module_version": "1.2.0",
          "state": {
            "_model_module": "@jupyter-widgets/base",
            "_model_module_version": "1.2.0",
            "_model_name": "LayoutModel",
            "_view_count": null,
            "_view_module": "@jupyter-widgets/base",
            "_view_module_version": "1.2.0",
            "_view_name": "LayoutView",
            "align_content": null,
            "align_items": null,
            "align_self": null,
            "border": null,
            "bottom": null,
            "display": null,
            "flex": null,
            "flex_flow": null,
            "grid_area": null,
            "grid_auto_columns": null,
            "grid_auto_flow": null,
            "grid_auto_rows": null,
            "grid_column": null,
            "grid_gap": null,
            "grid_row": null,
            "grid_template_areas": null,
            "grid_template_columns": null,
            "grid_template_rows": null,
            "height": null,
            "justify_content": null,
            "justify_items": null,
            "left": null,
            "margin": null,
            "max_height": null,
            "max_width": null,
            "min_height": null,
            "min_width": null,
            "object_fit": null,
            "object_position": null,
            "order": null,
            "overflow": null,
            "overflow_x": null,
            "overflow_y": null,
            "padding": null,
            "right": null,
            "top": null,
            "visibility": null,
            "width": null
          }
        },
        "14fc56900a6d4df99016f3473c6e0676": {
          "model_module": "@jupyter-widgets/output",
          "model_name": "OutputModel",
          "model_module_version": "1.0.0",
          "state": {
            "_dom_classes": [],
            "_model_module": "@jupyter-widgets/output",
            "_model_module_version": "1.0.0",
            "_model_name": "OutputModel",
            "_view_count": null,
            "_view_module": "@jupyter-widgets/output",
            "_view_module_version": "1.0.0",
            "_view_name": "OutputView",
            "layout": "IPY_MODEL_4e7914d83ed64042b3998f915e6d829b",
            "msg_id": "",
            "outputs": [
              {
                "output_type": "display_data",
                "data": {
                  "text/plain": "GET: https://arangodb-dataset-library-ml.s3.amazonaws.com/open_intelligence/edge_collection/inCountry.json \u001b[38;2;91;192;222m▰▰…\u001b[0m \u001b[33m0:0…\u001b[0m\n",
                  "text/html": "<pre style=\"white-space:pre;overflow-x:auto;line-height:normal;font-family:Menlo,'DejaVu Sans Mono',consolas,'Courier New',monospace\">GET: https://arangodb-dataset-library-ml.s3.amazonaws.com/open_intelligence/edge_collection/inCountry.json <span style=\"color: #5bc0de; text-decoration-color: #5bc0de\">▰▰…</span> <span style=\"color: #808000; text-decoration-color: #808000\">0:0…</span>\n</pre>\n"
                },
                "metadata": {}
              }
            ]
          }
        },
        "4e7914d83ed64042b3998f915e6d829b": {
          "model_module": "@jupyter-widgets/base",
          "model_name": "LayoutModel",
          "model_module_version": "1.2.0",
          "state": {
            "_model_module": "@jupyter-widgets/base",
            "_model_module_version": "1.2.0",
            "_model_name": "LayoutModel",
            "_view_count": null,
            "_view_module": "@jupyter-widgets/base",
            "_view_module_version": "1.2.0",
            "_view_name": "LayoutView",
            "align_content": null,
            "align_items": null,
            "align_self": null,
            "border": null,
            "bottom": null,
            "display": null,
            "flex": null,
            "flex_flow": null,
            "grid_area": null,
            "grid_auto_columns": null,
            "grid_auto_flow": null,
            "grid_auto_rows": null,
            "grid_column": null,
            "grid_gap": null,
            "grid_row": null,
            "grid_template_areas": null,
            "grid_template_columns": null,
            "grid_template_rows": null,
            "height": null,
            "justify_content": null,
            "justify_items": null,
            "left": null,
            "margin": null,
            "max_height": null,
            "max_width": null,
            "min_height": null,
            "min_width": null,
            "object_fit": null,
            "object_position": null,
            "order": null,
            "overflow": null,
            "overflow_x": null,
            "overflow_y": null,
            "padding": null,
            "right": null,
            "top": null,
            "visibility": null,
            "width": null
          }
        },
        "ffdc18c6a4d64e24886e8cd52efbb90f": {
          "model_module": "@jupyter-widgets/output",
          "model_name": "OutputModel",
          "model_module_version": "1.0.0",
          "state": {
            "_dom_classes": [],
            "_model_module": "@jupyter-widgets/output",
            "_model_module_version": "1.0.0",
            "_model_name": "OutputModel",
            "_view_count": null,
            "_view_module": "@jupyter-widgets/output",
            "_view_module_version": "1.0.0",
            "_view_name": "OutputView",
            "layout": "IPY_MODEL_e720851d72204e31b0cb1f95d8adb3f6",
            "msg_id": "",
            "outputs": [
              {
                "output_type": "display_data",
                "data": {
                  "text/plain": "Collection: inCountry \u001b[38;2;91;192;222m▰▱▱▱▱▱▱\u001b[0m \u001b[33m0:00:00\u001b[0m\n",
                  "text/html": "<pre style=\"white-space:pre;overflow-x:auto;line-height:normal;font-family:Menlo,'DejaVu Sans Mono',consolas,'Courier New',monospace\">Collection: inCountry <span style=\"color: #5bc0de; text-decoration-color: #5bc0de\">▰▱▱▱▱▱▱</span> <span style=\"color: #808000; text-decoration-color: #808000\">0:00:00</span>\n</pre>\n"
                },
                "metadata": {}
              }
            ]
          }
        },
        "e720851d72204e31b0cb1f95d8adb3f6": {
          "model_module": "@jupyter-widgets/base",
          "model_name": "LayoutModel",
          "model_module_version": "1.2.0",
          "state": {
            "_model_module": "@jupyter-widgets/base",
            "_model_module_version": "1.2.0",
            "_model_name": "LayoutModel",
            "_view_count": null,
            "_view_module": "@jupyter-widgets/base",
            "_view_module_version": "1.2.0",
            "_view_name": "LayoutView",
            "align_content": null,
            "align_items": null,
            "align_self": null,
            "border": null,
            "bottom": null,
            "display": null,
            "flex": null,
            "flex_flow": null,
            "grid_area": null,
            "grid_auto_columns": null,
            "grid_auto_flow": null,
            "grid_auto_rows": null,
            "grid_column": null,
            "grid_gap": null,
            "grid_row": null,
            "grid_template_areas": null,
            "grid_template_columns": null,
            "grid_template_rows": null,
            "height": null,
            "justify_content": null,
            "justify_items": null,
            "left": null,
            "margin": null,
            "max_height": null,
            "max_width": null,
            "min_height": null,
            "min_width": null,
            "object_fit": null,
            "object_position": null,
            "order": null,
            "overflow": null,
            "overflow_x": null,
            "overflow_y": null,
            "padding": null,
            "right": null,
            "top": null,
            "visibility": null,
            "width": null
          }
        },
        "00bb413e3e8d4aa2ae5a6d22f161f9cf": {
          "model_module": "@jupyter-widgets/output",
          "model_name": "OutputModel",
          "model_module_version": "1.0.0",
          "state": {
            "_dom_classes": [],
            "_model_module": "@jupyter-widgets/output",
            "_model_module_version": "1.0.0",
            "_model_name": "OutputModel",
            "_view_count": null,
            "_view_module": "@jupyter-widgets/output",
            "_view_module_version": "1.0.0",
            "_view_name": "OutputView",
            "layout": "IPY_MODEL_4d3c7dbf69da4fb499307835431b6a09",
            "msg_id": "",
            "outputs": [
              {
                "output_type": "display_data",
                "data": {
                  "text/plain": "GET: https://arangodb-dataset-library-ml.s3.amazonaws.com/open_intelligence/edge_collection/inRegion.json \u001b[38;2;91;192;222m▰▰▱…\u001b[0m \u001b[33m0:0…\u001b[0m\n",
                  "text/html": "<pre style=\"white-space:pre;overflow-x:auto;line-height:normal;font-family:Menlo,'DejaVu Sans Mono',consolas,'Courier New',monospace\">GET: https://arangodb-dataset-library-ml.s3.amazonaws.com/open_intelligence/edge_collection/inRegion.json <span style=\"color: #5bc0de; text-decoration-color: #5bc0de\">▰▰▱…</span> <span style=\"color: #808000; text-decoration-color: #808000\">0:0…</span>\n</pre>\n"
                },
                "metadata": {}
              }
            ]
          }
        },
        "4d3c7dbf69da4fb499307835431b6a09": {
          "model_module": "@jupyter-widgets/base",
          "model_name": "LayoutModel",
          "model_module_version": "1.2.0",
          "state": {
            "_model_module": "@jupyter-widgets/base",
            "_model_module_version": "1.2.0",
            "_model_name": "LayoutModel",
            "_view_count": null,
            "_view_module": "@jupyter-widgets/base",
            "_view_module_version": "1.2.0",
            "_view_name": "LayoutView",
            "align_content": null,
            "align_items": null,
            "align_self": null,
            "border": null,
            "bottom": null,
            "display": null,
            "flex": null,
            "flex_flow": null,
            "grid_area": null,
            "grid_auto_columns": null,
            "grid_auto_flow": null,
            "grid_auto_rows": null,
            "grid_column": null,
            "grid_gap": null,
            "grid_row": null,
            "grid_template_areas": null,
            "grid_template_columns": null,
            "grid_template_rows": null,
            "height": null,
            "justify_content": null,
            "justify_items": null,
            "left": null,
            "margin": null,
            "max_height": null,
            "max_width": null,
            "min_height": null,
            "min_width": null,
            "object_fit": null,
            "object_position": null,
            "order": null,
            "overflow": null,
            "overflow_x": null,
            "overflow_y": null,
            "padding": null,
            "right": null,
            "top": null,
            "visibility": null,
            "width": null
          }
        },
        "21cf9ccaa27f46bfa338e8e763e93fff": {
          "model_module": "@jupyter-widgets/output",
          "model_name": "OutputModel",
          "model_module_version": "1.0.0",
          "state": {
            "_dom_classes": [],
            "_model_module": "@jupyter-widgets/output",
            "_model_module_version": "1.0.0",
            "_model_name": "OutputModel",
            "_view_count": null,
            "_view_module": "@jupyter-widgets/output",
            "_view_module_version": "1.0.0",
            "_view_name": "OutputView",
            "layout": "IPY_MODEL_3cda846de799490fa17347b6df055779",
            "msg_id": "",
            "outputs": [
              {
                "output_type": "display_data",
                "data": {
                  "text/plain": "Collection: inRegion \u001b[38;2;91;192;222m▰▱▱▱▱▱▱\u001b[0m \u001b[33m0:00:00\u001b[0m\n",
                  "text/html": "<pre style=\"white-space:pre;overflow-x:auto;line-height:normal;font-family:Menlo,'DejaVu Sans Mono',consolas,'Courier New',monospace\">Collection: inRegion <span style=\"color: #5bc0de; text-decoration-color: #5bc0de\">▰▱▱▱▱▱▱</span> <span style=\"color: #808000; text-decoration-color: #808000\">0:00:00</span>\n</pre>\n"
                },
                "metadata": {}
              }
            ]
          }
        },
        "3cda846de799490fa17347b6df055779": {
          "model_module": "@jupyter-widgets/base",
          "model_name": "LayoutModel",
          "model_module_version": "1.2.0",
          "state": {
            "_model_module": "@jupyter-widgets/base",
            "_model_module_version": "1.2.0",
            "_model_name": "LayoutModel",
            "_view_count": null,
            "_view_module": "@jupyter-widgets/base",
            "_view_module_version": "1.2.0",
            "_view_name": "LayoutView",
            "align_content": null,
            "align_items": null,
            "align_self": null,
            "border": null,
            "bottom": null,
            "display": null,
            "flex": null,
            "flex_flow": null,
            "grid_area": null,
            "grid_auto_columns": null,
            "grid_auto_flow": null,
            "grid_auto_rows": null,
            "grid_column": null,
            "grid_gap": null,
            "grid_row": null,
            "grid_template_areas": null,
            "grid_template_columns": null,
            "grid_template_rows": null,
            "height": null,
            "justify_content": null,
            "justify_items": null,
            "left": null,
            "margin": null,
            "max_height": null,
            "max_width": null,
            "min_height": null,
            "min_width": null,
            "object_fit": null,
            "object_position": null,
            "order": null,
            "overflow": null,
            "overflow_x": null,
            "overflow_y": null,
            "padding": null,
            "right": null,
            "top": null,
            "visibility": null,
            "width": null
          }
        },
        "20d76c9bdcfd4cbebd03b49b2265fa15": {
          "model_module": "@jupyter-widgets/output",
          "model_name": "OutputModel",
          "model_module_version": "1.0.0",
          "state": {
            "_dom_classes": [],
            "_model_module": "@jupyter-widgets/output",
            "_model_module_version": "1.0.0",
            "_model_name": "OutputModel",
            "_view_count": null,
            "_view_module": "@jupyter-widgets/output",
            "_view_module_version": "1.0.0",
            "_view_name": "OutputView",
            "layout": "IPY_MODEL_54da99ce57ce418bae748462b7f75097",
            "msg_id": "",
            "outputs": [
              {
                "output_type": "display_data",
                "data": {
                  "text/plain": "GET: https://arangodb-dataset-library-ml.s3.amazonaws.com/open_intelligence/edge_collection/subClass.json \u001b[38;2;91;192;222m▰▰▱…\u001b[0m \u001b[33m0:0…\u001b[0m\n",
                  "text/html": "<pre style=\"white-space:pre;overflow-x:auto;line-height:normal;font-family:Menlo,'DejaVu Sans Mono',consolas,'Courier New',monospace\">GET: https://arangodb-dataset-library-ml.s3.amazonaws.com/open_intelligence/edge_collection/subClass.json <span style=\"color: #5bc0de; text-decoration-color: #5bc0de\">▰▰▱…</span> <span style=\"color: #808000; text-decoration-color: #808000\">0:0…</span>\n</pre>\n"
                },
                "metadata": {}
              }
            ]
          }
        },
        "54da99ce57ce418bae748462b7f75097": {
          "model_module": "@jupyter-widgets/base",
          "model_name": "LayoutModel",
          "model_module_version": "1.2.0",
          "state": {
            "_model_module": "@jupyter-widgets/base",
            "_model_module_version": "1.2.0",
            "_model_name": "LayoutModel",
            "_view_count": null,
            "_view_module": "@jupyter-widgets/base",
            "_view_module_version": "1.2.0",
            "_view_name": "LayoutView",
            "align_content": null,
            "align_items": null,
            "align_self": null,
            "border": null,
            "bottom": null,
            "display": null,
            "flex": null,
            "flex_flow": null,
            "grid_area": null,
            "grid_auto_columns": null,
            "grid_auto_flow": null,
            "grid_auto_rows": null,
            "grid_column": null,
            "grid_gap": null,
            "grid_row": null,
            "grid_template_areas": null,
            "grid_template_columns": null,
            "grid_template_rows": null,
            "height": null,
            "justify_content": null,
            "justify_items": null,
            "left": null,
            "margin": null,
            "max_height": null,
            "max_width": null,
            "min_height": null,
            "min_width": null,
            "object_fit": null,
            "object_position": null,
            "order": null,
            "overflow": null,
            "overflow_x": null,
            "overflow_y": null,
            "padding": null,
            "right": null,
            "top": null,
            "visibility": null,
            "width": null
          }
        },
        "33dc2087089d47888368b9d5a08e8065": {
          "model_module": "@jupyter-widgets/output",
          "model_name": "OutputModel",
          "model_module_version": "1.0.0",
          "state": {
            "_dom_classes": [],
            "_model_module": "@jupyter-widgets/output",
            "_model_module_version": "1.0.0",
            "_model_name": "OutputModel",
            "_view_count": null,
            "_view_module": "@jupyter-widgets/output",
            "_view_module_version": "1.0.0",
            "_view_name": "OutputView",
            "layout": "IPY_MODEL_287733dd66da40ccbc7933737b98e7c7",
            "msg_id": "",
            "outputs": [
              {
                "output_type": "display_data",
                "data": {
                  "text/plain": "Collection: subClass \u001b[38;2;91;192;222m▰▱▱▱▱▱▱\u001b[0m \u001b[33m0:00:00\u001b[0m\n",
                  "text/html": "<pre style=\"white-space:pre;overflow-x:auto;line-height:normal;font-family:Menlo,'DejaVu Sans Mono',consolas,'Courier New',monospace\">Collection: subClass <span style=\"color: #5bc0de; text-decoration-color: #5bc0de\">▰▱▱▱▱▱▱</span> <span style=\"color: #808000; text-decoration-color: #808000\">0:00:00</span>\n</pre>\n"
                },
                "metadata": {}
              }
            ]
          }
        },
        "287733dd66da40ccbc7933737b98e7c7": {
          "model_module": "@jupyter-widgets/base",
          "model_name": "LayoutModel",
          "model_module_version": "1.2.0",
          "state": {
            "_model_module": "@jupyter-widgets/base",
            "_model_module_version": "1.2.0",
            "_model_name": "LayoutModel",
            "_view_count": null,
            "_view_module": "@jupyter-widgets/base",
            "_view_module_version": "1.2.0",
            "_view_name": "LayoutView",
            "align_content": null,
            "align_items": null,
            "align_self": null,
            "border": null,
            "bottom": null,
            "display": null,
            "flex": null,
            "flex_flow": null,
            "grid_area": null,
            "grid_auto_columns": null,
            "grid_auto_flow": null,
            "grid_auto_rows": null,
            "grid_column": null,
            "grid_gap": null,
            "grid_row": null,
            "grid_template_areas": null,
            "grid_template_columns": null,
            "grid_template_rows": null,
            "height": null,
            "justify_content": null,
            "justify_items": null,
            "left": null,
            "margin": null,
            "max_height": null,
            "max_width": null,
            "min_height": null,
            "min_width": null,
            "object_fit": null,
            "object_position": null,
            "order": null,
            "overflow": null,
            "overflow_x": null,
            "overflow_y": null,
            "padding": null,
            "right": null,
            "top": null,
            "visibility": null,
            "width": null
          }
        },
        "2e28383458f6415bb6726ba7a340b727": {
          "model_module": "@jupyter-widgets/output",
          "model_name": "OutputModel",
          "model_module_version": "1.0.0",
          "state": {
            "_dom_classes": [],
            "_model_module": "@jupyter-widgets/output",
            "_model_module_version": "1.0.0",
            "_model_name": "OutputModel",
            "_view_count": null,
            "_view_module": "@jupyter-widgets/output",
            "_view_module_version": "1.0.0",
            "_view_name": "OutputView",
            "layout": "IPY_MODEL_bd5d1c41edac4817a435116142b6993f",
            "msg_id": "",
            "outputs": [
              {
                "output_type": "display_data",
                "data": {
                  "text/plain": "GET: https://arangodb-dataset-library-ml.s3.amazonaws.com/open_intelligence/edge_collection/type.json \u001b[38;2;91;192;222m▰▰▱▱▱…\u001b[0m \u001b[33m0:00:…\u001b[0m\n",
                  "text/html": "<pre style=\"white-space:pre;overflow-x:auto;line-height:normal;font-family:Menlo,'DejaVu Sans Mono',consolas,'Courier New',monospace\">GET: https://arangodb-dataset-library-ml.s3.amazonaws.com/open_intelligence/edge_collection/type.json <span style=\"color: #5bc0de; text-decoration-color: #5bc0de\">▰▰▱▱▱…</span> <span style=\"color: #808000; text-decoration-color: #808000\">0:00:…</span>\n</pre>\n"
                },
                "metadata": {}
              }
            ]
          }
        },
        "bd5d1c41edac4817a435116142b6993f": {
          "model_module": "@jupyter-widgets/base",
          "model_name": "LayoutModel",
          "model_module_version": "1.2.0",
          "state": {
            "_model_module": "@jupyter-widgets/base",
            "_model_module_version": "1.2.0",
            "_model_name": "LayoutModel",
            "_view_count": null,
            "_view_module": "@jupyter-widgets/base",
            "_view_module_version": "1.2.0",
            "_view_name": "LayoutView",
            "align_content": null,
            "align_items": null,
            "align_self": null,
            "border": null,
            "bottom": null,
            "display": null,
            "flex": null,
            "flex_flow": null,
            "grid_area": null,
            "grid_auto_columns": null,
            "grid_auto_flow": null,
            "grid_auto_rows": null,
            "grid_column": null,
            "grid_gap": null,
            "grid_row": null,
            "grid_template_areas": null,
            "grid_template_columns": null,
            "grid_template_rows": null,
            "height": null,
            "justify_content": null,
            "justify_items": null,
            "left": null,
            "margin": null,
            "max_height": null,
            "max_width": null,
            "min_height": null,
            "min_width": null,
            "object_fit": null,
            "object_position": null,
            "order": null,
            "overflow": null,
            "overflow_x": null,
            "overflow_y": null,
            "padding": null,
            "right": null,
            "top": null,
            "visibility": null,
            "width": null
          }
        },
        "5f528fd15f944d44acf9df355dd3f585": {
          "model_module": "@jupyter-widgets/output",
          "model_name": "OutputModel",
          "model_module_version": "1.0.0",
          "state": {
            "_dom_classes": [],
            "_model_module": "@jupyter-widgets/output",
            "_model_module_version": "1.0.0",
            "_model_name": "OutputModel",
            "_view_count": null,
            "_view_module": "@jupyter-widgets/output",
            "_view_module_version": "1.0.0",
            "_view_name": "OutputView",
            "layout": "IPY_MODEL_e19611b67f1248e7935fb7943fc79dc2",
            "msg_id": "",
            "outputs": [
              {
                "output_type": "display_data",
                "data": {
                  "text/plain": "Collection: type \u001b[38;2;91;192;222m▰▰▰▰▱▱▱\u001b[0m \u001b[33m0:00:04\u001b[0m\n",
                  "text/html": "<pre style=\"white-space:pre;overflow-x:auto;line-height:normal;font-family:Menlo,'DejaVu Sans Mono',consolas,'Courier New',monospace\">Collection: type <span style=\"color: #5bc0de; text-decoration-color: #5bc0de\">▰▰▰▰▱▱▱</span> <span style=\"color: #808000; text-decoration-color: #808000\">0:00:04</span>\n</pre>\n"
                },
                "metadata": {}
              }
            ]
          }
        },
        "e19611b67f1248e7935fb7943fc79dc2": {
          "model_module": "@jupyter-widgets/base",
          "model_name": "LayoutModel",
          "model_module_version": "1.2.0",
          "state": {
            "_model_module": "@jupyter-widgets/base",
            "_model_module_version": "1.2.0",
            "_model_name": "LayoutModel",
            "_view_count": null,
            "_view_module": "@jupyter-widgets/base",
            "_view_module_version": "1.2.0",
            "_view_name": "LayoutView",
            "align_content": null,
            "align_items": null,
            "align_self": null,
            "border": null,
            "bottom": null,
            "display": null,
            "flex": null,
            "flex_flow": null,
            "grid_area": null,
            "grid_auto_columns": null,
            "grid_auto_flow": null,
            "grid_auto_rows": null,
            "grid_column": null,
            "grid_gap": null,
            "grid_row": null,
            "grid_template_areas": null,
            "grid_template_columns": null,
            "grid_template_rows": null,
            "height": null,
            "justify_content": null,
            "justify_items": null,
            "left": null,
            "margin": null,
            "max_height": null,
            "max_width": null,
            "min_height": null,
            "min_width": null,
            "object_fit": null,
            "object_position": null,
            "order": null,
            "overflow": null,
            "overflow_x": null,
            "overflow_y": null,
            "padding": null,
            "right": null,
            "top": null,
            "visibility": null,
            "width": null
          }
        }
      }
    }
  },
  "nbformat": 4,
  "nbformat_minor": 5
}